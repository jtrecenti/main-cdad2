{
 "cells": [
  {
   "cell_type": "markdown",
   "metadata": {},
   "source": [
    "# Exercícios sobre probabilidade e curva normal"
   ]
  },
  {
   "cell_type": "code",
   "execution_count": 1,
   "metadata": {},
   "outputs": [],
   "source": [
    "#grade (write your code in this cell and DO NOT DELETE THIS LINE)\n",
    "\n",
    "import pandas as pd\n",
    "import numpy as np\n",
    "from scipy.stats import norm\n",
    "\n",
    "camaras = pd.read_csv('https://github.com/jtrecenti/main-cdad2/releases/download/data/camaras.csv')\n"
   ]
  },
  {
   "cell_type": "markdown",
   "metadata": {},
   "source": [
    "**1a)** Considere os dados abaixo, que é uma amostra dos recursos na base das câmaras. Calcule a frequência relativa de recursos negados. Utilize 5 casas decimais."
   ]
  },
  {
   "cell_type": "code",
   "execution_count": 11,
   "metadata": {},
   "outputs": [
    {
     "data": {
      "text/plain": [
       "0.57"
      ]
     },
     "execution_count": 11,
     "metadata": {},
     "output_type": "execute_result"
    }
   ],
   "source": [
    "#grade (write your code in this cell and DO NOT DELETE THIS LINE)\n",
    "\n",
    "camaras_amostra = camaras.sample(300, random_state=42)\n",
    "\n",
    "# Contagem total de recursos\n",
    "total_recursos = len(camaras_amostra)\n",
    "\n",
    "# Contagem de recursos negados\n",
    "recursos_negados = camaras_amostra[camaras_amostra['decisao'] == 'Negaram'].shape[0]\n",
    "\n",
    "# Cálculo da frequência relativa de recursos negados\n",
    "prop_negados = round(recursos_negados / total_recursos,5)\n",
    "\n",
    "prop_negados"
   ]
  },
  {
   "cell_type": "markdown",
   "metadata": {},
   "source": [
    "**1b)** Considere a frequência relativa calculada acima. Ela pode ser considerada uma média? Responda com \"sim\" ou \"não\"."
   ]
  },
  {
   "cell_type": "code",
   "execution_count": 4,
   "metadata": {},
   "outputs": [],
   "source": [
    "#grade (write your code in this cell and DO NOT DELETE THIS LINE)\n",
    "#não sei se a resposta está correta\n",
    "\n",
    "prop_media = 'sim'"
   ]
  },
  {
   "cell_type": "markdown",
   "metadata": {},
   "source": [
    "**1c)** Considere que $X_i$ é uma variável aleatória que vale 1 se um recurso foi negado e 0 se o recurso não foi negado. Qual é a distribuição de $X_i$, 'binomial', 'bernoulli' ou 'normal'?"
   ]
  },
  {
   "cell_type": "code",
   "execution_count": 5,
   "metadata": {},
   "outputs": [],
   "source": [
    "#grade (write your code in this cell and DO NOT DELETE THIS LINE)\n",
    "\n",
    "#ps: julio, confesso que para mim ainda e meio confuso a diferença entre distribuição binomial e de bernoulli\n",
    "\n",
    "distribuicao = 'bernoulli'"
   ]
  },
  {
   "cell_type": "markdown",
   "metadata": {},
   "source": [
    "**1d)** Agora, considere o estimador $\\hat p$, que é a frequência relativa amostral. Qual é a distribuição aproximada de $\\hat p$, 'binomial', 'bernoulli' ou 'normal'?"
   ]
  },
  {
   "cell_type": "code",
   "execution_count": 6,
   "metadata": {},
   "outputs": [],
   "source": [
    "#grade (write your code in this cell and DO NOT DELETE THIS LINE)\n",
    "\n",
    "distribuicao_estimador = 'normal'"
   ]
  },
  {
   "cell_type": "markdown",
   "metadata": {},
   "source": [
    "**1e)** Qual é a probabilidade de uma variável aleatória distribuição normal padrão valer entre -3 e 3? Utilize 5 casas decimais."
   ]
  },
  {
   "cell_type": "code",
   "execution_count": 7,
   "metadata": {},
   "outputs": [
    {
     "data": {
      "text/plain": [
       "0.9973"
      ]
     },
     "execution_count": 7,
     "metadata": {},
     "output_type": "execute_result"
    }
   ],
   "source": [
    "#grade (write your code in this cell and DO NOT DELETE THIS LINE)\n",
    "\n",
    "cdf_3 = norm.cdf(3)\n",
    "cdf_neg_3 = norm.cdf(-3)\n",
    "\n",
    "p_normal = round(cdf_3 - cdf_neg_3,5)\n",
    "\n",
    "p_normal"
   ]
  },
  {
   "cell_type": "markdown",
   "metadata": {},
   "source": [
    "**1f)** Qual é o quantil da distribuição normal padronizada que deixa 99% da área à esquerda? Utilize a função `norm.ppf` do pacote `scipy.stats` para calcular o valor. Utilize 4 casas decimais"
   ]
  },
  {
   "cell_type": "code",
   "execution_count": 8,
   "metadata": {},
   "outputs": [
    {
     "data": {
      "text/plain": [
       "2.32635"
      ]
     },
     "execution_count": 8,
     "metadata": {},
     "output_type": "execute_result"
    }
   ],
   "source": [
    "#grade (write your code in this cell and DO NOT DELETE THIS LINE)\n",
    "\n",
    "q_normal = round(norm.ppf(0.99), 5)\n",
    "\n",
    "q_normal"
   ]
  },
  {
   "cell_type": "markdown",
   "metadata": {},
   "source": [
    "**1g)** Considerando que a variância conhecida e seu valor é 0.25, qual é o intervalo de confiança para a proporção de recursos negados, com nível de confiança de 98%? Coloque os valores mínimo e máximo do intervalo com 4 casas decimais.\n",
    "\n",
    "**Dica**: Como o nível de confiança é de 98%, o quantil a ser considerado da normal é o que deixa de fora 1% à direita e 1% à esquerda. Note que já calculamos esse valor antes."
   ]
  },
  {
   "cell_type": "code",
   "execution_count": 9,
   "metadata": {},
   "outputs": [
    {
     "name": "stdout",
     "output_type": "stream",
     "text": [
      "0.5028\n",
      "0.6372\n"
     ]
    }
   ],
   "source": [
    "#grade (write your code in this cell and DO NOT DELETE THIS LINE)\n",
    "\n",
    "n = len(camaras_amostra)\n",
    "p_hat = recursos_negados / n\n",
    "\n",
    "# Variância conhecida e desvio padrão\n",
    "variancia = 0.25\n",
    "desvio_padrao = np.sqrt(variancia)\n",
    "\n",
    "# Erro padrão para a proporção\n",
    "SE = desvio_padrao / np.sqrt(n)\n",
    "\n",
    "# Z-score para 98% de nível de confiança (quantil para 99% da área à esquerda para cobrir 1% à direita e à esquerda)\n",
    "Z = norm.ppf(0.99)\n",
    "\n",
    "# Calculando o intervalo de confiança\n",
    "margem_erro = Z * SE\n",
    "ic_min = round(p_hat - margem_erro, 4)\n",
    "ic_max = round(p_hat + margem_erro, 4)\n",
    "\n",
    "print(ic_min)\n",
    "print(ic_max)\n",
    "\n"
   ]
  },
  {
   "cell_type": "markdown",
   "metadata": {},
   "source": [
    "**1h)** Considere que a frequência relativa de recursos negados é a frequência relativa calculada na base `camaras`. O valor da média está contido no intervalo de confiança calculado anteriormente? Responda 'sim' ou 'não'"
   ]
  },
  {
   "cell_type": "code",
   "execution_count": 10,
   "metadata": {},
   "outputs": [
    {
     "name": "stdout",
     "output_type": "stream",
     "text": [
      "0.5273\n"
     ]
    }
   ],
   "source": [
    "#grade (write your code in this cell and DO NOT DELETE THIS LINE)\n",
    "\n",
    "# Contagem total de recursos\n",
    "total_recursos_universo = len(camaras)\n",
    "\n",
    "# Contagem de recursos negados\n",
    "recursos_negados_universo = camaras[camaras['decisao'] == 'Negaram'].shape[0]\n",
    "\n",
    "# Cálculo da frequência relativa de recursos negados\n",
    "prop_negados_universo = round(recursos_negados_universo / total_recursos_universo,5)\n",
    "\n",
    "print(prop_negados_universo)\n",
    "\n",
    "\n",
    "contido = 'sim'"
   ]
  }
 ],
 "metadata": {
  "kernelspec": {
   "display_name": "base",
   "language": "python",
   "name": "python3"
  },
  "language_info": {
   "codemirror_mode": {
    "name": "ipython",
    "version": 3
   },
   "file_extension": ".py",
   "mimetype": "text/x-python",
   "name": "python",
   "nbconvert_exporter": "python",
   "pygments_lexer": "ipython3",
   "version": "3.11.5"
  }
 },
 "nbformat": 4,
 "nbformat_minor": 2
}
