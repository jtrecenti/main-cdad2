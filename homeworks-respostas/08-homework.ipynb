{
  "cells": [
    {
      "cell_type": "markdown",
      "metadata": {
        "id": "uH7r7Mw7lGHD"
      },
      "source": [
        "Antes de mais nada, vamos importar os pacotes necessários"
      ]
    },
    {
      "cell_type": "code",
      "execution_count": 16,
      "metadata": {
        "id": "x0kgirz9kz2E"
      },
      "outputs": [],
      "source": [
        "#grade (write your code in this cell and DO NOT DELETE THIS LINE)\n",
        "import pandas as pd\n",
        "import numpy as np\n",
        "\n",
        "import scipy.stats as stats\n",
        "\n",
        "import seaborn as sns\n",
        "\n",
        "import statsmodels.formula.api as smf"
      ]
    },
    {
      "cell_type": "markdown",
      "metadata": {
        "id": "GNiItIkYp15s"
      },
      "source": [
        "## Introdução"
      ]
    },
    {
      "cell_type": "markdown",
      "metadata": {
        "id": "wv7phUoZoQ_z"
      },
      "source": [
        "Vamos trabalhar com a base de dados sobre covid vista em sala de aula. Vamos importar a base:"
      ]
    },
    {
      "cell_type": "code",
      "execution_count": 2,
      "metadata": {
        "id": "zQatv7n4oAHg"
      },
      "outputs": [],
      "source": [
        "#grade (write your code in this cell and DO NOT DELETE THIS LINE)\n",
        "casos = pd.read_csv(\"https://github.com/jtrecenti/main-cdad2/releases/download/data/casos_covid.csv\")\n",
        "#Excluíndo colunas extras\n",
        "casos = casos.drop(['Unnamed: 0.1', 'Unnamed: 0'], axis=1)"
      ]
    },
    {
      "cell_type": "code",
      "execution_count": 3,
      "metadata": {
        "id": "MNP1hQzGrfja"
      },
      "outputs": [],
      "source": [
        "#grade (write your code in this cell and DO NOT DELETE THIS LINE)\n",
        "casos.rename(columns={\n",
        "  'city':'cidade',\n",
        "  'city_ibge_code':\n",
        "  'cod_ibge',\n",
        "  'last_available_confirmed':'casos',\n",
        "  'last_available_deaths':'mortes',\n",
        "  'Sigla da Unidade da Federação':'uf',\n",
        "  'Produto Interno Bruto, \\na preços correntes\\n(R$ 1.000)':'pib_milhares_reais',\n",
        "  'Produto Interno Bruto per capita, \\na preços correntes\\n(R$ 1,00)':'pib_per_capita',\n",
        "  'Nome da Grande Região':'regiao'\n",
        "  }, inplace=True)"
      ]
    },
    {
      "cell_type": "markdown",
      "metadata": {
        "id": "lrNS0jVQo9AA"
      },
      "source": [
        "Antes de começarmos, relembre as variáveis desta base:"
      ]
    },
    {
      "cell_type": "code",
      "execution_count": 4,
      "metadata": {
        "colab": {
          "base_uri": "https://localhost:8080/"
        },
        "id": "5FpMAManpf6_",
        "outputId": "afcb63a6-1508-4722-b7f9-f77579e9b236"
      },
      "outputs": [
        {
          "name": "stdout",
          "output_type": "stream",
          "text": [
            "<class 'pandas.core.frame.DataFrame'>\n",
            "RangeIndex: 5282 entries, 0 to 5281\n",
            "Data columns (total 12 columns):\n",
            " #   Column              Non-Null Count  Dtype  \n",
            "---  ------              --------------  -----  \n",
            " 0   cidade              5282 non-null   object \n",
            " 1   cod_ibge            5282 non-null   float64\n",
            " 2   casos               5282 non-null   int64  \n",
            " 3   mortes              5282 non-null   int64  \n",
            " 4   regiao              5282 non-null   object \n",
            " 5   uf                  5282 non-null   object \n",
            " 6   pib_milhares_reais  5282 non-null   float64\n",
            " 7   pib_per_capita      5282 non-null   float64\n",
            " 8   nome                5282 non-null   object \n",
            " 9   uf                  5282 non-null   object \n",
            " 10  totalVotos          5282 non-null   int64  \n",
            " 11  bolsonaro           5282 non-null   float64\n",
            "dtypes: float64(4), int64(3), object(5)\n",
            "memory usage: 495.3+ KB\n"
          ]
        }
      ],
      "source": [
        "#grade (write your code in this cell and DO NOT DELETE THIS LINE)\n",
        "casos.info()"
      ]
    },
    {
      "cell_type": "code",
      "execution_count": 5,
      "metadata": {
        "colab": {
          "base_uri": "https://localhost:8080/",
          "height": 199
        },
        "id": "IgwMaY_ppJ1W",
        "outputId": "9b7d0468-8a5e-4e49-eed5-a4443cced71b"
      },
      "outputs": [
        {
          "data": {
            "text/html": [
              "<div>\n",
              "<style scoped>\n",
              "    .dataframe tbody tr th:only-of-type {\n",
              "        vertical-align: middle;\n",
              "    }\n",
              "\n",
              "    .dataframe tbody tr th {\n",
              "        vertical-align: top;\n",
              "    }\n",
              "\n",
              "    .dataframe thead th {\n",
              "        text-align: right;\n",
              "    }\n",
              "</style>\n",
              "<table border=\"1\" class=\"dataframe\">\n",
              "  <thead>\n",
              "    <tr style=\"text-align: right;\">\n",
              "      <th></th>\n",
              "      <th>cidade</th>\n",
              "      <th>cod_ibge</th>\n",
              "      <th>casos</th>\n",
              "      <th>mortes</th>\n",
              "      <th>regiao</th>\n",
              "      <th>uf</th>\n",
              "      <th>pib_milhares_reais</th>\n",
              "      <th>pib_per_capita</th>\n",
              "      <th>nome</th>\n",
              "      <th>uf</th>\n",
              "      <th>totalVotos</th>\n",
              "      <th>bolsonaro</th>\n",
              "    </tr>\n",
              "  </thead>\n",
              "  <tbody>\n",
              "    <tr>\n",
              "      <th>0</th>\n",
              "      <td>Acrelândia</td>\n",
              "      <td>1200013.0</td>\n",
              "      <td>1796</td>\n",
              "      <td>37</td>\n",
              "      <td>Norte</td>\n",
              "      <td>AC</td>\n",
              "      <td>253609.712</td>\n",
              "      <td>16623.60</td>\n",
              "      <td>ACRELÂNDIA</td>\n",
              "      <td>AC</td>\n",
              "      <td>6895</td>\n",
              "      <td>0.692676</td>\n",
              "    </tr>\n",
              "    <tr>\n",
              "      <th>1</th>\n",
              "      <td>Assis Brasil</td>\n",
              "      <td>1200054.0</td>\n",
              "      <td>1827</td>\n",
              "      <td>24</td>\n",
              "      <td>Norte</td>\n",
              "      <td>AC</td>\n",
              "      <td>93054.149</td>\n",
              "      <td>12546.06</td>\n",
              "      <td>ASSIS BRASIL</td>\n",
              "      <td>AC</td>\n",
              "      <td>4327</td>\n",
              "      <td>0.451814</td>\n",
              "    </tr>\n",
              "    <tr>\n",
              "      <th>2</th>\n",
              "      <td>Brasiléia</td>\n",
              "      <td>1200104.0</td>\n",
              "      <td>3000</td>\n",
              "      <td>44</td>\n",
              "      <td>Norte</td>\n",
              "      <td>AC</td>\n",
              "      <td>454802.574</td>\n",
              "      <td>17307.35</td>\n",
              "      <td>BRASILÉIA</td>\n",
              "      <td>AC</td>\n",
              "      <td>12731</td>\n",
              "      <td>0.597596</td>\n",
              "    </tr>\n",
              "    <tr>\n",
              "      <th>3</th>\n",
              "      <td>Bujari</td>\n",
              "      <td>1200138.0</td>\n",
              "      <td>1144</td>\n",
              "      <td>17</td>\n",
              "      <td>Norte</td>\n",
              "      <td>AC</td>\n",
              "      <td>157655.612</td>\n",
              "      <td>15357.06</td>\n",
              "      <td>BUJARI</td>\n",
              "      <td>AC</td>\n",
              "      <td>6564</td>\n",
              "      <td>0.630713</td>\n",
              "    </tr>\n",
              "    <tr>\n",
              "      <th>4</th>\n",
              "      <td>Capixaba</td>\n",
              "      <td>1200179.0</td>\n",
              "      <td>675</td>\n",
              "      <td>17</td>\n",
              "      <td>Norte</td>\n",
              "      <td>AC</td>\n",
              "      <td>153209.713</td>\n",
              "      <td>13058.02</td>\n",
              "      <td>CAPIXABA</td>\n",
              "      <td>AC</td>\n",
              "      <td>5588</td>\n",
              "      <td>0.623479</td>\n",
              "    </tr>\n",
              "  </tbody>\n",
              "</table>\n",
              "</div>"
            ],
            "text/plain": [
              "         cidade   cod_ibge  casos  mortes regiao  uf  pib_milhares_reais  \\\n",
              "0    Acrelândia  1200013.0   1796      37  Norte  AC          253609.712   \n",
              "1  Assis Brasil  1200054.0   1827      24  Norte  AC           93054.149   \n",
              "2     Brasiléia  1200104.0   3000      44  Norte  AC          454802.574   \n",
              "3        Bujari  1200138.0   1144      17  Norte  AC          157655.612   \n",
              "4      Capixaba  1200179.0    675      17  Norte  AC          153209.713   \n",
              "\n",
              "   pib_per_capita          nome  uf  totalVotos  bolsonaro  \n",
              "0        16623.60    ACRELÂNDIA  AC        6895   0.692676  \n",
              "1        12546.06  ASSIS BRASIL  AC        4327   0.451814  \n",
              "2        17307.35     BRASILÉIA  AC       12731   0.597596  \n",
              "3        15357.06        BUJARI  AC        6564   0.630713  \n",
              "4        13058.02      CAPIXABA  AC        5588   0.623479  "
            ]
          },
          "execution_count": 5,
          "metadata": {},
          "output_type": "execute_result"
        }
      ],
      "source": [
        "#grade (write your code in this cell and DO NOT DELETE THIS LINE)\n",
        "casos.head(5)"
      ]
    },
    {
      "cell_type": "markdown",
      "metadata": {
        "id": "gIWQrO7Kp6Gn"
      },
      "source": [
        "## Exercício 1"
      ]
    },
    {
      "cell_type": "markdown",
      "metadata": {
        "id": "NBrQQmAHp8Pw"
      },
      "source": [
        "**1a)** A coluna `casos` mostra o número de casos de covid confirmados, enquanto a coluna `mortes` mostra o número de mortes por covid.\n",
        "Calcule a correlação entre as duas variáveis e salve abaixo na variável `correlacao`.\n"
      ]
    },
    {
      "cell_type": "code",
      "execution_count": 6,
      "metadata": {
        "colab": {
          "base_uri": "https://localhost:8080/"
        },
        "id": "WomkI1yuq8h1",
        "outputId": "b6c85e76-43b7-45c5-8fc6-2fe988162377"
      },
      "outputs": [
        {
          "name": "stdout",
          "output_type": "stream",
          "text": [
            "0.8614765853620766\n"
          ]
        }
      ],
      "source": [
        "#grade (write your code in this cell and DO NOT DELETE THIS LINE)\n",
        "\n",
        "correlacao = casos['casos'].corr(casos['mortes'])\n",
        "\n",
        "print(correlacao)"
      ]
    },
    {
      "cell_type": "markdown",
      "metadata": {
        "id": "DwSvjRYCsiI5"
      },
      "source": [
        "**1b)** Existe uma correlação estatisticamente significante entre essas duas variáveis? Ou seja, a variação em uma variável está ligada ou ajuda a explicar a variação da outra? Responda \"sim\" ou \"não\".\n",
        "\n",
        "Salve como string na variável `existe_corr`."
      ]
    },
    {
      "cell_type": "code",
      "execution_count": 14,
      "metadata": {
        "id": "WVtLYNIasnOR"
      },
      "outputs": [
        {
          "name": "stdout",
          "output_type": "stream",
          "text": [
            "0.0\n"
          ]
        }
      ],
      "source": [
        "#grade (write your code in this cell and DO NOT DELETE THIS LINE)\n",
        "\n",
        "corr, p_value_corr = stats.pearsonr(casos['casos'], casos['mortes'])\n",
        "\n",
        "print(p_value_corr)\n",
        "\n",
        "existe_corr = 'sim'"
      ]
    },
    {
      "cell_type": "markdown",
      "metadata": {
        "id": "CUsw-QlJs0fz"
      },
      "source": [
        "**1c)** Faça um scatterplot que mostre a relação entre as duas variáveis, com `casos` no **eixo x** e `mortes` no **eixo y**.\n",
        "Salve o gráfico na variável abaixo `plot`."
      ]
    },
    {
      "cell_type": "code",
      "execution_count": 18,
      "metadata": {
        "colab": {
          "base_uri": "https://localhost:8080/",
          "height": 430
        },
        "id": "-SggbwkHtKVj",
        "outputId": "16a373cd-25e9-48f7-98fa-53af779e76cc"
      },
      "outputs": [
        {
          "data": {
            "image/png": "[encoded data removed]",
            "text/plain": [
              "<Figure size 500x500 with 1 Axes>"
            ]
          },
          "metadata": {},
          "output_type": "display_data"
        }
      ],
      "source": [
        "#grade (write your code in this cell and DO NOT DELETE THIS LINE)\n",
        "\n",
        "plot = sns.relplot(data=casos, x='casos', y='mortes')"
      ]
    },
    {
      "cell_type": "markdown",
      "metadata": {
        "id": "0Mg9kGOxtuHY"
      },
      "source": [
        "## Exercício 2"
      ]
    },
    {
      "cell_type": "markdown",
      "metadata": {
        "id": "DQldKiwKtweR"
      },
      "source": [
        "**2a)** Faça uma regressão que tenha como única variável independente o número de casos e como variável dependente o número de mortes, chamada `regressao1`.\n",
        "\n",
        "Em seguida, forneça as duas respostas a seguir:\n",
        "\n",
        "*   Inspecione o coeficiente de casos e salve o valor na variável `coeficiente`.\n",
        "*   Inspeciona o valor do intercepto e salve o valor na variável `intercepto`.\n",
        "\n",
        "\n",
        "\n",
        "\n",
        "\n"
      ]
    },
    {
      "cell_type": "code",
      "execution_count": 20,
      "metadata": {
        "colab": {
          "base_uri": "https://localhost:8080/"
        },
        "id": "rX6Y5OtdwEc1",
        "outputId": "fe1605fb-46c0-437b-d964-0c24a1b417fd"
      },
      "outputs": [
        {
          "name": "stdout",
          "output_type": "stream",
          "text": [
            "0.03251399116204476\n",
            "-28.95208932506425\n"
          ]
        }
      ],
      "source": [
        "#grade (write your code in this cell and DO NOT DELETE THIS LINE)\n",
        "\n",
        "\n",
        "regressao1 = smf.ols(formula='mortes ~ casos', data=casos).fit()\n",
        "\n",
        "# Obter o coeficiente da variável independente (casos)\n",
        "coeficiente = regressao1.params['casos']\n",
        "\n",
        "# Obter o valor do intercepto\n",
        "intercepto = regressao1.params['Intercept']\n",
        "\n",
        "print(coeficiente)\n",
        "print(intercepto)\n"
      ]
    },
    {
      "cell_type": "markdown",
      "metadata": {
        "id": "CMkx9Xi7yG0M"
      },
      "source": [
        "**2b)** Considere que o p valor do coeficiente de `casos` é **0.001**.\n",
        "\n",
        "Há significância estatística da variável **casos**?\n",
        "\n",
        "Responda atribuindo o valor \"sim\" ou \"nao\" como string à variável `significancia` abaixo."
      ]
    },
    {
      "cell_type": "code",
      "execution_count": 22,
      "metadata": {
        "colab": {
          "base_uri": "https://localhost:8080/"
        },
        "id": "AyvarksbyQJd",
        "outputId": "881b35d0-0924-4e86-f859-0c0c9ba25542"
      },
      "outputs": [
        {
          "name": "stdout",
          "output_type": "stream",
          "text": [
            "0.0\n"
          ]
        }
      ],
      "source": [
        "#grade (write your code in this cell and DO NOT DELETE THIS LINE)\n",
        "p_valor = regressao1.pvalues['casos']\n",
        "\n",
        "print(p_valor)\n",
        "\n",
        "significancia = \"sim\""
      ]
    },
    {
      "cell_type": "markdown",
      "metadata": {
        "id": "n6X-BV2Uw4RP"
      },
      "source": [
        "**2c)** Construa agora um segundo modelo de regressão que tenha como variável independente, além da variável `casos`, a variável `bolsonaro`, que indica a proporção de votos que foi para o candidato Bolsonaro nas eleições de 2018 no respectivo município. Salve esse segundo modelo na variável `regressao2`."
      ]
    },
    {
      "cell_type": "code",
      "execution_count": 23,
      "metadata": {
        "id": "M7PrAPEtyaU1"
      },
      "outputs": [],
      "source": [
        "#grade (write your code in this cell and DO NOT DELETE THIS LINE)\n",
        "\n",
        "regressao2 = smf.ols(formula='mortes ~ casos + bolsonaro', data=casos).fit()"
      ]
    },
    {
      "cell_type": "markdown",
      "metadata": {
        "id": "KCAGggegz5ck"
      },
      "source": [
        "**2d)** Analisando o R quadrado (ajustado) dos dois modelos, qual deles possui um maior poder de explicação do fenômeno de mortes por covid em cada município?\n",
        "\n",
        "Responda, atribuindo como string à variável abaixo` melhor_modelo`, uma das três opções:\n",
        "\n",
        "*   \"modelo1\" (no caso de regressao1)\n",
        "*   \"modelo2\" (no caso de regressao2)\n",
        "*   \"igual\" (caso ambos os modelos tenham o mesmo poder de explicação)\n",
        "\n",
        "\n"
      ]
    },
    {
      "cell_type": "code",
      "execution_count": 25,
      "metadata": {
        "colab": {
          "base_uri": "https://localhost:8080/"
        },
        "id": "RVoYniaW0uaU",
        "outputId": "d02587a1-203a-4094-b105-2d9d3ed1000c"
      },
      "outputs": [
        {
          "name": "stdout",
          "output_type": "stream",
          "text": [
            "0.74209307036709\n",
            "0.7424916558880903\n",
            "True\n"
          ]
        }
      ],
      "source": [
        "#grade (write your code in this cell and DO NOT DELETE THIS LINE)\n",
        "# Criando e ajustando o modelo para a primeira regressão\n",
        "\n",
        "r2_regressao1 = regressao1.rsquared_adj\n",
        "r2_regressao2 = regressao2.rsquared_adj\n",
        "\n",
        "# Calculando o R-quadrado\n",
        "print(r2_regressao1)\n",
        "print(r2_regressao2)\n",
        "\n",
        "print(r2_regressao2 > r2_regressao1)\n",
        "\n",
        "melhor_modelo = \"modelo2\""
      ]
    }
  ],
  "metadata": {
    "colab": {
      "provenance": []
    },
    "kernelspec": {
      "display_name": "Python 3",
      "name": "python3"
    },
    "language_info": {
      "codemirror_mode": {
        "name": "ipython",
        "version": 3
      },
      "file_extension": ".py",
      "mimetype": "text/x-python",
      "name": "python",
      "nbconvert_exporter": "python",
      "pygments_lexer": "ipython3",
      "version": "3.11.5"
    }
  },
  "nbformat": 4,
  "nbformat_minor": 0
}
