{
 "cells": [
  {
   "cell_type": "markdown",
   "metadata": {},
   "source": [
    "# Exercícios sobre frequências, proporções e taxas"
   ]
  },
  {
   "cell_type": "code",
   "execution_count": 38,
   "metadata": {},
   "outputs": [],
   "source": [
    "#grade (write your code in this cell and DO NOT DELETE THIS LINE)\n",
    "\n",
    "import pandas as pd\n",
    "import numpy as np\n",
    "\n",
    "camaras = pd.read_csv('https://github.com/jtrecenti/main-cdad2/releases/download/data/camaras.csv')"
   ]
  },
  {
   "cell_type": "markdown",
   "metadata": {},
   "source": [
    "**Exercício 1: Frequências, proporções e taxas**"
   ]
  },
  {
   "cell_type": "markdown",
   "metadata": {},
   "source": [
    "**1a)** Calcule a frequência relativa de recursos parcialmente procedentes. Utilize 3 casas decimais."
   ]
  },
  {
   "cell_type": "code",
   "execution_count": 39,
   "metadata": {},
   "outputs": [
    {
     "name": "stdout",
     "output_type": "stream",
     "text": [
      "0.369\n"
     ]
    }
   ],
   "source": [
    "#grade (write your code in this cell and DO NOT DELETE THIS LINE)\n",
    "\n",
    "freq_relativa_parcialmente_procedentes = 0\n",
    "\n",
    "decisoes_parcialmente_procedentes = camaras[camaras['decisao'] == 'Parcialmente']\n",
    "frequencia_relativa = len(decisoes_parcialmente_procedentes) / len(camaras)\n",
    "freq_relativa_parcialmente_procedentes = round(frequencia_relativa, 3)\n",
    "\n",
    "print(freq_relativa_parcialmente_procedentes)"
   ]
  },
  {
   "cell_type": "markdown",
   "metadata": {},
   "source": [
    "**1b)** Calcule a razão entre a quantidade de magistrados que são desembargadores e a quantidade de magistrados que são juízes substitutos de segundo grau. Utilize 3 casas decimais.\n",
    "\n",
    "**Dica**: os magistrados aparecem mais de uma vez na base de dados, então é necessário considerar apenas uma vez cada magistrado."
   ]
  },
  {
   "cell_type": "code",
   "execution_count": 40,
   "metadata": {},
   "outputs": [
    {
     "name": "stdout",
     "output_type": "stream",
     "text": [
      "4.542\n"
     ]
    }
   ],
   "source": [
    "#grade (write your code in this cell and DO NOT DELETE THIS LINE)\n",
    "\n",
    "razao_magistrados = 0\n",
    "\n",
    "magistrados_unicos = camaras.drop_duplicates(subset=['relator'])\n",
    "\n",
    "# Contando a quantidade de desembargadores e juízes substitutos de segundo grau\n",
    "quant_desembargadores = len(magistrados_unicos[magistrados_unicos['rel_tipo_magistrado'] == 'desembargador'])\n",
    "quant_juizes_substitutos = len(magistrados_unicos[magistrados_unicos['rel_tipo_magistrado'] == 'juiz substituto 2º grau'])\n",
    "\n",
    "# Calculando a razão entre desembargadores e juízes substitutos de segundo grau\n",
    "# Evitando divisão por zero\n",
    "razao_magistrados = quant_desembargadores / quant_juizes_substitutos if quant_juizes_substitutos > 0 else 0\n",
    "razao_magistrados = round(razao_magistrados, 3)\n",
    "\n",
    "print(razao_magistrados)"
   ]
  },
  {
   "cell_type": "markdown",
   "metadata": {},
   "source": [
    "**1c)** Calcule a proporção de magistrados que têm origem no quinto constitucional. Utilize 3 casas decimais.\n",
    "\n",
    "**Dica**: multiplique por 100 para obter a porcentagem. Não precisa adicionar o \"%\" no final."
   ]
  },
  {
   "cell_type": "code",
   "execution_count": 41,
   "metadata": {},
   "outputs": [
    {
     "name": "stdout",
     "output_type": "stream",
     "text": [
      "15.789\n"
     ]
    }
   ],
   "source": [
    "#grade (write your code in this cell and DO NOT DELETE THIS LINE)\n",
    "\n",
    "prop_quinto = 0\n",
    "\n",
    "# Removendo duplicatas para considerar cada magistrado apenas uma vez\n",
    "magistrados_unicos = camaras.drop_duplicates(subset=['relator'])\n",
    "\n",
    "# Filtrando magistrados com origem no quinto constitucional\n",
    "magistrados_quinto_constitucional = magistrados_unicos[magistrados_unicos['rel_quinto'] == 'sim']\n",
    "\n",
    "# Calculando a proporção de magistrados com origem no quinto constitucional\n",
    "proporcao_quinto_constitucional = (len(magistrados_quinto_constitucional) / len(magistrados_unicos)) * 100\n",
    "prop_quinto = round(proporcao_quinto_constitucional, 3)\n",
    "\n",
    "print(prop_quinto)\n"
   ]
  },
  {
   "cell_type": "markdown",
   "metadata": {},
   "source": [
    "**1d)** Calcule a taxa de decisões por ano, calculada fazendo-se a razão entre a quantidade de decisões total e a quantidade de anos em que essas decisões estão sendo tomadas. Desconsidere Utilize 3 casas decimais."
   ]
  },
  {
   "cell_type": "code",
   "execution_count": 42,
   "metadata": {},
   "outputs": [
    {
     "name": "stdout",
     "output_type": "stream",
     "text": [
      "1250.0\n"
     ]
    }
   ],
   "source": [
    "#grade (write your code in this cell and DO NOT DELETE THIS LINE)\n",
    "\n",
    "tx_decisoes_ano = 0\n",
    "\n",
    "min_ano = camaras['dt_publicacao'].sort_values().head(1)\n",
    "max_ano = camaras['dt_publicacao'].sort_values(ascending=False).head(1)\n",
    "\n",
    "# inspecionando os valores mínimo e máximo, temos de 2016 a 2023 -- 8 anos\n",
    "qtd_anos = 8\n",
    "\n",
    "# outra forma de calcular:\n",
    "qtd_anos = pd.to_datetime(camaras['dt_publicacao']).dt.year.nunique()\n",
    "\n",
    "# Calculando a taxa de decisões por ano\n",
    "taxa_decisoes_por_ano = len(camaras) / qtd_anos\n",
    "\n",
    "# Formatando a taxa com 3 casas decimais\n",
    "tx_decisoes_ano = round(taxa_decisoes_por_ano, 3)\n",
    "\n",
    "print(tx_decisoes_ano)"
   ]
  },
  {
   "cell_type": "markdown",
   "metadata": {},
   "source": [
    "**1e)** Calcule a taxa de decisões por ano para cada relator, fazendo a razão entre a quantidade de decisões total desse relator e a quantidade de anos em que este relator tem decisões. Identifique o relator mais produtivo segundo esse critério."
   ]
  },
  {
   "cell_type": "code",
   "execution_count": 43,
   "metadata": {},
   "outputs": [
    {
     "name": "stdout",
     "output_type": "stream",
     "text": [
      "BANDEIRA LINS\n"
     ]
    }
   ],
   "source": [
    "#grade (write your code in this cell and DO NOT DELETE THIS LINE)\n",
    "\n",
    "relator_mais_produtivo = 0\n",
    "\n",
    "camaras['ano'] = pd.to_datetime(camaras['dt_publicacao']).dt.year\n",
    "\n",
    "# Calculando a quantidade de decisões e anos ativos para cada relator\n",
    "decisoes_por_relator = camaras.groupby('relator').agg({'ano': 'nunique', 'decisao': 'count'}).reset_index()\n",
    "\n",
    "# Calculando a taxa de decisões por ano\n",
    "decisoes_por_relator['taxa'] = decisoes_por_relator['decisao'] / decisoes_por_relator['ano']\n",
    "\n",
    "# Identificando o relator mais produtivo\n",
    "da_relator_mais_produtivo = decisoes_por_relator.sort_values('taxa', ascending=False)\n",
    "\n",
    "relator_mais_produtivo = da_relator_mais_produtivo['relator'].iloc[0]\n",
    "\n",
    "print(relator_mais_produtivo)"
   ]
  },
  {
   "cell_type": "markdown",
   "metadata": {},
   "source": [
    "**Desafio 1** \n",
    "\n",
    "A estimativa produzida na questão 1e) é problemática, porque a base das câmaras é apenas uma amostra da totalidade de casos. Ou seja, este relator na verdade tem uma taxa bem maior de decisões por ano. Considerando que temos 500000 processos na base completa e 10000 na amostra, qual estimativa você daria para a taxa de decisões por ano desse relator?"
   ]
  },
  {
   "cell_type": "code",
   "execution_count": 44,
   "metadata": {},
   "outputs": [
    {
     "name": "stdout",
     "output_type": "stream",
     "text": [
      "1350.0\n"
     ]
    }
   ],
   "source": [
    "#grade (write your code in this cell and DO NOT DELETE THIS LINE)\n",
    "\n",
    "tx_relator_mais_produtivo = 0\n",
    "\n",
    "# Calculando a taxa de decisões por ano do relator mais produtivo\n",
    "tx_amostra = da_relator_mais_produtivo['taxa'].iloc[0]\n",
    "\n",
    "# a estimativa pode ser obtida por uma regra de três simples\n",
    "tx_relator_mais_produtivo = tx_amostra * 500000 / 10000\n",
    "\n",
    "print(tx_relator_mais_produtivo)"
   ]
  },
  {
   "cell_type": "markdown",
   "metadata": {},
   "source": [
    "**Desafio 2**\n",
    "\n",
    "Calcule a razão entre a quantidade de magistrados que se formaram pela Universidade de São Paulo (USP) e a quantidade de magistrados que se formaram pela PUC-SP. Utilize 3 casas decimais.\n",
    "\n",
    "**Dica**: a faculdade pode aparecer de vários jeitos na base de dados. Você pode usar a função `str.contains` para utilizar padrões de texto e contar todas as formas de escrita da faculdade."
   ]
  },
  {
   "cell_type": "code",
   "execution_count": 45,
   "metadata": {},
   "outputs": [
    {
     "name": "stdout",
     "output_type": "stream",
     "text": [
      "2.769\n"
     ]
    }
   ],
   "source": [
    "#grade (write your code in this cell and DO NOT DELETE THIS LINE)\n",
    "\n",
    "razao_usp_puc = 0\n",
    "\n",
    "# Removendo duplicatas para considerar cada magistrado apenas uma vez\n",
    "magistrados_unicos = camaras.drop_duplicates(subset=['relator'])\n",
    "\n",
    "# Filtrando magistrados formados pela USP\n",
    "# Considerando variações comuns na forma de nomeação\n",
    "usp_formados = magistrados_unicos[magistrados_unicos['rel_faculdade_direito'].str.contains('Universidade de São Paulo|USP', case=False, na=False)]\n",
    "\n",
    "# Filtrando magistrados formados pela PUC-SP\n",
    "# Considerando variações comuns na forma de nomeação\n",
    "pucsp_formados = magistrados_unicos[magistrados_unicos['rel_faculdade_direito'].str.contains('PUC-SP|Pontifícia Universidade Católica de São Paulo', case=False, na=False)]\n",
    "\n",
    "# Calculando a razão\n",
    "razao_formacao = len(usp_formados) / len(pucsp_formados) if len(pucsp_formados) > 0 else 0\n",
    "razao_usp_puc = round(razao_formacao, 3)\n",
    "\n",
    "print(razao_usp_puc)"
   ]
  }
 ],
 "metadata": {
  "kernelspec": {
   "display_name": "Python 3.8.13 ('base')",
   "language": "python",
   "name": "python3"
  },
  "language_info": {
   "codemirror_mode": {
    "name": "ipython",
    "version": 3
   },
   "file_extension": ".py",
   "mimetype": "text/x-python",
   "name": "python",
   "nbconvert_exporter": "python",
   "pygments_lexer": "ipython3",
   "version": "3.11.5"
  },
  "vscode": {
   "interpreter": {
    "hash": "5069b9ea11b85fb4db3daea1b6e2f52bb71a2d2f4125d8d80a9178a61d59ac7c"
   }
  }
 },
 "nbformat": 4,
 "nbformat_minor": 2
}
