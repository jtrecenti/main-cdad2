{
 "cells": [
  {
   "cell_type": "markdown",
   "metadata": {},
   "source": [
    "# Exercícios sobre medidas de posição e variabilidade"
   ]
  },
  {
   "cell_type": "markdown",
   "metadata": {},
   "source": [
    "Vamos trabalhar com um recorte do dataset das Câmaras Criminais, utilizado nas últimas aulas. O dicionário da base está disponível [aqui](https://docs.google.com/spreadsheets/d/1oVOKDH48As8jNaNpWkKqGgd-lKkUUwnnG0YyRre8P2Y/edit#gid=0)."
   ]
  },
  {
   "cell_type": "code",
   "execution_count": 11,
   "metadata": {},
   "outputs": [],
   "source": [
    "#grade (write your code in this cell and DO NOT DELETE THIS LINE)\n",
    "\n",
    "import pandas as pd\n",
    "import numpy as np\n",
    "\n",
    "camaras = pd.read_csv('https://github.com/jtrecenti/main-cdad2/releases/download/data/camaras.csv')\n",
    "\n",
    "relatores = (\n",
    "  camaras\n",
    "  .drop_duplicates(subset='relator', keep='first')\n",
    ")\n"
   ]
  },
  {
   "cell_type": "markdown",
   "metadata": {},
   "source": [
    "A base `relatores` contém informações sobre os desembargadores e juízes substitutos de segundo grau que foram relatores de processos julgados pelas câmaras criminais. Ela é obtida retirando as duplicatas a partir do relator, utilizando o métdo `drop_duplicates` do pandas. Essa base deve ser utilizada nas questões que envolvem apenas as características dos relatores e não dos processos: as questões 1a, 1b, 1c e 1d."
   ]
  },
  {
   "cell_type": "code",
   "execution_count": 17,
   "metadata": {},
   "outputs": [
    {
     "name": "stdout",
     "output_type": "stream",
     "text": [
      "<class 'pandas.core.frame.DataFrame'>\n",
      "RangeIndex: 10000 entries, 0 to 9999\n",
      "Data columns (total 18 columns):\n",
      " #   Column                  Non-Null Count  Dtype  \n",
      "---  ------                  --------------  -----  \n",
      " 0   processo                10000 non-null  object \n",
      " 1   assunto                 10000 non-null  object \n",
      " 2   camara                  10000 non-null  object \n",
      " 3   relator                 10000 non-null  object \n",
      " 4   origem                  10000 non-null  object \n",
      " 5   comarca                 10000 non-null  object \n",
      " 6   polo_mp                 10000 non-null  object \n",
      " 7   decisao                 10000 non-null  object \n",
      " 8   unanimidade             10000 non-null  object \n",
      " 9   dt_publicacao           9999 non-null   object \n",
      " 10  ementa                  10000 non-null  object \n",
      " 11  tempo                   9999 non-null   float64\n",
      " 12  rel_idade               8609 non-null   float64\n",
      " 13  rel_id_municipio_nasc   8681 non-null   float64\n",
      " 14  rel_faculdade_direito   8686 non-null   object \n",
      " 15  rel_tempo_magistratura  7267 non-null   float64\n",
      " 16  rel_tipo_magistrado     10000 non-null  object \n",
      " 17  rel_quinto              8686 non-null   object \n",
      "dtypes: float64(4), object(14)\n",
      "memory usage: 1.4+ MB\n"
     ]
    }
   ],
   "source": [
    "camaras.info()"
   ]
  },
  {
   "cell_type": "code",
   "execution_count": 30,
   "metadata": {},
   "outputs": [
    {
     "data": {
      "text/html": [
       "<div>\n",
       "<style scoped>\n",
       "    .dataframe tbody tr th:only-of-type {\n",
       "        vertical-align: middle;\n",
       "    }\n",
       "\n",
       "    .dataframe tbody tr th {\n",
       "        vertical-align: top;\n",
       "    }\n",
       "\n",
       "    .dataframe thead th {\n",
       "        text-align: right;\n",
       "    }\n",
       "</style>\n",
       "<table border=\"1\" class=\"dataframe\">\n",
       "  <thead>\n",
       "    <tr style=\"text-align: right;\">\n",
       "      <th></th>\n",
       "      <th>processo</th>\n",
       "      <th>assunto</th>\n",
       "      <th>camara</th>\n",
       "      <th>relator</th>\n",
       "      <th>origem</th>\n",
       "      <th>comarca</th>\n",
       "      <th>polo_mp</th>\n",
       "      <th>decisao</th>\n",
       "      <th>unanimidade</th>\n",
       "      <th>dt_publicacao</th>\n",
       "      <th>ementa</th>\n",
       "      <th>tempo</th>\n",
       "      <th>rel_idade</th>\n",
       "      <th>rel_id_municipio_nasc</th>\n",
       "      <th>rel_faculdade_direito</th>\n",
       "      <th>rel_tempo_magistratura</th>\n",
       "      <th>rel_tipo_magistrado</th>\n",
       "      <th>rel_quinto</th>\n",
       "    </tr>\n",
       "  </thead>\n",
       "  <tbody>\n",
       "    <tr>\n",
       "      <th>0</th>\n",
       "      <td>00013452120188260535</td>\n",
       "      <td>DIREITO PENAL - Crimes contra o Patrimônio - R...</td>\n",
       "      <td>01ª Câmara de Direito Criminal</td>\n",
       "      <td>MÁRIO DEVIENNE FERRAZ</td>\n",
       "      <td>Comarca de Guarulhos / Foro de Guarulhos / 4ª ...</td>\n",
       "      <td>GUARULHOS</td>\n",
       "      <td>Passivo</td>\n",
       "      <td>Parcialmente</td>\n",
       "      <td>Unânime</td>\n",
       "      <td>2020-03-13</td>\n",
       "      <td>N/A (TJSP;  Apelação Criminal 0001345-21.2018....</td>\n",
       "      <td>2.195756</td>\n",
       "      <td>70.598220</td>\n",
       "      <td>3534708.0</td>\n",
       "      <td>Faculdade Católica de Direito de Santos</td>\n",
       "      <td>44.900753</td>\n",
       "      <td>desembargador</td>\n",
       "      <td>não</td>\n",
       "    </tr>\n",
       "    <tr>\n",
       "      <th>1</th>\n",
       "      <td>00647287520158260050</td>\n",
       "      <td>DIREITO PENAL - Crimes Previstos na Legislação...</td>\n",
       "      <td>07ª Câmara de Direito Criminal</td>\n",
       "      <td>ALBERTO ANDERSON FILHO</td>\n",
       "      <td>Comarca de São Paulo / Foro Central Criminal B...</td>\n",
       "      <td>SAO PAULO</td>\n",
       "      <td>Passivo</td>\n",
       "      <td>Negaram</td>\n",
       "      <td>Unânime</td>\n",
       "      <td>2016-08-02</td>\n",
       "      <td>APELAÇÃO CRIMINAL –  Tráfico de entorpecentes ...</td>\n",
       "      <td>1.585216</td>\n",
       "      <td>69.590691</td>\n",
       "      <td>3509502.0</td>\n",
       "      <td>Faculdade de Direito da Pontifícia Universidad...</td>\n",
       "      <td>35.835729</td>\n",
       "      <td>desembargador</td>\n",
       "      <td>não</td>\n",
       "    </tr>\n",
       "  </tbody>\n",
       "</table>\n",
       "</div>"
      ],
      "text/plain": [
       "               processo                                            assunto  \\\n",
       "0  00013452120188260535  DIREITO PENAL - Crimes contra o Patrimônio - R...   \n",
       "1  00647287520158260050  DIREITO PENAL - Crimes Previstos na Legislação...   \n",
       "\n",
       "                           camara                 relator  \\\n",
       "0  01ª Câmara de Direito Criminal   MÁRIO DEVIENNE FERRAZ   \n",
       "1  07ª Câmara de Direito Criminal  ALBERTO ANDERSON FILHO   \n",
       "\n",
       "                                              origem    comarca  polo_mp  \\\n",
       "0  Comarca de Guarulhos / Foro de Guarulhos / 4ª ...  GUARULHOS  Passivo   \n",
       "1  Comarca de São Paulo / Foro Central Criminal B...  SAO PAULO  Passivo   \n",
       "\n",
       "        decisao unanimidade dt_publicacao  \\\n",
       "0  Parcialmente     Unânime    2020-03-13   \n",
       "1       Negaram     Unânime    2016-08-02   \n",
       "\n",
       "                                              ementa     tempo  rel_idade  \\\n",
       "0  N/A (TJSP;  Apelação Criminal 0001345-21.2018....  2.195756  70.598220   \n",
       "1  APELAÇÃO CRIMINAL –  Tráfico de entorpecentes ...  1.585216  69.590691   \n",
       "\n",
       "   rel_id_municipio_nasc                              rel_faculdade_direito  \\\n",
       "0              3534708.0            Faculdade Católica de Direito de Santos   \n",
       "1              3509502.0  Faculdade de Direito da Pontifícia Universidad...   \n",
       "\n",
       "   rel_tempo_magistratura rel_tipo_magistrado rel_quinto  \n",
       "0               44.900753       desembargador        não  \n",
       "1               35.835729       desembargador        não  "
      ]
     },
     "execution_count": 30,
     "metadata": {},
     "output_type": "execute_result"
    }
   ],
   "source": [
    "camaras.head(2)"
   ]
  },
  {
   "cell_type": "markdown",
   "metadata": {},
   "source": [
    "**Exercício 1**: Medidas de posição"
   ]
  },
  {
   "cell_type": "markdown",
   "metadata": {},
   "source": [
    "**1a)** Calcule a média e a mediana das idades dos relatores. Utilize duas casas decimais."
   ]
  },
  {
   "cell_type": "code",
   "execution_count": 2,
   "metadata": {},
   "outputs": [
    {
     "name": "stdout",
     "output_type": "stream",
     "text": [
      "66.93\n",
      "66.27\n"
     ]
    }
   ],
   "source": [
    "#grade (write your code in this cell and DO NOT DELETE THIS LINE)\n",
    "\n",
    "media_idade_rel = round(relatores.rel_idade.mean(), 2)\n",
    "mediana_idade_rel = round(relatores.rel_idade.median(),2)\n",
    "\n",
    "print(media_idade_rel)\n",
    "print(mediana_idade_rel)"
   ]
  },
  {
   "cell_type": "markdown",
   "metadata": {},
   "source": [
    "**1b)** Calcule o desvio padrão do tempo de magistratura dos relatores. Utilize duas casas decimais.\n",
    "\n",
    "**Dica**: utilize as diferentes formas de calcular das bibliotecas \"numpy\" e \"pandas\""
   ]
  },
  {
   "cell_type": "code",
   "execution_count": 3,
   "metadata": {},
   "outputs": [
    {
     "name": "stdout",
     "output_type": "stream",
     "text": [
      "2.21\n",
      "2.22\n"
     ]
    }
   ],
   "source": [
    "#grade (write your code in this cell and DO NOT DELETE THIS LINE)\n",
    "\n",
    "sd_tempo_mag_numpy = round(np.std(relatores.tempo),2)\n",
    "sd_tempo_mag_pandas = round(relatores.tempo.std(),2)\n",
    "\n",
    "print(sd_tempo_mag_numpy)\n",
    "print(sd_tempo_mag_pandas)"
   ]
  },
  {
   "cell_type": "markdown",
   "metadata": {},
   "source": [
    "**1c)** Pesquise a idade de aposentadoria dos desembargadores. Qual é o desembargador mais próximo de se aposentar? Qual sua idade? Utilize duas casas decimais\n",
    "\n",
    "**Dica 1**: Utilize a base `relatores` como ponto de partida. Utilize a função que retorna o máximo ou ordene os dados. Desconsidere os juizes substitutos.\n",
    "\n",
    "**Dica 2**: a idade de aposentadoria no TJSP é 75 anos. Se algum desembargador já passou dessa idade, é porque essa pessoa já se aposentou. Para obter a pessoa mais próxima de aposentar, é necessário retirar esses casos da análise."
   ]
  },
  {
   "cell_type": "code",
   "execution_count": 6,
   "metadata": {},
   "outputs": [
    {
     "name": "stdout",
     "output_type": "stream",
     "text": [
      "WILLIAN CAMPOS\n",
      "74.66\n"
     ]
    }
   ],
   "source": [
    "#grade (write your code in this cell and DO NOT DELETE THIS LINE)\n",
    "\n",
    "#Filtrando quem não é juiz substituto\n",
    "relatores_filtrado = relatores[\n",
    "  (relatores['rel_tipo_magistrado'] == 'desembargador') &\n",
    "  (relatores['rel_idade'] < 75)\n",
    "]\n",
    "\n",
    "#Ordenando o banco por idade\n",
    "relatores_filtrado_ordenado = relatores_filtrado.sort_values('rel_idade', ascending=False)\n",
    "\n",
    "#localizando o relatr mais velho\n",
    "relator_proximo_aposenta = relatores_filtrado_ordenado['relator'].iloc[0]\n",
    "\n",
    "#localizando a idade do relator mais velho\n",
    "relator_mais_velho_idade = round(relatores_filtrado_ordenado.rel_idade.max(),2)\n",
    "\n",
    "print(relator_proximo_aposenta)\n",
    "print(relator_mais_velho_idade)"
   ]
  },
  {
   "cell_type": "markdown",
   "metadata": {},
   "source": [
    "**1d)** Calcule a razão entre o tempo de magistratura e a idade. Esse número mede qual a proporção da vida da pessoa dedicada à magistratura. Agora, calcule os quartis de 25% e 75% dessa razão. Utilize duas casas decimais."
   ]
  },
  {
   "cell_type": "code",
   "execution_count": 13,
   "metadata": {},
   "outputs": [
    {
     "name": "stdout",
     "output_type": "stream",
     "text": [
      "0.55\n",
      "0.6\n"
     ]
    }
   ],
   "source": [
    "#grade (write your code in this cell and DO NOT DELETE THIS LINE)\n",
    "\n",
    "relatores = relatores.assign(prop_magistratura = relatores['rel_tempo_magistratura'] / relatores['rel_idade'])\n",
    "\n",
    "q1_prop_magistratura = round(np.nanquantile(relatores['prop_magistratura'], 0.25), 2)\n",
    "q3_prop_magistratura = round(np.nanquantile(relatores['prop_magistratura'], 0.75), 2)\n",
    "\n",
    "print(q1_prop_magistratura)\n",
    "print(q3_prop_magistratura)"
   ]
  },
  {
   "cell_type": "markdown",
   "metadata": {},
   "source": [
    "**1e)** Obtenha os tempos médios dos processos para cada relator. Qual é a razão entre o maior e o menor tempo médio? Utilize duas casas decimais.\n",
    "\n",
    "**Obs**: deconsidere relatores com menos de 100 decisões."
   ]
  },
  {
   "cell_type": "code",
   "execution_count": 16,
   "metadata": {},
   "outputs": [
    {
     "name": "stdout",
     "output_type": "stream",
     "text": [
      "1.53\n"
     ]
    }
   ],
   "source": [
    "#grade (write your code in this cell and DO NOT DELETE THIS LINE)\n",
    "\n",
    "#tempo médio de processo por relator\n",
    "media_relator = camaras.groupby('relator')['tempo'].mean()\n",
    "\n",
    "#filtrar relatores com mais de 100 decisões\n",
    "relatores_contagem = camaras['relator'].value_counts()\n",
    "\n",
    "relatores_maiorcem = relatores_contagem[relatores_contagem >= 100].index\n",
    "\n",
    "#filtrar média relator para aqueles com mais de 100 decisões\n",
    "media_relator_filtro = media_relator[media_relator.index.isin(relatores_maiorcem)]\n",
    "\n",
    "# Encontrar os tempos médios máximo e mínimo entre os relatores qualificados\n",
    "tempo_max = media_relator_filtro.max()\n",
    "tempo_min = media_relator_filtro.min()\n",
    "\n",
    "# Calcular a razão entre o maior e o menor tempo médio\n",
    "razao_maior_menor_tempo = round(tempo_max / tempo_min, 2)\n",
    "\n",
    "print(razao_maior_menor_tempo)"
   ]
  },
  {
   "cell_type": "code",
   "execution_count": 52,
   "metadata": {},
   "outputs": [
    {
     "data": {
      "text/html": [
       "<div>\n",
       "<style scoped>\n",
       "    .dataframe tbody tr th:only-of-type {\n",
       "        vertical-align: middle;\n",
       "    }\n",
       "\n",
       "    .dataframe tbody tr th {\n",
       "        vertical-align: top;\n",
       "    }\n",
       "\n",
       "    .dataframe thead th {\n",
       "        text-align: right;\n",
       "    }\n",
       "</style>\n",
       "<table border=\"1\" class=\"dataframe\">\n",
       "  <thead>\n",
       "    <tr style=\"text-align: right;\">\n",
       "      <th></th>\n",
       "      <th>relator</th>\n",
       "      <th>count</th>\n",
       "      <th>mean</th>\n",
       "      <th>std</th>\n",
       "      <th>min</th>\n",
       "      <th>25%</th>\n",
       "      <th>50%</th>\n",
       "      <th>75%</th>\n",
       "      <th>max</th>\n",
       "    </tr>\n",
       "  </thead>\n",
       "  <tbody>\n",
       "    <tr>\n",
       "      <th>2</th>\n",
       "      <td>ALBERTO ANDERSON FILHO</td>\n",
       "      <td>113.0</td>\n",
       "      <td>2.841623</td>\n",
       "      <td>1.769085</td>\n",
       "      <td>0.260096</td>\n",
       "      <td>1.612594</td>\n",
       "      <td>2.335387</td>\n",
       "      <td>3.452430</td>\n",
       "      <td>9.483915</td>\n",
       "    </tr>\n",
       "    <tr>\n",
       "      <th>5</th>\n",
       "      <td>ALEXANDRE ALMEIDA</td>\n",
       "      <td>123.0</td>\n",
       "      <td>3.126893</td>\n",
       "      <td>1.968841</td>\n",
       "      <td>0.588638</td>\n",
       "      <td>1.752225</td>\n",
       "      <td>2.510609</td>\n",
       "      <td>4.145106</td>\n",
       "      <td>9.815195</td>\n",
       "    </tr>\n",
       "  </tbody>\n",
       "</table>\n",
       "</div>"
      ],
      "text/plain": [
       "                  relator  count      mean       std       min       25%  \\\n",
       "2  ALBERTO ANDERSON FILHO  113.0  2.841623  1.769085  0.260096  1.612594   \n",
       "5       ALEXANDRE ALMEIDA  123.0  3.126893  1.968841  0.588638  1.752225   \n",
       "\n",
       "        50%       75%       max  \n",
       "2  2.335387  3.452430  9.483915  \n",
       "5  2.510609  4.145106  9.815195  "
      ]
     },
     "execution_count": 52,
     "metadata": {},
     "output_type": "execute_result"
    }
   ],
   "source": [
    "relator_produtividade.head(2)"
   ]
  },
  {
   "cell_type": "code",
   "execution_count": 17,
   "metadata": {},
   "outputs": [
    {
     "name": "stdout",
     "output_type": "stream",
     "text": [
      "1.53\n"
     ]
    }
   ],
   "source": [
    "#grade (write your code in this cell and DO NOT DELETE THIS LINE)\n",
    "\n",
    "#RESOLUÇÃO 2\n",
    "\n",
    "relator_produtividade = (\n",
    "  camaras\n",
    "  .groupby('relator')['tempo']\n",
    "  .describe()\n",
    "  .reset_index()\n",
    "  .query('count >= 100')\n",
    ")\n",
    "\n",
    "\n",
    "# Encontrar os tempos médios máximo e mínimo entre os relatores qualificados\n",
    "tempo_max = relator_produtividade['mean'].max()\n",
    "tempo_min = relator_produtividade['mean'].min()\n",
    "\n",
    "# Calcular a razão entre o maior e o menor tempo médio\n",
    "razao_maior_menor_tempo = round(tempo_max / tempo_min, 2)\n",
    "\n",
    "\n",
    "print(razao_maior_menor_tempo)"
   ]
  },
  {
   "cell_type": "markdown",
   "metadata": {},
   "source": [
    "**Desafio**\n",
    "\n",
    "Filtros: Para todas as contas abaixo, desconsidere as câmaras extraordinárias, considere apenas relatores com mais de 100 decisões e apenas recursos em que o MP está no polo passivo.\n",
    "\n",
    "- Calcule a proporção de recursos negados por câmara. \n",
    "- Calcule a proporção de recursos negados por câmara e relator.\n",
    "\n",
    "Apresente esses dois números:\n",
    "\n",
    "- Calcule o desvio padrão entre as proporções obtidas por câmara.\n",
    "- Calcule o desvio padrão entre as proporções obtidas por relator dentro de cada câmara. Você terá uma medida por câmara. Depois, tome a média dessas medidas.\n",
    "\n",
    "**Para calcular o desvio padrão, utilize as operações do numpy.** Retorne o resultado com três casas decimais."
   ]
  },
  {
   "cell_type": "code",
   "execution_count": 56,
   "metadata": {},
   "outputs": [
    {
     "name": "stdout",
     "output_type": "stream",
     "text": [
      "<class 'pandas.core.frame.DataFrame'>\n",
      "RangeIndex: 10000 entries, 0 to 9999\n",
      "Data columns (total 18 columns):\n",
      " #   Column                  Non-Null Count  Dtype  \n",
      "---  ------                  --------------  -----  \n",
      " 0   processo                10000 non-null  object \n",
      " 1   assunto                 10000 non-null  object \n",
      " 2   camara                  10000 non-null  object \n",
      " 3   relator                 10000 non-null  object \n",
      " 4   origem                  10000 non-null  object \n",
      " 5   comarca                 10000 non-null  object \n",
      " 6   polo_mp                 10000 non-null  object \n",
      " 7   decisao                 10000 non-null  object \n",
      " 8   unanimidade             10000 non-null  object \n",
      " 9   dt_publicacao           9999 non-null   object \n",
      " 10  ementa                  10000 non-null  object \n",
      " 11  tempo                   9999 non-null   float64\n",
      " 12  rel_idade               8609 non-null   float64\n",
      " 13  rel_id_municipio_nasc   8681 non-null   float64\n",
      " 14  rel_faculdade_direito   8686 non-null   object \n",
      " 15  rel_tempo_magistratura  7267 non-null   float64\n",
      " 16  rel_tipo_magistrado     10000 non-null  object \n",
      " 17  rel_quinto              8686 non-null   object \n",
      "dtypes: float64(4), object(14)\n",
      "memory usage: 1.4+ MB\n"
     ]
    }
   ],
   "source": [
    "camaras.info()"
   ]
  },
  {
   "cell_type": "code",
   "execution_count": 64,
   "metadata": {},
   "outputs": [
    {
     "data": {
      "text/plain": [
       "array(['Parcialmente', 'Negaram', 'Punibilidade Extinta', 'Provido',\n",
       "       'Outros', 'Não conhecido'], dtype=object)"
      ]
     },
     "execution_count": 64,
     "metadata": {},
     "output_type": "execute_result"
    }
   ],
   "source": [
    "camaras.decisao.unique()"
   ]
  },
  {
   "cell_type": "code",
   "execution_count": 42,
   "metadata": {},
   "outputs": [],
   "source": [
    "#grade (write your code in this cell and DO NOT DELETE THIS LINE)\n",
    "\n",
    "## Parte 1: Filtros\n",
    "\n",
    "df_filtrado = camaras[~camaras['camara'].str.contains(\"Extraordinária\") & (camaras['polo_mp'] == 'Passivo')]\n",
    "contagem_decisoes = df_filtrado['relator'].value_counts()\n",
    "relatores_qualificados = contagem_decisoes[contagem_decisoes > 100].index\n",
    "df_final = df_filtrado[df_filtrado['relator'].isin(relatores_qualificados)]\n",
    "df_final = df_final.assign(negado = df_final['decisao'].str.contains(\"Negaram\"))\n",
    "\n",
    "## Parte 2: Proporções de recursos negados\n",
    "# Proporções de recursos negados\n",
    "prop_negados_camara = (\n",
    "  df_final\n",
    "  # Agrupa por câmara\n",
    "  .groupby('camara')\n",
    "  # Calcula a proporção de recursos negados\n",
    "  .agg(media_negados = ('negado', 'mean'))\n",
    "  # Reseta o índice\n",
    "  .reset_index()\n",
    ")\n",
    "\n",
    "prop_negados_camara_relator = (\n",
    "  df_final\n",
    "  # Agrupa por câmara e relator\n",
    "  .groupby(['camara', 'relator'])\n",
    "  # Calcula a proporção de recursos negados\n",
    "  .agg(media_negados = ('negado', 'mean'))\n",
    "  # Reseta o índice\n",
    "  .reset_index()\n",
    ")\n"
   ]
  },
  {
   "cell_type": "code",
   "execution_count": 43,
   "metadata": {},
   "outputs": [],
   "source": [
    "# Parte 3: Desvio padrão\n",
    "desvio_padrao_camara = np.std(prop_negados_camara.media_negados)\n",
    "\n",
    "desvio_padrao_medio = (\n",
    "  prop_negados_camara_relator\n",
    "  # Agrupa por câmara\n",
    "  .groupby('camara')\n",
    "  # Calcula o desvio padrão das proporções usando np.std\n",
    "  .agg(desvio_padrao_relator = ('media_negados', lambda x: np.std(x)))\n",
    "  # Reseta o índice\n",
    "  .reset_index()\n",
    "  # Calcula a média do desvio padrão\n",
    "  .desvio_padrao_relator.mean()\n",
    ")\n",
    "\n",
    "desvio_padrao_camara = round(desvio_padrao_camara, 3)\n",
    "desvio_padrao_medio_dentro_camara = round(desvio_padrao_medio, 3)"
   ]
  },
  {
   "cell_type": "code",
   "execution_count": 40,
   "metadata": {},
   "outputs": [
    {
     "name": "stdout",
     "output_type": "stream",
     "text": [
      "0.215\n",
      "0.104\n"
     ]
    }
   ],
   "source": [
    "print(desvio_padrao_camara)\n",
    "print(desvio_padrao_medio_dentro_camara)"
   ]
  },
  {
   "cell_type": "markdown",
   "metadata": {},
   "source": [
    "Pense sobre o que esses números podem significar, e como eles podem ser usados para avaliar a eficiência dos tribunais e a função do colegiado."
   ]
  },
  {
   "cell_type": "markdown",
   "metadata": {},
   "source": [
    "> O desvio padrão entre câmaras é maior que o desvio padrão médio dentro de cada câmara. Isso pode indicar que a composição do colegiado é mais importante que a identidade do relator para determinar o resultado do julgamento."
   ]
  }
 ],
 "metadata": {
  "kernelspec": {
   "display_name": "base",
   "language": "python",
   "name": "python3"
  },
  "language_info": {
   "codemirror_mode": {
    "name": "ipython",
    "version": 3
   },
   "file_extension": ".py",
   "mimetype": "text/x-python",
   "name": "python",
   "nbconvert_exporter": "python",
   "pygments_lexer": "ipython3",
   "version": "3.11.5"
  }
 },
 "nbformat": 4,
 "nbformat_minor": 2
}
