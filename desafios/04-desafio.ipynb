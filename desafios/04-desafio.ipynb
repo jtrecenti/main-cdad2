{
 "cells": [
  {
   "cell_type": "markdown",
   "metadata": {},
   "source": [
    "# Desafio 04: Probabilidade e curva normal\n",
    "\n",
    "## Introdução\n",
    "\n",
    "Vamos trabalhar com um recorte do dataset Arbitragem. Trata-se de uma pesquisa da ABJ, encomendada pelo CBar (Comitê de Arbitragem). O objetivo foi mapear a prática da arbitragem, com foco no reflexo da arbitragem no judiciário. O dataset contém informações sobre os processos. Nosso interesse maior é nos processos na categoria de Anulação de Sentença Arbitral.\n",
    "\n",
    "Informações do projeto e variáveis do dataset: https://abj.quarto.pub/obsarbitragem/"
   ]
  },
  {
   "cell_type": "code",
   "execution_count": 1,
   "metadata": {},
   "outputs": [],
   "source": [
    "#grade (write your code in this cell and DO NOT DELETE THIS LINE)\n",
    "\n",
    "import pandas as pd\n",
    "import numpy as np\n",
    "import scipy.stats as stats\n",
    "\n",
    "da_arbitragem = pd.read_csv(\"https://github.com/jtrecenti/main-cdad2/releases/download/data/arbitragem.csv\")"
   ]
  },
  {
   "cell_type": "markdown",
   "metadata": {},
   "source": [
    "## Questão 1\n",
    "\n",
    "Você estagia para uma advogada que é sócia do escritório BMA Advogados, especializado em temas empresariais, incluindo arbitragem. Ela está analisando processos relacionados a anulação de sentenças arbitrais no TJSP para identificar padrões que possam influenciar suas estratégias no próximo semestre. \n",
    "\n",
    "Ela comentou a você que viu a pesquisa da ABJ mostrando que, nos últimos anos, 17,7% dos casos relacionados a anulação das sentenças resultam em anulação de fato. Com base nisso, responda às perguntas a seguir.\n",
    "\n",
    "Se o escritório judicializar 20 casos desse tipo no próximo semestre:\n",
    "\n",
    "a) Qual é a probabilidade do escritório ganhar todos os 20 casos? Utilize três casas decimais."
   ]
  },
  {
   "cell_type": "code",
   "execution_count": null,
   "metadata": {},
   "outputs": [],
   "source": [
    "#grade (write your code in this cell and DO NOT DELETE THIS LINE)\n",
    "p_ganhar_todos=0\n",
    "\n",
    "\n",
    "p_ganhar_todos"
   ]
  },
  {
   "cell_type": "markdown",
   "metadata": {},
   "source": [
    "b) Qual é a probabilidade do escritório ganhar **exatamente** 5 casos? Utilize três casas decimais."
   ]
  },
  {
   "cell_type": "code",
   "execution_count": null,
   "metadata": {},
   "outputs": [],
   "source": [
    "#grade (write your code in this cell and DO NOT DELETE THIS LINE)\n",
    "p_exatamente_5=0\n",
    "\n",
    "\n",
    "p_exatamente_5"
   ]
  },
  {
   "cell_type": "markdown",
   "metadata": {},
   "source": [
    "c) Qual é a probabilidade do escritório ganhar **mais de** 5 casos? Utilize três casas decimais."
   ]
  },
  {
   "cell_type": "code",
   "execution_count": null,
   "metadata": {},
   "outputs": [],
   "source": [
    "#grade (write your code in this cell and DO NOT DELETE THIS LINE)\n",
    "p_mais_de_5=0\n",
    "\n",
    "\n",
    "p_mais_de_5"
   ]
  },
  {
   "cell_type": "markdown",
   "metadata": {},
   "source": [
    "**Obs**: a distribuição binomial é uma distribuição de probabilidade discreta, que descreve o número de sucessos em uma sequência de tentativas de Bernoulli independentes entre si, com uma probabilidade fixa de sucesso entre as tentativas.\n",
    "\n",
    "A distribuição binomial é dada pela fórmula:\n",
    "\n",
    "$$P(X = k) = \\binom{n}{k} \\cdot p^k \\cdot (1-p)^{n-k}$$\n",
    "\n",
    "No python, podemos utilizar a função `binom.pmf` do pacote `scipy.stats` para calcular a probabilidade de um número específico de sucessos em uma distribuição binomial.\n"
   ]
  },
  {
   "cell_type": "markdown",
   "metadata": {},
   "source": [
    "## Questão 2\n",
    "\n",
    "Na mesma pesquisa sobre arbitragem, queremos estudar o tempo médio que os processos de anulação de sentenças arbitrais levam para serem julgados."
   ]
  },
  {
   "cell_type": "markdown",
   "metadata": {},
   "source": [
    "a) Qual é a média da variável `tempo`, considerando apenas os processos com `categoria` Anulacao? Utilize duas casas decimais."
   ]
  },
  {
   "cell_type": "code",
   "execution_count": null,
   "metadata": {},
   "outputs": [],
   "source": [
    "#grade (write your code in this cell and DO NOT DELETE THIS LINE)\n",
    "media_tempo = 0\n",
    "\n",
    "\n",
    "media_tempo"
   ]
  },
  {
   "cell_type": "markdown",
   "metadata": {},
   "source": [
    "b) Qual é o desvio padrão, utilizando a função de desvio padrão do numpy? Utilize duas casas decimais."
   ]
  },
  {
   "cell_type": "code",
   "execution_count": null,
   "metadata": {},
   "outputs": [],
   "source": [
    "#grade (write your code in this cell and DO NOT DELETE THIS LINE)\n",
    "desvio_padrao_tempo = 0\n",
    "\n",
    "\n",
    "desvio_padrao_tempo"
   ]
  },
  {
   "cell_type": "markdown",
   "metadata": {},
   "source": [
    "c) Qual é o intervalo de confiança de 90% para a média do tempo dos processos de anulação, utilizando z-score? Utilize duas casas decimais."
   ]
  },
  {
   "cell_type": "code",
   "execution_count": null,
   "metadata": {},
   "outputs": [],
   "source": [
    "#grade (write your code in this cell and DO NOT DELETE THIS LINE)\n",
    "\n",
    "ic_min_tempo_z=0\n",
    "\n",
    "ic_max_tempo_z=0\n",
    "\n",
    "ic_min_tempo_z, ic_max_tempo_z"
   ]
  }
 ],
 "metadata": {
  "kernelspec": {
   "display_name": "base",
   "language": "python",
   "name": "python3"
  },
  "language_info": {
   "codemirror_mode": {
    "name": "ipython",
    "version": 3
   },
   "file_extension": ".py",
   "mimetype": "text/x-python",
   "name": "python",
   "nbconvert_exporter": "python",
   "pygments_lexer": "ipython3",
   "version": "3.11.5"
  }
 },
 "nbformat": 4,
 "nbformat_minor": 2
}
