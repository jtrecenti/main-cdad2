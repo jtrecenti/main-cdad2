{
 "cells": [
  {
   "cell_type": "markdown",
   "metadata": {},
   "source": [
    "# Desafio 02: medidas de posição e variabilidade / visualizações\n",
    "\n",
    "## Introdução\n",
    "\n",
    "Vamos trabalhar com um recorte do dataset das Câmaras Criminais, utilizado nas últimas aulas. O dicionário da base está disponível [aqui](https://docs.google.com/spreadsheets/d/1oVOKDH48As8jNaNpWkKqGgd-lKkUUwnnG0YyRre8P2Y/edit#gid=0)."
   ]
  },
  {
   "cell_type": "code",
   "execution_count": 3,
   "metadata": {},
   "outputs": [],
   "source": [
    "#grade (write your code in this cell and DO NOT DELETE THIS LINE)\n",
    "\n",
    "import pandas as pd\n",
    "import numpy as np\n",
    "import seaborn as sns\n",
    "\n",
    "camaras = pd.read_csv('https://github.com/jtrecenti/main-cdad2/releases/download/data/camaras.csv')"
   ]
  },
  {
   "cell_type": "markdown",
   "metadata": {},
   "source": [
    "Conta adicional para ajudar na resolução"
   ]
  },
  {
   "cell_type": "code",
   "execution_count": 8,
   "metadata": {},
   "outputs": [
    {
     "data": {
      "text/html": [
       "<div>\n",
       "<style scoped>\n",
       "    .dataframe tbody tr th:only-of-type {\n",
       "        vertical-align: middle;\n",
       "    }\n",
       "\n",
       "    .dataframe tbody tr th {\n",
       "        vertical-align: top;\n",
       "    }\n",
       "\n",
       "    .dataframe thead th {\n",
       "        text-align: right;\n",
       "    }\n",
       "</style>\n",
       "<table border=\"1\" class=\"dataframe\">\n",
       "  <thead>\n",
       "    <tr style=\"text-align: right;\">\n",
       "      <th></th>\n",
       "      <th>relator</th>\n",
       "      <th>decisoes</th>\n",
       "      <th>prop_negados</th>\n",
       "    </tr>\n",
       "  </thead>\n",
       "  <tbody>\n",
       "    <tr>\n",
       "      <th>80</th>\n",
       "      <td>MACHADO DE ANDRADE</td>\n",
       "      <td>102</td>\n",
       "      <td>0.911765</td>\n",
       "    </tr>\n",
       "    <tr>\n",
       "      <th>59</th>\n",
       "      <td>IVANA DAVID</td>\n",
       "      <td>135</td>\n",
       "      <td>0.881481</td>\n",
       "    </tr>\n",
       "    <tr>\n",
       "      <th>87</th>\n",
       "      <td>MARCOS CORREA</td>\n",
       "      <td>140</td>\n",
       "      <td>0.842857</td>\n",
       "    </tr>\n",
       "  </tbody>\n",
       "</table>\n",
       "</div>"
      ],
      "text/plain": [
       "               relator  decisoes  prop_negados\n",
       "80  MACHADO DE ANDRADE       102      0.911765\n",
       "59         IVANA DAVID       135      0.881481\n",
       "87       MARCOS CORREA       140      0.842857"
      ]
     },
     "execution_count": 8,
     "metadata": {},
     "output_type": "execute_result"
    }
   ],
   "source": [
    "recursos_negados_relator = (\n",
    "  camaras\n",
    "  .query('polo_mp == \"Passivo\"')\n",
    "  .groupby('relator')\n",
    "  .agg(\n",
    "    decisoes = ('decisao', 'count'),\n",
    "    prop_negados = ('decisao', lambda x: (x == 'Negaram').mean())\n",
    "  )\n",
    "  .reset_index()\n",
    "  .query('decisoes > 100')\n",
    "  .sort_values('prop_negados', ascending=False)\n",
    ")\n",
    "\n",
    "recursos_negados_relator.head(3)"
   ]
  },
  {
   "cell_type": "markdown",
   "metadata": {},
   "source": [
    "**1a)** Qual é o número total de decisões nessa base filtrada e sumarizada?\n",
    "\n",
    "**Dica**: A base `recursos_negados_relator` contém uma parte da solução. O número total de decisões é a soma das decisões de todos os relatores."
   ]
  },
  {
   "cell_type": "code",
   "execution_count": 3,
   "metadata": {},
   "outputs": [],
   "source": [
    "#grade (write your code in this cell and DO NOT DELETE THIS LINE)\n",
    "\n",
    "n_filtro = 0"
   ]
  },
  {
   "cell_type": "markdown",
   "metadata": {},
   "source": [
    "**1b)** Qual é o quantil de 90% dos tempos (em meses) para o relator com maior proporção de recursos negados? E o desvio padrão?\n",
    "\n",
    "**Dica**: multiplique por 12 para obter o tempo em meses. Utilize as funções do `numpy` para calcular o quantil e o desvio padrão. Utilize 3 casas decimais.\n",
    "\n",
    "**Dica**: Faça o filtro da base `camaras` a partir do relator com maior proporção de recursos negados. Não é necessário filtrar para o MP no polo passivo."
   ]
  },
  {
   "cell_type": "code",
   "execution_count": 5,
   "metadata": {},
   "outputs": [],
   "source": [
    "#grade (write your code in this cell and DO NOT DELETE THIS LINE)\n",
    "\n",
    "quantil_90 = 0\n",
    "desvio_padrao = 0"
   ]
  },
  {
   "cell_type": "markdown",
   "metadata": {},
   "source": [
    "**2)** Qual operação do `seaborn` podemos usar para visualizar a distribuição de recursos negados por câmara? E por relator? Responda usando as opções: 'barras', 'dispersão', 'série temporal', 'pizza', 'histograma', 'boxplot', 'violin'.\n",
    "\n",
    "**Dica**: no caso das câmaras, temos interesse em saber qual é a proporção **de cada câmara**. No caso dos relatores, não temos interesse em saber quem são os relatores, mas sim a **distribuição dessas proporções**."
   ]
  },
  {
   "cell_type": "code",
   "execution_count": 4,
   "metadata": {},
   "outputs": [],
   "source": [
    "#grade (write your code in this cell and DO NOT DELETE THIS LINE)\n",
    "\n",
    "viz_camara = ''\n",
    "viz_relator = ''"
   ]
  }
 ],
 "metadata": {
  "kernelspec": {
   "display_name": "base",
   "language": "python",
   "name": "python3"
  },
  "language_info": {
   "codemirror_mode": {
    "name": "ipython",
    "version": 3
   },
   "file_extension": ".py",
   "mimetype": "text/x-python",
   "name": "python",
   "nbconvert_exporter": "python",
   "pygments_lexer": "ipython3",
   "version": "3.11.5"
  }
 },
 "nbformat": 4,
 "nbformat_minor": 2
}
