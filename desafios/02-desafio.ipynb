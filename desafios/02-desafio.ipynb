{
 "cells": [
  {
   "cell_type": "markdown",
   "metadata": {},
   "source": [
    "# Desafio 02: medidas de posição e variabilidade / visualizações\n",
    "\n",
    "## Introdução\n",
    "\n",
    "Vamos trabalhar com um recorte do dataset das Câmaras Criminais, utilizado nas últimas aulas. O dicionário da base está disponível [aqui](https://docs.google.com/spreadsheets/d/1oVOKDH48As8jNaNpWkKqGgd-lKkUUwnnG0YyRre8P2Y/edit#gid=0)."
   ]
  },
  {
   "cell_type": "code",
   "execution_count": 2,
   "metadata": {},
   "outputs": [],
   "source": [
    "#grade (write your code in this cell and DO NOT DELETE THIS LINE)\n",
    "\n",
    "import pandas as pd\n",
    "import numpy as np\n",
    "import seaborn as sns\n",
    "\n",
    "camaras = pd.read_csv('https://github.com/jtrecenti/main-cdad2/releases/download/data/camaras.csv')"
   ]
  },
  {
   "cell_type": "markdown",
   "metadata": {},
   "source": [
    "Para todas as contas abaixo, **desconsidere as câmaras extraordinárias**, considere apenas **relatores com mais de 100 decisões** e considere apenas **recursos em que o MP está no polo passivo**.\n",
    "\n",
    "**1a)** Aplique os filtros descritos acima. Quantas observações restaram na base de dados?\n",
    "\n",
    "- Calcule a média (frequência relativa) de recursos negados por **câmara**. \n",
    "- Calcule a média (frequência relativa) de recursos negados por **relator**."
   ]
  },
  {
   "cell_type": "code",
   "execution_count": 3,
   "metadata": {},
   "outputs": [],
   "source": [
    "#grade (write your code in this cell and DO NOT DELETE THIS LINE)\n",
    "\n",
    "n_filtro = 0"
   ]
  },
  {
   "cell_type": "markdown",
   "metadata": {},
   "source": [
    "**1b)** Qual função do sns podemos usar para visualizar a distribuição de recursos negados por câmara? E por relator? Responda usando as opções: 'barras', 'dispersão', 'série temporal', 'pizza', 'histograma', 'boxplot', 'violin'.\n",
    "\n",
    "**Dica**: no caso das câmaras, temos interesse em saber qual é a proporção de cada câmara. No caso dos relatores, não temos interesse em saber quem são os relatores, mas sim a distribuição dessas proporções."
   ]
  },
  {
   "cell_type": "code",
   "execution_count": 4,
   "metadata": {},
   "outputs": [],
   "source": [
    "#grade (write your code in this cell and DO NOT DELETE THIS LINE)\n",
    "\n",
    "viz_camara = ''\n",
    "viz_relator = ''"
   ]
  },
  {
   "cell_type": "markdown",
   "metadata": {},
   "source": [
    "**1c)** Quais são os quantis de 10%, 50% e 90% dos tempos (em meses) para o relator com maior proporção de recursos negados? Utilize 1 casa decimal.\n",
    "\n",
    "**Dica**: multiplique por 12 para obter o tempo em meses."
   ]
  },
  {
   "cell_type": "code",
   "execution_count": 5,
   "metadata": {},
   "outputs": [],
   "source": [
    "#grade (write your code in this cell and DO NOT DELETE THIS LINE)\n",
    "\n",
    "quantil_10 = 0\n",
    "quantil_50 = 0\n",
    "quantil_90 = 0"
   ]
  },
  {
   "cell_type": "markdown",
   "metadata": {},
   "source": [
    "**1d)** Calcule o desvio padrão entre as proporções obtidas por câmara.\n",
    "\n",
    "**Para calcular o desvio padrão, utilize as operações do numpy.** Retorne o resultado com três casas decimais."
   ]
  },
  {
   "cell_type": "code",
   "execution_count": 6,
   "metadata": {},
   "outputs": [],
   "source": [
    "#grade (write your code in this cell and DO NOT DELETE THIS LINE)\n",
    "\n",
    "sd_camaras = 0"
   ]
  }
 ],
 "metadata": {
  "kernelspec": {
   "display_name": "base",
   "language": "python",
   "name": "python3"
  },
  "language_info": {
   "codemirror_mode": {
    "name": "ipython",
    "version": 3
   },
   "file_extension": ".py",
   "mimetype": "text/x-python",
   "name": "python",
   "nbconvert_exporter": "python",
   "pygments_lexer": "ipython3",
   "version": "3.11.5"
  }
 },
 "nbformat": 4,
 "nbformat_minor": 2
}
