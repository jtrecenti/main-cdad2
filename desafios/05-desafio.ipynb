{
  "cells": [
    {
      "cell_type": "markdown",
      "metadata": {
        "id": "uH7r7Mw7lGHD"
      },
      "source": [
        "Antes de mais nada, vamos importar os pacotes necessários"
      ]
    },
    {
      "cell_type": "code",
      "execution_count": 3,
      "metadata": {
        "id": "x0kgirz9kz2E"
      },
      "outputs": [],
      "source": [
        "#grade (write your code in this cell and DO NOT DELETE THIS LINE)\n",
        "\n",
        "import pandas as pd\n",
        "import statsmodels.formula.api as smf"
      ]
    },
    {
      "cell_type": "markdown",
      "metadata": {
        "id": "GNiItIkYp15s"
      },
      "source": [
        "## Introdução"
      ]
    },
    {
      "cell_type": "markdown",
      "metadata": {
        "id": "wv7phUoZoQ_z"
      },
      "source": [
        "Vamos trabalhar com a base de dados sobre covid vista em sala de aula. Vamos importar a base:"
      ]
    },
    {
      "cell_type": "code",
      "execution_count": 4,
      "metadata": {
        "id": "zQatv7n4oAHg"
      },
      "outputs": [],
      "source": [
        "#grade (write your code in this cell and DO NOT DELETE THIS LINE)\n",
        "casos = pd.read_csv(\"https://github.com/jtrecenti/main-cdad2/releases/download/data/casos_covid.csv\")\n",
        "# Excluíndo colunas extras\n",
        "casos = casos.drop(['Unnamed: 0.1','Unnamed: 0'], axis=1)"
      ]
    },
    {
      "cell_type": "code",
      "execution_count": 5,
      "metadata": {
        "id": "MNP1hQzGrfja"
      },
      "outputs": [],
      "source": [
        "#grade (write your code in this cell and DO NOT DELETE THIS LINE)\n",
        "casos.rename(columns={\n",
        "  'city':'cidade',\n",
        "  'city_ibge_code':\n",
        "  'cod_ibge',\n",
        "  'last_available_confirmed':'casos',\n",
        "  'last_available_deaths':'mortes',\n",
        "  'Sigla da Unidade da Federação':'uf',\n",
        "  'Produto Interno Bruto, \\na preços correntes\\n(R$ 1.000)':'pib_milhares_reais',\n",
        "  'Produto Interno Bruto per capita, \\na preços correntes\\n(R$ 1,00)':'pib_per_capita',\n",
        "  'Nome da Grande Região':'regiao'\n",
        "  }, inplace=True)"
      ]
    },
    {
      "cell_type": "markdown",
      "metadata": {
        "id": "lrNS0jVQo9AA"
      },
      "source": [
        "Antes de começarmos, vamos olhar as variáveis desta base:"
      ]
    },
    {
      "cell_type": "code",
      "execution_count": 7,
      "metadata": {
        "colab": {
          "base_uri": "https://localhost:8080/"
        },
        "id": "5FpMAManpf6_",
        "outputId": "9bc3812b-9d02-442f-a988-8c097ff2d8b7"
      },
      "outputs": [
        {
          "name": "stdout",
          "output_type": "stream",
          "text": [
            "<class 'pandas.core.frame.DataFrame'>\n",
            "RangeIndex: 5282 entries, 0 to 5281\n",
            "Data columns (total 12 columns):\n",
            " #   Column              Non-Null Count  Dtype  \n",
            "---  ------              --------------  -----  \n",
            " 0   cidade              5282 non-null   object \n",
            " 1   cod_ibge            5282 non-null   float64\n",
            " 2   casos               5282 non-null   int64  \n",
            " 3   mortes              5282 non-null   int64  \n",
            " 4   regiao              5282 non-null   object \n",
            " 5   uf                  5282 non-null   object \n",
            " 6   pib_milhares_reais  5282 non-null   float64\n",
            " 7   pib_per_capita      5282 non-null   float64\n",
            " 8   nome                5282 non-null   object \n",
            " 9   uf                  5282 non-null   object \n",
            " 10  totalVotos          5282 non-null   int64  \n",
            " 11  bolsonaro           5282 non-null   float64\n",
            "dtypes: float64(4), int64(3), object(5)\n",
            "memory usage: 495.3+ KB\n"
          ]
        }
      ],
      "source": [
        "#grade (write your code in this cell and DO NOT DELETE THIS LINE)\n",
        "casos.info()"
      ]
    },
    {
      "cell_type": "code",
      "execution_count": 8,
      "metadata": {
        "colab": {
          "base_uri": "https://localhost:8080/",
          "height": 112
        },
        "id": "IgwMaY_ppJ1W",
        "outputId": "6a56d739-973f-4426-ff21-23516f6a18be"
      },
      "outputs": [
        {
          "data": {
            "text/html": [
              "<div>\n",
              "<style scoped>\n",
              "    .dataframe tbody tr th:only-of-type {\n",
              "        vertical-align: middle;\n",
              "    }\n",
              "\n",
              "    .dataframe tbody tr th {\n",
              "        vertical-align: top;\n",
              "    }\n",
              "\n",
              "    .dataframe thead th {\n",
              "        text-align: right;\n",
              "    }\n",
              "</style>\n",
              "<table border=\"1\" class=\"dataframe\">\n",
              "  <thead>\n",
              "    <tr style=\"text-align: right;\">\n",
              "      <th></th>\n",
              "      <th>cidade</th>\n",
              "      <th>cod_ibge</th>\n",
              "      <th>casos</th>\n",
              "      <th>mortes</th>\n",
              "      <th>regiao</th>\n",
              "      <th>uf</th>\n",
              "      <th>pib_milhares_reais</th>\n",
              "      <th>pib_per_capita</th>\n",
              "      <th>nome</th>\n",
              "      <th>uf</th>\n",
              "      <th>totalVotos</th>\n",
              "      <th>bolsonaro</th>\n",
              "    </tr>\n",
              "  </thead>\n",
              "  <tbody>\n",
              "    <tr>\n",
              "      <th>0</th>\n",
              "      <td>Acrelândia</td>\n",
              "      <td>1200013.0</td>\n",
              "      <td>1796</td>\n",
              "      <td>37</td>\n",
              "      <td>Norte</td>\n",
              "      <td>AC</td>\n",
              "      <td>253609.712</td>\n",
              "      <td>16623.60</td>\n",
              "      <td>ACRELÂNDIA</td>\n",
              "      <td>AC</td>\n",
              "      <td>6895</td>\n",
              "      <td>0.692676</td>\n",
              "    </tr>\n",
              "    <tr>\n",
              "      <th>1</th>\n",
              "      <td>Assis Brasil</td>\n",
              "      <td>1200054.0</td>\n",
              "      <td>1827</td>\n",
              "      <td>24</td>\n",
              "      <td>Norte</td>\n",
              "      <td>AC</td>\n",
              "      <td>93054.149</td>\n",
              "      <td>12546.06</td>\n",
              "      <td>ASSIS BRASIL</td>\n",
              "      <td>AC</td>\n",
              "      <td>4327</td>\n",
              "      <td>0.451814</td>\n",
              "    </tr>\n",
              "    <tr>\n",
              "      <th>2</th>\n",
              "      <td>Brasiléia</td>\n",
              "      <td>1200104.0</td>\n",
              "      <td>3000</td>\n",
              "      <td>44</td>\n",
              "      <td>Norte</td>\n",
              "      <td>AC</td>\n",
              "      <td>454802.574</td>\n",
              "      <td>17307.35</td>\n",
              "      <td>BRASILÉIA</td>\n",
              "      <td>AC</td>\n",
              "      <td>12731</td>\n",
              "      <td>0.597596</td>\n",
              "    </tr>\n",
              "    <tr>\n",
              "      <th>3</th>\n",
              "      <td>Bujari</td>\n",
              "      <td>1200138.0</td>\n",
              "      <td>1144</td>\n",
              "      <td>17</td>\n",
              "      <td>Norte</td>\n",
              "      <td>AC</td>\n",
              "      <td>157655.612</td>\n",
              "      <td>15357.06</td>\n",
              "      <td>BUJARI</td>\n",
              "      <td>AC</td>\n",
              "      <td>6564</td>\n",
              "      <td>0.630713</td>\n",
              "    </tr>\n",
              "    <tr>\n",
              "      <th>4</th>\n",
              "      <td>Capixaba</td>\n",
              "      <td>1200179.0</td>\n",
              "      <td>675</td>\n",
              "      <td>17</td>\n",
              "      <td>Norte</td>\n",
              "      <td>AC</td>\n",
              "      <td>153209.713</td>\n",
              "      <td>13058.02</td>\n",
              "      <td>CAPIXABA</td>\n",
              "      <td>AC</td>\n",
              "      <td>5588</td>\n",
              "      <td>0.623479</td>\n",
              "    </tr>\n",
              "  </tbody>\n",
              "</table>\n",
              "</div>"
            ],
            "text/plain": [
              "         cidade   cod_ibge  casos  mortes regiao  uf  pib_milhares_reais  \\\n",
              "0    Acrelândia  1200013.0   1796      37  Norte  AC          253609.712   \n",
              "1  Assis Brasil  1200054.0   1827      24  Norte  AC           93054.149   \n",
              "2     Brasiléia  1200104.0   3000      44  Norte  AC          454802.574   \n",
              "3        Bujari  1200138.0   1144      17  Norte  AC          157655.612   \n",
              "4      Capixaba  1200179.0    675      17  Norte  AC          153209.713   \n",
              "\n",
              "   pib_per_capita          nome  uf  totalVotos  bolsonaro  \n",
              "0        16623.60    ACRELÂNDIA  AC        6895   0.692676  \n",
              "1        12546.06  ASSIS BRASIL  AC        4327   0.451814  \n",
              "2        17307.35     BRASILÉIA  AC       12731   0.597596  \n",
              "3        15357.06        BUJARI  AC        6564   0.630713  \n",
              "4        13058.02      CAPIXABA  AC        5588   0.623479  "
            ]
          },
          "execution_count": 8,
          "metadata": {},
          "output_type": "execute_result"
        }
      ],
      "source": [
        "#grade (write your code in this cell and DO NOT DELETE THIS LINE)\n",
        "casos.head(5)"
      ]
    },
    {
      "cell_type": "markdown",
      "metadata": {
        "id": "gIWQrO7Kp6Gn"
      },
      "source": [
        "## Exercício 1"
      ]
    },
    {
      "cell_type": "markdown",
      "metadata": {
        "id": "DQldKiwKtweR"
      },
      "source": [
        "**1a)** Faça uma regressão que tenha como única **variável independente** `bolsonaro`, que indica a proporção de votos que foi para o candidato Bolsonaro nas eleições de 2018 no respectivo município. Como **variável dependente**, utilize **casos**, que indica o número de casos de covid. Chame esse modelo de `regressao1`.\n",
        "\n",
        "Em seguida, forneça as duas respostas a seguir:\n",
        "\n",
        "*   Inspecione o coeficiente de bolsonaro e salve o valor na variável `coeficiente`. Utilize 2 casas decimais.\n",
        "*   Inspeciona o valor do intercepto e salve o valor na variável `intercepto`. Utilize 2 casas decimais.\n"
      ]
    },
    {
      "cell_type": "code",
      "execution_count": 9,
      "metadata": {
        "colab": {
          "base_uri": "https://localhost:8080/"
        },
        "id": "d0pMqYw930_1",
        "outputId": "bbbdad65-0644-475b-a7ed-4c3fa47aa8db"
      },
      "outputs": [
        {
          "data": {
            "text/plain": [
              "(0.0, 0.0)"
            ]
          },
          "execution_count": 9,
          "metadata": {},
          "output_type": "execute_result"
        }
      ],
      "source": [
        "#grade (write your code in this cell and DO NOT DELETE THIS LINE)\n",
        "\n",
        "coeficiente = 0.00\n",
        "intercepto = 0.00\n",
        "\n",
        "intercepto, coeficiente"
      ]
    },
    {
      "cell_type": "markdown",
      "metadata": {
        "id": "CMkx9Xi7yG0M"
      },
      "source": [
        "**1b)** Considere que o p valor do coeficiente de `bolsonaro` é **0.07**.\n",
        "\n",
        "Há significância estatística da variável **bolsonaro**?\n",
        "\n",
        "Responda atribuindo o valor \"sim\" ou \"nao\" como string à variável `significancia` abaixo."
      ]
    },
    {
      "cell_type": "code",
      "execution_count": 13,
      "metadata": {
        "id": "AyvarksbyQJd"
      },
      "outputs": [],
      "source": [
        "#grade (write your code in this cell and DO NOT DELETE THIS LINE)\n",
        "\n",
        "significancia = 'talvez'"
      ]
    },
    {
      "cell_type": "markdown",
      "metadata": {
        "id": "n6X-BV2Uw4RP"
      },
      "source": [
        "**1c)** Construa agora um segundo modelo de regressão que tenha como variável independente, além da variável `bolsonaro`, a variável `pib_per_capita`, que indica o pib per capita de 2018 no respectivo município. Salve esse segundo modelo na variável `regressao2`. Guarde o IC associado ao efeito do `pib_per_capita` nas variáveis `ic_min+pib` e `ic_max_pib`. Utilize 2 casas decimais."
      ]
    },
    {
      "cell_type": "code",
      "execution_count": 14,
      "metadata": {
        "id": "M7PrAPEtyaU1"
      },
      "outputs": [
        {
          "data": {
            "text/plain": [
              "(0.0, 0.0)"
            ]
          },
          "execution_count": 14,
          "metadata": {},
          "output_type": "execute_result"
        }
      ],
      "source": [
        "#grade (write your code in this cell and DO NOT DELETE THIS LINE)\n",
        "\n",
        "ic_min_pib = 0.00\n",
        "ic_max_pib = 0.00\n",
        "\n",
        "ic_min_pib, ic_max_pib"
      ]
    },
    {
      "cell_type": "markdown",
      "metadata": {
        "id": "QPKiTJa_LTXZ"
      },
      "source": [
        "**1d)** Calcule o R quadrado ajustado desse segundo modelo. Utilize 3 casas decimais"
      ]
    },
    {
      "cell_type": "code",
      "execution_count": 15,
      "metadata": {
        "colab": {
          "base_uri": "https://localhost:8080/"
        },
        "id": "hOHfZw3LLXpb",
        "outputId": "695976bc-920a-4c19-9c72-54f552bc52c1"
      },
      "outputs": [
        {
          "data": {
            "text/plain": [
              "1.0"
            ]
          },
          "execution_count": 15,
          "metadata": {},
          "output_type": "execute_result"
        }
      ],
      "source": [
        "#grade (write your code in this cell and DO NOT DELETE THIS LINE)\n",
        "\n",
        "r2_modelo2 = 1.00\n",
        "\n",
        "r2_modelo2"
      ]
    }
  ],
  "metadata": {
    "colab": {
      "provenance": []
    },
    "kernelspec": {
      "display_name": "Python 3",
      "name": "python3"
    },
    "language_info": {
      "codemirror_mode": {
        "name": "ipython",
        "version": 3
      },
      "file_extension": ".py",
      "mimetype": "text/x-python",
      "name": "python",
      "nbconvert_exporter": "python",
      "pygments_lexer": "ipython3",
      "version": "3.11.5"
    }
  },
  "nbformat": 4,
  "nbformat_minor": 0
}
