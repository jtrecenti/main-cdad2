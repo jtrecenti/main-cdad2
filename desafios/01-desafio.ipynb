{
 "cells": [
  {
   "cell_type": "markdown",
   "metadata": {},
   "source": [
    "# Desafio 01\n",
    "\n",
    "## Introdução\n",
    "\n",
    "Vamos trabalhar com um recorte do dataset das Câmaras Criminais, utilizado nas últimas aulas. O dicionário da base está disponível [aqui](https://docs.google.com/spreadsheets/d/1oVOKDH48As8jNaNpWkKqGgd-lKkUUwnnG0YyRre8P2Y/edit#gid=0).\n",
    "\n",
    "Para começar, vamos importar os pacotes e carregar a base de dados."
   ]
  },
  {
   "cell_type": "code",
   "execution_count": 1,
   "metadata": {},
   "outputs": [],
   "source": [
    "import pandas as pd\n",
    "import numpy as np\n",
    "\n",
    "camaras = pd.read_parquet('https://github.com/jtrecenti/main-cdad2/releases/download/data/da_camaras.parquet')"
   ]
  },
  {
   "cell_type": "markdown",
   "metadata": {},
   "source": [
    "## Exercício 1: Proporções, porcentagens, razões e taxas\n",
    "\n",
    "**1a)** Relacione cada fórmula com a variável correspondente, na forma de string, como se fosse escrever um código no python.\n",
    "\n",
    "Ex: fórmula de Pitágoras.\n",
    "\n",
    "Resposta:\n",
    "\n",
    "`pitagoras = 'frequencia / total_ocorrencias'`\n",
    "\n",
    "**Obs**: duas delas são sinônimos."
   ]
  },
  {
   "cell_type": "code",
   "execution_count": null,
   "metadata": {},
   "outputs": [],
   "source": [
    "#grade (write your code in this cell and DO NOT DELETE THIS LINE)\n",
    "\n",
    "taxa_por_mil = ''\n",
    "frequencia_relativa = ''\n",
    "razao = ''\n",
    "proporcao = ''"
   ]
  },
  {
   "cell_type": "markdown",
   "metadata": {},
   "source": [
    "**1b)** Calcule a frequência relativa de recursos negados dentre todos os recursos na base. Utilize 5 casas decimais."
   ]
  },
  {
   "cell_type": "code",
   "execution_count": null,
   "metadata": {},
   "outputs": [],
   "source": [
    "#grade (write your code in this cell and DO NOT DELETE THIS LINE)\n",
    "\n",
    "freq_relativa_negados = 0"
   ]
  },
  {
   "cell_type": "markdown",
   "metadata": {},
   "source": [
    "**1c)** Calcule a taxa de recursos por 100 mil habitantes na comarca de São José dos Campos. Utilize 2 casas decimais."
   ]
  },
  {
   "cell_type": "code",
   "execution_count": null,
   "metadata": {},
   "outputs": [],
   "source": [
    "#grade (write your code in this cell and DO NOT DELETE THIS LINE)\n",
    "\n",
    "taxa_sj_campos = 0"
   ]
  },
  {
   "cell_type": "markdown",
   "metadata": {},
   "source": [
    "## Exercício 2: aplicações"
   ]
  },
  {
   "cell_type": "markdown",
   "metadata": {},
   "source": [
    "**2a)** Qual é a câmara com maior proporção de recursos negados? Qual é essa proporção?\n",
    "\n",
    "- Considere apenas os recursos em que o Ministério Público está no polo passivo.\n",
    "- Considere apenas recursos que foram julgados no mérito (providos, parcialmente providos e negados).\n",
    "- Desconsidere as câmaras extraordinárias.\n",
    "- Utilize 5 casas decimais.\n"
   ]
  },
  {
   "cell_type": "code",
   "execution_count": null,
   "metadata": {},
   "outputs": [],
   "source": [
    "#grade (write your code in this cell and DO NOT DELETE THIS LINE)\n",
    "\n",
    "camara_mais_negados = ''\n",
    "prop_negados = 0"
   ]
  },
  {
   "cell_type": "markdown",
   "metadata": {},
   "source": [
    "**2b)** Identifique os quartis de 30%, 60% e 90% relativos às idades dos relatores. Utilize 2 casas decimais. Cuidado para não repetir as idades, já que cada relator aparece mais de uma vez na base."
   ]
  },
  {
   "cell_type": "code",
   "execution_count": null,
   "metadata": {},
   "outputs": [],
   "source": [
    "#grade (write your code in this cell and DO NOT DELETE THIS LINE)\n",
    "\n",
    "quartil_30 = 0\n",
    "quartil_60 = 0\n",
    "quartil_90 = 0"
   ]
  }
 ],
 "metadata": {
  "kernelspec": {
   "display_name": "base",
   "language": "python",
   "name": "python3"
  },
  "language_info": {
   "codemirror_mode": {
    "name": "ipython",
    "version": 3
   },
   "file_extension": ".py",
   "mimetype": "text/x-python",
   "name": "python",
   "nbconvert_exporter": "python",
   "pygments_lexer": "ipython3",
   "version": "3.11.5"
  }
 },
 "nbformat": 4,
 "nbformat_minor": 2
}
