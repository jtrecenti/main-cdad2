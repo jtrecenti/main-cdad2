{
 "cells": [
  {
   "cell_type": "markdown",
   "metadata": {},
   "source": [
    "# Desafio 01\n",
    "\n",
    "## Introdução\n",
    "\n",
    "Vamos trabalhar com um recorte do dataset das Câmaras Criminais, utilizado nas últimas aulas. O dicionário da base está disponível [aqui](https://docs.google.com/spreadsheets/d/1oVOKDH48As8jNaNpWkKqGgd-lKkUUwnnG0YyRre8P2Y/edit#gid=0).\n",
    "\n",
    "Para começar, vamos importar os pacotes e carregar a base de dados."
   ]
  },
  {
   "cell_type": "code",
   "execution_count": 4,
   "metadata": {},
   "outputs": [],
   "source": [
    "#grade (write your code in this cell and DO NOT DELETE THIS LINE)\n",
    "\n",
    "import pandas as pd\n",
    "import numpy as np\n",
    "\n",
    "camaras = pd.read_csv('https://github.com/jtrecenti/main-cdad2/releases/download/data/camaras.csv')"
   ]
  },
  {
   "cell_type": "markdown",
   "metadata": {},
   "source": [
    "## Exercício 1: Proporções, porcentagens, razões e taxas"
   ]
  },
  {
   "cell_type": "markdown",
   "metadata": {},
   "source": [
    "**1a)** Calcule a frequência relativa de recursos negados dentre todos os recursos na base. Utilize 5 casas decimais."
   ]
  },
  {
   "cell_type": "code",
   "execution_count": null,
   "metadata": {},
   "outputs": [],
   "source": [
    "#grade (write your code in this cell and DO NOT DELETE THIS LINE)\n",
    "\n",
    "freq_relativa_negados = 0"
   ]
  },
  {
   "cell_type": "markdown",
   "metadata": {},
   "source": [
    "**1b)** Calcule a taxa de recursos por 100 mil habitantes na comarca de São José dos Campos. Utilize 2 casas decimais. \n",
    "\n",
    "Considere que a população da comarca de São José dos Campos é de 701.192 habitantes."
   ]
  },
  {
   "cell_type": "code",
   "execution_count": null,
   "metadata": {},
   "outputs": [],
   "source": [
    "#grade (write your code in this cell and DO NOT DELETE THIS LINE)\n",
    "\n",
    "taxa_sj_campos = 0"
   ]
  },
  {
   "cell_type": "markdown",
   "metadata": {},
   "source": [
    "## Exercício 2: aplicações"
   ]
  },
  {
   "cell_type": "markdown",
   "metadata": {},
   "source": [
    "**2a)** Qual é a câmara com maior proporção de recursos negados? \n",
    "\n",
    "- Considere apenas os recursos em que o Ministério Público está no polo passivo.\n",
    "- Considere apenas recursos que foram julgados no mérito (providos, parcialmente providos e negados).\n",
    "- Desconsidere as câmaras extraordinárias.\n",
    "- Utilize 5 casas decimais."
   ]
  },
  {
   "cell_type": "code",
   "execution_count": null,
   "metadata": {},
   "outputs": [],
   "source": [
    "#grade (write your code in this cell and DO NOT DELETE THIS LINE)\n",
    "\n",
    "# variáveis importantes\n",
    "camaras['extraord'] = camaras['camara'].str.contains('Extraord')\n",
    "camaras['negado'] = camaras['decisao'] == 'Negaram'\n",
    "\n",
    "# filtros aplicáveis\n",
    "camaras_filtrado = camaras[\n",
    "  (~camaras['extraord']) &\n",
    "  (camaras['polo_mp'] == 'Passivo') &\n",
    "  (camaras['decisao'].isin(['Negaram', 'Parcialmente', 'Provido']))\n",
    "]"
   ]
  },
  {
   "cell_type": "code",
   "execution_count": null,
   "metadata": {},
   "outputs": [],
   "source": [
    "#grade (write your code in this cell and DO NOT DELETE THIS LINE)\n",
    "\n",
    "camara_mais_negados = ''\n"
   ]
  },
  {
   "cell_type": "markdown",
   "metadata": {},
   "source": [
    "**2b)** Qual é a proporção de recursos negados identificada no exercício (2a)?"
   ]
  },
  {
   "cell_type": "code",
   "execution_count": null,
   "metadata": {},
   "outputs": [],
   "source": [
    "#grade (write your code in this cell and DO NOT DELETE THIS LINE)\n",
    "\n",
    "prop_negados = 0"
   ]
  },
  {
   "cell_type": "markdown",
   "metadata": {},
   "source": [
    "**2c)** Identifique os quartis de 30%, 60% e 90% relativos às idades dos relatores. Utilize 2 casas decimais. Cuidado para não repetir as idades, já que cada relator aparece mais de uma vez na base."
   ]
  },
  {
   "cell_type": "code",
   "execution_count": null,
   "metadata": {},
   "outputs": [],
   "source": [
    "#grade (write your code in this cell and DO NOT DELETE THIS LINE)\n",
    "\n",
    "quartil_30 = 0\n",
    "quartil_60 = 0\n",
    "quartil_90 = 0"
   ]
  }
 ],
 "metadata": {
  "kernelspec": {
   "display_name": "base",
   "language": "python",
   "name": "python3"
  },
  "language_info": {
   "codemirror_mode": {
    "name": "ipython",
    "version": 3
   },
   "file_extension": ".py",
   "mimetype": "text/x-python",
   "name": "python",
   "nbconvert_exporter": "python",
   "pygments_lexer": "ipython3",
   "version": "3.11.5"
  }
 },
 "nbformat": 4,
 "nbformat_minor": 2
}
