{
  "cells": [
    {
      "cell_type": "markdown",
      "metadata": {
        "id": "uH7r7Mw7lGHD"
      },
      "source": [
        "## Desafio 06 -- final\n",
        "\n",
        "Antes de mais nada, vamos importar os pacotes necessários"
      ]
    },
    {
      "cell_type": "code",
      "execution_count": 2,
      "metadata": {
        "id": "x0kgirz9kz2E"
      },
      "outputs": [],
      "source": [
        "#grade (write your code in this cell and DO NOT DELETE THIS LINE)\n",
        "\n",
        "import pandas as pd\n",
        "import numpy as np\n",
        "import seaborn as sns\n",
        "from scipy import stats\n",
        "import statsmodels.formula.api as smf"
      ]
    },
    {
      "cell_type": "markdown",
      "metadata": {
        "id": "GNiItIkYp15s"
      },
      "source": [
        "## Introdução"
      ]
    },
    {
      "cell_type": "markdown",
      "metadata": {
        "id": "wv7phUoZoQ_z"
      },
      "source": [
        "Para esse desafio, vamos fazer um projeto de ciência de dados completo, contendo todas as etapas que aprendemos, incluindo: importação, limpeza, visualização, modelagem. Vamos utilizar a base de dados do Datajud, retirada do painel de estatísticas do poder judiciário. O dicionário da base pode ser encontrado [neste link](https://www.cnj.jus.br/sistemas/datajud/parametrizacao/)."
      ]
    },
    {
      "cell_type": "code",
      "execution_count": 3,
      "metadata": {
        "id": "zQatv7n4oAHg"
      },
      "outputs": [
        {
          "data": {
            "text/html": [
              "<div>\n",
              "<style scoped>\n",
              "    .dataframe tbody tr th:only-of-type {\n",
              "        vertical-align: middle;\n",
              "    }\n",
              "\n",
              "    .dataframe tbody tr th {\n",
              "        vertical-align: top;\n",
              "    }\n",
              "\n",
              "    .dataframe thead th {\n",
              "        text-align: right;\n",
              "    }\n",
              "</style>\n",
              "<table border=\"1\" class=\"dataframe\">\n",
              "  <thead>\n",
              "    <tr style=\"text-align: right;\">\n",
              "      <th></th>\n",
              "      <th>Tribunal</th>\n",
              "      <th>Codigo orgao</th>\n",
              "      <th>Municipio</th>\n",
              "      <th>UF</th>\n",
              "      <th>Nome orgao</th>\n",
              "      <th>Grau</th>\n",
              "      <th>CP_Jan_2023</th>\n",
              "      <th>CP_Jan_2024</th>\n",
              "      <th>%CP</th>\n",
              "      <th>Sus_Jan_2023</th>\n",
              "      <th>...</th>\n",
              "      <th>DecInc_12_meses</th>\n",
              "      <th>SentCM_12_meses</th>\n",
              "      <th>SentSM_12_meses</th>\n",
              "      <th>ProcSM100_Jan_2024</th>\n",
              "      <th>Conc100_Jan_2024</th>\n",
              "      <th>TPSent_12_meses</th>\n",
              "      <th>TPCPL_Jan_2024</th>\n",
              "      <th>TCL_Jan_2024</th>\n",
              "      <th>IAD_12_meses</th>\n",
              "      <th>IAD</th>\n",
              "    </tr>\n",
              "  </thead>\n",
              "  <tbody>\n",
              "    <tr>\n",
              "      <th>0</th>\n",
              "      <td>TJCE</td>\n",
              "      <td>8411</td>\n",
              "      <td>CRATEUS</td>\n",
              "      <td>CE</td>\n",
              "      <td>2VARA DA COMARCA DE CRATEUS</td>\n",
              "      <td>G1</td>\n",
              "      <td>7.0</td>\n",
              "      <td>5.0</td>\n",
              "      <td>-28,6%</td>\n",
              "      <td>1.0</td>\n",
              "      <td>...</td>\n",
              "      <td>0.0</td>\n",
              "      <td>0.0</td>\n",
              "      <td>0.0</td>\n",
              "      <td>3.0</td>\n",
              "      <td>1.0</td>\n",
              "      <td>NaN</td>\n",
              "      <td>20 anos</td>\n",
              "      <td>60%</td>\n",
              "      <td>NaN</td>\n",
              "      <td>NaN</td>\n",
              "    </tr>\n",
              "    <tr>\n",
              "      <th>1</th>\n",
              "      <td>TJCE</td>\n",
              "      <td>50913</td>\n",
              "      <td>FORTALEZA</td>\n",
              "      <td>CE</td>\n",
              "      <td>1CAMARA CIVEL</td>\n",
              "      <td>G2</td>\n",
              "      <td>10.0</td>\n",
              "      <td>10.0</td>\n",
              "      <td>0,0%</td>\n",
              "      <td>4.0</td>\n",
              "      <td>...</td>\n",
              "      <td>0.0</td>\n",
              "      <td>0.0</td>\n",
              "      <td>0.0</td>\n",
              "      <td>0.0</td>\n",
              "      <td>7.0</td>\n",
              "      <td>NaN</td>\n",
              "      <td>19 anos e 8 meses</td>\n",
              "      <td>100%</td>\n",
              "      <td>NaN</td>\n",
              "      <td>NaN</td>\n",
              "    </tr>\n",
              "    <tr>\n",
              "      <th>2</th>\n",
              "      <td>TJCE</td>\n",
              "      <td>8727</td>\n",
              "      <td>TIANGUA</td>\n",
              "      <td>CE</td>\n",
              "      <td>2VARA DA COMARCA DE TIANGUA</td>\n",
              "      <td>G1</td>\n",
              "      <td>2.0</td>\n",
              "      <td>2.0</td>\n",
              "      <td>0,0%</td>\n",
              "      <td>0.0</td>\n",
              "      <td>...</td>\n",
              "      <td>0.0</td>\n",
              "      <td>0.0</td>\n",
              "      <td>0.0</td>\n",
              "      <td>0.0</td>\n",
              "      <td>2.0</td>\n",
              "      <td>NaN</td>\n",
              "      <td>19 anos</td>\n",
              "      <td>100%</td>\n",
              "      <td>NaN</td>\n",
              "      <td>NaN</td>\n",
              "    </tr>\n",
              "    <tr>\n",
              "      <th>3</th>\n",
              "      <td>TJCE</td>\n",
              "      <td>50917</td>\n",
              "      <td>FORTALEZA</td>\n",
              "      <td>CE</td>\n",
              "      <td>5CAMARA CIVEL</td>\n",
              "      <td>G2</td>\n",
              "      <td>6.0</td>\n",
              "      <td>5.0</td>\n",
              "      <td>-16,7%</td>\n",
              "      <td>4.0</td>\n",
              "      <td>...</td>\n",
              "      <td>1.0</td>\n",
              "      <td>0.0</td>\n",
              "      <td>0.0</td>\n",
              "      <td>1.0</td>\n",
              "      <td>6.0</td>\n",
              "      <td>NaN</td>\n",
              "      <td>19 anos</td>\n",
              "      <td>67%</td>\n",
              "      <td>NaN</td>\n",
              "      <td>NaN</td>\n",
              "    </tr>\n",
              "    <tr>\n",
              "      <th>4</th>\n",
              "      <td>TJCE</td>\n",
              "      <td>50923</td>\n",
              "      <td>FORTALEZA</td>\n",
              "      <td>CE</td>\n",
              "      <td>CAMARAS CIVEIS REUNIDAS</td>\n",
              "      <td>G2</td>\n",
              "      <td>1.0</td>\n",
              "      <td>1.0</td>\n",
              "      <td>0,0%</td>\n",
              "      <td>0.0</td>\n",
              "      <td>...</td>\n",
              "      <td>0.0</td>\n",
              "      <td>0.0</td>\n",
              "      <td>0.0</td>\n",
              "      <td>0.0</td>\n",
              "      <td>1.0</td>\n",
              "      <td>NaN</td>\n",
              "      <td>18 anos e 8 meses</td>\n",
              "      <td>100%</td>\n",
              "      <td>NaN</td>\n",
              "      <td>NaN</td>\n",
              "    </tr>\n",
              "    <tr>\n",
              "      <th>5</th>\n",
              "      <td>TJCE</td>\n",
              "      <td>8468</td>\n",
              "      <td>BEBERIBE</td>\n",
              "      <td>CE</td>\n",
              "      <td>VARA UNICA DA COMARCA DE BEBERIBE</td>\n",
              "      <td>G1</td>\n",
              "      <td>2.0</td>\n",
              "      <td>1.0</td>\n",
              "      <td>-50,0%</td>\n",
              "      <td>0.0</td>\n",
              "      <td>...</td>\n",
              "      <td>0.0</td>\n",
              "      <td>0.0</td>\n",
              "      <td>0.0</td>\n",
              "      <td>1.0</td>\n",
              "      <td>0.0</td>\n",
              "      <td>NaN</td>\n",
              "      <td>17 anos e 6 meses</td>\n",
              "      <td>50%</td>\n",
              "      <td>NaN</td>\n",
              "      <td>NaN</td>\n",
              "    </tr>\n",
              "    <tr>\n",
              "      <th>6</th>\n",
              "      <td>TJCE</td>\n",
              "      <td>50926</td>\n",
              "      <td>FORTALEZA</td>\n",
              "      <td>CE</td>\n",
              "      <td>TRIBUNAL PLENO</td>\n",
              "      <td>G2</td>\n",
              "      <td>25.0</td>\n",
              "      <td>8.0</td>\n",
              "      <td>-68,0%</td>\n",
              "      <td>10.0</td>\n",
              "      <td>...</td>\n",
              "      <td>0.0</td>\n",
              "      <td>0.0</td>\n",
              "      <td>0.0</td>\n",
              "      <td>1.0</td>\n",
              "      <td>13.0</td>\n",
              "      <td>NaN</td>\n",
              "      <td>17 anos e 3 meses</td>\n",
              "      <td>100%</td>\n",
              "      <td>NaN</td>\n",
              "      <td>NaN</td>\n",
              "    </tr>\n",
              "    <tr>\n",
              "      <th>7</th>\n",
              "      <td>TJCE</td>\n",
              "      <td>50914</td>\n",
              "      <td>FORTALEZA</td>\n",
              "      <td>CE</td>\n",
              "      <td>2CAMARA CIVEL</td>\n",
              "      <td>G2</td>\n",
              "      <td>9.0</td>\n",
              "      <td>8.0</td>\n",
              "      <td>-11,1%</td>\n",
              "      <td>2.0</td>\n",
              "      <td>...</td>\n",
              "      <td>0.0</td>\n",
              "      <td>0.0</td>\n",
              "      <td>0.0</td>\n",
              "      <td>4.0</td>\n",
              "      <td>5.0</td>\n",
              "      <td>NaN</td>\n",
              "      <td>15 anos e 10 meses</td>\n",
              "      <td>100%</td>\n",
              "      <td>NaN</td>\n",
              "      <td>NaN</td>\n",
              "    </tr>\n",
              "    <tr>\n",
              "      <th>8</th>\n",
              "      <td>TJCE</td>\n",
              "      <td>17223</td>\n",
              "      <td>FORTALEZA</td>\n",
              "      <td>CE</td>\n",
              "      <td>VARA UNICA DE TRANSITO DA COMARCA DE FORTALEZA</td>\n",
              "      <td>G1</td>\n",
              "      <td>4.0</td>\n",
              "      <td>4.0</td>\n",
              "      <td>0,0%</td>\n",
              "      <td>0.0</td>\n",
              "      <td>...</td>\n",
              "      <td>0.0</td>\n",
              "      <td>0.0</td>\n",
              "      <td>0.0</td>\n",
              "      <td>4.0</td>\n",
              "      <td>0.0</td>\n",
              "      <td>NaN</td>\n",
              "      <td>15 anos e 8 meses</td>\n",
              "      <td>100%</td>\n",
              "      <td>NaN</td>\n",
              "      <td>NaN</td>\n",
              "    </tr>\n",
              "    <tr>\n",
              "      <th>9</th>\n",
              "      <td>TJCE</td>\n",
              "      <td>50915</td>\n",
              "      <td>FORTALEZA</td>\n",
              "      <td>CE</td>\n",
              "      <td>3CAMARA CIVEL</td>\n",
              "      <td>G2</td>\n",
              "      <td>8.0</td>\n",
              "      <td>5.0</td>\n",
              "      <td>-37,5%</td>\n",
              "      <td>2.0</td>\n",
              "      <td>...</td>\n",
              "      <td>0.0</td>\n",
              "      <td>0.0</td>\n",
              "      <td>1.0</td>\n",
              "      <td>2.0</td>\n",
              "      <td>8.0</td>\n",
              "      <td>NaN</td>\n",
              "      <td>15 anos e 3 meses</td>\n",
              "      <td>67%</td>\n",
              "      <td>NaN</td>\n",
              "      <td>NaN</td>\n",
              "    </tr>\n",
              "  </tbody>\n",
              "</table>\n",
              "<p>10 rows × 25 columns</p>\n",
              "</div>"
            ],
            "text/plain": [
              "  Tribunal  Codigo orgao  Municipio  UF  \\\n",
              "0     TJCE          8411    CRATEUS  CE   \n",
              "1     TJCE         50913  FORTALEZA  CE   \n",
              "2     TJCE          8727    TIANGUA  CE   \n",
              "3     TJCE         50917  FORTALEZA  CE   \n",
              "4     TJCE         50923  FORTALEZA  CE   \n",
              "5     TJCE          8468   BEBERIBE  CE   \n",
              "6     TJCE         50926  FORTALEZA  CE   \n",
              "7     TJCE         50914  FORTALEZA  CE   \n",
              "8     TJCE         17223  FORTALEZA  CE   \n",
              "9     TJCE         50915  FORTALEZA  CE   \n",
              "\n",
              "                                       Nome orgao Grau  CP_Jan_2023  \\\n",
              "0                     2VARA DA COMARCA DE CRATEUS   G1          7.0   \n",
              "1                                   1CAMARA CIVEL   G2         10.0   \n",
              "2                     2VARA DA COMARCA DE TIANGUA   G1          2.0   \n",
              "3                                   5CAMARA CIVEL   G2          6.0   \n",
              "4                         CAMARAS CIVEIS REUNIDAS   G2          1.0   \n",
              "5               VARA UNICA DA COMARCA DE BEBERIBE   G1          2.0   \n",
              "6                                  TRIBUNAL PLENO   G2         25.0   \n",
              "7                                   2CAMARA CIVEL   G2          9.0   \n",
              "8  VARA UNICA DE TRANSITO DA COMARCA DE FORTALEZA   G1          4.0   \n",
              "9                                   3CAMARA CIVEL   G2          8.0   \n",
              "\n",
              "   CP_Jan_2024     %CP  Sus_Jan_2023  ...  DecInc_12_meses SentCM_12_meses  \\\n",
              "0          5.0  -28,6%           1.0  ...              0.0             0.0   \n",
              "1         10.0    0,0%           4.0  ...              0.0             0.0   \n",
              "2          2.0    0,0%           0.0  ...              0.0             0.0   \n",
              "3          5.0  -16,7%           4.0  ...              1.0             0.0   \n",
              "4          1.0    0,0%           0.0  ...              0.0             0.0   \n",
              "5          1.0  -50,0%           0.0  ...              0.0             0.0   \n",
              "6          8.0  -68,0%          10.0  ...              0.0             0.0   \n",
              "7          8.0  -11,1%           2.0  ...              0.0             0.0   \n",
              "8          4.0    0,0%           0.0  ...              0.0             0.0   \n",
              "9          5.0  -37,5%           2.0  ...              0.0             0.0   \n",
              "\n",
              "   SentSM_12_meses  ProcSM100_Jan_2024  Conc100_Jan_2024  TPSent_12_meses  \\\n",
              "0              0.0                 3.0               1.0              NaN   \n",
              "1              0.0                 0.0               7.0              NaN   \n",
              "2              0.0                 0.0               2.0              NaN   \n",
              "3              0.0                 1.0               6.0              NaN   \n",
              "4              0.0                 0.0               1.0              NaN   \n",
              "5              0.0                 1.0               0.0              NaN   \n",
              "6              0.0                 1.0              13.0              NaN   \n",
              "7              0.0                 4.0               5.0              NaN   \n",
              "8              0.0                 4.0               0.0              NaN   \n",
              "9              1.0                 2.0               8.0              NaN   \n",
              "\n",
              "       TPCPL_Jan_2024  TCL_Jan_2024  IAD_12_meses  IAD  \n",
              "0             20 anos           60%           NaN  NaN  \n",
              "1   19 anos e 8 meses          100%           NaN  NaN  \n",
              "2             19 anos          100%           NaN  NaN  \n",
              "3             19 anos           67%           NaN  NaN  \n",
              "4   18 anos e 8 meses          100%           NaN  NaN  \n",
              "5   17 anos e 6 meses           50%           NaN  NaN  \n",
              "6   17 anos e 3 meses          100%           NaN  NaN  \n",
              "7  15 anos e 10 meses          100%           NaN  NaN  \n",
              "8   15 anos e 8 meses          100%           NaN  NaN  \n",
              "9   15 anos e 3 meses           67%           NaN  NaN  \n",
              "\n",
              "[10 rows x 25 columns]"
            ]
          },
          "execution_count": 3,
          "metadata": {},
          "output_type": "execute_result"
        }
      ],
      "source": [
        "#grade (write your code in this cell and DO NOT DELETE THIS LINE)\n",
        "\n",
        "df = pd.read_csv(\n",
        "  \"https://github.com/jtrecenti/main-cdad2/releases/download/data/TJCE_tbl_correg.csv\",\n",
        "  sep=';', encoding='latin1'\n",
        ")\n",
        "\n",
        "# arrumando o IAD\n",
        "df.loc[:,'IAD'] = (\n",
        "  df['IAD_12_meses']\n",
        "  .str.replace(',', '.')\n",
        "  .str.rstrip('%')\n",
        "  .astype(float)\n",
        ")\n",
        "\n",
        "df.head(10)\n"
      ]
    },
    {
      "cell_type": "code",
      "execution_count": 4,
      "metadata": {},
      "outputs": [
        {
          "name": "stdout",
          "output_type": "stream",
          "text": [
            "<class 'pandas.core.frame.DataFrame'>\n",
            "RangeIndex: 737 entries, 0 to 736\n",
            "Data columns (total 25 columns):\n",
            " #   Column              Non-Null Count  Dtype  \n",
            "---  ------              --------------  -----  \n",
            " 0   Tribunal            737 non-null    object \n",
            " 1   Codigo orgao        737 non-null    int64  \n",
            " 2   Municipio           736 non-null    object \n",
            " 3   UF                  736 non-null    object \n",
            " 4   Nome orgao          737 non-null    object \n",
            " 5   Grau                737 non-null    object \n",
            " 6   CP_Jan_2023         737 non-null    float64\n",
            " 7   CP_Jan_2024         737 non-null    float64\n",
            " 8   %CP                 658 non-null    object \n",
            " 9   Sus_Jan_2023        737 non-null    float64\n",
            " 10  Sus_Jan_2024        737 non-null    float64\n",
            " 11  %Sus                509 non-null    object \n",
            " 12  CN_12_meses         737 non-null    float64\n",
            " 13  Tbaix_12_meses      737 non-null    float64\n",
            " 14  Desp_12_meses       737 non-null    float64\n",
            " 15  DecInc_12_meses     737 non-null    float64\n",
            " 16  SentCM_12_meses     737 non-null    float64\n",
            " 17  SentSM_12_meses     737 non-null    float64\n",
            " 18  ProcSM100_Jan_2024  737 non-null    float64\n",
            " 19  Conc100_Jan_2024    737 non-null    float64\n",
            " 20  TPSent_12_meses     487 non-null    object \n",
            " 21  TPCPL_Jan_2024      658 non-null    object \n",
            " 22  TCL_Jan_2024        669 non-null    object \n",
            " 23  IAD_12_meses        515 non-null    object \n",
            " 24  IAD                 515 non-null    float64\n",
            "dtypes: float64(13), int64(1), object(11)\n",
            "memory usage: 144.1+ KB\n"
          ]
        }
      ],
      "source": [
        "#grade (write your code in this cell and DO NOT DELETE THIS LINE)\n",
        "\n",
        "df.info()"
      ]
    },
    {
      "cell_type": "markdown",
      "metadata": {},
      "source": [
        "1a) Qual é razão entre a quantidade de casos novos dos últimos 12 meses comparando o primeiro e o segundo grau? Ou seja, quantos casos novos de primeiro grau temos para cada caso novo no segundo grau? Utilize duas casas decimais."
      ]
    },
    {
      "cell_type": "code",
      "execution_count": 5,
      "metadata": {},
      "outputs": [],
      "source": [
        "#grade (write your code in this cell and DO NOT DELETE THIS LINE)\n",
        "\n",
        "\n",
        "razao = 0\n"
      ]
    },
    {
      "cell_type": "markdown",
      "metadata": {},
      "source": [
        "1b) Faça um gráfico de dispersão da quantidade de casos baixados explicada pela quantidade de casos novos dos últimos 12 meses. "
      ]
    },
    {
      "cell_type": "code",
      "execution_count": 6,
      "metadata": {},
      "outputs": [],
      "source": [
        "#grade (write your code in this cell and DO NOT DELETE THIS LINE)\n",
        "\n",
        "grafico = 0\n"
      ]
    },
    {
      "cell_type": "markdown",
      "metadata": {},
      "source": [
        "1c) Qual a correlação entre as variáveis de (1b)? Utilize três casas decimais."
      ]
    },
    {
      "cell_type": "code",
      "execution_count": 7,
      "metadata": {},
      "outputs": [],
      "source": [
        "#grade (write your code in this cell and DO NOT DELETE THIS LINE)\n",
        "\n",
        "cor = 0\n"
      ]
    },
    {
      "cell_type": "markdown",
      "metadata": {},
      "source": [
        "1d) O que acontece com a correlação ao retirar os valores menores ou iguais a 10 de ambas as variáveis? Utilize três casas decimais."
      ]
    },
    {
      "cell_type": "code",
      "execution_count": 14,
      "metadata": {},
      "outputs": [
        {
          "data": {
            "text/plain": [
              "0.637"
            ]
          },
          "execution_count": 14,
          "metadata": {},
          "output_type": "execute_result"
        }
      ],
      "source": [
        "#grade (write your code in this cell and DO NOT DELETE THIS LINE)\n",
        "\n",
        "cor_filtrado = 0"
      ]
    },
    {
      "cell_type": "markdown",
      "metadata": {},
      "source": [
        "1e) Obtenha os dados de todas as varas cíveis da capital do estado. Qual é a média de casos novos dos últimos 12 meses? Utilize duas casas decimais."
      ]
    },
    {
      "cell_type": "code",
      "execution_count": 15,
      "metadata": {},
      "outputs": [
        {
          "data": {
            "text/plain": [
              "226.25"
            ]
          },
          "execution_count": 15,
          "metadata": {},
          "output_type": "execute_result"
        }
      ],
      "source": [
        "#grade (write your code in this cell and DO NOT DELETE THIS LINE)\n",
        "\n",
        "media = 0"
      ]
    },
    {
      "cell_type": "markdown",
      "metadata": {},
      "source": [
        "1f) Quantos casos novos você esperaria ter em uma vara cível no próximo mês? Faça um intervalo de confiança com nível de confiança de 98% de confiança. Utilize uma casa decimal."
      ]
    },
    {
      "cell_type": "code",
      "execution_count": 8,
      "metadata": {},
      "outputs": [
        {
          "data": {
            "text/plain": [
              "(0, 0)"
            ]
          },
          "execution_count": 8,
          "metadata": {},
          "output_type": "execute_result"
        }
      ],
      "source": [
        "#grade (write your code in this cell and DO NOT DELETE THIS LINE)\n",
        "\n",
        "ic_min = 0\n",
        "ic_max = 0\n",
        "\n",
        "ic_min, ic_max"
      ]
    },
    {
      "cell_type": "markdown",
      "metadata": {},
      "source": [
        "1g) Faça um modelo de regressão linear para prever a quantidade de casos baixados a partir da quantidade de casos novos nos últimos 12 meses, o IAD (arrumado) e a quantidade de casos pendentes em janeiro de 2024. O modelo deve considerar apenas o primeiro grau. A partir da equação ajustada do modelo, qual seria a previsão de casos baixados no ano para uma vara cível com 100 casos novos, 50 casos pendentes e iad de 0.8?"
      ]
    },
    {
      "cell_type": "code",
      "execution_count": 63,
      "metadata": {},
      "outputs": [
        {
          "data": {
            "text/plain": [
              "194.32"
            ]
          },
          "execution_count": 63,
          "metadata": {},
          "output_type": "execute_result"
        }
      ],
      "source": [
        "#grade (write your code in this cell and DO NOT DELETE THIS LINE)\n",
        "\n",
        "previsao = 0"
      ]
    }
  ],
  "metadata": {
    "colab": {
      "provenance": []
    },
    "kernelspec": {
      "display_name": "Python 3",
      "name": "python3"
    },
    "language_info": {
      "codemirror_mode": {
        "name": "ipython",
        "version": 3
      },
      "file_extension": ".py",
      "mimetype": "text/x-python",
      "name": "python",
      "nbconvert_exporter": "python",
      "pygments_lexer": "ipython3",
      "version": "3.11.5"
    }
  },
  "nbformat": 4,
  "nbformat_minor": 0
}
