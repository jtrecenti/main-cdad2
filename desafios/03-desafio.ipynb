{
 "cells": [
  {
   "cell_type": "markdown",
   "metadata": {},
   "source": [
    "# Desafio 03: Amostras, populações, probabilidade e curva normal\n",
    "\n",
    "## Introdução\n",
    "\n",
    "Vamos trabalhar com um recorte do dataset das Câmaras Criminais, utilizado nas últimas aulas. O dicionário da base está disponível [aqui](https://docs.google.com/spreadsheets/d/1oVOKDH48As8jNaNpWkKqGgd-lKkUUwnnG0YyRre8P2Y/edit#gid=0)."
   ]
  },
  {
   "cell_type": "code",
   "execution_count": 66,
   "metadata": {},
   "outputs": [],
   "source": [
    "#grade (write your code in this cell and DO NOT DELETE THIS LINE)\n",
    "\n",
    "import pandas as pd\n",
    "import numpy as np\n",
    "from scipy.stats import norm\n",
    "\n",
    "camaras = pd.read_csv('https://github.com/jtrecenti/main-cdad2/releases/download/data/camaras.csv')"
   ]
  },
  {
   "cell_type": "markdown",
   "metadata": {},
   "source": [
    "**1)** Estou querendo fazer uma pesquisa sobre a proporção de recursos negados em processos relacionados a furtos.\n",
    "\n",
    "Tenho um orçamento de R$ 2.000,00. Tenho duas alternativas para conduzir a pesquisa:\n",
    "\n",
    "- Posso contratar uma pessoa pesquisadora para analisar os processos, que cobra R$ 10,00 por processo analisado.\n",
    "- Posso contratar uma pessoa programadora para escrever um código que extraia os dados do processo usando o GPT-4, que cobra R$ 5,00 por processo analisado e R$ 800,00 para escrever o código.\n",
    "\n",
    "A qualidade dos dados extraídos pelas duas estratégias é a mesma.\n",
    "\n",
    "Conversei com uma amiga da estatística (que me atendeu gratuitamente!), e ela me disse que para ter um **erro de até 5%** e um nível de confiança de 95%, eu preciso de uma amostra de 385 processos.\n",
    "\n",
    "Considerando meu orçamento e a recomendação da pessoa da estatística:\n",
    "\n",
    "\n",
    "**1a)** qual é a melhor estratégia? A melhor estratégia é uma das opções: 'programadora' ou 'pesquisadora'. "
   ]
  },
  {
   "cell_type": "code",
   "execution_count": 67,
   "metadata": {},
   "outputs": [],
   "source": [
    "#grade (write your code in this cell and DO NOT DELETE THIS LINE)\n",
    "\n",
    "melhor_estrategia = ''"
   ]
  },
  {
   "cell_type": "markdown",
   "metadata": {},
   "source": [
    "**1b)** Quantos casos eu vou acabar analisando? A quantidade de processos analisados é um número inteiro."
   ]
  },
  {
   "cell_type": "code",
   "execution_count": 68,
   "metadata": {},
   "outputs": [],
   "source": [
    "#grade (write your code in this cell and DO NOT DELETE THIS LINE)\n",
    "\n",
    "qtd_amostra = 1"
   ]
  },
  {
   "cell_type": "markdown",
   "metadata": {},
   "source": [
    "**1c)** Ao analisar os resultados da pesquisa, você espera encontrar um erro maior ou menor do que a sua amiga estatística afirmou? Responda com 'maior' ou 'menor'."
   ]
  },
  {
   "cell_type": "code",
   "execution_count": 69,
   "metadata": {},
   "outputs": [],
   "source": [
    "#grade (write your code in this cell and DO NOT DELETE THIS LINE)\n",
    "\n",
    "erro_maior_menor = ''"
   ]
  },
  {
   "cell_type": "markdown",
   "metadata": {},
   "source": [
    "**1d)** Considere a base de furtos abaixo:"
   ]
  },
  {
   "cell_type": "code",
   "execution_count": 70,
   "metadata": {},
   "outputs": [],
   "source": [
    "#grade (write your code in this cell and DO NOT DELETE THIS LINE)\n",
    "\n",
    "furtos = camaras[camaras.assunto.str.contains('Furto')]"
   ]
  },
  {
   "cell_type": "markdown",
   "metadata": {},
   "source": [
    "Qual é a proporção de recursos negados nessa base de dados? Não coloque em percentual e utilize 2 casas decimais. "
   ]
  },
  {
   "cell_type": "code",
   "execution_count": 71,
   "metadata": {},
   "outputs": [],
   "source": [
    "#grade (write your code in this cell and DO NOT DELETE THIS LINE)\n",
    "\n",
    "negados_furto = 0"
   ]
  },
  {
   "cell_type": "markdown",
   "metadata": {},
   "source": [
    "**1e)** Faça uma amostra de `qtd_amostra` processos, onde `qtd_amostra` é a quantidade de processos que você respondeu na questão 1b:"
   ]
  },
  {
   "cell_type": "code",
   "execution_count": 72,
   "metadata": {},
   "outputs": [],
   "source": [
    "#grade (write your code in this cell and DO NOT DELETE THIS LINE)\n",
    "\n",
    "## Obs: não mude o random state\n",
    "\n",
    "furtos_amostra = furtos.sample(int(qtd_amostra), random_state=2)"
   ]
  },
  {
   "cell_type": "markdown",
   "metadata": {},
   "source": [
    "**Pergunta:** Qual é proporção de negados nessa amostra? Não coloque em percentual e utilize 2 casas decimais."
   ]
  },
  {
   "cell_type": "code",
   "execution_count": 73,
   "metadata": {},
   "outputs": [
    {
     "data": {
      "text/plain": [
       "0.0"
      ]
     },
     "execution_count": 73,
     "metadata": {},
     "output_type": "execute_result"
    }
   ],
   "source": [
    "#grade (write your code in this cell and DO NOT DELETE THIS LINE)\n",
    "\n",
    "negados_furto_amostra = (furtos_amostra.decisao == 'Negaram').mean()\n",
    "negados_furto_amostra"
   ]
  },
  {
   "cell_type": "markdown",
   "metadata": {},
   "source": [
    "**1f)** Utilizando o TCL, podemos fazer um intervalo de confiança para a proporção de recursos negados na população. Utilize a fórmula do intervalo de confiança com 95% de confiança abaixo.\n",
    "\n",
    "**Obs1**: esta é uma adaptação do intervalo de confiança tradicional, aplicado a proporções\n",
    "\n",
    "**Obs2**: antes de resolver as questões 1d e 1e, esses números ficam obviamente errados, porque consideram que a proporção amostral é zero e o tamanho de amostra é 1.\n"
   ]
  },
  {
   "cell_type": "code",
   "execution_count": 74,
   "metadata": {},
   "outputs": [
    {
     "data": {
      "text/plain": [
       "(-0.979981992270027, 0.979981992270027)"
      ]
     },
     "execution_count": 74,
     "metadata": {},
     "output_type": "execute_result"
    }
   ],
   "source": [
    "#grade (write your code in this cell and DO NOT DELETE THIS LINE)\n",
    "\n",
    "z = norm.ppf(0.975)\n",
    "\n",
    "ic_min = negados_furto_amostra - z / 2 / np.sqrt(qtd_amostra)\n",
    "ic_max = negados_furto_amostra + z / 2 / np.sqrt(qtd_amostra)\n",
    "\n",
    "ic_min, ic_max"
   ]
  },
  {
   "cell_type": "markdown",
   "metadata": {},
   "source": [
    "**Pergunta:** O intervalo de confiança contém o valor da proporção de recursos negados na população? Responda com 'sim' ou 'não'."
   ]
  },
  {
   "cell_type": "code",
   "execution_count": 75,
   "metadata": {},
   "outputs": [],
   "source": [
    "#grade (write your code in this cell and DO NOT DELETE THIS LINE)\n",
    "\n",
    "prop_contida_no_ic = ''"
   ]
  }
 ],
 "metadata": {
  "kernelspec": {
   "display_name": "base",
   "language": "python",
   "name": "python3"
  },
  "language_info": {
   "codemirror_mode": {
    "name": "ipython",
    "version": 3
   },
   "file_extension": ".py",
   "mimetype": "text/x-python",
   "name": "python",
   "nbconvert_exporter": "python",
   "pygments_lexer": "ipython3",
   "version": "3.11.5"
  }
 },
 "nbformat": 4,
 "nbformat_minor": 2
}
