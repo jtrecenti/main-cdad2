{
 "cells": [
  {
   "cell_type": "markdown",
   "metadata": {},
   "source": [
    "# Exercícios sobre probabilidade e curva normal"
   ]
  },
  {
   "cell_type": "code",
   "execution_count": 14,
   "metadata": {},
   "outputs": [],
   "source": [
    "#grade (write your code in this cell and DO NOT DELETE THIS LINE)\n",
    "\n",
    "import pandas as pd\n",
    "import numpy as np\n",
    "from scipy.stats import norm\n",
    "\n",
    "camaras = pd.read_csv('https://github.com/jtrecenti/main-cdad2/releases/download/data/camaras.csv')\n"
   ]
  },
  {
   "cell_type": "markdown",
   "metadata": {},
   "source": [
    "**1a)** Considere os dados abaixo, que é uma amostra dos recursos na base das câmaras. Calcule a frequência relativa de recursos negados. Utilize 5 casas decimais."
   ]
  },
  {
   "cell_type": "code",
   "execution_count": 15,
   "metadata": {},
   "outputs": [],
   "source": [
    "#grade (write your code in this cell and DO NOT DELETE THIS LINE)\n",
    "\n",
    "camaras_amostra = camaras.sample(300, random_state=42)\n",
    "\n",
    "prop_negados = 0"
   ]
  },
  {
   "cell_type": "markdown",
   "metadata": {},
   "source": [
    "**1b)** Considere a frequência relativa calculada acima. Ela pode ser considerada uma média? Responda com \"sim\" ou \"não\"."
   ]
  },
  {
   "cell_type": "code",
   "execution_count": 16,
   "metadata": {},
   "outputs": [],
   "source": [
    "#grade (write your code in this cell and DO NOT DELETE THIS LINE)\n",
    "\n",
    "prop_media = ''"
   ]
  },
  {
   "cell_type": "markdown",
   "metadata": {},
   "source": [
    "**1c)** Considere que $X_i$ é uma variável aleatória que vale 1 se um recurso foi negado e 0 se o recurso não foi negado. Qual é a distribuição de $X_i$, 'binomial', 'bernoulli' ou 'normal'?"
   ]
  },
  {
   "cell_type": "code",
   "execution_count": 17,
   "metadata": {},
   "outputs": [],
   "source": [
    "#grade (write your code in this cell and DO NOT DELETE THIS LINE)\n",
    "\n",
    "distribuicao = ''"
   ]
  },
  {
   "cell_type": "markdown",
   "metadata": {},
   "source": [
    "**1d)** Agora, considere o estimador $\\hat p$, que é a frequência relativa amostral. Qual é a distribuição aproximada de $\\hat p$, 'binomial', 'bernoulli' ou 'normal'?"
   ]
  },
  {
   "cell_type": "code",
   "execution_count": 18,
   "metadata": {},
   "outputs": [],
   "source": [
    "#grade (write your code in this cell and DO NOT DELETE THIS LINE)\n",
    "\n",
    "distribuicao_estimador = ''"
   ]
  },
  {
   "cell_type": "markdown",
   "metadata": {},
   "source": [
    "**1e)** Qual é a probabilidade de uma variável aleatória distribuição normal padrão valer entre -3 e 3? Utilize 5 casas decimais."
   ]
  },
  {
   "cell_type": "code",
   "execution_count": 19,
   "metadata": {},
   "outputs": [],
   "source": [
    "p_normal = 0"
   ]
  },
  {
   "cell_type": "markdown",
   "metadata": {},
   "source": [
    "**1f)** Qual é o quantil da distribuição normal padronizada que deixa 99% da área à esquerda? Utilize a função `norm.ppf` do pacote `scipy.stats` para calcular o valor. Utilize 4 casas decimais"
   ]
  },
  {
   "cell_type": "code",
   "execution_count": 20,
   "metadata": {},
   "outputs": [],
   "source": [
    "#grade (write your code in this cell and DO NOT DELETE THIS LINE)\n",
    "\n",
    "q_normal = 0"
   ]
  },
  {
   "cell_type": "markdown",
   "metadata": {},
   "source": [
    "**1g)** Considerando que a variância conhecida e seu valor é 0.25, qual é o intervalo de confiança para a proporção de recursos negados, com nível de confiança de 98%? Coloque os valores mínimo e máximo do intervalo com 4 casas decimais.\n",
    "\n",
    "**Dica**: Como o nível de confiança é de 98%, o quantil a ser considerado da normal é o que deixa de fora 1% à direita e 1% à esquerda. Note que já calculamos esse valor antes."
   ]
  },
  {
   "cell_type": "code",
   "execution_count": 21,
   "metadata": {},
   "outputs": [],
   "source": [
    "#grade (write your code in this cell and DO NOT DELETE THIS LINE)\n",
    "\n",
    "\n",
    "ic_min = 0\n",
    "ic_max = 0\n"
   ]
  },
  {
   "cell_type": "markdown",
   "metadata": {},
   "source": [
    "**1h)** Considere que a frequência relativa de recursos negados é a frequência relativa calculada na base `camaras`. O valor da média está contido no intervalo de confiança calculado anteriormente? Responda 'sim' ou 'não'"
   ]
  },
  {
   "cell_type": "code",
   "execution_count": 22,
   "metadata": {},
   "outputs": [],
   "source": [
    "#grade (write your code in this cell and DO NOT DELETE THIS LINE)\n",
    "\n",
    "contido = ''"
   ]
  }
 ],
 "metadata": {
  "kernelspec": {
   "display_name": "base",
   "language": "python",
   "name": "python3"
  },
  "language_info": {
   "codemirror_mode": {
    "name": "ipython",
    "version": 3
   },
   "file_extension": ".py",
   "mimetype": "text/x-python",
   "name": "python",
   "nbconvert_exporter": "python",
   "pygments_lexer": "ipython3",
   "version": "3.11.5"
  }
 },
 "nbformat": 4,
 "nbformat_minor": 2
}
