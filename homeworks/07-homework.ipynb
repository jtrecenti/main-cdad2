{
 "cells": [
  {
   "cell_type": "markdown",
   "metadata": {},
   "source": [
    "# Exercícios sobre intervalo de confiança e testes de hipóteses"
   ]
  },
  {
   "cell_type": "code",
   "execution_count": 1,
   "metadata": {},
   "outputs": [],
   "source": [
    "#grade (write your code in this cell and DO NOT DELETE THIS LINE)\n",
    "\n",
    "import pandas as pd\n",
    "import numpy as np\n",
    "from scipy import stats\n",
    "\n",
    "camaras = pd.read_csv('https://github.com/jtrecenti/main-cdad2/releases/download/data/camaras.csv')\n"
   ]
  },
  {
   "cell_type": "markdown",
   "metadata": {},
   "source": [
    "**1)** Um escritório deseja analisar se a judicialiação em disputas contratuais de um de seus principais clientes corporativos está acima da média do setor, que é de 5%. \n",
    "\n",
    "Use um teste de hipóteses para determinar se a taxa do cliente difere significativamente da média do setor. Retorne o valor_p do teste em uma variável chamada `valor_p`, com 4 casas decimais.\n"
   ]
  },
  {
   "cell_type": "code",
   "execution_count": 13,
   "metadata": {},
   "outputs": [
    {
     "data": {
      "text/html": [
       "<div>\n",
       "<style scoped>\n",
       "    .dataframe tbody tr th:only-of-type {\n",
       "        vertical-align: middle;\n",
       "    }\n",
       "\n",
       "    .dataframe tbody tr th {\n",
       "        vertical-align: top;\n",
       "    }\n",
       "\n",
       "    .dataframe thead th {\n",
       "        text-align: right;\n",
       "    }\n",
       "</style>\n",
       "<table border=\"1\" class=\"dataframe\">\n",
       "  <thead>\n",
       "    <tr style=\"text-align: right;\">\n",
       "      <th></th>\n",
       "      <th>resultados_contratos</th>\n",
       "    </tr>\n",
       "  </thead>\n",
       "  <tbody>\n",
       "    <tr>\n",
       "      <th>0</th>\n",
       "      <td>0</td>\n",
       "    </tr>\n",
       "    <tr>\n",
       "      <th>1</th>\n",
       "      <td>0</td>\n",
       "    </tr>\n",
       "    <tr>\n",
       "      <th>2</th>\n",
       "      <td>0</td>\n",
       "    </tr>\n",
       "    <tr>\n",
       "      <th>3</th>\n",
       "      <td>0</td>\n",
       "    </tr>\n",
       "    <tr>\n",
       "      <th>4</th>\n",
       "      <td>0</td>\n",
       "    </tr>\n",
       "    <tr>\n",
       "      <th>...</th>\n",
       "      <td>...</td>\n",
       "    </tr>\n",
       "    <tr>\n",
       "      <th>95</th>\n",
       "      <td>0</td>\n",
       "    </tr>\n",
       "    <tr>\n",
       "      <th>96</th>\n",
       "      <td>0</td>\n",
       "    </tr>\n",
       "    <tr>\n",
       "      <th>97</th>\n",
       "      <td>0</td>\n",
       "    </tr>\n",
       "    <tr>\n",
       "      <th>98</th>\n",
       "      <td>0</td>\n",
       "    </tr>\n",
       "    <tr>\n",
       "      <th>99</th>\n",
       "      <td>1</td>\n",
       "    </tr>\n",
       "  </tbody>\n",
       "</table>\n",
       "<p>100 rows × 1 columns</p>\n",
       "</div>"
      ],
      "text/plain": [
       "    resultados_contratos\n",
       "0                      0\n",
       "1                      0\n",
       "2                      0\n",
       "3                      0\n",
       "4                      0\n",
       "..                   ...\n",
       "95                     0\n",
       "96                     0\n",
       "97                     0\n",
       "98                     0\n",
       "99                     1\n",
       "\n",
       "[100 rows x 1 columns]"
      ]
     },
     "execution_count": 13,
     "metadata": {},
     "output_type": "execute_result"
    }
   ],
   "source": [
    "#grade (write your code in this cell and DO NOT DELETE THIS LINE)\n",
    "\n",
    "# resultados de 100 contratos, onde 1 representa judicialização e 0 representa não judicialização\n",
    "df_contratos = pd.DataFrame({\n",
    "  'resultados_contratos': [\n",
    "    0,0,0,0,0,0,0,1,0,0,0,0,0,0,0,0,0,0,1,0,0,0,0,0,0,0,0,0,0,0,1,0,0,0,0,0,0,0,\n",
    "    0,0,0,0,0,0,0,0,0,0,0,0,0,0,0,0,0,0,0,0,0,1,0,0,0,0,0,0,0,0,0,0,0,0,0,0,0,0,\n",
    "    0,0,0,0,0,0,0,0,0,0,0,0,0,0,0,0,0,0,0,0,0,0,0,1\n",
    "  ]\n",
    "})\n",
    "\n",
    "df"
   ]
  },
  {
   "cell_type": "code",
   "execution_count": 14,
   "metadata": {},
   "outputs": [],
   "source": [
    "#grade (write your code in this cell and DO NOT DELETE THIS LINE)\n",
    "\n",
    "# Calcule a média de disputas (taxa de disputa)\n",
    "taxa_judicializacao = np.mean(df_contratos.resultados_contratos)\n",
    "\n",
    "# Realize um teste de hipótese\n",
    "# H0: taxa de disputas = 0.05 (média do setor)\n",
    "# H1: taxa de disputas != 0.05\n",
    "\n",
    "# Complete o teste aqui\n",
    "\n",
    "valor_p = 0\n"
   ]
  },
  {
   "cell_type": "markdown",
   "metadata": {},
   "source": [
    "**2)** Intervalo de Confiança para Litígios Empresariais\n",
    "\n",
    "Uma empresa está tentando entender o risco financeiro associado a litígios relacionados a patentes. Para isso, coletou dados sobre o custo de 50 processos judiciais que são considerados como \"perda provável\". Nesse caso, é necessário guardar uma provisão para cobrir os custos esperados desses processos. Geralmente, as empresas guardam um valor um pouco acima do custo médio dos processos para garantir que a provisão seja suficiente.\n",
    "\n",
    "Construa um intervalo de confiança de 95% para valor envolvido processos judiciais (em milhares) e retorne o limite superior do intervalo, arredondado para 3 casas decimais, em uma variável chamada `limite_superior`.\n",
    "\n"
   ]
  },
  {
   "cell_type": "code",
   "execution_count": 11,
   "metadata": {},
   "outputs": [],
   "source": [
    "# valor envolvido dos processos (em milhares de reais)\n",
    "\n",
    "dados_litigios = pd.DataFrame({\n",
    "  'valor_envolvido': [141.43495852, 215.5468582 , 180.37052563, 212.66683265,\n",
    "       250.90677187, 128.56483215, 129.58534667, 267.08521707,\n",
    "       254.76910077, 150.88480105, 295.33393885, 137.19523569,\n",
    "       200.91865536, 212.29506852, 239.38409754, 251.82152535,\n",
    "       236.01835241, 240.85822   , 233.44699442,  79.80385203,\n",
    "       212.45348027, 274.95365989, 218.73828066, 206.40259599,\n",
    "       236.93354796, 242.32189686, 237.82372692, 168.22221251,\n",
    "       209.84046841, 187.41601743, 197.41823474, 189.04203568,\n",
    "       229.54494853, 206.71658167, 173.8904291 , 204.21199709,\n",
    "       148.25822858, 215.42292431, 269.94472137, 177.41918425,\n",
    "       249.56781917, 186.71542185, 166.51014733, 117.06520358,\n",
    "       191.20809584, 309.42166125, 157.37172001, 173.38252301,\n",
    "       157.9117557 , 264.38776365]\n",
    "})"
   ]
  },
  {
   "cell_type": "code",
   "execution_count": 12,
   "metadata": {},
   "outputs": [],
   "source": [
    "#grade (write your code in this cell and DO NOT DELETE THIS LINE)\n",
    "\n",
    "limite_superior = 0"
   ]
  },
  {
   "cell_type": "markdown",
   "metadata": {},
   "source": [
    "\n",
    "**3)** Análise de Prazos de Pagamento\n",
    "\n",
    "Um escritório de advocacia especializado deseja analisar os padrões de pagamento de seus clientes para identificar atrasos significativos. O escritório tem clientes em diversos setores e está interessado em saber se os prazos médios de pagamento diferem significativamente entre o setor de tecnologia e o setor de serviços.\n",
    "\n",
    "A base de dados contém as seguintes colunas: `cliente_id`, `setor`, `valor_fatura`, e `dias_pagamento`. O setor de tecnologia é representado como 'Tecnologia' e o setor de serviços como 'Serviços'."
   ]
  },
  {
   "cell_type": "code",
   "execution_count": 22,
   "metadata": {},
   "outputs": [
    {
     "data": {
      "text/html": [
       "<div>\n",
       "<style scoped>\n",
       "    .dataframe tbody tr th:only-of-type {\n",
       "        vertical-align: middle;\n",
       "    }\n",
       "\n",
       "    .dataframe tbody tr th {\n",
       "        vertical-align: top;\n",
       "    }\n",
       "\n",
       "    .dataframe thead th {\n",
       "        text-align: right;\n",
       "    }\n",
       "</style>\n",
       "<table border=\"1\" class=\"dataframe\">\n",
       "  <thead>\n",
       "    <tr style=\"text-align: right;\">\n",
       "      <th></th>\n",
       "      <th>cliente_id</th>\n",
       "      <th>setor</th>\n",
       "      <th>valor_fatura</th>\n",
       "      <th>dias_pagamento</th>\n",
       "    </tr>\n",
       "  </thead>\n",
       "  <tbody>\n",
       "    <tr>\n",
       "      <th>0</th>\n",
       "      <td>1</td>\n",
       "      <td>Manufatura</td>\n",
       "      <td>4336.443625</td>\n",
       "      <td>36.990924</td>\n",
       "    </tr>\n",
       "    <tr>\n",
       "      <th>1</th>\n",
       "      <td>2</td>\n",
       "      <td>Tecnologia</td>\n",
       "      <td>1116.476348</td>\n",
       "      <td>35.998966</td>\n",
       "    </tr>\n",
       "    <tr>\n",
       "      <th>2</th>\n",
       "      <td>3</td>\n",
       "      <td>Manufatura</td>\n",
       "      <td>2912.196432</td>\n",
       "      <td>25.187519</td>\n",
       "    </tr>\n",
       "    <tr>\n",
       "      <th>3</th>\n",
       "      <td>4</td>\n",
       "      <td>Manufatura</td>\n",
       "      <td>2845.322597</td>\n",
       "      <td>9.062060</td>\n",
       "    </tr>\n",
       "    <tr>\n",
       "      <th>4</th>\n",
       "      <td>5</td>\n",
       "      <td>Tecnologia</td>\n",
       "      <td>7114.890592</td>\n",
       "      <td>25.799525</td>\n",
       "    </tr>\n",
       "    <tr>\n",
       "      <th>...</th>\n",
       "      <td>...</td>\n",
       "      <td>...</td>\n",
       "      <td>...</td>\n",
       "      <td>...</td>\n",
       "    </tr>\n",
       "    <tr>\n",
       "      <th>195</th>\n",
       "      <td>196</td>\n",
       "      <td>Serviços</td>\n",
       "      <td>3747.856834</td>\n",
       "      <td>63.088728</td>\n",
       "    </tr>\n",
       "    <tr>\n",
       "      <th>196</th>\n",
       "      <td>197</td>\n",
       "      <td>Manufatura</td>\n",
       "      <td>1372.091125</td>\n",
       "      <td>50.633821</td>\n",
       "    </tr>\n",
       "    <tr>\n",
       "      <th>197</th>\n",
       "      <td>198</td>\n",
       "      <td>Manufatura</td>\n",
       "      <td>1394.491389</td>\n",
       "      <td>24.426159</td>\n",
       "    </tr>\n",
       "    <tr>\n",
       "      <th>198</th>\n",
       "      <td>199</td>\n",
       "      <td>Serviços</td>\n",
       "      <td>3458.426439</td>\n",
       "      <td>52.276412</td>\n",
       "    </tr>\n",
       "    <tr>\n",
       "      <th>199</th>\n",
       "      <td>200</td>\n",
       "      <td>Tecnologia</td>\n",
       "      <td>9805.350022</td>\n",
       "      <td>14.062115</td>\n",
       "    </tr>\n",
       "  </tbody>\n",
       "</table>\n",
       "<p>200 rows × 4 columns</p>\n",
       "</div>"
      ],
      "text/plain": [
       "     cliente_id       setor  valor_fatura  dias_pagamento\n",
       "0             1  Manufatura   4336.443625       36.990924\n",
       "1             2  Tecnologia   1116.476348       35.998966\n",
       "2             3  Manufatura   2912.196432       25.187519\n",
       "3             4  Manufatura   2845.322597        9.062060\n",
       "4             5  Tecnologia   7114.890592       25.799525\n",
       "..          ...         ...           ...             ...\n",
       "195         196    Serviços   3747.856834       63.088728\n",
       "196         197  Manufatura   1372.091125       50.633821\n",
       "197         198  Manufatura   1394.491389       24.426159\n",
       "198         199    Serviços   3458.426439       52.276412\n",
       "199         200  Tecnologia   9805.350022       14.062115\n",
       "\n",
       "[200 rows x 4 columns]"
      ]
     },
     "execution_count": 22,
     "metadata": {},
     "output_type": "execute_result"
    }
   ],
   "source": [
    "#grade (write your code in this cell and DO NOT DELETE THIS LINE)\n",
    "\n",
    "atraso_pagamento = pd.read_csv('https://github.com/jtrecenti/main-cdad2/releases/download/data/atraso_pagamento.csv')\n",
    "atraso_pagamento"
   ]
  },
  {
   "cell_type": "markdown",
   "metadata": {},
   "source": [
    "**3a)** Compare os prazos médios de pagamento entre os dois setores. Use um teste de hipóteses para determinar se há uma diferença estatisticamente significante entre as médias dos dois setores. Retorne o valor-p do teste em uma variável chamada `valor_p_tecnologia_servicos`, com 4 casas decimais.\n"
   ]
  },
  {
   "cell_type": "code",
   "execution_count": 25,
   "metadata": {},
   "outputs": [],
   "source": [
    "#grade (write your code in this cell and DO NOT DELETE THIS LINE)\n",
    "\n",
    "valor_p_tecnologia_servicos=0"
   ]
  },
  {
   "cell_type": "markdown",
   "metadata": {},
   "source": [
    "**3b)** Faça a mesma comparação considerando apenas os valores de fatura maiores de 2000 reais. A diferencia entre os setores é estatisticamente significante? Retorne o valor-p do teste em uma variável chamada `valor_p_tecnologia_servicos_maior_2000`, com 4 casas decimais."
   ]
  },
  {
   "cell_type": "code",
   "execution_count": 26,
   "metadata": {},
   "outputs": [],
   "source": [
    "#grade (write your code in this cell and DO NOT DELETE THIS LINE)\n",
    "\n",
    "valor_p_tecnologia_servicos_maior_2000=0"
   ]
  },
  {
   "cell_type": "markdown",
   "metadata": {},
   "source": [
    "**3c)** (DESAFIO) Faça um teste comparando as médias de dias de pagamento dos 3 setores. Para isso, é necessário aplicar uma técnica chamada Análise de Variância (ANOVA). Retorne o valor-p do teste em uma variável chamada `valor_p_anova`, com 4 casas decimais."
   ]
  },
  {
   "cell_type": "code",
   "execution_count": 27,
   "metadata": {},
   "outputs": [],
   "source": [
    "#grade (write your code in this cell and DO NOT DELETE THIS LINE)\n",
    "\n",
    "valor_p_anova=0"
   ]
  }
 ],
 "metadata": {
  "kernelspec": {
   "display_name": "base",
   "language": "python",
   "name": "python3"
  },
  "language_info": {
   "codemirror_mode": {
    "name": "ipython",
    "version": 3
   },
   "file_extension": ".py",
   "mimetype": "text/x-python",
   "name": "python",
   "nbconvert_exporter": "python",
   "pygments_lexer": "ipython3",
   "version": "3.11.5"
  }
 },
 "nbformat": 4,
 "nbformat_minor": 2
}
