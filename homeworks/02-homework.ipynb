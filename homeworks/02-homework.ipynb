{
 "cells": [
  {
   "cell_type": "markdown",
   "metadata": {},
   "source": [
    "# Exercícios sobre frequências, proporções e taxas"
   ]
  },
  {
   "cell_type": "code",
   "execution_count": 1,
   "metadata": {},
   "outputs": [],
   "source": [
    "#grade (write your code in this cell and DO NOT DELETE THIS LINE)\n",
    "\n",
    "import pandas as pd\n",
    "import numpy as np\n",
    "\n",
    "camaras = pd.read_csv('https://github.com/jtrecenti/main-cdad2/releases/download/data/camaras.csv')"
   ]
  },
  {
   "cell_type": "markdown",
   "metadata": {},
   "source": [
    "**Exercício 1: Frequências, proporções e taxas**"
   ]
  },
  {
   "cell_type": "markdown",
   "metadata": {},
   "source": [
    "**1a)** Calcule a frequência relativa de recursos parcialmente procedentes. Utilize 3 casas decimais."
   ]
  },
  {
   "cell_type": "code",
   "execution_count": 6,
   "metadata": {},
   "outputs": [],
   "source": [
    "#grade (write your code in this cell and DO NOT DELETE THIS LINE)\n",
    "\n",
    "freq_relativa_parcialmente_procedentes = 0"
   ]
  },
  {
   "cell_type": "markdown",
   "metadata": {},
   "source": [
    "**1b)** Calcule a razão entre a quantidade de magistrados que são desembargadores e a quantidade de magistrados que são juízes substitutos de segundo grau. Utilize 3 casas decimais.\n",
    "\n",
    "**Dica**: os magistrados aparecem mais de uma vez na base de dados, então é necessário considerar apenas uma vez cada magistrado."
   ]
  },
  {
   "cell_type": "code",
   "execution_count": 8,
   "metadata": {},
   "outputs": [],
   "source": [
    "#grade (write your code in this cell and DO NOT DELETE THIS LINE)\n",
    "\n",
    "razao_magistrados = 0"
   ]
  },
  {
   "cell_type": "markdown",
   "metadata": {},
   "source": [
    "**1c)** Calcule a proporção de magistrados que têm origem no quinto constitucional. Utilize 3 casas decimais.\n",
    "\n",
    "**Dica**: multiplique por 100 para obter a porcentagem. Não precisa adicionar o \"%\" no final."
   ]
  },
  {
   "cell_type": "code",
   "execution_count": 13,
   "metadata": {},
   "outputs": [],
   "source": [
    "#grade (write your code in this cell and DO NOT DELETE THIS LINE)\n",
    "\n",
    "prop_quinto = 0"
   ]
  },
  {
   "cell_type": "markdown",
   "metadata": {},
   "source": [
    "**1d)** Calcule a taxa de decisões por ano, calculada fazendo-se a razão entre a quantidade de decisões total e a quantidade de anos em que essas decisões estão sendo tomadas. Desconsidere Utilize 3 casas decimais."
   ]
  },
  {
   "cell_type": "code",
   "execution_count": 14,
   "metadata": {},
   "outputs": [],
   "source": [
    "#grade (write your code in this cell and DO NOT DELETE THIS LINE)\n",
    "\n",
    "tx_decisoes_ano = 0"
   ]
  },
  {
   "cell_type": "markdown",
   "metadata": {},
   "source": [
    "**1e)** Calcule a taxa de decisões por ano para cada relator, fazendo a razão entre a quantidade de decisões total desse relator e a quantidade de anos em que este relator tem decisões. Identifique o relator mais produtivo segundo esse critério."
   ]
  },
  {
   "cell_type": "code",
   "execution_count": null,
   "metadata": {},
   "outputs": [],
   "source": [
    "#grade (write your code in this cell and DO NOT DELETE THIS LINE)\n",
    "\n",
    "relator_mais_produtivo = 0"
   ]
  },
  {
   "cell_type": "markdown",
   "metadata": {},
   "source": [
    "**Desafio 1** \n",
    "\n",
    "A estimativa produzida na questão 1e) é problemática, porque a base das câmaras é apenas uma amostra da totalidade de casos. Ou seja, este relator na verdade tem uma taxa bem maior de decisões por ano. Considerando que temos 500000 processos na base completa e 10000 na amostra, qual estimativa você daria para a taxa de decisões por ano desse relator?"
   ]
  },
  {
   "cell_type": "code",
   "execution_count": null,
   "metadata": {},
   "outputs": [],
   "source": [
    "#grade (write your code in this cell and DO NOT DELETE THIS LINE)\n",
    "\n",
    "tx_relator_mais_produtivo = 0"
   ]
  },
  {
   "cell_type": "markdown",
   "metadata": {},
   "source": [
    "**Desafio 2**\n",
    "\n",
    "Calcule a razão entre a quantidade de magistrados que se formaram pela Universidade de São Paulo (USP) e a quantidade de magistrados que se formaram pela PUC-SP. Utilize 3 casas decimais.\n",
    "\n",
    "**Dica**: a faculdade pode aparecer de vários jeitos na base de dados. Você pode usar a função `str.contains` para utilizar padrões de texto e contar todas as formas de escrita da faculdade."
   ]
  },
  {
   "cell_type": "code",
   "execution_count": null,
   "metadata": {},
   "outputs": [],
   "source": [
    "#grade (write your code in this cell and DO NOT DELETE THIS LINE)\n",
    "\n",
    "razao_usp_puc = 0"
   ]
  }
 ],
 "metadata": {
  "kernelspec": {
   "display_name": "base",
   "language": "python",
   "name": "python3"
  },
  "language_info": {
   "codemirror_mode": {
    "name": "ipython",
    "version": 3
   },
   "file_extension": ".py",
   "mimetype": "text/x-python",
   "name": "python",
   "nbconvert_exporter": "python",
   "pygments_lexer": "ipython3",
   "version": "3.11.5"
  }
 },
 "nbformat": 4,
 "nbformat_minor": 2
}
