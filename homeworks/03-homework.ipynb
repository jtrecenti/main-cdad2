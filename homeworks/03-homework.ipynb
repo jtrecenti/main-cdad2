{
 "cells": [
  {
   "cell_type": "markdown",
   "metadata": {},
   "source": [
    "# Exercícios sobre medidas de posição e variabilidade"
   ]
  },
  {
   "cell_type": "code",
   "execution_count": 7,
   "metadata": {},
   "outputs": [],
   "source": [
    "#grade (write your code in this cell and DO NOT DELETE THIS LINE)\n",
    "\n",
    "import pandas as pd\n",
    "import numpy as np\n",
    "\n",
    "camaras = pd.read_csv('https://github.com/jtrecenti/main-cdad2/releases/download/data/camaras.csv')\n",
    "\n",
    "relatores = (\n",
    "  camaras\n",
    "  .drop_duplicates(subset='relator', keep='first')\n",
    ")\n"
   ]
  },
  {
   "cell_type": "markdown",
   "metadata": {},
   "source": [
    "**Exercício 1**: Medidas de posição"
   ]
  },
  {
   "cell_type": "markdown",
   "metadata": {},
   "source": [
    "**1a)** Calcule a média e a mediana das idades dos relatores. Utilize duas casas decimais."
   ]
  },
  {
   "cell_type": "code",
   "execution_count": 5,
   "metadata": {},
   "outputs": [],
   "source": [
    "#grade (write your code in this cell and DO NOT DELETE THIS LINE)\n",
    "\n",
    "media_idade_rel = 0\n",
    "mediana_idade_rel = 0"
   ]
  },
  {
   "cell_type": "markdown",
   "metadata": {},
   "source": [
    "**1b)** Calcule o desvio padrão do tempo de magistratura dos relatores. Utilize duas casas decimais.\n",
    "\n",
    "**Dica**: utilize as diferentes formas de calcular das bibliotecas \"numpy\" e \"pandas\""
   ]
  },
  {
   "cell_type": "code",
   "execution_count": 8,
   "metadata": {},
   "outputs": [],
   "source": [
    "#grade (write your code in this cell and DO NOT DELETE THIS LINE)\n",
    "\n",
    "sd_tempo_mag_numpy = 0\n",
    "sd_tempo_mag_pandas = 0"
   ]
  },
  {
   "cell_type": "markdown",
   "metadata": {},
   "source": [
    "**1c)** Pesquise a idade de aposentadoria dos desembargadores. Qual é o desembargador mais próximo de se aposentar? Qual sua idade? Utilize duas casas decimais\n",
    "\n",
    "**Dica**: utilize a função que retorna o máximo. Desconsidere os juizes substitutos."
   ]
  },
  {
   "cell_type": "code",
   "execution_count": 13,
   "metadata": {},
   "outputs": [],
   "source": [
    "#grade (write your code in this cell and DO NOT DELETE THIS LINE)\n",
    "\n",
    "relator_proximo_aposenta = ''\n",
    "relator_mais_velho_idade = 0"
   ]
  },
  {
   "cell_type": "markdown",
   "metadata": {},
   "source": [
    "**1d)** Calcule a razão entre e o tempo de magistratura. Esse número mede qual a proporção da vida da pessoa dedicada à magistratura. Agora, calcule os quartis de 25% e 75% dessa razão. Utilize duas casas decimais."
   ]
  },
  {
   "cell_type": "code",
   "execution_count": 14,
   "metadata": {},
   "outputs": [],
   "source": [
    "#grade (write your code in this cell and DO NOT DELETE THIS LINE)\n",
    "\n",
    "q1_prop_magistratura = 0\n",
    "q3_prop_magistratura = 0"
   ]
  },
  {
   "cell_type": "markdown",
   "metadata": {},
   "source": [
    "**1e)** Obtenha os tempos médios dos processos para cada relator. Qual é a razão ente o maior e o menor tempo médio? Utilize duas casas decimais.\n",
    "\n",
    "**Obs**: deconsidere relatores com menos de 100 decisões."
   ]
  },
  {
   "cell_type": "code",
   "execution_count": 10,
   "metadata": {},
   "outputs": [],
   "source": [
    "#grade (write your code in this cell and DO NOT DELETE THIS LINE)\n",
    "\n",
    "razao_maior_menor_tempo = 0"
   ]
  },
  {
   "cell_type": "markdown",
   "metadata": {},
   "source": [
    "**Desafio**\n",
    "\n",
    "Filtros: Para todas as contas abaixo, desconsidere as câmaras extraordinárias, considere apenas relatores com mais de 100 decisões e apenas recursos em que o MP está no polo passivo.\n",
    "\n",
    "- Calcule a proporção de recursos negados por câmara. \n",
    "- Calcule a proporção de recursos negados por relator.\n",
    "\n",
    "Apresente esses dois números:\n",
    "\n",
    "- Calcule o desvio padrão entre as proporções obtidas por câmara.\n",
    "- Calcule o desvio padrão entre as proporções obtidas por relator dentro de cada câmara. Você terá uma medida por câmara. Depois, tome a média dessas medidas.\n",
    "\n",
    "**Para calcular o desvio padrão, utilize as operações do numpy.** Retorne o resultado com três casas decimais."
   ]
  },
  {
   "cell_type": "code",
   "execution_count": null,
   "metadata": {},
   "outputs": [],
   "source": [
    "#grade (write your code in this cell and DO NOT DELETE THIS LINE)\n",
    "\n",
    "desvio_padrao_camara = 0\n",
    "desvio_padrao_medio_dentro_camara = 0"
   ]
  },
  {
   "cell_type": "markdown",
   "metadata": {},
   "source": [
    "Pense sobre o que esses números podem significar, e como eles podem ser usados para avaliar a eficiência dos tribunais e a função do colegiado."
   ]
  }
 ],
 "metadata": {
  "kernelspec": {
   "display_name": "base",
   "language": "python",
   "name": "python3"
  },
  "language_info": {
   "codemirror_mode": {
    "name": "ipython",
    "version": 3
   },
   "file_extension": ".py",
   "mimetype": "text/x-python",
   "name": "python",
   "nbconvert_exporter": "python",
   "pygments_lexer": "ipython3",
   "version": "3.11.5"
  }
 },
 "nbformat": 4,
 "nbformat_minor": 2
}
