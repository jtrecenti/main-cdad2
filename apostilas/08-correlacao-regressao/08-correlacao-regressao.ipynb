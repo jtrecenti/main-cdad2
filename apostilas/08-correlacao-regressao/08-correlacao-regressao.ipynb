{
 "cells": [
  {
   "cell_type": "markdown",
   "metadata": {},
   "source": [
    "# Correlação e regressão"
   ]
  },
  {
   "cell_type": "code",
   "execution_count": 1,
   "metadata": {},
   "outputs": [],
   "source": [
    "import pandas as pd\n",
    "import numpy as np\n",
    "\n",
    "# para gráficos\n",
    "import seaborn as sns\n",
    "import matplotlib.pyplot as plt\n",
    "\n",
    "# para cálculos estatísticos e testes de hipóteses\n",
    "import scipy.stats as stats\n",
    "\n",
    "# para modelos estatísticos\n",
    "import statsmodels.formula.api as smf"
   ]
  },
  {
   "cell_type": "code",
   "execution_count": 2,
   "metadata": {},
   "outputs": [
    {
     "data": {
      "text/html": [
       "<div>\n",
       "<style scoped>\n",
       "    .dataframe tbody tr th:only-of-type {\n",
       "        vertical-align: middle;\n",
       "    }\n",
       "\n",
       "    .dataframe tbody tr th {\n",
       "        vertical-align: top;\n",
       "    }\n",
       "\n",
       "    .dataframe thead th {\n",
       "        text-align: right;\n",
       "    }\n",
       "</style>\n",
       "<table border=\"1\" class=\"dataframe\">\n",
       "  <thead>\n",
       "    <tr style=\"text-align: right;\">\n",
       "      <th></th>\n",
       "      <th>processo</th>\n",
       "      <th>assunto</th>\n",
       "      <th>camara</th>\n",
       "      <th>relator</th>\n",
       "      <th>origem</th>\n",
       "      <th>comarca</th>\n",
       "      <th>polo_mp</th>\n",
       "      <th>decisao</th>\n",
       "      <th>unanimidade</th>\n",
       "      <th>dt_publicacao</th>\n",
       "      <th>ementa</th>\n",
       "      <th>tempo</th>\n",
       "      <th>rel_idade</th>\n",
       "      <th>rel_id_municipio_nasc</th>\n",
       "      <th>rel_faculdade_direito</th>\n",
       "      <th>rel_tempo_magistratura</th>\n",
       "      <th>rel_tipo_magistrado</th>\n",
       "      <th>rel_quinto</th>\n",
       "    </tr>\n",
       "  </thead>\n",
       "  <tbody>\n",
       "    <tr>\n",
       "      <th>0</th>\n",
       "      <td>00013452120188260535</td>\n",
       "      <td>DIREITO PENAL - Crimes contra o Patrimônio - R...</td>\n",
       "      <td>01ª Câmara de Direito Criminal</td>\n",
       "      <td>MÁRIO DEVIENNE FERRAZ</td>\n",
       "      <td>Comarca de Guarulhos / Foro de Guarulhos / 4ª ...</td>\n",
       "      <td>GUARULHOS</td>\n",
       "      <td>Passivo</td>\n",
       "      <td>Parcialmente</td>\n",
       "      <td>Unânime</td>\n",
       "      <td>2020-03-13</td>\n",
       "      <td>N/A (TJSP;  Apelação Criminal 0001345-21.2018....</td>\n",
       "      <td>2.195756</td>\n",
       "      <td>70.598220</td>\n",
       "      <td>3534708.0</td>\n",
       "      <td>Faculdade Católica de Direito de Santos</td>\n",
       "      <td>44.900753</td>\n",
       "      <td>desembargador</td>\n",
       "      <td>não</td>\n",
       "    </tr>\n",
       "    <tr>\n",
       "      <th>1</th>\n",
       "      <td>00647287520158260050</td>\n",
       "      <td>DIREITO PENAL - Crimes Previstos na Legislação...</td>\n",
       "      <td>07ª Câmara de Direito Criminal</td>\n",
       "      <td>ALBERTO ANDERSON FILHO</td>\n",
       "      <td>Comarca de São Paulo / Foro Central Criminal B...</td>\n",
       "      <td>SAO PAULO</td>\n",
       "      <td>Passivo</td>\n",
       "      <td>Negaram</td>\n",
       "      <td>Unânime</td>\n",
       "      <td>2016-08-02</td>\n",
       "      <td>APELAÇÃO CRIMINAL –  Tráfico de entorpecentes ...</td>\n",
       "      <td>1.585216</td>\n",
       "      <td>69.590691</td>\n",
       "      <td>3509502.0</td>\n",
       "      <td>Faculdade de Direito da Pontifícia Universidad...</td>\n",
       "      <td>35.835729</td>\n",
       "      <td>desembargador</td>\n",
       "      <td>não</td>\n",
       "    </tr>\n",
       "    <tr>\n",
       "      <th>2</th>\n",
       "      <td>00039169220148260150</td>\n",
       "      <td>DIREITO PENAL-Crimes contra o Patrimônio-Aprop...</td>\n",
       "      <td>14ª Câmara de Direito Criminal</td>\n",
       "      <td>FERNANDO TORRES GARCIA</td>\n",
       "      <td>Comarca de Cosmópolis / Foro de Cosmópolis / 1...</td>\n",
       "      <td>COSMOPOLIS</td>\n",
       "      <td>Passivo</td>\n",
       "      <td>Negaram</td>\n",
       "      <td>Unânime</td>\n",
       "      <td>2020-04-27</td>\n",
       "      <td>APELAÇÃO CRIMINAL –  Apropriação indébita qual...</td>\n",
       "      <td>6.318960</td>\n",
       "      <td>64.763860</td>\n",
       "      <td>3550308.0</td>\n",
       "      <td>Faculdade de Direito da Universidade de São Paulo</td>\n",
       "      <td>40.027379</td>\n",
       "      <td>desembargador</td>\n",
       "      <td>não</td>\n",
       "    </tr>\n",
       "  </tbody>\n",
       "</table>\n",
       "</div>"
      ],
      "text/plain": [
       "               processo                                            assunto  \\\n",
       "0  00013452120188260535  DIREITO PENAL - Crimes contra o Patrimônio - R...   \n",
       "1  00647287520158260050  DIREITO PENAL - Crimes Previstos na Legislação...   \n",
       "2  00039169220148260150  DIREITO PENAL-Crimes contra o Patrimônio-Aprop...   \n",
       "\n",
       "                           camara                 relator  \\\n",
       "0  01ª Câmara de Direito Criminal   MÁRIO DEVIENNE FERRAZ   \n",
       "1  07ª Câmara de Direito Criminal  ALBERTO ANDERSON FILHO   \n",
       "2  14ª Câmara de Direito Criminal  FERNANDO TORRES GARCIA   \n",
       "\n",
       "                                              origem     comarca  polo_mp  \\\n",
       "0  Comarca de Guarulhos / Foro de Guarulhos / 4ª ...   GUARULHOS  Passivo   \n",
       "1  Comarca de São Paulo / Foro Central Criminal B...   SAO PAULO  Passivo   \n",
       "2  Comarca de Cosmópolis / Foro de Cosmópolis / 1...  COSMOPOLIS  Passivo   \n",
       "\n",
       "        decisao unanimidade dt_publicacao  \\\n",
       "0  Parcialmente     Unânime    2020-03-13   \n",
       "1       Negaram     Unânime    2016-08-02   \n",
       "2       Negaram     Unânime    2020-04-27   \n",
       "\n",
       "                                              ementa     tempo  rel_idade  \\\n",
       "0  N/A (TJSP;  Apelação Criminal 0001345-21.2018....  2.195756  70.598220   \n",
       "1  APELAÇÃO CRIMINAL –  Tráfico de entorpecentes ...  1.585216  69.590691   \n",
       "2  APELAÇÃO CRIMINAL –  Apropriação indébita qual...  6.318960  64.763860   \n",
       "\n",
       "   rel_id_municipio_nasc                              rel_faculdade_direito  \\\n",
       "0              3534708.0            Faculdade Católica de Direito de Santos   \n",
       "1              3509502.0  Faculdade de Direito da Pontifícia Universidad...   \n",
       "2              3550308.0  Faculdade de Direito da Universidade de São Paulo   \n",
       "\n",
       "   rel_tempo_magistratura rel_tipo_magistrado rel_quinto  \n",
       "0               44.900753       desembargador        não  \n",
       "1               35.835729       desembargador        não  \n",
       "2               40.027379       desembargador        não  "
      ]
     },
     "execution_count": 2,
     "metadata": {},
     "output_type": "execute_result"
    }
   ],
   "source": [
    "camaras = pd.read_csv('https://github.com/jtrecenti/main-cdad2/releases/download/data/camaras.csv')\n",
    "\n",
    "camaras.head(3)"
   ]
  },
  {
   "cell_type": "markdown",
   "metadata": {},
   "source": [
    "## Introdução\n",
    "\n",
    "Até agora, vimos uma introdução à teoria de testes de hipóteses. Os testes de hipóteses são a base de diversos avanços científicos feitos ao longo do século XX, como a testagem de procedimentos médicos e tratamentos, a avaliação de políticas públicas, a análise de dados de pesquisas de mercado, entre outros.\n",
    "\n",
    "No entanto, o teste de hipóteses, sozinho, não é suficiente para obter esses avanços. Isso acontece porque a realidade costuma ser mais complexa do que algo que pode ser resumido em uma única variável. Por exemplo, imagine que você está interessado em saber se a proporção de decisões favoráveis de um juiz é diferente da proporção de decisões favoráveis de outro juiz. Você pode realizar um teste de hipóteses para comparar as proporções, mas isso não te dá informações sobre quais aspectos podem levar um juiz a ser mais ou menos favorável a determinados casos do que outros.\n",
    "\n",
    "O que está relacionado com o tempo dos processos? O que está relacionado com o valor de uma indenização? Quais são os condicionantes de uma decisão judicial? Para responder a essas perguntas, é necessário ir além do teste de hipóteses e explorar a relação entre variáveis. Neste notebook, vamos explorar duas formas de fazer isso: a correlação e a regressão (que é uma forma de generalizar a correlação).\n",
    "\n",
    "## Correlação\n",
    "\n",
    "Correlação é uma medida estatística que descreve a relação entre duas variáveis **numéricas**. A correlação é uma medida de associação linear entre duas variáveis. Em outras palavras, a correlação mede o quanto uma variável varia em relação à outra. \n",
    "\n",
    "A correlação é uma medida que varia de -1 a 1. Quando a correlação é 1, as variáveis estão perfeitamente correlacionadas positivamente, ou seja, quando uma aumenta, a outra também aumenta. Quando a correlação é -1, as variáveis estão perfeitamente correlacionadas negativamente, ou seja, quando uma aumenta, a outra diminui. Quando a correlação é 0, as variáveis não estão correlacionadas.\n",
    "\n",
    "https://www.guessthecorrelation.com/\n",
    "\n",
    "<div><img src=\"image.png\" width=600/></div>\n",
    "\n",
    "A fórmula da correlação é dada por:\n",
    "\n",
    "$$\n",
    "r = \\frac{\\sum_{i=1}^{n} (x_i - \\bar{x})(y_i - \\bar{y})}{\\sqrt{\\sum_{i=1}^{n} (x_i - \\bar{x})^2 \\sum_{i=1}^{n} (y_i - \\bar{y})^2}}\n",
    "$$\n",
    "\n",
    "Explicando a fórmula: $r$ é a correlação entre as variáveis $x$ e $y$, $x_i$ e $y_i$ são os valores das variáveis $x$ e $y$ para a observação $i$, $\\bar{x}$ e $\\bar{y}$ são as médias das variáveis $x$ e $y$, respectivamente, e $n$ é o número de observações.\n",
    "\n",
    "Uma forma mais simples de escrever a fórmula da correlação é pensar nas variâncias e covariância das variáveis:\n",
    "\n",
    "$$\n",
    "r = \\frac{cov(x, y)}{\\sqrt{var(x)var(y)}}\n",
    "$$\n",
    "\n",
    "As fórmulas acima são equivalentes. A covariância mede o quanto duas variáveis variam juntas, enquanto a variância mede o quanto uma variável varia sozinha. A correlação é a covariância normalizada pela variância das variáveis.\n",
    "\n",
    "### Exemplo no python\n",
    "\n",
    "Vamos calcular a correlação entre a idade de um desembargador e o tempo de magistratura."
   ]
  },
  {
   "cell_type": "code",
   "execution_count": 3,
   "metadata": {},
   "outputs": [
    {
     "data": {
      "text/html": [
       "<div>\n",
       "<style scoped>\n",
       "    .dataframe tbody tr th:only-of-type {\n",
       "        vertical-align: middle;\n",
       "    }\n",
       "\n",
       "    .dataframe tbody tr th {\n",
       "        vertical-align: top;\n",
       "    }\n",
       "\n",
       "    .dataframe thead th {\n",
       "        text-align: right;\n",
       "    }\n",
       "</style>\n",
       "<table border=\"1\" class=\"dataframe\">\n",
       "  <thead>\n",
       "    <tr style=\"text-align: right;\">\n",
       "      <th></th>\n",
       "      <th>processo</th>\n",
       "      <th>assunto</th>\n",
       "      <th>camara</th>\n",
       "      <th>relator</th>\n",
       "      <th>origem</th>\n",
       "      <th>comarca</th>\n",
       "      <th>polo_mp</th>\n",
       "      <th>decisao</th>\n",
       "      <th>unanimidade</th>\n",
       "      <th>dt_publicacao</th>\n",
       "      <th>ementa</th>\n",
       "      <th>tempo</th>\n",
       "      <th>rel_idade</th>\n",
       "      <th>rel_id_municipio_nasc</th>\n",
       "      <th>rel_faculdade_direito</th>\n",
       "      <th>rel_tempo_magistratura</th>\n",
       "      <th>rel_tipo_magistrado</th>\n",
       "      <th>rel_quinto</th>\n",
       "    </tr>\n",
       "  </thead>\n",
       "  <tbody>\n",
       "    <tr>\n",
       "      <th>0</th>\n",
       "      <td>00013452120188260535</td>\n",
       "      <td>DIREITO PENAL - Crimes contra o Patrimônio - R...</td>\n",
       "      <td>01ª Câmara de Direito Criminal</td>\n",
       "      <td>MÁRIO DEVIENNE FERRAZ</td>\n",
       "      <td>Comarca de Guarulhos / Foro de Guarulhos / 4ª ...</td>\n",
       "      <td>GUARULHOS</td>\n",
       "      <td>Passivo</td>\n",
       "      <td>Parcialmente</td>\n",
       "      <td>Unânime</td>\n",
       "      <td>2020-03-13</td>\n",
       "      <td>N/A (TJSP;  Apelação Criminal 0001345-21.2018....</td>\n",
       "      <td>2.195756</td>\n",
       "      <td>70.598220</td>\n",
       "      <td>3534708.0</td>\n",
       "      <td>Faculdade Católica de Direito de Santos</td>\n",
       "      <td>44.900753</td>\n",
       "      <td>desembargador</td>\n",
       "      <td>não</td>\n",
       "    </tr>\n",
       "    <tr>\n",
       "      <th>1</th>\n",
       "      <td>00647287520158260050</td>\n",
       "      <td>DIREITO PENAL - Crimes Previstos na Legislação...</td>\n",
       "      <td>07ª Câmara de Direito Criminal</td>\n",
       "      <td>ALBERTO ANDERSON FILHO</td>\n",
       "      <td>Comarca de São Paulo / Foro Central Criminal B...</td>\n",
       "      <td>SAO PAULO</td>\n",
       "      <td>Passivo</td>\n",
       "      <td>Negaram</td>\n",
       "      <td>Unânime</td>\n",
       "      <td>2016-08-02</td>\n",
       "      <td>APELAÇÃO CRIMINAL –  Tráfico de entorpecentes ...</td>\n",
       "      <td>1.585216</td>\n",
       "      <td>69.590691</td>\n",
       "      <td>3509502.0</td>\n",
       "      <td>Faculdade de Direito da Pontifícia Universidad...</td>\n",
       "      <td>35.835729</td>\n",
       "      <td>desembargador</td>\n",
       "      <td>não</td>\n",
       "    </tr>\n",
       "    <tr>\n",
       "      <th>2</th>\n",
       "      <td>00039169220148260150</td>\n",
       "      <td>DIREITO PENAL-Crimes contra o Patrimônio-Aprop...</td>\n",
       "      <td>14ª Câmara de Direito Criminal</td>\n",
       "      <td>FERNANDO TORRES GARCIA</td>\n",
       "      <td>Comarca de Cosmópolis / Foro de Cosmópolis / 1...</td>\n",
       "      <td>COSMOPOLIS</td>\n",
       "      <td>Passivo</td>\n",
       "      <td>Negaram</td>\n",
       "      <td>Unânime</td>\n",
       "      <td>2020-04-27</td>\n",
       "      <td>APELAÇÃO CRIMINAL –  Apropriação indébita qual...</td>\n",
       "      <td>6.318960</td>\n",
       "      <td>64.763860</td>\n",
       "      <td>3550308.0</td>\n",
       "      <td>Faculdade de Direito da Universidade de São Paulo</td>\n",
       "      <td>40.027379</td>\n",
       "      <td>desembargador</td>\n",
       "      <td>não</td>\n",
       "    </tr>\n",
       "  </tbody>\n",
       "</table>\n",
       "</div>"
      ],
      "text/plain": [
       "               processo                                            assunto  \\\n",
       "0  00013452120188260535  DIREITO PENAL - Crimes contra o Patrimônio - R...   \n",
       "1  00647287520158260050  DIREITO PENAL - Crimes Previstos na Legislação...   \n",
       "2  00039169220148260150  DIREITO PENAL-Crimes contra o Patrimônio-Aprop...   \n",
       "\n",
       "                           camara                 relator  \\\n",
       "0  01ª Câmara de Direito Criminal   MÁRIO DEVIENNE FERRAZ   \n",
       "1  07ª Câmara de Direito Criminal  ALBERTO ANDERSON FILHO   \n",
       "2  14ª Câmara de Direito Criminal  FERNANDO TORRES GARCIA   \n",
       "\n",
       "                                              origem     comarca  polo_mp  \\\n",
       "0  Comarca de Guarulhos / Foro de Guarulhos / 4ª ...   GUARULHOS  Passivo   \n",
       "1  Comarca de São Paulo / Foro Central Criminal B...   SAO PAULO  Passivo   \n",
       "2  Comarca de Cosmópolis / Foro de Cosmópolis / 1...  COSMOPOLIS  Passivo   \n",
       "\n",
       "        decisao unanimidade dt_publicacao  \\\n",
       "0  Parcialmente     Unânime    2020-03-13   \n",
       "1       Negaram     Unânime    2016-08-02   \n",
       "2       Negaram     Unânime    2020-04-27   \n",
       "\n",
       "                                              ementa     tempo  rel_idade  \\\n",
       "0  N/A (TJSP;  Apelação Criminal 0001345-21.2018....  2.195756  70.598220   \n",
       "1  APELAÇÃO CRIMINAL –  Tráfico de entorpecentes ...  1.585216  69.590691   \n",
       "2  APELAÇÃO CRIMINAL –  Apropriação indébita qual...  6.318960  64.763860   \n",
       "\n",
       "   rel_id_municipio_nasc                              rel_faculdade_direito  \\\n",
       "0              3534708.0            Faculdade Católica de Direito de Santos   \n",
       "1              3509502.0  Faculdade de Direito da Pontifícia Universidad...   \n",
       "2              3550308.0  Faculdade de Direito da Universidade de São Paulo   \n",
       "\n",
       "   rel_tempo_magistratura rel_tipo_magistrado rel_quinto  \n",
       "0               44.900753       desembargador        não  \n",
       "1               35.835729       desembargador        não  \n",
       "2               40.027379       desembargador        não  "
      ]
     },
     "execution_count": 3,
     "metadata": {},
     "output_type": "execute_result"
    }
   ],
   "source": [
    "relatores = (\n",
    "  camaras\n",
    "  .drop_duplicates('relator')\n",
    "  .query('rel_idade.isnull() == False and rel_tempo_magistratura.isnull() == False', engine='python')\n",
    ")\n",
    "\n",
    "relatores.head(3)\n"
   ]
  },
  {
   "cell_type": "markdown",
   "metadata": {},
   "source": [
    "Agora vamos fazer um gráfico de dispersão"
   ]
  },
  {
   "cell_type": "code",
   "execution_count": 4,
   "metadata": {},
   "outputs": [
    {
     "data": {
      "text/plain": [
       "<seaborn.axisgrid.FacetGrid at 0x7f9479b62390>"
      ]
     },
     "execution_count": 4,
     "metadata": {},
     "output_type": "execute_result"
    },
    {
     "data": {
      "image/png": "[encoded data removed]",
      "text/plain": [
       "<Figure size 500x500 with 1 Axes>"
      ]
     },
     "metadata": {},
     "output_type": "display_data"
    }
   ],
   "source": [
    "sns.relplot(data=relatores, x='rel_idade', y='rel_tempo_magistratura')"
   ]
  },
  {
   "cell_type": "markdown",
   "metadata": {},
   "source": [
    "Note que parece existir uma relação linear entre as variáveis. Vamos calcular a correlação para confirmar essa hipótese."
   ]
  },
  {
   "cell_type": "code",
   "execution_count": 5,
   "metadata": {},
   "outputs": [
    {
     "data": {
      "text/plain": [
       "0.6476657995825739"
      ]
     },
     "execution_count": 5,
     "metadata": {},
     "output_type": "execute_result"
    }
   ],
   "source": [
    "correlacao = relatores['rel_idade'].corr(relatores['rel_tempo_magistratura'])\n",
    "\n",
    "correlacao"
   ]
  },
  {
   "cell_type": "markdown",
   "metadata": {},
   "source": [
    "Note que a correlação é uma função comutativa, ou seja, a correlação entre x e y é a mesma que a correlação entre y e x:"
   ]
  },
  {
   "cell_type": "code",
   "execution_count": 6,
   "metadata": {},
   "outputs": [
    {
     "data": {
      "text/plain": [
       "0.6476657995825738"
      ]
     },
     "execution_count": 6,
     "metadata": {},
     "output_type": "execute_result"
    }
   ],
   "source": [
    "correlacao_2 = relatores['rel_tempo_magistratura'].corr(relatores['rel_idade'])\n",
    "\n",
    "correlacao_2"
   ]
  },
  {
   "cell_type": "markdown",
   "metadata": {},
   "source": [
    "Como testar a significância da correlação? Para isso, podemos usar um teste de hipóteses. A hipótese nula é que a correlação é igual a 0, e a hipótese alternativa é que a correlação é diferente de 0. O teste de hipóteses para a correlação é um teste t de Student, já que temos um resultado bem parecido com o teste de comparação de médias.\n",
    "\n",
    "Para isso, utilizamos o método `pearsonr` da biblioteca `scipy.stats`. Esse método retorna a correlação e o p-valor do teste de hipóteses."
   ]
  },
  {
   "cell_type": "code",
   "execution_count": 7,
   "metadata": {},
   "outputs": [
    {
     "data": {
      "text/plain": [
       "(0.6476657995825736, 5.235066377782658e-12)"
      ]
     },
     "execution_count": 7,
     "metadata": {},
     "output_type": "execute_result"
    }
   ],
   "source": [
    "corr, p_value = stats.pearsonr(relatores['rel_idade'], relatores['rel_tempo_magistratura'])\n",
    "\n",
    "corr, p_value"
   ]
  },
  {
   "cell_type": "markdown",
   "metadata": {},
   "source": [
    "Nesse caso, o valor-p é menor que 0.05, então rejeitamos a hipótese nula e concluímos que a correlação é estatisticamente significante."
   ]
  },
  {
   "cell_type": "markdown",
   "metadata": {},
   "source": [
    "### Outliers e correlação\n",
    "\n",
    "Veja que no gráfico temos alguns pontos que estão bem longe do padrão. Esses pontos são chamados de outliers. Os outliers podem influenciar a correlação, já que eles podem afetar a relação linear entre as duas quantidades, como vimos no jogo *guess the correlation*.\n",
    "\n",
    "Quando isso acontece, é importante investigar a origem desses pontos. Eles podem ser erros de medição, erros de digitação, ou podem ser realmente pontos com um comportamento diferente do padrão geral, o que poderia indicar estudos de caso interessantes. Em análises do direito, estudar outliers pode ser interessante para estudar casos em que o direito foi aplicado de forma diferente do padrão e, assim, aprimorar nosso entendimento sobre o fenômeno jurídico.\n",
    "\n",
    "Por exemplo, no estudo [Observatório do Mercado de Capitais: Conselho de Recursos do Sistema Financeiro Nacional](https://abjur.github.io/obsCRSFN/relatorio/obs_crsfn_abj_files/figure-html/multas-comparacao-1.png), a ABJ analisou os recursos interpostos no Conselho de Recursos do Sistema Financeiro Nacional (CRSFN), também chamado de Conselhinho. A análise identificou 2 casos em que o valor da multa após revisão do caso foi maior do que o valor original. No sistema judiciário, isso não deveria ser possível, já que isso violaria o princípio do *non reformatio in pejus*. A verdade é que essa regra não se aplica ao CRSFN, já que ele é um órgão administrativo e não um órgão judicial. Isso mostra que a análise de outliers pode ser uma ferramenta poderosa para entender o sistema jurídico.\n",
    "\n",
    "<img src=\"https://abjur.github.io/obsCRSFN/relatorio/obs_crsfn_abj_files/figure-html/multas-comparacao-1.png\" width=\"800\" />\n",
    "\n",
    "No nosso caso das câmaras, podemos investigar os outliers aplicando alguma regra para detectar os casos:"
   ]
  },
  {
   "cell_type": "code",
   "execution_count": 8,
   "metadata": {},
   "outputs": [
    {
     "data": {
      "text/html": [
       "<div>\n",
       "<style scoped>\n",
       "    .dataframe tbody tr th:only-of-type {\n",
       "        vertical-align: middle;\n",
       "    }\n",
       "\n",
       "    .dataframe tbody tr th {\n",
       "        vertical-align: top;\n",
       "    }\n",
       "\n",
       "    .dataframe thead th {\n",
       "        text-align: right;\n",
       "    }\n",
       "</style>\n",
       "<table border=\"1\" class=\"dataframe\">\n",
       "  <thead>\n",
       "    <tr style=\"text-align: right;\">\n",
       "      <th></th>\n",
       "      <th>processo</th>\n",
       "      <th>assunto</th>\n",
       "      <th>camara</th>\n",
       "      <th>relator</th>\n",
       "      <th>origem</th>\n",
       "      <th>comarca</th>\n",
       "      <th>polo_mp</th>\n",
       "      <th>decisao</th>\n",
       "      <th>unanimidade</th>\n",
       "      <th>dt_publicacao</th>\n",
       "      <th>ementa</th>\n",
       "      <th>tempo</th>\n",
       "      <th>rel_idade</th>\n",
       "      <th>rel_id_municipio_nasc</th>\n",
       "      <th>rel_faculdade_direito</th>\n",
       "      <th>rel_tempo_magistratura</th>\n",
       "      <th>rel_tipo_magistrado</th>\n",
       "      <th>rel_quinto</th>\n",
       "    </tr>\n",
       "  </thead>\n",
       "  <tbody>\n",
       "    <tr>\n",
       "      <th>31</th>\n",
       "      <td>30376156820138260405</td>\n",
       "      <td>DIREITO PENAL-Crimes contra o Patrimônio-Recep...</td>\n",
       "      <td>06ª Câmara de Direito Criminal</td>\n",
       "      <td>RICARDO TUCUNDUVA</td>\n",
       "      <td>Comarca de Osasco / Foro de Osasco / 4ª Vara C...</td>\n",
       "      <td>OSASCO</td>\n",
       "      <td>Passivo</td>\n",
       "      <td>Negaram</td>\n",
       "      <td>Unânime</td>\n",
       "      <td>2017-02-24</td>\n",
       "      <td>N/A (TJSP;  Apelação Criminal 3037615-68.2013....</td>\n",
       "      <td>4.147844</td>\n",
       "      <td>76.000000</td>\n",
       "      <td>3550308.0</td>\n",
       "      <td>Faculdade de Direito da Universidade de São Paulo</td>\n",
       "      <td>30.047912</td>\n",
       "      <td>desembargador</td>\n",
       "      <td>sim</td>\n",
       "    </tr>\n",
       "    <tr>\n",
       "      <th>93</th>\n",
       "      <td>00421315820128260005</td>\n",
       "      <td>DIREITO PENAL - Lesão Corporal - Decorrente de...</td>\n",
       "      <td>12ª Câmara de Direito Criminal</td>\n",
       "      <td>ANGÉLICA DE ALMEIDA</td>\n",
       "      <td>Comarca de São Paulo / Foro Regional de São Mi...</td>\n",
       "      <td>SAO PAULO</td>\n",
       "      <td>Passivo</td>\n",
       "      <td>Punibilidade Extinta</td>\n",
       "      <td>Unânime</td>\n",
       "      <td>2018-02-23</td>\n",
       "      <td>N/A (TJSP;  Apelação Criminal 0042131-58.2012....</td>\n",
       "      <td>6.146475</td>\n",
       "      <td>77.144422</td>\n",
       "      <td>3552205.0</td>\n",
       "      <td>Faculdade de Direito da Pontifícia Universidad...</td>\n",
       "      <td>28.509240</td>\n",
       "      <td>desembargador</td>\n",
       "      <td>sim</td>\n",
       "    </tr>\n",
       "  </tbody>\n",
       "</table>\n",
       "</div>"
      ],
      "text/plain": [
       "                processo                                            assunto  \\\n",
       "31  30376156820138260405  DIREITO PENAL-Crimes contra o Patrimônio-Recep...   \n",
       "93  00421315820128260005  DIREITO PENAL - Lesão Corporal - Decorrente de...   \n",
       "\n",
       "                            camara              relator  \\\n",
       "31  06ª Câmara de Direito Criminal    RICARDO TUCUNDUVA   \n",
       "93  12ª Câmara de Direito Criminal  ANGÉLICA DE ALMEIDA   \n",
       "\n",
       "                                               origem    comarca  polo_mp  \\\n",
       "31  Comarca de Osasco / Foro de Osasco / 4ª Vara C...     OSASCO  Passivo   \n",
       "93  Comarca de São Paulo / Foro Regional de São Mi...  SAO PAULO  Passivo   \n",
       "\n",
       "                 decisao unanimidade dt_publicacao  \\\n",
       "31               Negaram     Unânime    2017-02-24   \n",
       "93  Punibilidade Extinta     Unânime    2018-02-23   \n",
       "\n",
       "                                               ementa     tempo  rel_idade  \\\n",
       "31  N/A (TJSP;  Apelação Criminal 3037615-68.2013....  4.147844  76.000000   \n",
       "93  N/A (TJSP;  Apelação Criminal 0042131-58.2012....  6.146475  77.144422   \n",
       "\n",
       "    rel_id_municipio_nasc                              rel_faculdade_direito  \\\n",
       "31              3550308.0  Faculdade de Direito da Universidade de São Paulo   \n",
       "93              3552205.0  Faculdade de Direito da Pontifícia Universidad...   \n",
       "\n",
       "    rel_tempo_magistratura rel_tipo_magistrado rel_quinto  \n",
       "31               30.047912       desembargador        sim  \n",
       "93               28.509240       desembargador        sim  "
      ]
     },
     "execution_count": 8,
     "metadata": {},
     "output_type": "execute_result"
    }
   ],
   "source": [
    "relatores.query('rel_tempo_magistratura < 32')"
   ]
  },
  {
   "cell_type": "markdown",
   "metadata": {},
   "source": [
    "A explicação, nesse caso, é que os desembargadores vieram do quinto constitucional e, portanto, podem não ter tanto tempo de magistratura.\n",
    "\n",
    "### Correlação e causalidade\n",
    "\n",
    "Uma discussão muito comum em estatística é a diferença entre correlação e causalidade. Correlação é uma medida de associação entre duas variáveis, enquanto causalidade é uma relação de causa e efeito entre duas variáveis. A correlação não implica causalidade. Em outras palavras, só porque duas variáveis estão correlacionadas, não significa que uma causa a outra.\n",
    "\n",
    "Um site muito legal para explorar correlações espúrias é o [Spurious Correlations](https://www.tylervigen.com/spurious-correlations), que mostra correlações absurdas entre variáveis, como a relação quase perfeita entre o número de roubos no Alaska e o salário dos professores nos EUA.\n",
    "\n",
    "<img src=\"https://www.tylervigen.com/spurious/correlation/image/2723_robberies-in-alaska_correlates-with_professor-salaries-in-the-us.svg\" width=\"600\" />\n",
    "\n",
    "Outro ponto importante é que o fato de duas variáveis terem uma correlação baixa não significa que elas não tenham uma relação (causal ou não). O [problema de Anscombe](https://en.wikipedia.org/wiki/Anscombe%27s_quartet) é um exemplo clássico disso. O problema de Anscombe é um conjunto de 4 datasets que têm a mesma média, variância, correlação e regressão linear. No entanto, os gráficos são completamente diferentes. Isso mostra que a correlação não é suficiente para descrever a relação entre duas variáveis.\n",
    "\n",
    "Outro exemplo contemporâneo mais divertido é o Datasaurus Dozen, que mostra 12 datasets com a mesma média, variância e correlação, mas com gráficos completamente diferentes:\n",
    "\n",
    "<img src=\"https://miro.medium.com/v2/resize:fit:4800/format:webp/1*uzVmvgn7I-t9x5MTByQg_A.gif\" width=\"600\" />\n",
    "\n",
    "Se quiser ver mais detalhes do Datasaurus Dozen, você pode acessar [este post do Medium](https://medium.com/@marc.bolle/datasaurus-dozen-visualization-using-python-d328dad64d20)."
   ]
  },
  {
   "cell_type": "markdown",
   "metadata": {},
   "source": [
    "## Regressão\n",
    "\n",
    "A regressão vai um pouco além da correlação, permitindo tracejar uma linha que melhor se ajusta aos dados. A regressão é uma técnica estatística que permite modelar a relação entre uma variável **dependente** e uma ou mais variáveis **independentes**. A regressão pode ser pensada como uma generalização da correlação, já que a correlação é um caso especial de regressão, onde temos apenas uma variável independente. A maior parte dos estudos, tanto na academia quanto no mercado, utiliza regressão para entender a relação entre variáveis. Por exemplo, modelos preditivos de resultados de processos e até mesmo ferramentas avançadas como LLMs utilizam o framework de regressão como a base de tudo.\n",
    "\n",
    "A regressão linear simples é o modelo de regresão mais simples que existe, e modela a relação entre uma variável dependente e uma variável independente. O fato de ser simples não significa que ele é inútil. Muitos problemas do mundo real podem ser modelados com uma regressão linear simples, e ela é a base para os modelos mais complexos.\n",
    "\n",
    "A regressão linear é dada pela fórmula:\n",
    "\n",
    "$$\n",
    "y = \\beta_0 + \\beta_1x + \\epsilon\n",
    "$$\n",
    "\n",
    "Onde $y$ é a variável dependente, $x$ é a variável independente, $\\beta_0$ é o intercepto, $\\beta_1$ é o coeficiente angular, e $\\epsilon$ é o erro. O objetivo da regressão é encontrar os valores de $\\beta_0$ e $\\beta_1$ que minimizam o erro $\\epsilon$.\n",
    "\n",
    "Precisamos detalhar melhor o que é variável dependente e independente. A variável dependente é aquilo que queremos prever, que queremos explicar. Por exemplo, se queremos prever o valor de uma indenização, o valor da indenização é a variável dependente. A variável independente é aquilo que usamos para prever a variável dependente. Por exemplo, se queremos prever o valor de uma indenização, podemos usar o valor da causa, o local de distribuição, juiz do caso, o tipo de ação, entre outros, como variáveis independentes. Por enquanto, vamos considerar apenas uma variável independente, mas a regressão pode ser generalizada para mais variáveis independentes.\n",
    "\n",
    "No nosso caso, a variável dependente é o tempo de magistratura e a variável independente é a idade do desembargador. A pergunta de pesquisa é: o tempo de magistratura é influenciado pela idade do desembargador? Intuitivamente, parece que sim, já que desembargadores mais velhos tendem a ter mais tempo de magistratura. Também vimos que a correlação entre as variáveis é positiva, o que corrobora essa intuição. Agora, vamos **quantificar** essa relação.\n",
    "\n",
    "Para ajustar nossa regressão, vamos utilizar um novo pacote: o `statsmodels`. O `statsmodels` é uma biblioteca de Python que permite fazer análises estatísticas mais avançadas, como regressão, séries de tempo, entre outros. A função que vamos usar por enquanto é a `ols`, que significa Ordinary Least Squares, ou Mínimos Quadrados Ordinários. Essa função ajusta uma regressão linear simples aos dados.\n"
   ]
  },
  {
   "cell_type": "code",
   "execution_count": 9,
   "metadata": {},
   "outputs": [
    {
     "data": {
      "text/html": [
       "<table class=\"simpletable\">\n",
       "<caption>OLS Regression Results</caption>\n",
       "<tr>\n",
       "  <th>Dep. Variable:</th>    <td>rel_tempo_magistratura</td> <th>  R-squared:         </th> <td>   0.419</td>\n",
       "</tr>\n",
       "<tr>\n",
       "  <th>Model:</th>                      <td>OLS</td>          <th>  Adj. R-squared:    </th> <td>   0.413</td>\n",
       "</tr>\n",
       "<tr>\n",
       "  <th>Method:</th>                <td>Least Squares</td>     <th>  F-statistic:       </th> <td>   63.59</td>\n",
       "</tr>\n",
       "<tr>\n",
       "  <th>Date:</th>                <td>Sun, 07 Apr 2024</td>    <th>  Prob (F-statistic):</th> <td>5.24e-12</td>\n",
       "</tr>\n",
       "<tr>\n",
       "  <th>Time:</th>                    <td>20:01:05</td>        <th>  Log-Likelihood:    </th> <td> -237.78</td>\n",
       "</tr>\n",
       "<tr>\n",
       "  <th>No. Observations:</th>         <td>    90</td>         <th>  AIC:               </th> <td>   479.6</td>\n",
       "</tr>\n",
       "<tr>\n",
       "  <th>Df Residuals:</th>             <td>    88</td>         <th>  BIC:               </th> <td>   484.6</td>\n",
       "</tr>\n",
       "<tr>\n",
       "  <th>Df Model:</th>                 <td>     1</td>         <th>                     </th>     <td> </td>   \n",
       "</tr>\n",
       "<tr>\n",
       "  <th>Covariance Type:</th>         <td>nonrobust</td>       <th>                     </th>     <td> </td>   \n",
       "</tr>\n",
       "</table>\n",
       "<table class=\"simpletable\">\n",
       "<tr>\n",
       "      <td></td>         <th>coef</th>     <th>std err</th>      <th>t</th>      <th>P>|t|</th>  <th>[0.025</th>    <th>0.975]</th>  \n",
       "</tr>\n",
       "<tr>\n",
       "  <th>Intercept</th> <td>    6.2034</td> <td>    4.070</td> <td>    1.524</td> <td> 0.131</td> <td>   -1.884</td> <td>   14.291</td>\n",
       "</tr>\n",
       "<tr>\n",
       "  <th>rel_idade</th> <td>    0.4789</td> <td>    0.060</td> <td>    7.974</td> <td> 0.000</td> <td>    0.360</td> <td>    0.598</td>\n",
       "</tr>\n",
       "</table>\n",
       "<table class=\"simpletable\">\n",
       "<tr>\n",
       "  <th>Omnibus:</th>       <td>35.274</td> <th>  Durbin-Watson:     </th> <td>   2.006</td>\n",
       "</tr>\n",
       "<tr>\n",
       "  <th>Prob(Omnibus):</th> <td> 0.000</td> <th>  Jarque-Bera (JB):  </th> <td>  92.330</td>\n",
       "</tr>\n",
       "<tr>\n",
       "  <th>Skew:</th>          <td>-1.346</td> <th>  Prob(JB):          </th> <td>8.93e-21</td>\n",
       "</tr>\n",
       "<tr>\n",
       "  <th>Kurtosis:</th>      <td> 7.168</td> <th>  Cond. No.          </th> <td>    762.</td>\n",
       "</tr>\n",
       "</table><br/><br/>Notes:<br/>[1] Standard Errors assume that the covariance matrix of the errors is correctly specified."
      ],
      "text/latex": [
       "\\begin{center}\n",
       "\\begin{tabular}{lclc}\n",
       "\\toprule\n",
       "\\textbf{Dep. Variable:}    & rel\\_tempo\\_magistratura & \\textbf{  R-squared:         } &     0.419   \\\\\n",
       "\\textbf{Model:}            &           OLS            & \\textbf{  Adj. R-squared:    } &     0.413   \\\\\n",
       "\\textbf{Method:}           &      Least Squares       & \\textbf{  F-statistic:       } &     63.59   \\\\\n",
       "\\textbf{Date:}             &     Sun, 07 Apr 2024     & \\textbf{  Prob (F-statistic):} &  5.24e-12   \\\\\n",
       "\\textbf{Time:}             &         20:01:05         & \\textbf{  Log-Likelihood:    } &   -237.78   \\\\\n",
       "\\textbf{No. Observations:} &              90          & \\textbf{  AIC:               } &     479.6   \\\\\n",
       "\\textbf{Df Residuals:}     &              88          & \\textbf{  BIC:               } &     484.6   \\\\\n",
       "\\textbf{Df Model:}         &               1          & \\textbf{                     } &             \\\\\n",
       "\\textbf{Covariance Type:}  &        nonrobust         & \\textbf{                     } &             \\\\\n",
       "\\bottomrule\n",
       "\\end{tabular}\n",
       "\\begin{tabular}{lcccccc}\n",
       "                    & \\textbf{coef} & \\textbf{std err} & \\textbf{t} & \\textbf{P$> |$t$|$} & \\textbf{[0.025} & \\textbf{0.975]}  \\\\\n",
       "\\midrule\n",
       "\\textbf{Intercept}  &       6.2034  &        4.070     &     1.524  &         0.131        &       -1.884    &       14.291     \\\\\n",
       "\\textbf{rel\\_idade} &       0.4789  &        0.060     &     7.974  &         0.000        &        0.360    &        0.598     \\\\\n",
       "\\bottomrule\n",
       "\\end{tabular}\n",
       "\\begin{tabular}{lclc}\n",
       "\\textbf{Omnibus:}       & 35.274 & \\textbf{  Durbin-Watson:     } &    2.006  \\\\\n",
       "\\textbf{Prob(Omnibus):} &  0.000 & \\textbf{  Jarque-Bera (JB):  } &   92.330  \\\\\n",
       "\\textbf{Skew:}          & -1.346 & \\textbf{  Prob(JB):          } & 8.93e-21  \\\\\n",
       "\\textbf{Kurtosis:}      &  7.168 & \\textbf{  Cond. No.          } &     762.  \\\\\n",
       "\\bottomrule\n",
       "\\end{tabular}\n",
       "%\\caption{OLS Regression Results}\n",
       "\\end{center}\n",
       "\n",
       "Notes: \\newline\n",
       " [1] Standard Errors assume that the covariance matrix of the errors is correctly specified."
      ],
      "text/plain": [
       "<class 'statsmodels.iolib.summary.Summary'>\n",
       "\"\"\"\n",
       "                              OLS Regression Results                              \n",
       "==================================================================================\n",
       "Dep. Variable:     rel_tempo_magistratura   R-squared:                       0.419\n",
       "Model:                                OLS   Adj. R-squared:                  0.413\n",
       "Method:                     Least Squares   F-statistic:                     63.59\n",
       "Date:                    Sun, 07 Apr 2024   Prob (F-statistic):           5.24e-12\n",
       "Time:                            20:01:05   Log-Likelihood:                -237.78\n",
       "No. Observations:                      90   AIC:                             479.6\n",
       "Df Residuals:                          88   BIC:                             484.6\n",
       "Df Model:                               1                                         \n",
       "Covariance Type:                nonrobust                                         \n",
       "==============================================================================\n",
       "                 coef    std err          t      P>|t|      [0.025      0.975]\n",
       "------------------------------------------------------------------------------\n",
       "Intercept      6.2034      4.070      1.524      0.131      -1.884      14.291\n",
       "rel_idade      0.4789      0.060      7.974      0.000       0.360       0.598\n",
       "==============================================================================\n",
       "Omnibus:                       35.274   Durbin-Watson:                   2.006\n",
       "Prob(Omnibus):                  0.000   Jarque-Bera (JB):               92.330\n",
       "Skew:                          -1.346   Prob(JB):                     8.93e-21\n",
       "Kurtosis:                       7.168   Cond. No.                         762.\n",
       "==============================================================================\n",
       "\n",
       "Notes:\n",
       "[1] Standard Errors assume that the covariance matrix of the errors is correctly specified.\n",
       "\"\"\""
      ]
     },
     "execution_count": 9,
     "metadata": {},
     "output_type": "execute_result"
    }
   ],
   "source": [
    "modelo = smf.ols('rel_tempo_magistratura ~ rel_idade', data=relatores).fit()\n",
    "\n",
    "modelo.summary()"
   ]
  },
  {
   "cell_type": "markdown",
   "metadata": {},
   "source": [
    "O sumário do modelo tem mais detalhes que o necessário para interpretar o modelo, mas ainda assim é muito interessante. Vamos focar nos coeficientes, que são as estimativas para os valores de $\\beta_0$ e $\\beta_1$ que minimizam o erro da equação acima. \n",
    "\n",
    "* O coeficiente de idade é 0.5, o que significa que, para cada ano a mais de idade, o tempo de magistratura aumenta em 0.5 anos. O coeficiente de idade é estatisticamente significante, já que o valor-p associado a ele é menor que 0.05. O teste de hipóteses para o coeficiente de idade é um teste t de Student, assim como o teste de hipóteses para a correlação, e o resultado desses testes é o mesmo.\n",
    "\n",
    "* O intercepto é 6.2, o que significa que, para um desembargador de 0 anos, o tempo de magistratura é de 6.2 anos. O intercepto não é estatisticamente significante, já que o valor-p é maior que 0.05. Nesse caso, realmente o intercepto não faz muito sentido, já que não existem desembargadores de 0 anos de idade.\n",
    "\n",
    "A outra informação mais importante do sumário é o $R^2$ (`r-squared`). O $R^2$ é uma medida de quão bem o modelo se ajusta aos dados, mostrando qual o percentual da variabilidade dos dados é explicado pelo modelo.\n",
    "\n",
    "O $R^2$ varia de 0 a 1, e quanto mais próximo de 1, melhor o modelo se ajusta aos dados. O $R^2$ é uma medida de qualidade do modelo, e é muito importante para avaliar a qualidade de um modelo de regressão.\n",
    "\n",
    "Você pode se perguntar: a interpretação $R^2$ e do coeficiente de correlação são muito parecidos, não é? A única diferença é que o $R^2$ é sempre positivo, enquanto a correlação pode ser negativa. E de fato essa intuição faz sentido: para uma regressão linear simples (ou seja, com uma variável independente), o $R^2$ é o quadrado da correlação entre as variáveis:"
   ]
  },
  {
   "cell_type": "code",
   "execution_count": 10,
   "metadata": {},
   "outputs": [
    {
     "data": {
      "text/plain": [
       "(0.4194709879489347, 0.41947098794893445)"
      ]
     },
     "execution_count": 10,
     "metadata": {},
     "output_type": "execute_result"
    }
   ],
   "source": [
    "correlacao = relatores['rel_idade'].corr(relatores['rel_tempo_magistratura'])\n",
    "\n",
    "r2 = modelo.rsquared\n",
    "\n",
    "correlacao ** 2, r2"
   ]
  },
  {
   "cell_type": "markdown",
   "metadata": {},
   "source": [
    "No entanto, o $R^2$ é uma medida mais geral, que pode ser aplicada a modelos de regressão mais complexos, com mais variáveis independentes. O $R^2$ pode ser pensado como uma medida de qualidade do modelo, enquanto a correlação é uma medida de associação entre variáveis."
   ]
  },
  {
   "cell_type": "markdown",
   "metadata": {},
   "source": [
    "Para visualizar a regressão, podemos fazer um gráfico de dispersão com a linha de regressão. Para isso, vamos usar a função `lmplot` que plota o gráfico de dispersão e a linha de regressão."
   ]
  },
  {
   "cell_type": "code",
   "execution_count": 11,
   "metadata": {},
   "outputs": [
    {
     "data": {
      "text/plain": [
       "<seaborn.axisgrid.FacetGrid at 0x7f94771ae290>"
      ]
     },
     "execution_count": 11,
     "metadata": {},
     "output_type": "execute_result"
    },
    {
     "data": {
      "image/png": "[encoded data removed]",
      "text/plain": [
       "<Figure size 500x500 with 1 Axes>"
      ]
     },
     "metadata": {},
     "output_type": "display_data"
    }
   ],
   "source": [
    "sns.lmplot(data=relatores, x='rel_idade', y='rel_tempo_magistratura')"
   ]
  },
  {
   "cell_type": "markdown",
   "metadata": {},
   "source": [
    "Na figura, a mancha azul em torno da linha de regressão é a banda de confiança da regressão. A banda de confiança é uma faixa em torno da linha de regressão que mostra a incerteza do modelo. Quanto mais larga a banda de confiança, menos confiante o modelo é naquele ponto. Note que a dispersão dos dados é maior nas idades mais avançadas dos desembargadores, o que é refletido na banda de confiança."
   ]
  },
  {
   "cell_type": "markdown",
   "metadata": {},
   "source": [
    "### Nota histórica e referências\n",
    "\n",
    "O nome \"Ordinary Leasts Squares\" vem do chamado método dos mínimos quadrados, que é o procedimento matemático para encontrar os valores de $\\beta_0$ e $\\beta_1$ que melhor se ajustam aos dados. O método dos mínimos quadrados foi desenvolvido por Legendre e Gauss no início do século XIX, e é um dos métodos mais importantes da estatística. \n",
    "\n",
    "O método dos mínimos quadrados é um método de otimização, que é uma técnica matemática para encontrar o melhor valor de uma função. Na prática, definimos um problema de otimização (uma função de perda + um método de minimização da perda) para cada modelo. Por exemplo, em um modelo de redes neurais, podemos ter diferentes funções de perda (como a entropia cruzada) e diferentes métodos de minimização (como a descida de gradiente).\n",
    "\n",
    "O método dos mínimos quadrados é um dos métodos de otimização mais simples, mas é muito poderoso e é a base de muitos modelos estatísticos.\n",
    "\n",
    "Se tiver mais interesse sobre o tema, recomendamos o livro [Introduction to Statistical Learning](https://www.statlearning.com/), que é um livro introdutório sobre aprendizado estatístico e que é muito bom para quem quer aprender mais sobre regressão e outros modelos estatísticos.\n",
    "\n",
    "<img src=\"https://images.squarespace-cdn.com/content/v1/5ff2adbe3fe4fe33db902812/8b373fbe-d1b4-4351-b803-0d3cd5bba1b0/ISLP_cover.png\" width=\"300\" />\n",
    "\n",
    "### Regressão linear múltipla\n",
    "\n",
    "A regressão linear simples pode ser generalizada para mais variáveis independentes. A regressão linear múltipla é dada pela fórmula:\n",
    "\n",
    "$$\n",
    "y = \\beta_0 + \\beta_1x_1 + \\beta_2x_2 + ... + \\beta_px_p + \\epsilon\n",
    "$$\n",
    "\n",
    "Nosso interesse agora é estudar o tempo dos processos em função da idade do desembargador e do polo do Ministério Público. Para isso, vamos ajustar um modelo de regressão linear múltipla com uma variável dependente (tempo do processo, em anos) e duas variáveis independentes (idade do desembargador e polo do Ministério Público)."
   ]
  },
  {
   "cell_type": "code",
   "execution_count": 12,
   "metadata": {},
   "outputs": [
    {
     "data": {
      "text/html": [
       "<table class=\"simpletable\">\n",
       "<caption>OLS Regression Results</caption>\n",
       "<tr>\n",
       "  <th>Dep. Variable:</th>          <td>tempo</td>      <th>  R-squared:         </th> <td>   0.004</td> \n",
       "</tr>\n",
       "<tr>\n",
       "  <th>Model:</th>                   <td>OLS</td>       <th>  Adj. R-squared:    </th> <td>   0.003</td> \n",
       "</tr>\n",
       "<tr>\n",
       "  <th>Method:</th>             <td>Least Squares</td>  <th>  F-statistic:       </th> <td>   15.20</td> \n",
       "</tr>\n",
       "<tr>\n",
       "  <th>Date:</th>             <td>Sun, 07 Apr 2024</td> <th>  Prob (F-statistic):</th> <td>2.57e-07</td> \n",
       "</tr>\n",
       "<tr>\n",
       "  <th>Time:</th>                 <td>20:01:06</td>     <th>  Log-Likelihood:    </th> <td> -18762.</td> \n",
       "</tr>\n",
       "<tr>\n",
       "  <th>No. Observations:</th>      <td>  8608</td>      <th>  AIC:               </th> <td>3.753e+04</td>\n",
       "</tr>\n",
       "<tr>\n",
       "  <th>Df Residuals:</th>          <td>  8605</td>      <th>  BIC:               </th> <td>3.755e+04</td>\n",
       "</tr>\n",
       "<tr>\n",
       "  <th>Df Model:</th>              <td>     2</td>      <th>                     </th>     <td> </td>    \n",
       "</tr>\n",
       "<tr>\n",
       "  <th>Covariance Type:</th>      <td>nonrobust</td>    <th>                     </th>     <td> </td>    \n",
       "</tr>\n",
       "</table>\n",
       "<table class=\"simpletable\">\n",
       "<tr>\n",
       "           <td></td>             <th>coef</th>     <th>std err</th>      <th>t</th>      <th>P>|t|</th>  <th>[0.025</th>    <th>0.975]</th>  \n",
       "</tr>\n",
       "<tr>\n",
       "  <th>Intercept</th>          <td>    4.0376</td> <td>    0.277</td> <td>   14.575</td> <td> 0.000</td> <td>    3.495</td> <td>    4.581</td>\n",
       "</tr>\n",
       "<tr>\n",
       "  <th>polo_mp[T.Passivo]</th> <td>   -0.4478</td> <td>    0.085</td> <td>   -5.268</td> <td> 0.000</td> <td>   -0.614</td> <td>   -0.281</td>\n",
       "</tr>\n",
       "<tr>\n",
       "  <th>rel_idade</th>          <td>   -0.0066</td> <td>    0.004</td> <td>   -1.652</td> <td> 0.099</td> <td>   -0.014</td> <td>    0.001</td>\n",
       "</tr>\n",
       "</table>\n",
       "<table class=\"simpletable\">\n",
       "<tr>\n",
       "  <th>Omnibus:</th>       <td>4063.861</td> <th>  Durbin-Watson:     </th> <td>   1.990</td> \n",
       "</tr>\n",
       "<tr>\n",
       "  <th>Prob(Omnibus):</th>  <td> 0.000</td>  <th>  Jarque-Bera (JB):  </th> <td>27633.729</td>\n",
       "</tr>\n",
       "<tr>\n",
       "  <th>Skew:</th>           <td> 2.169</td>  <th>  Prob(JB):          </th> <td>    0.00</td> \n",
       "</tr>\n",
       "<tr>\n",
       "  <th>Kurtosis:</th>       <td>10.631</td>  <th>  Cond. No.          </th> <td>    806.</td> \n",
       "</tr>\n",
       "</table><br/><br/>Notes:<br/>[1] Standard Errors assume that the covariance matrix of the errors is correctly specified."
      ],
      "text/latex": [
       "\\begin{center}\n",
       "\\begin{tabular}{lclc}\n",
       "\\toprule\n",
       "\\textbf{Dep. Variable:}      &      tempo       & \\textbf{  R-squared:         } &     0.004   \\\\\n",
       "\\textbf{Model:}              &       OLS        & \\textbf{  Adj. R-squared:    } &     0.003   \\\\\n",
       "\\textbf{Method:}             &  Least Squares   & \\textbf{  F-statistic:       } &     15.20   \\\\\n",
       "\\textbf{Date:}               & Sun, 07 Apr 2024 & \\textbf{  Prob (F-statistic):} &  2.57e-07   \\\\\n",
       "\\textbf{Time:}               &     20:01:06     & \\textbf{  Log-Likelihood:    } &   -18762.   \\\\\n",
       "\\textbf{No. Observations:}   &        8608      & \\textbf{  AIC:               } & 3.753e+04   \\\\\n",
       "\\textbf{Df Residuals:}       &        8605      & \\textbf{  BIC:               } & 3.755e+04   \\\\\n",
       "\\textbf{Df Model:}           &           2      & \\textbf{                     } &             \\\\\n",
       "\\textbf{Covariance Type:}    &    nonrobust     & \\textbf{                     } &             \\\\\n",
       "\\bottomrule\n",
       "\\end{tabular}\n",
       "\\begin{tabular}{lcccccc}\n",
       "                             & \\textbf{coef} & \\textbf{std err} & \\textbf{t} & \\textbf{P$> |$t$|$} & \\textbf{[0.025} & \\textbf{0.975]}  \\\\\n",
       "\\midrule\n",
       "\\textbf{Intercept}           &       4.0376  &        0.277     &    14.575  &         0.000        &        3.495    &        4.581     \\\\\n",
       "\\textbf{polo\\_mp[T.Passivo]} &      -0.4478  &        0.085     &    -5.268  &         0.000        &       -0.614    &       -0.281     \\\\\n",
       "\\textbf{rel\\_idade}          &      -0.0066  &        0.004     &    -1.652  &         0.099        &       -0.014    &        0.001     \\\\\n",
       "\\bottomrule\n",
       "\\end{tabular}\n",
       "\\begin{tabular}{lclc}\n",
       "\\textbf{Omnibus:}       & 4063.861 & \\textbf{  Durbin-Watson:     } &     1.990  \\\\\n",
       "\\textbf{Prob(Omnibus):} &   0.000  & \\textbf{  Jarque-Bera (JB):  } & 27633.729  \\\\\n",
       "\\textbf{Skew:}          &   2.169  & \\textbf{  Prob(JB):          } &      0.00  \\\\\n",
       "\\textbf{Kurtosis:}      &  10.631  & \\textbf{  Cond. No.          } &      806.  \\\\\n",
       "\\bottomrule\n",
       "\\end{tabular}\n",
       "%\\caption{OLS Regression Results}\n",
       "\\end{center}\n",
       "\n",
       "Notes: \\newline\n",
       " [1] Standard Errors assume that the covariance matrix of the errors is correctly specified."
      ],
      "text/plain": [
       "<class 'statsmodels.iolib.summary.Summary'>\n",
       "\"\"\"\n",
       "                            OLS Regression Results                            \n",
       "==============================================================================\n",
       "Dep. Variable:                  tempo   R-squared:                       0.004\n",
       "Model:                            OLS   Adj. R-squared:                  0.003\n",
       "Method:                 Least Squares   F-statistic:                     15.20\n",
       "Date:                Sun, 07 Apr 2024   Prob (F-statistic):           2.57e-07\n",
       "Time:                        20:01:06   Log-Likelihood:                -18762.\n",
       "No. Observations:                8608   AIC:                         3.753e+04\n",
       "Df Residuals:                    8605   BIC:                         3.755e+04\n",
       "Df Model:                           2                                         \n",
       "Covariance Type:            nonrobust                                         \n",
       "======================================================================================\n",
       "                         coef    std err          t      P>|t|      [0.025      0.975]\n",
       "--------------------------------------------------------------------------------------\n",
       "Intercept              4.0376      0.277     14.575      0.000       3.495       4.581\n",
       "polo_mp[T.Passivo]    -0.4478      0.085     -5.268      0.000      -0.614      -0.281\n",
       "rel_idade             -0.0066      0.004     -1.652      0.099      -0.014       0.001\n",
       "==============================================================================\n",
       "Omnibus:                     4063.861   Durbin-Watson:                   1.990\n",
       "Prob(Omnibus):                  0.000   Jarque-Bera (JB):            27633.729\n",
       "Skew:                           2.169   Prob(JB):                         0.00\n",
       "Kurtosis:                      10.631   Cond. No.                         806.\n",
       "==============================================================================\n",
       "\n",
       "Notes:\n",
       "[1] Standard Errors assume that the covariance matrix of the errors is correctly specified.\n",
       "\"\"\""
      ]
     },
     "execution_count": 12,
     "metadata": {},
     "output_type": "execute_result"
    }
   ],
   "source": [
    "modelo_tempo = smf.ols('tempo ~ rel_idade + polo_mp', data=camaras).fit()\n",
    "\n",
    "modelo_tempo.summary()"
   ]
  },
  {
   "cell_type": "markdown",
   "metadata": {},
   "source": [
    "Veja que, agora, temos dois coeficientes: um para a idade do desembargador e outro para o polo do Ministério Público. O coeficiente de idade é -0.007, o que significa que, para cada ano a mais de idade, o tempo do processo reduz em 0.007 anos (aproximadamente 3 dias). Note que o valor não é estatisticamente significante, já que o valor-p associado a ele, de 0.099, é maior que 0.05. O coeficiente de polo é -0.448, o que significa que, quando o polo do MP é passivo, o tempo do processo reduz em 0.448 dias. O coeficiente de polo é estatisticamente significante, já que o valor-p associado a ele é menor que 0.05.\n",
    "\n",
    "Nesse caso, o $R^2$ é 0.004, o que significa que o modelo explica menos de 1% da variabilidade dos dados. O $R^2$ é bem baixo, o que significa que o modelo não consegue representar completamente o tempo dos processos. O valor do $R^2$ pode ser usada como um indicativo da qualidade do ajuste, mas não deve ser usado como a única medida de qualidade do modelo. Outras análises de diagnóstico e discussões com especialistas são necessárias para avaliar a qualidade do modelo.\n",
    "\n",
    "Note que, além do $R^2$, temos o $R^2$ ajustado. O $R^2$ ajustado é uma versão do $R^2$ que penaliza a inclusão de variáveis independentes no modelo. O $R^2$ ajustado é uma medida mais conservadora da qualidade do modelo, já que penaliza a inclusão de variáveis independentes desnecessárias. No nosso caso, o $R^2$ ajustado é 0.003. Quando temos um modelo com diversas variáveis independentes, **recomenda-se usar o $R^2$ ajustado**.\n",
    "\n",
    "## Regressão logística\n",
    "\n",
    "A regressão logística é uma generalização da regressão linear para variáveis dependentes categóricas. A regressão logística é usada quando a variável dependente é binária, ou seja, tem apenas dois valores possíveis. A regressão logística é dada pela fórmula:\n",
    "\n",
    "$$\n",
    "p = \\frac{1}{1 + e^{-(\\beta_0 + \\beta_1x_1 + \\beta_2x_2 + ... + \\beta_px_p)}}\n",
    "$$\n",
    "\n",
    "Onde $p$ é a probabilidade de a variável dependente ser 1, $e$ é o número de Euler (aproximadamente 2.71828), e $\\beta_0, \\beta_1, ..., \\beta_p$ são os coeficientes da regressão. A interpretação dos coeficientes é a mesma da regressão linear: o coeficiente $\\beta_1$ é a mudança na probabilidade de a variável dependente ser 1 para uma unidade a mais de $x_1$, mantendo todas as outras variáveis constantes.\n",
    "\n",
    "Para entender a fórmula, vamos olhar um caso com apenas uma variável independente. Nesse caso, a fórmula da regressão logística é:\n",
    "\n",
    "$$\n",
    "p = \\frac{1}{1 + e^{-(\\beta_0 + \\beta_1x)}} = g(\\beta_0 + \\beta_1x)\n",
    "$$\n",
    "\n",
    "Veja que, ainda que a relação entre a variável de interesse (dependente) e a variável explicativa (independente) tenha uma forma estranha, a relação entre a variável de interesse e a variável explicativa ainda é linear. Por isso que a regressão logística faz parte da classe de \"modelos lineares generalizados\".\n",
    "\n",
    "### Exemplo no python\n",
    "\n",
    "Agora, vamos fazer uma aplicação da regressão logística. Nosso interesse é estudar a probabilidade da parte autora aceitar um acordo a partir de um valor que oferecemos a ela em um caso de direito do consumidor. Na nossa base de dados, temos uma lista de processos similares, contendo \n",
    "\n",
    "* o valor do acordo oferecido, como uma proporção do valor da causa (no mercado, esse valor é chamado de valor de alçada). Esse valor varia de 0 a 1, e representa a proporção do valor da causa que estamos oferecendo à parte autora;\n",
    "* a informação sobre o tipo de caso: se envolve dano moral ou dano material;\n",
    "* se a parte autora aceitou ou não o acordo.\n",
    "\n",
    "A ideia é estabelecer uma relação entre o valor do acordo e a aceitação do acordo, controlando pelo tipo de caso. Para isso, vamos ajustar um modelo de regressão logística com duas variáveis independentes: o valor da proposta de acordo (alçada) e o tipo de caso. A variável dependente é a aceitação do acordo, ou seja, uma variável binária que indica se a parte autora aceitou ou não o acordo."
   ]
  },
  {
   "cell_type": "code",
   "execution_count": 14,
   "metadata": {},
   "outputs": [
    {
     "data": {
      "text/html": [
       "<div>\n",
       "<style scoped>\n",
       "    .dataframe tbody tr th:only-of-type {\n",
       "        vertical-align: middle;\n",
       "    }\n",
       "\n",
       "    .dataframe tbody tr th {\n",
       "        vertical-align: top;\n",
       "    }\n",
       "\n",
       "    .dataframe thead th {\n",
       "        text-align: right;\n",
       "    }\n",
       "</style>\n",
       "<table border=\"1\" class=\"dataframe\">\n",
       "  <thead>\n",
       "    <tr style=\"text-align: right;\">\n",
       "      <th></th>\n",
       "      <th>valor_alcada</th>\n",
       "      <th>tipo_caso</th>\n",
       "      <th>aceita_acordo</th>\n",
       "    </tr>\n",
       "  </thead>\n",
       "  <tbody>\n",
       "    <tr>\n",
       "      <th>0</th>\n",
       "      <td>0.374540</td>\n",
       "      <td>0</td>\n",
       "      <td>0</td>\n",
       "    </tr>\n",
       "    <tr>\n",
       "      <th>1</th>\n",
       "      <td>0.950714</td>\n",
       "      <td>1</td>\n",
       "      <td>1</td>\n",
       "    </tr>\n",
       "    <tr>\n",
       "      <th>2</th>\n",
       "      <td>0.731994</td>\n",
       "      <td>1</td>\n",
       "      <td>0</td>\n",
       "    </tr>\n",
       "    <tr>\n",
       "      <th>3</th>\n",
       "      <td>0.598658</td>\n",
       "      <td>1</td>\n",
       "      <td>0</td>\n",
       "    </tr>\n",
       "    <tr>\n",
       "      <th>4</th>\n",
       "      <td>0.156019</td>\n",
       "      <td>1</td>\n",
       "      <td>0</td>\n",
       "    </tr>\n",
       "    <tr>\n",
       "      <th>5</th>\n",
       "      <td>0.155995</td>\n",
       "      <td>0</td>\n",
       "      <td>0</td>\n",
       "    </tr>\n",
       "    <tr>\n",
       "      <th>6</th>\n",
       "      <td>0.058084</td>\n",
       "      <td>1</td>\n",
       "      <td>0</td>\n",
       "    </tr>\n",
       "    <tr>\n",
       "      <th>7</th>\n",
       "      <td>0.866176</td>\n",
       "      <td>0</td>\n",
       "      <td>1</td>\n",
       "    </tr>\n",
       "    <tr>\n",
       "      <th>8</th>\n",
       "      <td>0.601115</td>\n",
       "      <td>0</td>\n",
       "      <td>0</td>\n",
       "    </tr>\n",
       "    <tr>\n",
       "      <th>9</th>\n",
       "      <td>0.708073</td>\n",
       "      <td>0</td>\n",
       "      <td>1</td>\n",
       "    </tr>\n",
       "  </tbody>\n",
       "</table>\n",
       "</div>"
      ],
      "text/plain": [
       "   valor_alcada  tipo_caso  aceita_acordo\n",
       "0      0.374540          0              0\n",
       "1      0.950714          1              1\n",
       "2      0.731994          1              0\n",
       "3      0.598658          1              0\n",
       "4      0.156019          1              0\n",
       "5      0.155995          0              0\n",
       "6      0.058084          1              0\n",
       "7      0.866176          0              1\n",
       "8      0.601115          0              0\n",
       "9      0.708073          0              1"
      ]
     },
     "execution_count": 14,
     "metadata": {},
     "output_type": "execute_result"
    }
   ],
   "source": [
    "acordos = pd.read_csv('https://github.com/jtrecenti/main-cdad2/releases/download/data/acordos.csv')\n",
    "\n",
    "# nomes originais: Valor de Alçada,\tTipo de Caso,\tAceita Acordo\n",
    "acordos.rename(columns={\n",
    "  'Valor de Alçada': 'valor_alcada',\n",
    "  'Tipo de Caso': 'tipo_caso',\n",
    "  'Aceita Acordo': 'aceita_acordo'}, inplace=True)\n",
    "\n",
    "acordos.head(10)"
   ]
  },
  {
   "cell_type": "code",
   "execution_count": 15,
   "metadata": {},
   "outputs": [
    {
     "name": "stdout",
     "output_type": "stream",
     "text": [
      "Optimization terminated successfully.\n",
      "         Current function value: 0.280667\n",
      "         Iterations 8\n"
     ]
    },
    {
     "data": {
      "text/html": [
       "<table class=\"simpletable\">\n",
       "<caption>Logit Regression Results</caption>\n",
       "<tr>\n",
       "  <th>Dep. Variable:</th>     <td>aceita_acordo</td>  <th>  No. Observations:  </th>   <td>  1000</td>  \n",
       "</tr>\n",
       "<tr>\n",
       "  <th>Model:</th>                 <td>Logit</td>      <th>  Df Residuals:      </th>   <td>   997</td>  \n",
       "</tr>\n",
       "<tr>\n",
       "  <th>Method:</th>                 <td>MLE</td>       <th>  Df Model:          </th>   <td>     2</td>  \n",
       "</tr>\n",
       "<tr>\n",
       "  <th>Date:</th>            <td>Sun, 07 Apr 2024</td> <th>  Pseudo R-squ.:     </th>   <td>0.4647</td>  \n",
       "</tr>\n",
       "<tr>\n",
       "  <th>Time:</th>                <td>20:01:07</td>     <th>  Log-Likelihood:    </th>  <td> -280.67</td> \n",
       "</tr>\n",
       "<tr>\n",
       "  <th>converged:</th>             <td>True</td>       <th>  LL-Null:           </th>  <td> -524.36</td> \n",
       "</tr>\n",
       "<tr>\n",
       "  <th>Covariance Type:</th>     <td>nonrobust</td>    <th>  LLR p-value:       </th> <td>1.456e-106</td>\n",
       "</tr>\n",
       "</table>\n",
       "<table class=\"simpletable\">\n",
       "<tr>\n",
       "        <td></td>          <th>coef</th>     <th>std err</th>      <th>z</th>      <th>P>|z|</th>  <th>[0.025</th>    <th>0.975]</th>  \n",
       "</tr>\n",
       "<tr>\n",
       "  <th>Intercept</th>    <td>   -7.6311</td> <td>    0.541</td> <td>  -14.104</td> <td> 0.000</td> <td>   -8.692</td> <td>   -6.571</td>\n",
       "</tr>\n",
       "<tr>\n",
       "  <th>valor_alcada</th> <td>    9.6214</td> <td>    0.690</td> <td>   13.941</td> <td> 0.000</td> <td>    8.269</td> <td>   10.974</td>\n",
       "</tr>\n",
       "<tr>\n",
       "  <th>tipo_caso</th>    <td>    0.0727</td> <td>    0.213</td> <td>    0.342</td> <td> 0.733</td> <td>   -0.344</td> <td>    0.490</td>\n",
       "</tr>\n",
       "</table>"
      ],
      "text/latex": [
       "\\begin{center}\n",
       "\\begin{tabular}{lclc}\n",
       "\\toprule\n",
       "\\textbf{Dep. Variable:}   &  aceita\\_acordo  & \\textbf{  No. Observations:  } &     1000    \\\\\n",
       "\\textbf{Model:}           &      Logit       & \\textbf{  Df Residuals:      } &      997    \\\\\n",
       "\\textbf{Method:}          &       MLE        & \\textbf{  Df Model:          } &        2    \\\\\n",
       "\\textbf{Date:}            & Sun, 07 Apr 2024 & \\textbf{  Pseudo R-squ.:     } &   0.4647    \\\\\n",
       "\\textbf{Time:}            &     20:01:07     & \\textbf{  Log-Likelihood:    } &   -280.67   \\\\\n",
       "\\textbf{converged:}       &       True       & \\textbf{  LL-Null:           } &   -524.36   \\\\\n",
       "\\textbf{Covariance Type:} &    nonrobust     & \\textbf{  LLR p-value:       } & 1.456e-106  \\\\\n",
       "\\bottomrule\n",
       "\\end{tabular}\n",
       "\\begin{tabular}{lcccccc}\n",
       "                       & \\textbf{coef} & \\textbf{std err} & \\textbf{z} & \\textbf{P$> |$z$|$} & \\textbf{[0.025} & \\textbf{0.975]}  \\\\\n",
       "\\midrule\n",
       "\\textbf{Intercept}     &      -7.6311  &        0.541     &   -14.104  &         0.000        &       -8.692    &       -6.571     \\\\\n",
       "\\textbf{valor\\_alcada} &       9.6214  &        0.690     &    13.941  &         0.000        &        8.269    &       10.974     \\\\\n",
       "\\textbf{tipo\\_caso}    &       0.0727  &        0.213     &     0.342  &         0.733        &       -0.344    &        0.490     \\\\\n",
       "\\bottomrule\n",
       "\\end{tabular}\n",
       "%\\caption{Logit Regression Results}\n",
       "\\end{center}"
      ],
      "text/plain": [
       "<class 'statsmodels.iolib.summary.Summary'>\n",
       "\"\"\"\n",
       "                           Logit Regression Results                           \n",
       "==============================================================================\n",
       "Dep. Variable:          aceita_acordo   No. Observations:                 1000\n",
       "Model:                          Logit   Df Residuals:                      997\n",
       "Method:                           MLE   Df Model:                            2\n",
       "Date:                Sun, 07 Apr 2024   Pseudo R-squ.:                  0.4647\n",
       "Time:                        20:01:07   Log-Likelihood:                -280.67\n",
       "converged:                       True   LL-Null:                       -524.36\n",
       "Covariance Type:            nonrobust   LLR p-value:                1.456e-106\n",
       "================================================================================\n",
       "                   coef    std err          z      P>|z|      [0.025      0.975]\n",
       "--------------------------------------------------------------------------------\n",
       "Intercept       -7.6311      0.541    -14.104      0.000      -8.692      -6.571\n",
       "valor_alcada     9.6214      0.690     13.941      0.000       8.269      10.974\n",
       "tipo_caso        0.0727      0.213      0.342      0.733      -0.344       0.490\n",
       "================================================================================\n",
       "\"\"\""
      ]
     },
     "execution_count": 15,
     "metadata": {},
     "output_type": "execute_result"
    }
   ],
   "source": [
    "modelo_logistico = smf.logit('aceita_acordo ~ valor_alcada + tipo_caso', data=acordos).fit()\n",
    "\n",
    "modelo_logistico.summary()"
   ]
  },
  {
   "cell_type": "markdown",
   "metadata": {},
   "source": [
    "Vamos interpretar os resultados do modelo.\n",
    "\n",
    "O coeficiente de alçada é 9.621, o que significa que, para cada unidade a mais de alçada, a chance de a parte autora aceitar o acordo aumenta (a interpretação da magnitude desse aumento é mais complicada e não veremos por enquanto). O coeficiente de alçada é estatisticamente significante, já que o valor-p associado a ele é menor que 0.05. \n",
    "\n",
    "O coeficiente do tipo de caso ser dano moral é 0.213, o que significa que, para casos de dano moral, a probabilidade de a parte autora aceitar o acordo aumenta. O coeficiente de dano moral não é estatisticamente significante, já que o valor-p associado a ele, de 0.73, é maior que 0.05.\n",
    "\n",
    "Já que a probabilidade de aceitação não depende do tipo de caso, podemos simplificar o modelo e ajustar um modelo de regressão logística apenas com a alçada:"
   ]
  },
  {
   "cell_type": "code",
   "execution_count": 16,
   "metadata": {},
   "outputs": [
    {
     "name": "stdout",
     "output_type": "stream",
     "text": [
      "Optimization terminated successfully.\n",
      "         Current function value: 0.280725\n",
      "         Iterations 8\n"
     ]
    },
    {
     "data": {
      "text/html": [
       "<table class=\"simpletable\">\n",
       "<caption>Logit Regression Results</caption>\n",
       "<tr>\n",
       "  <th>Dep. Variable:</th>     <td>aceita_acordo</td>  <th>  No. Observations:  </th>   <td>  1000</td>  \n",
       "</tr>\n",
       "<tr>\n",
       "  <th>Model:</th>                 <td>Logit</td>      <th>  Df Residuals:      </th>   <td>   998</td>  \n",
       "</tr>\n",
       "<tr>\n",
       "  <th>Method:</th>                 <td>MLE</td>       <th>  Df Model:          </th>   <td>     1</td>  \n",
       "</tr>\n",
       "<tr>\n",
       "  <th>Date:</th>            <td>Sun, 07 Apr 2024</td> <th>  Pseudo R-squ.:     </th>   <td>0.4646</td>  \n",
       "</tr>\n",
       "<tr>\n",
       "  <th>Time:</th>                <td>20:01:07</td>     <th>  Log-Likelihood:    </th>  <td> -280.73</td> \n",
       "</tr>\n",
       "<tr>\n",
       "  <th>converged:</th>             <td>True</td>       <th>  LL-Null:           </th>  <td> -524.36</td> \n",
       "</tr>\n",
       "<tr>\n",
       "  <th>Covariance Type:</th>     <td>nonrobust</td>    <th>  LLR p-value:       </th> <td>5.568e-108</td>\n",
       "</tr>\n",
       "</table>\n",
       "<table class=\"simpletable\">\n",
       "<tr>\n",
       "        <td></td>          <th>coef</th>     <th>std err</th>      <th>z</th>      <th>P>|z|</th>  <th>[0.025</th>    <th>0.975]</th>  \n",
       "</tr>\n",
       "<tr>\n",
       "  <th>Intercept</th>    <td>   -7.5893</td> <td>    0.526</td> <td>  -14.434</td> <td> 0.000</td> <td>   -8.620</td> <td>   -6.559</td>\n",
       "</tr>\n",
       "<tr>\n",
       "  <th>valor_alcada</th> <td>    9.6114</td> <td>    0.689</td> <td>   13.950</td> <td> 0.000</td> <td>    8.261</td> <td>   10.962</td>\n",
       "</tr>\n",
       "</table>"
      ],
      "text/latex": [
       "\\begin{center}\n",
       "\\begin{tabular}{lclc}\n",
       "\\toprule\n",
       "\\textbf{Dep. Variable:}   &  aceita\\_acordo  & \\textbf{  No. Observations:  } &     1000    \\\\\n",
       "\\textbf{Model:}           &      Logit       & \\textbf{  Df Residuals:      } &      998    \\\\\n",
       "\\textbf{Method:}          &       MLE        & \\textbf{  Df Model:          } &        1    \\\\\n",
       "\\textbf{Date:}            & Sun, 07 Apr 2024 & \\textbf{  Pseudo R-squ.:     } &   0.4646    \\\\\n",
       "\\textbf{Time:}            &     20:01:07     & \\textbf{  Log-Likelihood:    } &   -280.73   \\\\\n",
       "\\textbf{converged:}       &       True       & \\textbf{  LL-Null:           } &   -524.36   \\\\\n",
       "\\textbf{Covariance Type:} &    nonrobust     & \\textbf{  LLR p-value:       } & 5.568e-108  \\\\\n",
       "\\bottomrule\n",
       "\\end{tabular}\n",
       "\\begin{tabular}{lcccccc}\n",
       "                       & \\textbf{coef} & \\textbf{std err} & \\textbf{z} & \\textbf{P$> |$z$|$} & \\textbf{[0.025} & \\textbf{0.975]}  \\\\\n",
       "\\midrule\n",
       "\\textbf{Intercept}     &      -7.5893  &        0.526     &   -14.434  &         0.000        &       -8.620    &       -6.559     \\\\\n",
       "\\textbf{valor\\_alcada} &       9.6114  &        0.689     &    13.950  &         0.000        &        8.261    &       10.962     \\\\\n",
       "\\bottomrule\n",
       "\\end{tabular}\n",
       "%\\caption{Logit Regression Results}\n",
       "\\end{center}"
      ],
      "text/plain": [
       "<class 'statsmodels.iolib.summary.Summary'>\n",
       "\"\"\"\n",
       "                           Logit Regression Results                           \n",
       "==============================================================================\n",
       "Dep. Variable:          aceita_acordo   No. Observations:                 1000\n",
       "Model:                          Logit   Df Residuals:                      998\n",
       "Method:                           MLE   Df Model:                            1\n",
       "Date:                Sun, 07 Apr 2024   Pseudo R-squ.:                  0.4646\n",
       "Time:                        20:01:07   Log-Likelihood:                -280.73\n",
       "converged:                       True   LL-Null:                       -524.36\n",
       "Covariance Type:            nonrobust   LLR p-value:                5.568e-108\n",
       "================================================================================\n",
       "                   coef    std err          z      P>|z|      [0.025      0.975]\n",
       "--------------------------------------------------------------------------------\n",
       "Intercept       -7.5893      0.526    -14.434      0.000      -8.620      -6.559\n",
       "valor_alcada     9.6114      0.689     13.950      0.000       8.261      10.962\n",
       "================================================================================\n",
       "\"\"\""
      ]
     },
     "execution_count": 16,
     "metadata": {},
     "output_type": "execute_result"
    }
   ],
   "source": [
    "modelo_logistico = smf.logit('aceita_acordo ~ valor_alcada', data=acordos).fit()\n",
    "\n",
    "modelo_logistico.summary()"
   ]
  },
  {
   "cell_type": "markdown",
   "metadata": {},
   "source": [
    "Agora que temos o valor final do modelo, podemos fazer uma interpretação mais direta. Podemos fazer um gráfico representando a relação entre a alçada e a probabilidade de aceitação do acordo:"
   ]
  },
  {
   "cell_type": "code",
   "execution_count": 17,
   "metadata": {},
   "outputs": [
    {
     "data": {
      "text/plain": [
       "<Axes: xlabel='valor_alcada', ylabel='probabilidade'>"
      ]
     },
     "execution_count": 17,
     "metadata": {},
     "output_type": "execute_result"
    },
    {
     "data": {
      "image/png": "[encoded data removed]",
      "text/plain": [
       "<Figure size 640x480 with 1 Axes>"
      ]
     },
     "metadata": {},
     "output_type": "display_data"
    }
   ],
   "source": [
    "x = np.linspace(0, 1, 100)\n",
    "y = modelo_logistico.predict(pd.DataFrame({'valor_alcada': x}))\n",
    "\n",
    "df_predict = pd.DataFrame({'valor_alcada': x, 'probabilidade': y})\n",
    "\n",
    "sns.lineplot(data=df_predict, x='valor_alcada', y='probabilidade')"
   ]
  },
  {
   "cell_type": "markdown",
   "metadata": {},
   "source": [
    "Pelo gráfico, vemos que a probabilidade de aceitação do acordo aumenta com o valor da alçada. Um valor de alçada abaixo de 40% do valor da causa implica em probabilidades ínfimas de aceitação do acordo, enquanto um valor de alçada próximo de 100% implica em uma aceitação maior de 80% do acordo, apesar desse valor não ser interessante para a parte ré. O valor ótimo de acordo é um trade-off entre a probabilidade de aceitação e a expectativa do resultado do processo pela parte ré."
   ]
  }
 ],
 "metadata": {
  "kernelspec": {
   "display_name": "Python 3",
   "language": "python",
   "name": "python3"
  },
  "language_info": {
   "codemirror_mode": {
    "name": "ipython",
    "version": 3
   },
   "file_extension": ".py",
   "mimetype": "text/x-python",
   "name": "python",
   "nbconvert_exporter": "python",
   "pygments_lexer": "ipython3",
   "version": "3.11.5"
  }
 },
 "nbformat": 4,
 "nbformat_minor": 4
}
