{
 "cells": [
  {
   "cell_type": "markdown",
   "metadata": {},
   "source": [
    "# Organização de dados, frequências, proporções e taxas"
   ]
  },
  {
   "cell_type": "code",
   "execution_count": 2,
   "metadata": {},
   "outputs": [],
   "source": [
    "import pandas as pd\n",
    "import seaborn as sns"
   ]
  },
  {
   "cell_type": "code",
   "execution_count": 3,
   "metadata": {},
   "outputs": [],
   "source": [
    "camaras = pd.read_csv('https://github.com/jtrecenti/main-cdad2/releases/download/data/camaras.csv')"
   ]
  },
  {
   "cell_type": "markdown",
   "metadata": {},
   "source": [
    "## Introdução\n",
    "\n",
    "Nessa análise, nosso interesse é estudar as decisões do TJSP em apelações criminais. Vamos estudar as quantidades, proporções e distribuições de decisões de acordo com as categorias de decisões.\n",
    "\n",
    "**Por que isso é importante?** A maior parte dos dados no direito envolvem variáveis categóricas. Entender como esse tipo de dados funciona é fundamental para entender o que podemos e não podemos fazer nas nossas análises."
   ]
  },
  {
   "cell_type": "markdown",
   "metadata": {},
   "source": [
    "## Conceitos\n",
    "\n",
    "Para cada conceito, vamos mostrar a definição, a fórmula matemática e o código em python para calcular.\n",
    "\n",
    "### Frequência\n",
    "\n",
    "#### Definição\n",
    "\n",
    "A **frequência** é a quantidade de ocorrências de uma observação, objeto, pessoa, processo, etc. Geralmente, está atrelada a variáveis categóricas, tanto nominais quanto ordinais.\n",
    "\n",
    "#### Fórmula\n",
    "\n",
    "A fórmula aqui é bem simples: basta contar a quantidade de vezes que cada categoria aparece. Geralmente, denotamos a frequência pela variável $n_i$, sendo $i$ a categoria.\n",
    "\n",
    "$$n_i = \\text{número de vezes que a categoria } i \\text{ aparece}$$\n",
    "\n",
    "#### Código\n",
    "\n",
    "A frequência de uma variável pode ser rapidamente obtida com `value_counts()`"
   ]
  },
  {
   "cell_type": "code",
   "execution_count": 4,
   "metadata": {},
   "outputs": [
    {
     "data": {
      "text/plain": [
       "decisao\n",
       "Negaram                 5273\n",
       "Parcialmente            3691\n",
       "Provido                  716\n",
       "Punibilidade Extinta     238\n",
       "Outros                    66\n",
       "Não conhecido             16\n",
       "Name: count, dtype: int64"
      ]
     },
     "execution_count": 4,
     "metadata": {},
     "output_type": "execute_result"
    }
   ],
   "source": [
    "camaras.decisao.value_counts()"
   ]
  },
  {
   "cell_type": "markdown",
   "metadata": {},
   "source": [
    "Aqui, $n_1$ é 5273, $n_2$ é 3691 e assim por diante.\n",
    "\n",
    "### Frequência relativa\n",
    "\n",
    "#### Definição\n",
    "\n",
    "A **frequência relativa** é a proporção de ocorrências de uma observação, objeto, pessoa, processo, etc. em relação ao total de ocorrências. Também está atrelada a variáveis categóricas, tanto nominais quanto ordinais.\n",
    "\n",
    "#### Fórmula\n",
    "\n",
    "Basta dividir a frequência da categoria pela quantidade total de observações na amostra ($N$). Denotamos a frequência relativa pela variável $f_i$, sendo $i$ a categoria.\n",
    "\n",
    "$$f_i = \\frac{n_i}{N}$$\n",
    "\n",
    "#### Código\n",
    "\n",
    "O argumento 'normalize=' permite obter a frequência relativa - não o total de ocorrências."
   ]
  },
  {
   "cell_type": "code",
   "execution_count": 5,
   "metadata": {},
   "outputs": [
    {
     "data": {
      "text/plain": [
       "decisao\n",
       "Negaram                 0.5273\n",
       "Parcialmente            0.3691\n",
       "Provido                 0.0716\n",
       "Punibilidade Extinta    0.0238\n",
       "Outros                  0.0066\n",
       "Não conhecido           0.0016\n",
       "Name: proportion, dtype: float64"
      ]
     },
     "execution_count": 5,
     "metadata": {},
     "output_type": "execute_result"
    }
   ],
   "source": [
    "camaras.decisao.value_counts(normalize=True)"
   ]
  },
  {
   "cell_type": "markdown",
   "metadata": {},
   "source": [
    "A frequência relativa, quando expressa na forma de porcentagem, também é chamada de **proporção**. A proporção de decisões negadas dentre todas as decisões é de 0.5273 (frequência relativa) ou 52.73% (proporção).\n",
    "\n",
    "**Obs**: Você não precisa se prender muito a essa distinção rígida de frequência relativa e proporção. No mundo real, as pessoas usam os termos de forma intercambiável, e não há problema nenhum nisso.\n",
    "\n",
    "**Obs2**: Quando calculamos todas as proporções/frequências relativas de uma variável categórica, a soma delas é 1 (ou 100%, se expressa em porcentagem). Isso é uma propriedade das proporções.\n",
    "\n",
    "**Obs3**: Quando mostramos todas as proporções/frequências relativas de uma variável categórica, estamos mostrando a **distribuição** da variável. A distribuição é a forma como as categorias estão distribuídas em relação ao total de observações. Falaremos mais sobre isso quando discutirmos os conceitos de *estatística* e *probabilidade*.\n",
    "\n",
    "### Razão\n",
    "\n",
    "Você percebeu que, para fazer a proporção, dividimos uma frequência pela quantidade total de observações? Isso é uma **razão**.\n",
    "\n",
    "#### Definição\n",
    "\n",
    "A razão é a divisão entre duas quantidades de interesse. No caso da frequência relativa, estamos comparando a quantidade de vezes que uma categoria aparece com a quantidade total de observações. Mas a razão pode ser usada para comparar qualquer coisa.\n",
    "\n",
    "#### Fórmula\n",
    "\n",
    "Basta dividir a quantidade de interesse pela outra quantidade de interesse. Denotamos a razão pela variável $r$.\n",
    "\n",
    "$$r = \\frac{a}{b}$$\n",
    "\n",
    "Na fórmula, $a$ e $b$ podem ser quaisquer números. No caso da frequência relativa, $a$ é a quantidade de vezes que uma categoria aparece e $b$ é a quantidade total de observações.\n",
    "\n",
    "#### Código\n",
    "\n",
    "A razão é obtida dividindo-se os dois números de interesse. Por exemplo, se quisermos saber quantos recursos relacionados a tráfico de drogas temos para cada recurso relacionado a furto, basta dividir a frequência de recursos de tráfico pela frequência de recursos de furto."
   ]
  },
  {
   "cell_type": "code",
   "execution_count": 4,
   "metadata": {},
   "outputs": [
    {
     "data": {
      "text/html": [
       "<div>\n",
       "<style scoped>\n",
       "    .dataframe tbody tr th:only-of-type {\n",
       "        vertical-align: middle;\n",
       "    }\n",
       "\n",
       "    .dataframe tbody tr th {\n",
       "        vertical-align: top;\n",
       "    }\n",
       "\n",
       "    .dataframe thead th {\n",
       "        text-align: right;\n",
       "    }\n",
       "</style>\n",
       "<table border=\"1\" class=\"dataframe\">\n",
       "  <thead>\n",
       "    <tr style=\"text-align: right;\">\n",
       "      <th></th>\n",
       "      <th>assunto</th>\n",
       "      <th>count</th>\n",
       "    </tr>\n",
       "  </thead>\n",
       "  <tbody>\n",
       "    <tr>\n",
       "      <th>0</th>\n",
       "      <td>DIREITO PENAL - Crimes Previstos na Legislação Extravagante - Crimes de Tráfico Ilícito e Uso Indevido de Drogas - Tráfico de Drogas e Condutas Afins</td>\n",
       "      <td>3082</td>\n",
       "    </tr>\n",
       "    <tr>\n",
       "      <th>1</th>\n",
       "      <td>DIREITO PENAL - Crimes contra o Patrimônio - Roubo Majorado</td>\n",
       "      <td>1397</td>\n",
       "    </tr>\n",
       "    <tr>\n",
       "      <th>2</th>\n",
       "      <td>DIREITO PENAL - Crimes contra o Patrimônio - Furto Qualificado</td>\n",
       "      <td>1122</td>\n",
       "    </tr>\n",
       "    <tr>\n",
       "      <th>3</th>\n",
       "      <td>DIREITO PENAL-Crimes contra o Patrimônio-Furto</td>\n",
       "      <td>577</td>\n",
       "    </tr>\n",
       "    <tr>\n",
       "      <th>4</th>\n",
       "      <td>DIREITO PENAL - Crimes Previstos na Legislação Extravagante - Crimes de Trânsito</td>\n",
       "      <td>458</td>\n",
       "    </tr>\n",
       "    <tr>\n",
       "      <th>...</th>\n",
       "      <td>...</td>\n",
       "      <td>...</td>\n",
       "    </tr>\n",
       "    <tr>\n",
       "      <th>115</th>\n",
       "      <td>DIREITO PENAL - Crimes Praticados por Particular Contra a Administração em Geral - Subtração ou inutilização de livro ou documento</td>\n",
       "      <td>1</td>\n",
       "    </tr>\n",
       "    <tr>\n",
       "      <th>116</th>\n",
       "      <td>DIREITO PENAL - Crimes Contra a Administração da Justiça - Favorecimento real</td>\n",
       "      <td>1</td>\n",
       "    </tr>\n",
       "    <tr>\n",
       "      <th>117</th>\n",
       "      <td>DIREITO PENAL - Crimes Praticados por Particular Contra a Administração em Geral - \"Lavagem\" ou Ocultação de Bens, Direitos ou Valores Oriundos de Corrupção</td>\n",
       "      <td>1</td>\n",
       "    </tr>\n",
       "    <tr>\n",
       "      <th>118</th>\n",
       "      <td>DIREITO PENAL - Crimes Praticados por Particular Contra a Administração em Geral - Contrabando ou descaminho</td>\n",
       "      <td>1</td>\n",
       "    </tr>\n",
       "    <tr>\n",
       "      <th>119</th>\n",
       "      <td>Crimes Resultante de Preconceito de Raça ou de Cor</td>\n",
       "      <td>1</td>\n",
       "    </tr>\n",
       "  </tbody>\n",
       "</table>\n",
       "<p>120 rows × 2 columns</p>\n",
       "</div>"
      ],
      "text/plain": [
       "                                                                                                                                                          assunto  \\\n",
       "0           DIREITO PENAL - Crimes Previstos na Legislação Extravagante - Crimes de Tráfico Ilícito e Uso Indevido de Drogas - Tráfico de Drogas e Condutas Afins   \n",
       "1                                                                                                     DIREITO PENAL - Crimes contra o Patrimônio - Roubo Majorado   \n",
       "2                                                                                                  DIREITO PENAL - Crimes contra o Patrimônio - Furto Qualificado   \n",
       "3                                                                                                                  DIREITO PENAL-Crimes contra o Patrimônio-Furto   \n",
       "4                                                                                DIREITO PENAL - Crimes Previstos na Legislação Extravagante - Crimes de Trânsito   \n",
       "..                                                                                                                                                            ...   \n",
       "115                            DIREITO PENAL - Crimes Praticados por Particular Contra a Administração em Geral - Subtração ou inutilização de livro ou documento   \n",
       "116                                                                                 DIREITO PENAL - Crimes Contra a Administração da Justiça - Favorecimento real   \n",
       "117  DIREITO PENAL - Crimes Praticados por Particular Contra a Administração em Geral - \"Lavagem\" ou Ocultação de Bens, Direitos ou Valores Oriundos de Corrupção   \n",
       "118                                                  DIREITO PENAL - Crimes Praticados por Particular Contra a Administração em Geral - Contrabando ou descaminho   \n",
       "119                                                                                                            Crimes Resultante de Preconceito de Raça ou de Cor   \n",
       "\n",
       "     count  \n",
       "0     3082  \n",
       "1     1397  \n",
       "2     1122  \n",
       "3      577  \n",
       "4      458  \n",
       "..     ...  \n",
       "115      1  \n",
       "116      1  \n",
       "117      1  \n",
       "118      1  \n",
       "119      1  \n",
       "\n",
       "[120 rows x 2 columns]"
      ]
     },
     "execution_count": 4,
     "metadata": {},
     "output_type": "execute_result"
    }
   ],
   "source": [
    "pd.set_option('display.max_colwidth', None) # Mostrar todas as colunas\n",
    "\n",
    "camaras.value_counts('assunto').reset_index()"
   ]
  },
  {
   "cell_type": "code",
   "execution_count": 5,
   "metadata": {},
   "outputs": [
    {
     "data": {
      "text/plain": [
       "(3082, 1699, 1.8140082401412596)"
      ]
     },
     "execution_count": 5,
     "metadata": {},
     "output_type": "execute_result"
    }
   ],
   "source": [
    "assuntos_trafico = [\n",
    "  'DIREITO PENAL - Crimes Previstos na Legislação Extravagante - Crimes de Tráfico Ilícito e Uso Indevido de Drogas - Tráfico de Drogas e Condutas Afins'\n",
    "]\n",
    "\n",
    "assuntos_furto = [\n",
    "  'DIREITO PENAL - Crimes contra o Patrimônio - Furto Qualificado',\n",
    "  'DIREITO PENAL-Crimes contra o Patrimônio-Furto'\n",
    "]\n",
    "\n",
    "qt_trafico = camaras[camaras.assunto.isin(assuntos_trafico)].shape[0]\n",
    "\n",
    "qt_furto = camaras[camaras.assunto.isin(assuntos_furto)].shape[0]\n",
    "\n",
    "razao = qt_trafico / qt_furto\n",
    "\n",
    "qt_trafico, qt_furto, razao"
   ]
  },
  {
   "cell_type": "markdown",
   "metadata": {},
   "source": [
    "Temos aproximadamente 1.81 recursos relacionados a tráfico para cada recurso relacionado a furto.\n",
    "\n",
    "Também podemos representar as razões multiplicando por valores constantes (usualmente potências de 10, como 100, 1000, etc). Por exemplo, a razão acima poderia ser expressa como 181 casos de tráfico para cada 100 casos de furto, ou 181:100.\n",
    "\n",
    "### Taxa\n",
    "\n",
    "#### Definição\n",
    "\n",
    "No inglês, **rate** é a divisão entre dois números com unidades de medidas diferentes (por exemplo, km/h). Já a razão **ratio** é a divisão entre dois números com a mesma unidade de medida (como o exemplo mostrado acima).\n",
    "\n",
    "Na prática, muitas vezes chamamos uma razão de taxa, mesmo que os números tenham a mesma unidade de medida. Isso acontece por vários motivos: um é a comodidade e questões culturais mesmo; outro é que na área de epidemiologia, a definição de taxa geralmente está atrelada a um denominador que varia no tempo (como, por exemplo, taxa de mortalidade, que varia no tempo porque a população varia no tempo).\n",
    "\n",
    "Um exemplo, muito usado em administração judiciária, é a **taxa de congestionamento**. Aqui, o numerador é o número de processos remanescentes no tribunal -- fazendo-se a diferença entre o total de processos (novos + pendentes) e o total de processos baixados -- e o denominador é o número total de processos (novos + pendentes).\n",
    "\n",
    "Outro exemplo é a taxa de reforma. O numerador é o número de decisões favoráveis ao recurso e o denominador é o número total de recursos baixados.\n",
    "\n",
    "**Obs:** existem variações para a definição da taxa de reforma. Um exemplo é considerar no denominador apenas as decisões que poderiam ser reformadas, ou seja, as decisões de mérito.\n",
    "\n",
    "#### Fórmula\n",
    "\n",
    "A fórmula é a mesma da razão, mas a interpretação é diferente. Denotamos a taxa pela variável $t$.\n",
    "\n",
    "$$t = \\frac{a}{b}$$\n",
    "\n",
    "Na fórmula, $a$ e $b$ podem ser quaisquer números. No caso da taxa de reforma, $a$ é o número de decisões favoráveis e desfavoráveis e $b$ é o número total de decisões.\n",
    "\n",
    "#### Código\n",
    "\n",
    "A taxa é obtida dividindo-se os dois números de interesse. Por exemplo, se quisermos saber a taxa de reforma, basta dividir a frequência de decisões favoráveis pela frequência de decisões (total ou de mérito)."
   ]
  },
  {
   "cell_type": "code",
   "execution_count": 6,
   "metadata": {},
   "outputs": [
    {
     "data": {
      "text/plain": [
       "(0.4407, 0.45526859504132233)"
      ]
     },
     "execution_count": 6,
     "metadata": {},
     "output_type": "execute_result"
    }
   ],
   "source": [
    "qt_decisoes_total = camaras.shape[0]\n",
    "\n",
    "nm_decisoes_merito = ['Negaram', 'Parcialmente', 'Provido']\n",
    "\n",
    "qt_decisoes_merito = camaras[camaras.decisao.isin(nm_decisoes_merito)].shape[0]\n",
    "qt_decisoes_favoraveis = camaras[camaras.decisao.isin(['Parcialmente', 'Provido'])].shape[0]\n",
    "\n",
    "tx_reforma_total = qt_decisoes_favoraveis / qt_decisoes_total\n",
    "tx_reforma_merito = qt_decisoes_favoraveis / qt_decisoes_merito\n",
    "\n",
    "tx_reforma_total, tx_reforma_merito"
   ]
  },
  {
   "cell_type": "markdown",
   "metadata": {},
   "source": [
    "## Aplicação"
   ]
  },
  {
   "cell_type": "markdown",
   "metadata": {},
   "source": [
    "A quantidade ou proporção de recursos negados nas câmaras criminais pode variar de acordo com o polo do Ministério Público no caso. Afinal, se um magistrado tem um viés mais ou menos favorável ao MP, a quantidade de recursos negados pode variar."
   ]
  },
  {
   "cell_type": "code",
   "execution_count": 5,
   "metadata": {},
   "outputs": [
    {
     "data": {
      "text/plain": [
       "358"
      ]
     },
     "execution_count": 5,
     "metadata": {},
     "output_type": "execute_result"
    }
   ],
   "source": [
    "len(camaras[(camaras.polo_mp == \"Ativo\") & (camaras.decisao == \"Negaram\")])"
   ]
  },
  {
   "cell_type": "code",
   "execution_count": 6,
   "metadata": {},
   "outputs": [
    {
     "data": {
      "text/plain": [
       "4915"
      ]
     },
     "execution_count": 6,
     "metadata": {},
     "output_type": "execute_result"
    }
   ],
   "source": [
    "len(camaras[(camaras.polo_mp == \"Passivo\") & (camaras.decisao == \"Negaram\")])"
   ]
  },
  {
   "cell_type": "markdown",
   "metadata": {},
   "source": [
    "A frequência de recursos negados nos casos em que o MP recorreu (polo ativo) é 358. Quando o MP está no polo passivo, esse número é de 4915. O que isso revela sobre o viés do tribunal com relação ao MP? O fato de existirem menos recursos negados quando o MP recorre pode ser um indício de que o tribunal é mais favorável ao MP?\n",
    "\n",
    "Talvez a diferença seja apenas uma questão de quantidade de recursos interpostos pelo MP em relação ao polo passivo. Afinal, se o MP recorre em menos casos, é natural que haja menos recursos negados.\n",
    "\n",
    "A proporção de recursos negados para cada tipo de polo do MP é o que de fato deve ser comparado nesse caso."
   ]
  },
  {
   "cell_type": "code",
   "execution_count": 7,
   "metadata": {},
   "outputs": [],
   "source": [
    "freq = len(camaras[(camaras.polo_mp == \"Ativo\") & (camaras.decisao == \"Negaram\")])\n",
    "N = len(camaras[camaras.polo_mp == \"Ativo\"])"
   ]
  },
  {
   "cell_type": "code",
   "execution_count": 8,
   "metadata": {},
   "outputs": [
    {
     "data": {
      "text/plain": [
       "0.44143033292231815"
      ]
     },
     "execution_count": 8,
     "metadata": {},
     "output_type": "execute_result"
    }
   ],
   "source": [
    "P_ativo = freq / N\n",
    "P_ativo"
   ]
  },
  {
   "cell_type": "code",
   "execution_count": 10,
   "metadata": {},
   "outputs": [],
   "source": [
    "freq = len(camaras[(camaras.polo_mp == \"Passivo\") & (camaras.decisao == \"Negaram\")])\n",
    "N = len(camaras[camaras.polo_mp == \"Passivo\"])"
   ]
  },
  {
   "cell_type": "code",
   "execution_count": 19,
   "metadata": {},
   "outputs": [
    {
     "data": {
      "text/plain": [
       "0.5348786592665143"
      ]
     },
     "execution_count": 19,
     "metadata": {},
     "output_type": "execute_result"
    }
   ],
   "source": [
    "P_passivo = freq / N\n",
    "P_passivo"
   ]
  },
  {
   "cell_type": "markdown",
   "metadata": {},
   "source": [
    "A proporção de negados quando o MP está no polo passivo é maior do que a proporção de negados no polo ativo. Isso pode ser um indício de que o tribunal é mais favorável ao MP quando este recorre. Claro que ainda existem muitos fatores a serem considerados (veremos mais para frente!).\n",
    "\n",
    "A partir de agora, vamos considerar somente os recursos onde o MP está no polo passivo. Também vamos considerar somente as decisões de mérito."
   ]
  },
  {
   "cell_type": "code",
   "execution_count": 31,
   "metadata": {},
   "outputs": [],
   "source": [
    "camaras_mp_passivo = (\n",
    "  camaras\n",
    "  .query('polo_mp == \"Passivo\"')\n",
    "  .query('decisao == [\"Negaram\", \"Parcialmente\", \"Provido\"]')\n",
    ")"
   ]
  },
  {
   "cell_type": "markdown",
   "metadata": {},
   "source": [
    "Uma análise de interesse pode ser calcular a taxa de reforma por assunto do processo. Será que existe muita variação?\n",
    "\n",
    "Na análise abaixo, estimamos essas proporções, considerando apenas os assuntos com 30 ou mais decisões (tente pensar no motivo dessa decisão)."
   ]
  },
  {
   "cell_type": "code",
   "execution_count": 33,
   "metadata": {},
   "outputs": [
    {
     "data": {
      "text/html": [
       "<div>\n",
       "<style scoped>\n",
       "    .dataframe tbody tr th:only-of-type {\n",
       "        vertical-align: middle;\n",
       "    }\n",
       "\n",
       "    .dataframe tbody tr th {\n",
       "        vertical-align: top;\n",
       "    }\n",
       "\n",
       "    .dataframe thead th {\n",
       "        text-align: right;\n",
       "    }\n",
       "</style>\n",
       "<table border=\"1\" class=\"dataframe\">\n",
       "  <thead>\n",
       "    <tr style=\"text-align: right;\">\n",
       "      <th></th>\n",
       "      <th>assunto</th>\n",
       "      <th>decisoes</th>\n",
       "      <th>reforma</th>\n",
       "    </tr>\n",
       "  </thead>\n",
       "  <tbody>\n",
       "    <tr>\n",
       "      <th>60</th>\n",
       "      <td>DIREITO PENAL - Crimes contra o Patrimônio - Latrocínio</td>\n",
       "      <td>44</td>\n",
       "      <td>0.568182</td>\n",
       "    </tr>\n",
       "    <tr>\n",
       "      <th>38</th>\n",
       "      <td>DIREITO PENAL - Crimes Previstos na Legislação Extravagante - Crimes de Trânsito</td>\n",
       "      <td>394</td>\n",
       "      <td>0.530457</td>\n",
       "    </tr>\n",
       "    <tr>\n",
       "      <th>98</th>\n",
       "      <td>DIREITO PENAL-Crimes contra o Patrimônio-Estelionato</td>\n",
       "      <td>178</td>\n",
       "      <td>0.511236</td>\n",
       "    </tr>\n",
       "    <tr>\n",
       "      <th>58</th>\n",
       "      <td>DIREITO PENAL - Crimes contra o Patrimônio - Furto Qualificado</td>\n",
       "      <td>1008</td>\n",
       "      <td>0.497024</td>\n",
       "    </tr>\n",
       "    <tr>\n",
       "      <th>52</th>\n",
       "      <td>DIREITO PENAL - Crimes contra a Fé Pública - Uso de documento falso</td>\n",
       "      <td>84</td>\n",
       "      <td>0.488095</td>\n",
       "    </tr>\n",
       "    <tr>\n",
       "      <th>63</th>\n",
       "      <td>DIREITO PENAL - Crimes contra o Patrimônio - Roubo Majorado</td>\n",
       "      <td>1296</td>\n",
       "      <td>0.475309</td>\n",
       "    </tr>\n",
       "    <tr>\n",
       "      <th>37</th>\n",
       "      <td>DIREITO PENAL - Crimes Previstos na Legislação Extravagante - Crimes de Tráfico Ilícito e Uso Indevido de Drogas - Tráfico de Drogas e Condutas Afins</td>\n",
       "      <td>2787</td>\n",
       "      <td>0.454970</td>\n",
       "    </tr>\n",
       "    <tr>\n",
       "      <th>96</th>\n",
       "      <td>DIREITO PENAL-Crimes contra o Patrimônio-Apropriação indébita</td>\n",
       "      <td>66</td>\n",
       "      <td>0.439394</td>\n",
       "    </tr>\n",
       "    <tr>\n",
       "      <th>101</th>\n",
       "      <td>DIREITO PENAL-Crimes contra o Patrimônio-Furto</td>\n",
       "      <td>486</td>\n",
       "      <td>0.413580</td>\n",
       "    </tr>\n",
       "    <tr>\n",
       "      <th>93</th>\n",
       "      <td>DIREITO PENAL-Crimes contra a vida-Homicídio Qualificado</td>\n",
       "      <td>77</td>\n",
       "      <td>0.402597</td>\n",
       "    </tr>\n",
       "    <tr>\n",
       "      <th>68</th>\n",
       "      <td>DIREITO PENAL - Lesão Corporal - Grave</td>\n",
       "      <td>35</td>\n",
       "      <td>0.400000</td>\n",
       "    </tr>\n",
       "    <tr>\n",
       "      <th>39</th>\n",
       "      <td>DIREITO PENAL - Crimes Previstos na Legislação Extravagante - Crimes do Sistema Nacional de Armas</td>\n",
       "      <td>322</td>\n",
       "      <td>0.397516</td>\n",
       "    </tr>\n",
       "    <tr>\n",
       "      <th>102</th>\n",
       "      <td>DIREITO PENAL-Crimes contra o Patrimônio-Receptação</td>\n",
       "      <td>385</td>\n",
       "      <td>0.397403</td>\n",
       "    </tr>\n",
       "    <tr>\n",
       "      <th>103</th>\n",
       "      <td>DIREITO PENAL-Crimes contra o Patrimônio-Roubo</td>\n",
       "      <td>391</td>\n",
       "      <td>0.388747</td>\n",
       "    </tr>\n",
       "    <tr>\n",
       "      <th>48</th>\n",
       "      <td>DIREITO PENAL - Crimes contra a Fé Pública - Falsificação de documento público</td>\n",
       "      <td>40</td>\n",
       "      <td>0.375000</td>\n",
       "    </tr>\n",
       "    <tr>\n",
       "      <th>89</th>\n",
       "      <td>DIREITO PENAL-Crimes contra a liberdade pessoal-Ameaça</td>\n",
       "      <td>229</td>\n",
       "      <td>0.371179</td>\n",
       "    </tr>\n",
       "    <tr>\n",
       "      <th>65</th>\n",
       "      <td>DIREITO PENAL - Lesão Corporal - Decorrente de Violência Doméstica</td>\n",
       "      <td>193</td>\n",
       "      <td>0.347150</td>\n",
       "    </tr>\n",
       "    <tr>\n",
       "      <th>66</th>\n",
       "      <td>DIREITO PENAL - Lesão Corporal - Decorrente de Violência Doméstica-Contra a Mulher</td>\n",
       "      <td>184</td>\n",
       "      <td>0.336957</td>\n",
       "    </tr>\n",
       "    <tr>\n",
       "      <th>1</th>\n",
       "      <td>DIREITO PENAL - Contravenções Penais</td>\n",
       "      <td>45</td>\n",
       "      <td>0.333333</td>\n",
       "    </tr>\n",
       "    <tr>\n",
       "      <th>86</th>\n",
       "      <td>DIREITO PENAL-Crimes contra a Propriedade Intelectual-Violação de direito autoral</td>\n",
       "      <td>37</td>\n",
       "      <td>0.297297</td>\n",
       "    </tr>\n",
       "  </tbody>\n",
       "</table>\n",
       "</div>"
      ],
      "text/plain": [
       "                                                                                                                                                   assunto  \\\n",
       "60                                                                                                 DIREITO PENAL - Crimes contra o Patrimônio - Latrocínio   \n",
       "38                                                                        DIREITO PENAL - Crimes Previstos na Legislação Extravagante - Crimes de Trânsito   \n",
       "98                                                                                                    DIREITO PENAL-Crimes contra o Patrimônio-Estelionato   \n",
       "58                                                                                          DIREITO PENAL - Crimes contra o Patrimônio - Furto Qualificado   \n",
       "52                                                                                     DIREITO PENAL - Crimes contra a Fé Pública - Uso de documento falso   \n",
       "63                                                                                             DIREITO PENAL - Crimes contra o Patrimônio - Roubo Majorado   \n",
       "37   DIREITO PENAL - Crimes Previstos na Legislação Extravagante - Crimes de Tráfico Ilícito e Uso Indevido de Drogas - Tráfico de Drogas e Condutas Afins   \n",
       "96                                                                                           DIREITO PENAL-Crimes contra o Patrimônio-Apropriação indébita   \n",
       "101                                                                                                         DIREITO PENAL-Crimes contra o Patrimônio-Furto   \n",
       "93                                                                                                DIREITO PENAL-Crimes contra a vida-Homicídio Qualificado   \n",
       "68                                                                                                                  DIREITO PENAL - Lesão Corporal - Grave   \n",
       "39                                                       DIREITO PENAL - Crimes Previstos na Legislação Extravagante - Crimes do Sistema Nacional de Armas   \n",
       "102                                                                                                    DIREITO PENAL-Crimes contra o Patrimônio-Receptação   \n",
       "103                                                                                                         DIREITO PENAL-Crimes contra o Patrimônio-Roubo   \n",
       "48                                                                          DIREITO PENAL - Crimes contra a Fé Pública - Falsificação de documento público   \n",
       "89                                                                                                  DIREITO PENAL-Crimes contra a liberdade pessoal-Ameaça   \n",
       "65                                                                                      DIREITO PENAL - Lesão Corporal - Decorrente de Violência Doméstica   \n",
       "66                                                                      DIREITO PENAL - Lesão Corporal - Decorrente de Violência Doméstica-Contra a Mulher   \n",
       "1                                                                                                                     DIREITO PENAL - Contravenções Penais   \n",
       "86                                                                       DIREITO PENAL-Crimes contra a Propriedade Intelectual-Violação de direito autoral   \n",
       "\n",
       "     decisoes   reforma  \n",
       "60         44  0.568182  \n",
       "38        394  0.530457  \n",
       "98        178  0.511236  \n",
       "58       1008  0.497024  \n",
       "52         84  0.488095  \n",
       "63       1296  0.475309  \n",
       "37       2787  0.454970  \n",
       "96         66  0.439394  \n",
       "101       486  0.413580  \n",
       "93         77  0.402597  \n",
       "68         35  0.400000  \n",
       "39        322  0.397516  \n",
       "102       385  0.397403  \n",
       "103       391  0.388747  \n",
       "48         40  0.375000  \n",
       "89        229  0.371179  \n",
       "65        193  0.347150  \n",
       "66        184  0.336957  \n",
       "1          45  0.333333  \n",
       "86         37  0.297297  "
      ]
     },
     "execution_count": 33,
     "metadata": {},
     "output_type": "execute_result"
    }
   ],
   "source": [
    "(\n",
    "  camaras_mp_passivo\n",
    "  .groupby('assunto')\n",
    "  .agg(\n",
    "    decisoes = ('decisao', 'count'),\n",
    "    reforma = ('decisao', lambda x: (x.isin(['Provido', 'Parcialmente'])).mean())\n",
    "  )\n",
    "  .reset_index()\n",
    "  .query('decisoes >= 30')\n",
    "  .sort_values('reforma', ascending=False)\n",
    ")\n"
   ]
  },
  {
   "cell_type": "markdown",
   "metadata": {},
   "source": [
    "Pela tabela, vemos que a taxa de reforma varia de 0.30 a 0.57. O assunto com maior taxa de reforma é o latrocínio, seguido por crimes de trânsito. Já o assunto com menor taxa de reforma é a violação de direito autoral.\n",
    "\n",
    "Outra análise de interesse é estudar a taxa de reforma por câmara. A tabela abaixo mostra isso. dessa vez, estamos mostrando apenas as câmaras com mais de 100 observações, para remover as câmaras extraordinárias."
   ]
  },
  {
   "cell_type": "code",
   "execution_count": 36,
   "metadata": {},
   "outputs": [],
   "source": [
    "camara_reforma = (\n",
    "  camaras_mp_passivo\n",
    "  .groupby('camara')\n",
    "  .agg(\n",
    "    decisoes = ('decisao', 'count'),\n",
    "    reforma = ('decisao', lambda x: (x.isin(['Provido', 'Parcialmente'])).mean())\n",
    "  )\n",
    "  .reset_index()\n",
    "  .query('decisoes >= 100')\n",
    "  .sort_values('reforma', ascending=False)\n",
    ")\n",
    "\n",
    "camara_reforma"
   ]
  },
  {
   "cell_type": "markdown",
   "metadata": {},
   "source": [
    "Dessa vez, a taxa de reforma varia de 0.12 até 0.79! Pela tabela, a câmara com maior taxa de reforma é a 12 e a câmara com menor taxa de reforma é a 4.\n",
    "\n",
    "Podemos ver esses dados graficamente:"
   ]
  },
  {
   "cell_type": "code",
   "execution_count": 40,
   "metadata": {},
   "outputs": [
    {
     "data": {
      "text/plain": [
       "<Axes: xlabel='reforma', ylabel='camara'>"
      ]
     },
     "execution_count": 40,
     "metadata": {},
     "output_type": "execute_result"
    },
    {
     "data": {
      "image/png": "[encoded data removed]",
      "text/plain": [
       "<Figure size 640x480 with 1 Axes>"
      ]
     },
     "metadata": {},
     "output_type": "display_data"
    }
   ],
   "source": [
    "sns.barplot(data=camara_reforma, x='reforma', y='camara')"
   ]
  },
  {
   "cell_type": "markdown",
   "metadata": {},
   "source": [
    "Na apostila sobre visualização de dados, veremos como customizar esse gráfico."
   ]
  }
 ],
 "metadata": {
  "kernelspec": {
   "display_name": "base",
   "language": "python",
   "name": "python3"
  },
  "language_info": {
   "codemirror_mode": {
    "name": "ipython",
    "version": 3
   },
   "file_extension": ".py",
   "mimetype": "text/x-python",
   "name": "python",
   "nbconvert_exporter": "python",
   "pygments_lexer": "ipython3",
   "version": "3.11.5"
  }
 },
 "nbformat": 4,
 "nbformat_minor": 2
}
