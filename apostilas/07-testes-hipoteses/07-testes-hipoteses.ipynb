{
 "cells": [
  {
   "cell_type": "markdown",
   "metadata": {},
   "source": [
    "# Testes de hipóteses"
   ]
  },
  {
   "cell_type": "code",
   "execution_count": 1,
   "metadata": {},
   "outputs": [],
   "source": [
    "import pandas as pd\n",
    "import seaborn as sns\n",
    "import numpy as np\n",
    "import scipy.stats as stats\n",
    "import matplotlib.pyplot as plt"
   ]
  },
  {
   "cell_type": "code",
   "execution_count": 2,
   "metadata": {},
   "outputs": [],
   "source": [
    "camaras = pd.read_csv('https://github.com/jtrecenti/main-cdad2/releases/download/data/camaras.csv')"
   ]
  },
  {
   "cell_type": "markdown",
   "metadata": {},
   "source": [
    "## Introdução\n",
    "\n",
    "Neste documento, vamos formalizar os conceitos de intervalo de confiança e testes de hipóteses. Vamos começar com o intervalo de confiança.\n",
    "\n",
    "## Intervalos de confiança como testes de hipóteses\n",
    "\n",
    "### Revisão\n",
    "\n",
    "O intervalo de confiança é utilizado para criar estimativas intervalares. Quando vemos uma pesquisa que diz que uma média é 50 +/- 5, estamos vendo um intervalo de confiança. O intervalo de confiança é uma faixa de valores que contém o valor real com uma certa probabilidade. Por exemplo, um intervalo de confiança de 95% significa que, se repetirmos o experimento muitas vezes, é esperado que 95% dos intervalos de confiança conterão o valor real.\n",
    "\n",
    "Não confunda o intervalo de confiança com a probabilidade do parâmetro estar dentro do intervalo. O parâmetro é um valor fixo e não é aleatório. O que é aleatório é o intervalo de confiança, pois é baseado em estimadores amostrais, que são variáveis aleatórias.\n",
    "\n",
    "Como vimos antes, quando nosso interesse é estimar a média de uma variável contínua, o intervalo de confiança é dado por:\n",
    "\n",
    "$$\n",
    "\\bar X \\pm z_{1-\\alpha/2} \\frac{S}{\\sqrt n}\n",
    "$$\n",
    "\n",
    "Aqui, $\\bar X$ é a média amostral, $S$ é o desvio padrão amostral, $n$ é o tamanho da amostra e $z_{1-\\alpha/2}$ é o quantil da distribuição normal padrão. O valor de $z_{1-\\alpha/2}$ é escolhido de acordo com o nível de confiança desejado. Por exemplo, para um nível de confiança de 95%, temos $\\alpha = 0.05$ e $z_{1-\\alpha/2} = 1.96$.\n",
    "\n",
    "Após observar os dados, trocamos as letras maiúsculas para minúsculas, denotando que estamos saindo do mundo das variáveis aleatórias (as funções que retornam números) para os números em si. Assim, o intervalo de confiança é escrito como:\n",
    "\n",
    "$$\n",
    "\\bar x \\pm z_{1-\\alpha/2} \\frac{s}{\\sqrt n}\n",
    "$$\n",
    "\n",
    "#### Aplicação no python\n",
    "\n",
    "No python, podemos calcular o intervalo de confiança fazendo as seguintes operações:\n",
    "\n"
   ]
  },
  {
   "cell_type": "code",
   "execution_count": 45,
   "metadata": {},
   "outputs": [
    {
     "data": {
      "text/plain": [
       "(3.136057807684683, 3.221624914728558)"
      ]
     },
     "execution_count": 45,
     "metadata": {},
     "output_type": "execute_result"
    }
   ],
   "source": [
    "tempos = camaras.tempo\n",
    "media = tempos.mean()\n",
    "sd = tempos.std()\n",
    "z = stats.norm.ppf(0.975)\n",
    "n = len(tempos)\n",
    "\n",
    "vl_intervalo = z * sd / np.sqrt(n)\n",
    "\n",
    "media - vl_intervalo, media + vl_intervalo"
   ]
  },
  {
   "cell_type": "markdown",
   "metadata": {},
   "source": [
    "Também é possível usar a função `norm.interval` do módulo `scipy.stats` para calcular o intervalo de confiança. Nessa função, o primeiro argumento é o nível de confiança, o segundo é a média amostral e o terceiro é o erro padrão (desvio padrão da amostra dividido pelo número de observações). O retorno é uma tupla com os limites inferior e superior do intervalo de confiança."
   ]
  },
  {
   "cell_type": "code",
   "execution_count": 46,
   "metadata": {},
   "outputs": [
    {
     "data": {
      "text/plain": [
       "(3.136055668346555, 3.221627054066686)"
      ]
     },
     "execution_count": 46,
     "metadata": {},
     "output_type": "execute_result"
    }
   ],
   "source": [
    "stats.norm.interval(confidence=0.95, loc=media, scale=stats.sem(tempos, nan_policy='omit'))"
   ]
  },
  {
   "cell_type": "markdown",
   "metadata": {},
   "source": [
    "Também é possível usar a função `t.interval` do módulo `scipy.stats` para calcular o intervalo de confiança. Nesse caso, o primeiro argumento é o nível de confiança, o segundo é o tamanho da amostra menos um, o terceiro é a média amostral e o quarto é o erro padrão."
   ]
  },
  {
   "cell_type": "code",
   "execution_count": 47,
   "metadata": {},
   "outputs": [
    {
     "data": {
      "text/plain": [
       "(3.136050488583062, 3.221632233830179)"
      ]
     },
     "execution_count": 47,
     "metadata": {},
     "output_type": "execute_result"
    }
   ],
   "source": [
    "stats.t.interval(confidence=0.95, df=n-1, loc=media, scale=stats.sem(tempos, nan_policy='omit'))"
   ]
  },
  {
   "cell_type": "markdown",
   "metadata": {},
   "source": [
    "Existe uma pequena diferença entre fazer a conta na mão e fazer com a função `t.interval`. A função `t.interval` usa a distribuição t de Student no lugar da distribuição normal. A distribuição t é uma distribuição bem parecida com a distribuição normal, mas é mais achatada. Usamos a distribuição t por razões técnicas, que foram colocadas ao final da apostila por serem mais avançadas."
   ]
  },
  {
   "cell_type": "markdown",
   "metadata": {},
   "source": [
    "### Intervalo de confiança para proporção\n",
    "\n",
    "Na ciência de dados aplicada ao direito, é comum querermos estimar a proporção de um evento. Por exemplo, queremos saber a proporção de decisões favoráveis em um tipo de caso. Neste caso, também utilizamos o TCL para criar intervalos de confiança, afinal, a proporção é um tipo de média, mas de uma variável binária. Vimos anteriormente que a distribuição de probabilidades aplicável no caso de uma variável binária é a distribuição de Bernoulli, sendo que a soma de variáveis Bernoulli é uma variável com distribuição binomial.\n",
    "\n",
    "**Nota histórica**: a distribuição binomial é uma distribuição discreta (assume valores 0, 1, 2, 3 etc, já que ela é a soma de valores que valem 0 ou 1), enquanto a distribuição normal é uma distribuição contínua. No entanto, o TCL nos permite aproximar a distribuição binomial pela distribuição normal, desde que o tamanho da amostra seja grande. Historicamente, a aproximação da distribuição binomial pela distribuição normal foi feita por Abraham de Moivre em 1743, que descobriu que a distribuição binomial se aproxima da distribuição normal (que nem tinha uma definição clara na época) quando o número de tentativas é grande. Essa demonstração foi feita muito antes do TCL, que é um resultado mais geral.\n",
    "\n",
    "Para fazer o intervalo de confiança para proporção, utilizamos o TCL, e, portanto, o z-score para criar o intervalo de confiança. O intervalo de confiança é dado por:\n",
    "\n",
    "$$\n",
    "\\hat p \\pm z_{1-\\alpha/2} \\sqrt{\\frac{\\hat p (1-\\hat p)}{n}}\n",
    "$$\n",
    "\n",
    "Aqui, $\\hat p$ é a proporção amostral, $n$ é o tamanho da amostra e $z_{1-\\alpha/2}$ é o quantil da distribuição normal padrão. O valor de $z_{1-\\alpha/2}$ é escolhido de acordo com o nível de confiança desejado. Por exemplo, para um nível de confiança de 95%, temos $\\alpha = 0.05$ e $z_{1-\\alpha/2} = 1.96$.\n",
    "\n",
    "Note que utilizamos o valor $\\hat p (1-\\hat p)$ no lugar de $S$. Isso acontece porque a variância da distribuição de Bernoulli é dada por $p (1 - p)$, fato que não vamos demostrar aqui. Então, substituímos o valor de $p$, desconhecido, pelo valor de $\\hat p$, que é a estimativa amostral da proporção. Aqui também fazemos uso do Teorema de Slutsky para afirmar que a distribuição amostral da proporção seja aproximadamente normal.\n",
    "\n",
    "Mas existe um segundo jeito de fazer intervalo de confiança para proporções. Esse jeito é baseado no valor máximo que a variância da proporção pode assumir. Vamos ver o gráfico dessa função:\n"
   ]
  },
  {
   "cell_type": "code",
   "execution_count": 26,
   "metadata": {},
   "outputs": [
    {
     "data": {
      "text/plain": [
       "<matplotlib.lines.Line2D at 0x7f864f081810>"
      ]
     },
     "execution_count": 26,
     "metadata": {},
     "output_type": "execute_result"
    },
    {
     "data": {
      "image/png": "[encoded data removed]",
      "text/plain": [
       "<Figure size 640x480 with 1 Axes>"
      ]
     },
     "metadata": {},
     "output_type": "display_data"
    }
   ],
   "source": [
    "def variancia_bernoulli(p):\n",
    "  return p * (1 - p)\n",
    "\n",
    "p_seq = np.linspace(0, 1, 200)\n",
    "\n",
    "plt.plot(p_seq, variancia_bernoulli(p_seq))\n",
    "plt.axvline(0.5, color = 'black', linestyle = '--')"
   ]
  },
  {
   "cell_type": "markdown",
   "metadata": {},
   "source": [
    "Veja que o valor máximo dessa função é 0.25. Isso ocorre porque a variância da proporção é máxima quando a proporção é 0.5. Com isso, podemos fazer um intervalo de confiança mais **conservador**, que é dado por:\n",
    "\n",
    "$$\n",
    "\\hat p \\pm z_{1-\\alpha/2} \\sqrt{\\frac{0.25}{n}} = \\hat p \\pm \\frac{z_{1-\\alpha/2}}{2\\sqrt n}\n",
    "$$\n",
    "\n",
    "#### Aplicação no python\n",
    "\n",
    "Agora, vamos ver os intervalos de confiança para proporção no python:"
   ]
  },
  {
   "cell_type": "code",
   "execution_count": 48,
   "metadata": {},
   "outputs": [
    {
     "name": "stdout",
     "output_type": "stream",
     "text": [
      "0.5175147983958988 0.5370852016041012\n",
      "0.5175001800772997 0.5370998199227003\n"
     ]
    }
   ],
   "source": [
    "desfavoravel = camaras.decisao == 'Negaram'\n",
    "\n",
    "\n",
    "p_hat = desfavoravel.mean()\n",
    "\n",
    "intervalo_otimista = stats.norm.ppf(0.975) * np.sqrt(variancia_bernoulli(p_hat) / len(camaras))\n",
    "\n",
    "intervalo_conservador = stats.norm.ppf(0.975) / 2 / np.sqrt(len(camaras))\n",
    "\n",
    "print(p_hat - intervalo_otimista, p_hat + intervalo_otimista)\n",
    "\n",
    "print(p_hat - intervalo_conservador, p_hat + intervalo_conservador)"
   ]
  },
  {
   "cell_type": "markdown",
   "metadata": {},
   "source": [
    "Como a amostra é grande, os intervalos otimista e conservador são praticamente iguais. Vamos ver com uma amostra pequena:"
   ]
  },
  {
   "cell_type": "code",
   "execution_count": 49,
   "metadata": {},
   "outputs": [
    {
     "name": "stdout",
     "output_type": "stream",
     "text": [
      "0.6574273078376688 0.6759060254956645\n",
      "0.6568668467439663 0.6764664865893669\n"
     ]
    }
   ],
   "source": [
    "desfavoravel = camaras.sample(30, random_state=42).decisao == 'Negaram'\n",
    "\n",
    "p_hat = desfavoravel.mean()\n",
    "\n",
    "intervalo_otimista = stats.norm.ppf(0.975) * np.sqrt(variancia_bernoulli(p_hat) / len(camaras))\n",
    "\n",
    "intervalo_conservador = stats.norm.ppf(0.975) / 2 / np.sqrt(len(camaras))\n",
    "\n",
    "print(p_hat - intervalo_otimista, p_hat + intervalo_otimista)\n",
    "\n",
    "print(p_hat - intervalo_conservador, p_hat + intervalo_conservador)"
   ]
  },
  {
   "cell_type": "markdown",
   "metadata": {},
   "source": [
    "Ainda assim, os intervalos são bem próximos. Isso ocorre porque a proporção observada é próxima a 0.5, então o intervalo conservador fica parecido com o otimista. Ao estudar uma informação mais rara, como a probabilidade de maioria nas decisões colegiadas, temos:"
   ]
  },
  {
   "cell_type": "code",
   "execution_count": 50,
   "metadata": {},
   "outputs": [
    {
     "name": "stdout",
     "output_type": "stream",
     "text": [
      "0.029815090309067926 0.03685157635759874\n",
      "0.02353351341063306 0.043133153256033605\n"
     ]
    }
   ],
   "source": [
    "maioria = camaras.sample(30, random_state=3).unanimidade == 'Maioria'\n",
    "\n",
    "p_hat = maioria.mean()\n",
    "\n",
    "intervalo_otimista = stats.norm.ppf(0.975) * np.sqrt(variancia_bernoulli(p_hat) / len(camaras))\n",
    "\n",
    "intervalo_conservador = stats.norm.ppf(0.975) / 2 / np.sqrt(len(camaras))\n",
    "\n",
    "print(p_hat - intervalo_otimista, p_hat + intervalo_otimista)\n",
    "\n",
    "print(p_hat - intervalo_conservador, p_hat + intervalo_conservador)"
   ]
  },
  {
   "cell_type": "markdown",
   "metadata": {},
   "source": [
    "Agora, vamos às funções mais diretas do python, que nos dão o intervalo de confiança para proporção. Aqui, não tem muito como fugir do cálculo da variância da Bernoulli."
   ]
  },
  {
   "cell_type": "code",
   "execution_count": 59,
   "metadata": {},
   "outputs": [
    {
     "name": "stdout",
     "output_type": "stream",
     "text": [
      "(0.029815090309067926, 0.03685157635759874)\n",
      "(0.02353351341063306, 0.043133153256033605)\n"
     ]
    }
   ],
   "source": [
    "\n",
    "ic_otimista = stats.norm.interval(confidence=0.95, loc=p_hat, scale=np.sqrt(variancia_bernoulli(p_hat) / len(camaras)))\n",
    "ic_conservador = stats.norm.interval(confidence=0.95, loc=p_hat, scale=1/2/np.sqrt(len(camaras)))\n",
    "\n",
    "print(ic_otimista)\n",
    "print(ic_conservador)"
   ]
  },
  {
   "cell_type": "markdown",
   "metadata": {},
   "source": [
    "Até existe outra biblioteca, `statsmodels`, que faz o cálculo de intervalo de confiança para proporção, mas ela pode ficar para um curso mais avançado."
   ]
  },
  {
   "cell_type": "markdown",
   "metadata": {},
   "source": [
    "## Testes de hipóteses\n",
    "\n",
    "O teste de hipótese busca responder à seguinte pergunta: há evidências suficientes nos dados para fazer uma afirmação sobre a população? Por exemplo, se observarmos que as taxas de recursos negados em uma câmara é 67,8% e em outra câmara é 70,4%, podemos afirmar que a primeira câmara nega mais casos? Ou essa diferença é devida ao acaso?\n",
    "\n",
    "Vamos ver esse exemplo no python:"
   ]
  },
  {
   "cell_type": "code",
   "execution_count": 50,
   "metadata": {},
   "outputs": [
    {
     "data": {
      "text/html": [
       "<div>\n",
       "<style scoped>\n",
       "    .dataframe tbody tr th:only-of-type {\n",
       "        vertical-align: middle;\n",
       "    }\n",
       "\n",
       "    .dataframe tbody tr th {\n",
       "        vertical-align: top;\n",
       "    }\n",
       "\n",
       "    .dataframe thead th {\n",
       "        text-align: right;\n",
       "    }\n",
       "</style>\n",
       "<table border=\"1\" class=\"dataframe\">\n",
       "  <thead>\n",
       "    <tr style=\"text-align: right;\">\n",
       "      <th></th>\n",
       "      <th>camara</th>\n",
       "      <th>n</th>\n",
       "      <th>p</th>\n",
       "    </tr>\n",
       "  </thead>\n",
       "  <tbody>\n",
       "    <tr>\n",
       "      <th>0</th>\n",
       "      <td>03ª Câmara de Direito Criminal</td>\n",
       "      <td>528</td>\n",
       "      <td>0.678030</td>\n",
       "    </tr>\n",
       "    <tr>\n",
       "      <th>1</th>\n",
       "      <td>08ª Câmara de Direito Criminal</td>\n",
       "      <td>635</td>\n",
       "      <td>0.703937</td>\n",
       "    </tr>\n",
       "  </tbody>\n",
       "</table>\n",
       "</div>"
      ],
      "text/plain": [
       "                           camara    n         p\n",
       "0  03ª Câmara de Direito Criminal  528  0.678030\n",
       "1  08ª Câmara de Direito Criminal  635  0.703937"
      ]
     },
     "execution_count": 50,
     "metadata": {},
     "output_type": "execute_result"
    }
   ],
   "source": [
    "exemplos_camaras = ['03ª Câmara de Direito Criminal', '08ª Câmara de Direito Criminal']\n",
    "\n",
    "camaras_filtrado = (\n",
    "  camaras\n",
    "  .query('polo_mp == \"Passivo\"')\n",
    "  .query('camara == @exemplos_camaras')\n",
    "  .assign(negaram = lambda x: x.decisao == 'Negaram')\n",
    ")\n",
    "\n",
    "\n",
    "proporcoes = (\n",
    "  camaras_filtrado\n",
    "  .groupby('camara')\n",
    "  .agg(n = ('decisao', len), p = ('negaram', 'mean'))\n",
    "  .reset_index(names='camara')\n",
    ")\n",
    "\n",
    "proporcoes"
   ]
  },
  {
   "cell_type": "markdown",
   "metadata": {},
   "source": [
    "Uma forma de resolver esse problema é calculando o intervalo de confiança para cada uma das proporções e verificando se os intervalos se sobrepõem. Se eles não se sobrepõem, podemos afirmar que as proporções são diferentes. Se eles se sobrepõem, não podemos afirmar nada. Vamos calcular usando o intervalo otimista:"
   ]
  },
  {
   "cell_type": "code",
   "execution_count": 51,
   "metadata": {},
   "outputs": [
    {
     "data": {
      "text/html": [
       "<div>\n",
       "<style scoped>\n",
       "    .dataframe tbody tr th:only-of-type {\n",
       "        vertical-align: middle;\n",
       "    }\n",
       "\n",
       "    .dataframe tbody tr th {\n",
       "        vertical-align: top;\n",
       "    }\n",
       "\n",
       "    .dataframe thead th {\n",
       "        text-align: right;\n",
       "    }\n",
       "</style>\n",
       "<table border=\"1\" class=\"dataframe\">\n",
       "  <thead>\n",
       "    <tr style=\"text-align: right;\">\n",
       "      <th></th>\n",
       "      <th>camara</th>\n",
       "      <th>n</th>\n",
       "      <th>p</th>\n",
       "      <th>int_otimista</th>\n",
       "      <th>p_min</th>\n",
       "      <th>p_max</th>\n",
       "    </tr>\n",
       "  </thead>\n",
       "  <tbody>\n",
       "    <tr>\n",
       "      <th>0</th>\n",
       "      <td>03ª Câmara de Direito Criminal</td>\n",
       "      <td>528</td>\n",
       "      <td>0.678030</td>\n",
       "      <td>0.039853</td>\n",
       "      <td>0.638177</td>\n",
       "      <td>0.717884</td>\n",
       "    </tr>\n",
       "    <tr>\n",
       "      <th>1</th>\n",
       "      <td>08ª Câmara de Direito Criminal</td>\n",
       "      <td>635</td>\n",
       "      <td>0.703937</td>\n",
       "      <td>0.035508</td>\n",
       "      <td>0.668430</td>\n",
       "      <td>0.739445</td>\n",
       "    </tr>\n",
       "  </tbody>\n",
       "</table>\n",
       "</div>"
      ],
      "text/plain": [
       "                           camara    n         p  int_otimista     p_min  \\\n",
       "0  03ª Câmara de Direito Criminal  528  0.678030      0.039853  0.638177   \n",
       "1  08ª Câmara de Direito Criminal  635  0.703937      0.035508  0.668430   \n",
       "\n",
       "      p_max  \n",
       "0  0.717884  \n",
       "1  0.739445  "
      ]
     },
     "execution_count": 51,
     "metadata": {},
     "output_type": "execute_result"
    }
   ],
   "source": [
    "proporcoes_com_ic = (\n",
    "  proporcoes\n",
    "  .assign(\n",
    "    int_otimista = lambda x: stats.norm.ppf(0.975) * np.sqrt((x.p*(1-x.p)) / x.n),\n",
    "    p_min = lambda x: x.p - x.int_otimista,\n",
    "    p_max = lambda x: x.p + x.int_otimista\n",
    "  )\n",
    ")\n",
    "\n",
    "proporcoes_com_ic"
   ]
  },
  {
   "cell_type": "code",
   "execution_count": 53,
   "metadata": {},
   "outputs": [
    {
     "data": {
      "text/plain": [
       "<matplotlib.lines.Line2D at 0x7f4a81d0e190>"
      ]
     },
     "execution_count": 53,
     "metadata": {},
     "output_type": "execute_result"
    },
    {
     "data": {
      "image/png": "[encoded data removed]",
      "text/plain": [
       "<Figure size 640x480 with 1 Axes>"
      ]
     },
     "metadata": {},
     "output_type": "display_data"
    }
   ],
   "source": [
    "sns.pointplot(data = camaras_filtrado, x = 'camara', y = 'negaram')\n",
    "plt.axhline(0.69, color='gray', linestyle='--')"
   ]
  },
  {
   "cell_type": "markdown",
   "metadata": {},
   "source": [
    "**Obs**: O seaborn faz o cálculo do intervalo de confiança automaticamente, logo não precisamos colocar os valores calculados anteriormente. Mas é possível ver que o resultado é o mesmo.\n",
    "\n",
    "Note que os intervalos se sobrepõem, então, estatisticamente, não podemos afirmar que as proporções são diferentes.\n",
    "\n",
    "Agora vamos ver um exemplo com outras câmaras."
   ]
  },
  {
   "cell_type": "code",
   "execution_count": 54,
   "metadata": {},
   "outputs": [
    {
     "data": {
      "text/html": [
       "<div>\n",
       "<style scoped>\n",
       "    .dataframe tbody tr th:only-of-type {\n",
       "        vertical-align: middle;\n",
       "    }\n",
       "\n",
       "    .dataframe tbody tr th {\n",
       "        vertical-align: top;\n",
       "    }\n",
       "\n",
       "    .dataframe thead th {\n",
       "        text-align: right;\n",
       "    }\n",
       "</style>\n",
       "<table border=\"1\" class=\"dataframe\">\n",
       "  <thead>\n",
       "    <tr style=\"text-align: right;\">\n",
       "      <th></th>\n",
       "      <th>camara</th>\n",
       "      <th>n</th>\n",
       "      <th>p</th>\n",
       "    </tr>\n",
       "  </thead>\n",
       "  <tbody>\n",
       "    <tr>\n",
       "      <th>0</th>\n",
       "      <td>04ª Câmara de Direito Criminal</td>\n",
       "      <td>534</td>\n",
       "      <td>0.872659</td>\n",
       "    </tr>\n",
       "    <tr>\n",
       "      <th>1</th>\n",
       "      <td>08ª Câmara de Direito Criminal</td>\n",
       "      <td>635</td>\n",
       "      <td>0.703937</td>\n",
       "    </tr>\n",
       "  </tbody>\n",
       "</table>\n",
       "</div>"
      ],
      "text/plain": [
       "                           camara    n         p\n",
       "0  04ª Câmara de Direito Criminal  534  0.872659\n",
       "1  08ª Câmara de Direito Criminal  635  0.703937"
      ]
     },
     "execution_count": 54,
     "metadata": {},
     "output_type": "execute_result"
    }
   ],
   "source": [
    "exemplos_camaras = ['04ª Câmara de Direito Criminal', '08ª Câmara de Direito Criminal']\n",
    "\n",
    "camaras_filtrado = (\n",
    "  camaras\n",
    "  .query('polo_mp == \"Passivo\"')\n",
    "  .query('camara == @exemplos_camaras')\n",
    "  .assign(negaram = lambda x: x.decisao == 'Negaram')\n",
    ")\n",
    "\n",
    "\n",
    "proporcoes = (\n",
    "  camaras_filtrado\n",
    "  .groupby('camara')\n",
    "  .agg(n = ('decisao', len), p = ('negaram', 'mean'))\n",
    "  .reset_index(names='camara')\n",
    ")\n",
    "\n",
    "proporcoes"
   ]
  },
  {
   "cell_type": "markdown",
   "metadata": {},
   "source": [
    "Agora, as proporções estão bem distantes. Vamos calcular o intervalo de confiança para essas proporções:"
   ]
  },
  {
   "cell_type": "code",
   "execution_count": 55,
   "metadata": {},
   "outputs": [
    {
     "data": {
      "text/html": [
       "<div>\n",
       "<style scoped>\n",
       "    .dataframe tbody tr th:only-of-type {\n",
       "        vertical-align: middle;\n",
       "    }\n",
       "\n",
       "    .dataframe tbody tr th {\n",
       "        vertical-align: top;\n",
       "    }\n",
       "\n",
       "    .dataframe thead th {\n",
       "        text-align: right;\n",
       "    }\n",
       "</style>\n",
       "<table border=\"1\" class=\"dataframe\">\n",
       "  <thead>\n",
       "    <tr style=\"text-align: right;\">\n",
       "      <th></th>\n",
       "      <th>camara</th>\n",
       "      <th>n</th>\n",
       "      <th>p</th>\n",
       "      <th>int_otimista</th>\n",
       "      <th>p_min</th>\n",
       "      <th>p_max</th>\n",
       "    </tr>\n",
       "  </thead>\n",
       "  <tbody>\n",
       "    <tr>\n",
       "      <th>0</th>\n",
       "      <td>04ª Câmara de Direito Criminal</td>\n",
       "      <td>534</td>\n",
       "      <td>0.872659</td>\n",
       "      <td>0.028274</td>\n",
       "      <td>0.844385</td>\n",
       "      <td>0.900933</td>\n",
       "    </tr>\n",
       "    <tr>\n",
       "      <th>1</th>\n",
       "      <td>08ª Câmara de Direito Criminal</td>\n",
       "      <td>635</td>\n",
       "      <td>0.703937</td>\n",
       "      <td>0.035508</td>\n",
       "      <td>0.668430</td>\n",
       "      <td>0.739445</td>\n",
       "    </tr>\n",
       "  </tbody>\n",
       "</table>\n",
       "</div>"
      ],
      "text/plain": [
       "                           camara    n         p  int_otimista     p_min  \\\n",
       "0  04ª Câmara de Direito Criminal  534  0.872659      0.028274  0.844385   \n",
       "1  08ª Câmara de Direito Criminal  635  0.703937      0.035508  0.668430   \n",
       "\n",
       "      p_max  \n",
       "0  0.900933  \n",
       "1  0.739445  "
      ]
     },
     "execution_count": 55,
     "metadata": {},
     "output_type": "execute_result"
    }
   ],
   "source": [
    "proporcoes_com_ic = (\n",
    "  proporcoes\n",
    "  .assign(\n",
    "    int_otimista = lambda x: stats.norm.ppf(0.975) * np.sqrt((x.p*(1-x.p)) / x.n),\n",
    "    p_min = lambda x: x.p - x.int_otimista,\n",
    "    p_max = lambda x: x.p + x.int_otimista\n",
    "  )\n",
    ")\n",
    "\n",
    "proporcoes_com_ic"
   ]
  },
  {
   "cell_type": "markdown",
   "metadata": {},
   "source": [
    "Finalmente, vamos ver isso graficamente:"
   ]
  },
  {
   "cell_type": "code",
   "execution_count": 56,
   "metadata": {},
   "outputs": [
    {
     "data": {
      "text/plain": [
       "<matplotlib.lines.Line2D at 0x7f4a81865810>"
      ]
     },
     "execution_count": 56,
     "metadata": {},
     "output_type": "execute_result"
    },
    {
     "data": {
      "image/png": "[encoded data removed]",
      "text/plain": [
       "<Figure size 640x480 with 1 Axes>"
      ]
     },
     "metadata": {},
     "output_type": "display_data"
    }
   ],
   "source": [
    "sns.pointplot(data = camaras_filtrado, x = 'camara', y = 'negaram')\n",
    "plt.axhline(0.80, color='gray', linestyle='--')"
   ]
  },
  {
   "cell_type": "markdown",
   "metadata": {},
   "source": [
    "Nesse caso, então, concluímos que as proporções são estatisticamente diferentes.\n",
    "\n",
    "O que acabamos de fazer intuitivamente é o que chamamos de **teste de hipótese de diferença de médias**. No caso, aplicado para proporções. O teste de hipótese é uma forma de formalizar e generalizar a pergunta que fizemos anteriormente. Vamos ver como fazer isso."
   ]
  },
  {
   "cell_type": "markdown",
   "metadata": {},
   "source": [
    "### Definição\n",
    "\n",
    "Um fato curioso sobre o teste de hipóteses é que, geralmente, quando introduzimos o tema, usamos um exemplo jurídico. Isso ocorre porque o teste de hipóteses é uma forma de gerenciar os erros nas tomadas de decisão em ambientes de incerteza, e a tomada de decisão é o que os juízes fazem. Vamos ver esse exemplo, que é o exemplo do julgamento de um réu.\n",
    "\n",
    "Quando fazemos um teste de hipóteses, estamos tentando decidir entre duas hipóteses: a hipótese nula ($H_0$) e a hipótese alternativa ($H_1$). A hipótese nula é a hipótese que queremos rejeitar, enquanto a hipótese alternativa é a hipótese que queremos aceitar. No exemplo do julgamento de um réu, a hipótese nula é que o réu é inocente, enquanto a hipótese alternativa é que o réu é culpado.\n",
    "\n",
    "**Dois tipos de erros**. Quando fazemos um teste de hipóteses, podemos cometer dois tipos de erros: o **erro do tipo I** e o **erro do tipo II**. O erro do tipo I ocorre quando rejeitamos a hipótese nula quando ela é verdadeira. No exemplo do julgamento de um réu, seria condenar um réu inocente. O erro do tipo II ocorre quando aceitamos a hipótese nula quando ela é falsa. No exemplo do julgamento de um réu, seria absolver um réu culpado.\n",
    "\n",
    "![](image.png)\n",
    "\n",
    "Quando tomamos uma decisão, existem quatro possibilidades:\n",
    "\n",
    "1) **Rejeitar a hipótese nula quando ela é verdadeira**: isso é o erro do tipo I. A probabilidade de cometer esse erro é chamada de **nível de significância** e é denotada por $\\alpha$.\n",
    "\n",
    "2) **Rejeitar a hipótese nula quando ela é falsa**: isso é o que queremos fazer. A probabilidade de fazer isso é chamada de **poder do teste** e é denotada por $1 - \\beta$.\n",
    "\n",
    "3) **Aceitar a hipótese nula quando ela é verdadeira**: isso é o que queremos evitar. A probabilidade de fazer isso é chamada de **nível de confiança** e é denotada por $1 - \\alpha$.\n",
    "\n",
    "4) **Aceitar a hipótese nula quando ela é falsa**: isso é o erro do tipo II. A probabilidade de cometer esse erro é denotada por $\\beta$.\n",
    "\n",
    "**Definição**. O teste de hipóteses é um procedimento estatístico que nos permite decidir entre duas hipóteses, a hipótese nula ($H_0$) e a hipótese alternativa ($H_1$), com base em uma amostra de dados. O teste de hipóteses é feito em três etapas:\n",
    "\n",
    "1) **Formulação das hipóteses**: formulamos a hipótese nula ($H_0$) e a hipótese alternativa ($H_1$). A hipótese nula é a hipótese que queremos rejeitar, enquanto a hipótese alternativa é a hipótese que queremos aceitar.\n",
    "\n",
    "2) **Cálculo da estatística de teste**: calculamos a estatística de teste, que é uma medida da diferença entre a amostra e a hipótese nula. A estatística de teste segue uma distribuição de probabilidades conhecida.\n",
    "\n",
    "3) **Tomada de decisão**: comparamos a estatística de teste com um valor crítico e decidimos se rejeitamos ou não a hipótese nula.\n",
    "\n",
    "O procedimento de teste mais conhecido é o teste de Neyman-Pearson, que busca minimizar a probabilidade de erro do tipo II, sujeito a um limite fixado para o erro do tipo I. O teste de Neyman-Pearson é um teste de hipóteses com regra de decisão baseada em um valor crítico.\n",
    "\n",
    "O valor crítico é o valor que divide a região de rejeição da região de aceitação. A região de rejeição é a região onde rejeitamos a hipótese nula, enquanto a região de aceitação é a região onde aceitamos a hipótese nula. O valor crítico é escolhido de acordo com o nível de significância desejado. Por exemplo, para um nível de significância de 5%, o valor crítico da distribuição normal é 1,96, assim como vimos no z-score para intervalos de confiança.\n",
    "\n",
    "### Na prática\n",
    "\n",
    "Na prática, entra em jogo o famoso valor-p (ou p-valor, dependendo do livro). O valor-p é a probabilidade de observar uma estatística de teste tão ou mais extrema quanto a observada, assumindo que a hipótese nula é verdadeira. \n",
    "\n",
    "Intuitivamente, o valor-p é a probabilidade de encontrar um resultado que leva à rejeição da hipótese nula por mera coincidência. Em outras palavras: quando a hipótese nula é verdadeira (o réu é inocente), existem fatos que poderiam confundir o juiz ou juíza e levar ao erro, como circunstâncias complexas, preconceito, evidências falsas, entre outros. É isso que estamos chamando de \"por coincidência\".\n",
    "\n",
    "Se o valor-p for pequeno, seria muito arriscado afirmar que um efeito identificado (por exemplo, evidências para prender o réu), ocorreu ao acaso, por coincidência. Então rejeitamos a hipótese nula. No entanto, se o valor-p for grande, é bem possível que o resultado encontrado tenha acontecido por acaso, então dizemos que não há evidências para rejeitar a hipótese nula.\n",
    "\n",
    "### Teste para duas proporções\n",
    "\n",
    "Vamos voltar ao exemplo da diferença entre a proporção de negados. Faremos um teste de hipóteses para cada situação (o caso em que os intervalos de confiança se sobrepõem e o caso em que os intervalos de confiança não se sobrepõem). Para cada um deles, faremos um exemplo com o cálculo do valor-p e outro exemplo com simulação, para entender o acontecimento \"por acaso\"."
   ]
  },
  {
   "cell_type": "code",
   "execution_count": 60,
   "metadata": {},
   "outputs": [
    {
     "data": {
      "text/html": [
       "<div>\n",
       "<style scoped>\n",
       "    .dataframe tbody tr th:only-of-type {\n",
       "        vertical-align: middle;\n",
       "    }\n",
       "\n",
       "    .dataframe tbody tr th {\n",
       "        vertical-align: top;\n",
       "    }\n",
       "\n",
       "    .dataframe thead th {\n",
       "        text-align: right;\n",
       "    }\n",
       "</style>\n",
       "<table border=\"1\" class=\"dataframe\">\n",
       "  <thead>\n",
       "    <tr style=\"text-align: right;\">\n",
       "      <th></th>\n",
       "      <th>camara</th>\n",
       "      <th>n</th>\n",
       "      <th>n_negaram</th>\n",
       "      <th>p</th>\n",
       "    </tr>\n",
       "  </thead>\n",
       "  <tbody>\n",
       "    <tr>\n",
       "      <th>0</th>\n",
       "      <td>03ª Câmara de Direito Criminal</td>\n",
       "      <td>528</td>\n",
       "      <td>358</td>\n",
       "      <td>0.678030</td>\n",
       "    </tr>\n",
       "    <tr>\n",
       "      <th>1</th>\n",
       "      <td>08ª Câmara de Direito Criminal</td>\n",
       "      <td>635</td>\n",
       "      <td>447</td>\n",
       "      <td>0.703937</td>\n",
       "    </tr>\n",
       "  </tbody>\n",
       "</table>\n",
       "</div>"
      ],
      "text/plain": [
       "                           camara    n  n_negaram         p\n",
       "0  03ª Câmara de Direito Criminal  528        358  0.678030\n",
       "1  08ª Câmara de Direito Criminal  635        447  0.703937"
      ]
     },
     "execution_count": 60,
     "metadata": {},
     "output_type": "execute_result"
    }
   ],
   "source": [
    "exemplos_camaras = ['03ª Câmara de Direito Criminal', '08ª Câmara de Direito Criminal']\n",
    "\n",
    "camaras_filtrado = (\n",
    "  camaras\n",
    "  .query('polo_mp == \"Passivo\"')\n",
    "  .query('camara == @exemplos_camaras')\n",
    "  .assign(negaram = lambda x: x.decisao == 'Negaram')\n",
    ")\n",
    "\n",
    "\n",
    "proporcoes = (\n",
    "  camaras_filtrado\n",
    "  .groupby('camara')\n",
    "  .agg(n = ('decisao', len), n_negaram = ('negaram', 'sum'), p = ('negaram', 'mean'))\n",
    "  .reset_index(names='camara')\n",
    ")\n",
    "\n",
    "proporcoes"
   ]
  },
  {
   "cell_type": "markdown",
   "metadata": {},
   "source": [
    "Nesse caso, nossas hipóteses são:\n",
    "\n",
    "$H_0$: $p_3 = p_8$, ou seja, as proporções são iguais\n",
    "\n",
    "$H_1$: $p_3 \\neq p_8$, ou seja, as proporções são diferentes\n",
    "\n",
    "Conectando com os conceitos anteriores: $p_3$ e $p_8$ são **parâmetros**, ou seja, a probabilidade de um caso ser negado em cada câmara.\n",
    "\n",
    "#### Cálculo do valor-p\n",
    "\n",
    "Para calcular o valor-p, utilizamos a função `chi2_contingency` do módulo `scipy.stats`. Essa é, na verdade, uma função para fazer o teste qui-quadrado de independência, mas podemos utilizá-la para fazer o teste de diferença de proporções. O retorno é uma tupla com a estatística de teste, o valor-p, o grau de liberdade e a tabela de contingência esperada."
   ]
  },
  {
   "cell_type": "code",
   "execution_count": 63,
   "metadata": {},
   "outputs": [
    {
     "data": {
      "text/plain": [
       "0.7183537580673838"
      ]
     },
     "execution_count": 63,
     "metadata": {},
     "output_type": "execute_result"
    }
   ],
   "source": [
    "contagens = np.array(proporcoes[['n_negaram', 'n']])\n",
    "\n",
    "prop_test = stats.chi2_contingency(contagens)\n",
    "\n",
    "prop_test.pvalue"
   ]
  },
  {
   "cell_type": "markdown",
   "metadata": {},
   "source": [
    "Esse número significa que, se a hipótese nula fosse verdadeira, a probabilidade de observar uma diferença tão grande ou maior do que a observada seria de 72%. Como esse valor é bem alto, realmente parece que poderia ter acontecido por acaso. Por esse motivo, não rejeitamos a hipótese nula e podemos afirmar que as proporções são iguais. Note que essa é a mesma conclusão que chegamos ao calcular o intervalo de confiança.\n",
    "\n",
    "No caso do teste comparando as câmaras 8 e 12, temos:"
   ]
  },
  {
   "cell_type": "code",
   "execution_count": 64,
   "metadata": {},
   "outputs": [
    {
     "data": {
      "text/html": [
       "<div>\n",
       "<style scoped>\n",
       "    .dataframe tbody tr th:only-of-type {\n",
       "        vertical-align: middle;\n",
       "    }\n",
       "\n",
       "    .dataframe tbody tr th {\n",
       "        vertical-align: top;\n",
       "    }\n",
       "\n",
       "    .dataframe thead th {\n",
       "        text-align: right;\n",
       "    }\n",
       "</style>\n",
       "<table border=\"1\" class=\"dataframe\">\n",
       "  <thead>\n",
       "    <tr style=\"text-align: right;\">\n",
       "      <th></th>\n",
       "      <th>camara</th>\n",
       "      <th>n</th>\n",
       "      <th>n_negaram</th>\n",
       "      <th>p</th>\n",
       "    </tr>\n",
       "  </thead>\n",
       "  <tbody>\n",
       "    <tr>\n",
       "      <th>0</th>\n",
       "      <td>08ª Câmara de Direito Criminal</td>\n",
       "      <td>635</td>\n",
       "      <td>447</td>\n",
       "      <td>0.703937</td>\n",
       "    </tr>\n",
       "    <tr>\n",
       "      <th>1</th>\n",
       "      <td>12ª Câmara de Direito Criminal</td>\n",
       "      <td>521</td>\n",
       "      <td>103</td>\n",
       "      <td>0.197697</td>\n",
       "    </tr>\n",
       "  </tbody>\n",
       "</table>\n",
       "</div>"
      ],
      "text/plain": [
       "                           camara    n  n_negaram         p\n",
       "0  08ª Câmara de Direito Criminal  635        447  0.703937\n",
       "1  12ª Câmara de Direito Criminal  521        103  0.197697"
      ]
     },
     "execution_count": 64,
     "metadata": {},
     "output_type": "execute_result"
    }
   ],
   "source": [
    "exemplos_camaras = ['12ª Câmara de Direito Criminal', '08ª Câmara de Direito Criminal']\n",
    "\n",
    "camaras_filtrado = (\n",
    "  camaras\n",
    "  .query('polo_mp == \"Passivo\"')\n",
    "  .query('camara == @exemplos_camaras')\n",
    "  .assign(negaram = lambda x: x.decisao == 'Negaram')\n",
    ")\n",
    "\n",
    "\n",
    "proporcoes = (\n",
    "  camaras_filtrado\n",
    "  .groupby('camara')\n",
    "  .agg(n = ('decisao', len), n_negaram = ('negaram', 'sum'), p = ('negaram', 'mean'))\n",
    "  .reset_index(names='camara')\n",
    ")\n",
    "\n",
    "proporcoes"
   ]
  },
  {
   "cell_type": "markdown",
   "metadata": {},
   "source": [
    "E agora o teste de hipótese:"
   ]
  },
  {
   "cell_type": "code",
   "execution_count": 68,
   "metadata": {},
   "outputs": [
    {
     "data": {
      "text/plain": [
       "8.238913311602198e-26"
      ]
     },
     "execution_count": 68,
     "metadata": {},
     "output_type": "execute_result"
    }
   ],
   "source": [
    "contagens = np.array(proporcoes[['n_negaram', 'n']])\n",
    "\n",
    "prop_test = stats.chi2_contingency(contagens)\n",
    "\n",
    "prop_test.pvalue"
   ]
  },
  {
   "cell_type": "markdown",
   "metadata": {},
   "source": [
    "Nessa situação, o valor-p é muito baixo, então rejeitamos a hipótese nula e podemos afirmar que as proporções são diferentes. Note que, novamente, essa é a mesma conclusão que chegamos ao calcular o intervalo de confiança.\n",
    "\n",
    "Existem situações, no entanto, que podemos ficar em dúvida. Vejamos um exemplo, agora com as câmaras 8 e 9"
   ]
  },
  {
   "cell_type": "code",
   "execution_count": 98,
   "metadata": {},
   "outputs": [
    {
     "data": {
      "text/html": [
       "<div>\n",
       "<style scoped>\n",
       "    .dataframe tbody tr th:only-of-type {\n",
       "        vertical-align: middle;\n",
       "    }\n",
       "\n",
       "    .dataframe tbody tr th {\n",
       "        vertical-align: top;\n",
       "    }\n",
       "\n",
       "    .dataframe thead th {\n",
       "        text-align: right;\n",
       "    }\n",
       "</style>\n",
       "<table border=\"1\" class=\"dataframe\">\n",
       "  <thead>\n",
       "    <tr style=\"text-align: right;\">\n",
       "      <th></th>\n",
       "      <th>camara</th>\n",
       "      <th>n</th>\n",
       "      <th>n_negaram</th>\n",
       "      <th>p</th>\n",
       "    </tr>\n",
       "  </thead>\n",
       "  <tbody>\n",
       "    <tr>\n",
       "      <th>0</th>\n",
       "      <td>06ª Câmara de Direito Criminal</td>\n",
       "      <td>664</td>\n",
       "      <td>550</td>\n",
       "      <td>0.828313</td>\n",
       "    </tr>\n",
       "    <tr>\n",
       "      <th>1</th>\n",
       "      <td>08ª Câmara de Direito Criminal</td>\n",
       "      <td>635</td>\n",
       "      <td>447</td>\n",
       "      <td>0.703937</td>\n",
       "    </tr>\n",
       "  </tbody>\n",
       "</table>\n",
       "</div>"
      ],
      "text/plain": [
       "                           camara    n  n_negaram         p\n",
       "0  06ª Câmara de Direito Criminal  664        550  0.828313\n",
       "1  08ª Câmara de Direito Criminal  635        447  0.703937"
      ]
     },
     "execution_count": 98,
     "metadata": {},
     "output_type": "execute_result"
    }
   ],
   "source": [
    "exemplos_camaras = ['06ª Câmara de Direito Criminal', '08ª Câmara de Direito Criminal']\n",
    "\n",
    "camaras_filtrado = (\n",
    "  camaras\n",
    "  .query('polo_mp == \"Passivo\"')\n",
    "  .query('camara == @exemplos_camaras')\n",
    "  .assign(negaram = lambda x: x.decisao == 'Negaram')\n",
    ")\n",
    "\n",
    "\n",
    "proporcoes = (\n",
    "  camaras_filtrado\n",
    "  .groupby('camara')\n",
    "  .agg(n = ('decisao', len), n_negaram = ('negaram', 'sum'), p = ('negaram', 'mean'))\n",
    "  .reset_index(names='camara')\n",
    ")\n",
    "\n",
    "proporcoes"
   ]
  },
  {
   "cell_type": "markdown",
   "metadata": {},
   "source": [
    "Vejamos o valor do teste:"
   ]
  },
  {
   "cell_type": "code",
   "execution_count": 170,
   "metadata": {},
   "outputs": [
    {
     "data": {
      "text/plain": [
       "0.05950837666339642"
      ]
     },
     "execution_count": 170,
     "metadata": {},
     "output_type": "execute_result"
    }
   ],
   "source": [
    "contagens = np.array(proporcoes[['n_negaram', 'n']])\n",
    "\n",
    "prop_test = stats.chi2_contingency(contagens)\n",
    "\n",
    "prop_test.pvalue"
   ]
  },
  {
   "cell_type": "markdown",
   "metadata": {},
   "source": [
    "Agora, o valor-p, ou seja, a probabilidade dessa diferença ocorrer ao acaso é de 6%. Esse valor é baixo ou alto?\n",
    "\n",
    "Nessas situações, precisamos estabelecer um valor de corte para o valor-p. Esse valor de corte é o **nível de significância**, que discutimos anteriormente na definição do teste de hipóteses. Esse valor é denotado por $\\alpha$. Por razões históricas, existe um valor de corte muito comum, que é 5%. Se o valor-p for menor que 5%, rejeitamos a hipótese nula. Se o valor-p for maior que 5%, não rejeitamos a hipótese nula. Essa é a \"regra de bolso\" usada em muitas áreas da ciência.\n",
    "\n",
    "Nesse caso, então, a conclusão é que as proporções não são diferentes, porque o valor-p é maior que 5%."
   ]
  },
  {
   "cell_type": "markdown",
   "metadata": {},
   "source": [
    "### Teste para várias proporções\n",
    "\n",
    "E se nosso objetivo for comparar mais de duas proporções? Nesse caso, uma ideia inicial seria comparar cada par de proporções. Mas existe uma alternativa melhor, que é fazer um teste de hipóteses para todas as proporções ao mesmo tempo. Isso é feito com o teste de qui-quadrado.\n",
    "\n",
    "O teste de qui-quadrado é um teste de hipóteses que compara a distribuição observada com a distribuição esperada. No caso de proporções, a distribuição observada é a proporção de casos em cada categoria, enquanto a distribuição esperada é a proporção de casos esperada se a hipótese nula fosse verdadeira.\n",
    "\n",
    "Por exemplo, se quisermos comparar as proporções de negados, parcial procedente e procedente nas câmaras 3, 8 e 12, nossas hipóteses são:\n",
    "\n",
    "$H_0$: a distribuição de decisões é a mesma nas três câmaras\n",
    "\n",
    "$H_1$: a distribuição de decisões é diferente em alguma das câmaras\n",
    "\n",
    "No python, podemos fazer o teste de qui-quadrado com a mesma função de antes: `chi2_contingency` do módulo `scipy.stats`. O retorno é uma tupla com a estatística de teste, o valor-p, o grau de liberdade e a tabela de contingência esperada."
   ]
  },
  {
   "cell_type": "code",
   "execution_count": 248,
   "metadata": {},
   "outputs": [
    {
     "data": {
      "text/html": [
       "<div>\n",
       "<style scoped>\n",
       "    .dataframe tbody tr th:only-of-type {\n",
       "        vertical-align: middle;\n",
       "    }\n",
       "\n",
       "    .dataframe tbody tr th {\n",
       "        vertical-align: top;\n",
       "    }\n",
       "\n",
       "    .dataframe thead th {\n",
       "        text-align: right;\n",
       "    }\n",
       "</style>\n",
       "<table border=\"1\" class=\"dataframe\">\n",
       "  <thead>\n",
       "    <tr style=\"text-align: right;\">\n",
       "      <th>decisao</th>\n",
       "      <th>Negaram</th>\n",
       "      <th>Parcialmente</th>\n",
       "      <th>Provido</th>\n",
       "    </tr>\n",
       "    <tr>\n",
       "      <th>camara</th>\n",
       "      <th></th>\n",
       "      <th></th>\n",
       "      <th></th>\n",
       "    </tr>\n",
       "  </thead>\n",
       "  <tbody>\n",
       "    <tr>\n",
       "      <th>03ª Câmara de Direito Criminal</th>\n",
       "      <td>358</td>\n",
       "      <td>140</td>\n",
       "      <td>10</td>\n",
       "    </tr>\n",
       "    <tr>\n",
       "      <th>08ª Câmara de Direito Criminal</th>\n",
       "      <td>447</td>\n",
       "      <td>156</td>\n",
       "      <td>7</td>\n",
       "    </tr>\n",
       "    <tr>\n",
       "      <th>12ª Câmara de Direito Criminal</th>\n",
       "      <td>103</td>\n",
       "      <td>321</td>\n",
       "      <td>75</td>\n",
       "    </tr>\n",
       "  </tbody>\n",
       "</table>\n",
       "</div>"
      ],
      "text/plain": [
       "decisao                         Negaram  Parcialmente  Provido\n",
       "camara                                                        \n",
       "03ª Câmara de Direito Criminal      358           140       10\n",
       "08ª Câmara de Direito Criminal      447           156        7\n",
       "12ª Câmara de Direito Criminal      103           321       75"
      ]
     },
     "execution_count": 248,
     "metadata": {},
     "output_type": "execute_result"
    }
   ],
   "source": [
    "exemplos_camaras = ['03ª Câmara de Direito Criminal', '08ª Câmara de Direito Criminal', '12ª Câmara de Direito Criminal']\n",
    "\n",
    "camaras_filtrado = (\n",
    "  camaras\n",
    "  .query('polo_mp == \"Passivo\"')\n",
    "  .query('camara == @exemplos_camaras')\n",
    "  .query('decisao == [\"Negaram\",\"Parcialmente\",\"Provido\"]')\n",
    ")\n",
    "\n",
    "tabela_contingencia = pd.crosstab(index=camaras_filtrado['camara'], columns=camaras_filtrado['decisao'])\n",
    "\n",
    "tabela_contingencia\n"
   ]
  },
  {
   "cell_type": "markdown",
   "metadata": {},
   "source": [
    "Veja que as proporções são parecidas entre as câmaras 03 e 08, mas bem diferente na câmara 12:"
   ]
  },
  {
   "cell_type": "code",
   "execution_count": 254,
   "metadata": {},
   "outputs": [
    {
     "data": {
      "text/html": [
       "<div>\n",
       "<style scoped>\n",
       "    .dataframe tbody tr th:only-of-type {\n",
       "        vertical-align: middle;\n",
       "    }\n",
       "\n",
       "    .dataframe tbody tr th {\n",
       "        vertical-align: top;\n",
       "    }\n",
       "\n",
       "    .dataframe thead th {\n",
       "        text-align: right;\n",
       "    }\n",
       "</style>\n",
       "<table border=\"1\" class=\"dataframe\">\n",
       "  <thead>\n",
       "    <tr style=\"text-align: right;\">\n",
       "      <th>decisao</th>\n",
       "      <th>Negaram</th>\n",
       "      <th>Parcialmente</th>\n",
       "      <th>Provido</th>\n",
       "    </tr>\n",
       "    <tr>\n",
       "      <th>camara</th>\n",
       "      <th></th>\n",
       "      <th></th>\n",
       "      <th></th>\n",
       "    </tr>\n",
       "  </thead>\n",
       "  <tbody>\n",
       "    <tr>\n",
       "      <th>03ª Câmara de Direito Criminal</th>\n",
       "      <td>0.704724</td>\n",
       "      <td>0.275591</td>\n",
       "      <td>0.019685</td>\n",
       "    </tr>\n",
       "    <tr>\n",
       "      <th>08ª Câmara de Direito Criminal</th>\n",
       "      <td>0.732787</td>\n",
       "      <td>0.255738</td>\n",
       "      <td>0.011475</td>\n",
       "    </tr>\n",
       "    <tr>\n",
       "      <th>12ª Câmara de Direito Criminal</th>\n",
       "      <td>0.206413</td>\n",
       "      <td>0.643287</td>\n",
       "      <td>0.150301</td>\n",
       "    </tr>\n",
       "  </tbody>\n",
       "</table>\n",
       "</div>"
      ],
      "text/plain": [
       "decisao                          Negaram  Parcialmente   Provido\n",
       "camara                                                          \n",
       "03ª Câmara de Direito Criminal  0.704724      0.275591  0.019685\n",
       "08ª Câmara de Direito Criminal  0.732787      0.255738  0.011475\n",
       "12ª Câmara de Direito Criminal  0.206413      0.643287  0.150301"
      ]
     },
     "execution_count": 254,
     "metadata": {},
     "output_type": "execute_result"
    }
   ],
   "source": [
    "tabela_contingencia.div(tabela_contingencia.sum(axis=1), axis=0)"
   ]
  },
  {
   "cell_type": "markdown",
   "metadata": {},
   "source": [
    "Agora, procedemos com o teste:"
   ]
  },
  {
   "cell_type": "code",
   "execution_count": 255,
   "metadata": {},
   "outputs": [
    {
     "data": {
      "text/plain": [
       "Chi2ContingencyResult(statistic=403.3146570240564, pvalue=5.346841438716827e-86, dof=4, expected_freq=array([[285.25912183, 193.83797155,  28.90290662],\n",
       "       [342.53555968, 232.75819419,  34.70624613],\n",
       "       [280.20531849, 190.40383426,  28.39084725]]))"
      ]
     },
     "execution_count": 255,
     "metadata": {},
     "output_type": "execute_result"
    }
   ],
   "source": [
    "chi2 = stats.chi2_contingency(tabela_contingencia)\n",
    "\n",
    "chi2"
   ]
  },
  {
   "cell_type": "markdown",
   "metadata": {},
   "source": [
    "Nesse objeto, temos os seguintes componentes:\n",
    "\n",
    "- statistic: a estatística de teste, que é a base para o cálculo do valor-p\n",
    "- pvalue: o valor-p, que é a probabilidade de observar uma estatística de teste tão ou mais extrema quanto a observada, assumindo que a hipótese nula é verdadeira\n",
    "- dof: o grau de liberdade, que é o número de categorias menos um\n",
    "- expected: a tabela de contingência esperada, que é a distribuição esperada se a hipótese nula fosse verdadeira\n",
    "\n",
    "Nesse caso, o valor-p é muito baixo, então rejeitamos a hipótese nula e podemos afirmar que a distribuição de decisões é diferente em alguma das câmaras."
   ]
  },
  {
   "cell_type": "markdown",
   "metadata": {},
   "source": [
    "### Teste de médias\n",
    "\n",
    "Até agora, vimos o teste de proporções e o teste de uma tabela de contingência completa, que é um teste de proporções generalizado. Agora, vamos ver o teste de médias. A ideia é muito parecida com o que vimos antes, mas nesse caso utilizamos outra distribuição de probabilidades, a distribuição t de Student e, portanto, outra função do python, `ttest_ind` do módulo `scipy.stats`. Nos apêndices extras dessa apostila, temos uma explicação mais detalhada sobre a distribuição t de Student."
   ]
  },
  {
   "cell_type": "markdown",
   "metadata": {},
   "source": [
    "Para mostrar o teste de médias, vamos fazer um exemplo com a diferença de médias de idade entre relatores que vieram ou não do quinto constitucional. Nesse caso, nossas hipóteses são:\n",
    "\n",
    "$H_0$: a média de idade dos relatores que vieram do quinto constitucional é igual à média de idade dos relatores que não vieram do quinto constitucional\n",
    "\n",
    "$H_1$: a média de idade dos relatores que vieram do quinto constitucional é diferente da média de idade dos relatores que não vieram do quinto constitucional"
   ]
  },
  {
   "cell_type": "code",
   "execution_count": 3,
   "metadata": {},
   "outputs": [
    {
     "data": {
      "text/html": [
       "<div>\n",
       "<style scoped>\n",
       "    .dataframe tbody tr th:only-of-type {\n",
       "        vertical-align: middle;\n",
       "    }\n",
       "\n",
       "    .dataframe tbody tr th {\n",
       "        vertical-align: top;\n",
       "    }\n",
       "\n",
       "    .dataframe thead th {\n",
       "        text-align: right;\n",
       "    }\n",
       "</style>\n",
       "<table border=\"1\" class=\"dataframe\">\n",
       "  <thead>\n",
       "    <tr style=\"text-align: right;\">\n",
       "      <th></th>\n",
       "      <th>rel_quinto</th>\n",
       "      <th>n</th>\n",
       "      <th>media</th>\n",
       "      <th>sd</th>\n",
       "    </tr>\n",
       "  </thead>\n",
       "  <tbody>\n",
       "    <tr>\n",
       "      <th>0</th>\n",
       "      <td>não</td>\n",
       "      <td>88</td>\n",
       "      <td>67.173987</td>\n",
       "      <td>5.911481</td>\n",
       "    </tr>\n",
       "    <tr>\n",
       "      <th>1</th>\n",
       "      <td>sim</td>\n",
       "      <td>21</td>\n",
       "      <td>65.910368</td>\n",
       "      <td>6.665895</td>\n",
       "    </tr>\n",
       "  </tbody>\n",
       "</table>\n",
       "</div>"
      ],
      "text/plain": [
       "  rel_quinto   n      media        sd\n",
       "0        não  88  67.173987  5.911481\n",
       "1        sim  21  65.910368  6.665895"
      ]
     },
     "execution_count": 3,
     "metadata": {},
     "output_type": "execute_result"
    }
   ],
   "source": [
    "relatores = camaras.drop_duplicates('relator')\n",
    "\n",
    "(\n",
    "  relatores\n",
    "  .groupby('rel_quinto')\n",
    "  .agg(n = ('relator', len), media = ('rel_idade', 'mean'), sd = ('rel_idade', 'std'))\n",
    "  .reset_index(names='rel_quinto')\n",
    ")"
   ]
  },
  {
   "cell_type": "markdown",
   "metadata": {},
   "source": [
    "Olhando os dados, parece que a média de idades é bem parecida. Vamos fazer o gráfico com os intervalos de confiança:"
   ]
  },
  {
   "cell_type": "code",
   "execution_count": 7,
   "metadata": {},
   "outputs": [
    {
     "data": {
      "text/plain": [
       "<matplotlib.lines.Line2D at 0x7fe70870af90>"
      ]
     },
     "execution_count": 7,
     "metadata": {},
     "output_type": "execute_result"
    },
    {
     "data": {
      "image/png": "[encoded data removed]",
      "text/plain": [
       "<Figure size 640x480 with 1 Axes>"
      ]
     },
     "metadata": {},
     "output_type": "display_data"
    }
   ],
   "source": [
    "sns.pointplot(data = relatores, x = 'rel_quinto', y = 'rel_idade')\n",
    "plt.axhline(66.5, color='gray', linestyle='--')"
   ]
  },
  {
   "cell_type": "markdown",
   "metadata": {},
   "source": [
    "De fato, os intervalos de confiança se sobrepõem. Vamos fazer o teste de hipóteses, usando a função `ttest_ind`:"
   ]
  },
  {
   "cell_type": "code",
   "execution_count": 19,
   "metadata": {},
   "outputs": [
    {
     "data": {
      "text/plain": [
       "TtestResult(statistic=-0.8574885189308531, pvalue=0.3931095647661792, df=106.0)"
      ]
     },
     "execution_count": 19,
     "metadata": {},
     "output_type": "execute_result"
    }
   ],
   "source": [
    "ttest = stats.ttest_ind(\n",
    "  relatores.rel_idade[relatores.rel_quinto == 'sim'],\n",
    "  relatores.rel_idade[relatores.rel_quinto == 'não'],\n",
    "  nan_policy='omit'\n",
    ")\n",
    "\n",
    "ttest\n"
   ]
  },
  {
   "cell_type": "markdown",
   "metadata": {},
   "source": [
    "De fato, o valor-p ficou em 39%, então não rejeitamos a hipótese nula, ou seja, não há evidências para afirmar que as idades dos relatores que vieram do quinto constitucional são diferentes das idades dos relatores que não vieram do quinto constitucional.\n",
    "\n",
    "Agora, vamos ver um exemplo em que as médias são diferentes. Vamos comparar a média de idade dos relatores que vieram da USP com a média de idade dos relatores que vieram de outras universidades. Nesse caso, nossas hipóteses são:\n",
    "\n",
    "$H_0$: a média de idade dos relatores que vieram da USP é igual à média de idade dos relatores que vieram de outras universidades\n",
    "\n",
    "$H_1$: a média de idade dos relatores que vieram da USP é diferente da média de idade dos relatores que vieram de outras universidades\n",
    "\n",
    "Vamos fazer o gráfico com os intervalos de confiança:"
   ]
  },
  {
   "cell_type": "code",
   "execution_count": 37,
   "metadata": {},
   "outputs": [
    {
     "data": {
      "text/plain": [
       "<matplotlib.lines.Line2D at 0x7fe7075031d0>"
      ]
     },
     "execution_count": 37,
     "metadata": {},
     "output_type": "execute_result"
    },
    {
     "data": {
      "image/png": "[encoded data removed]",
      "text/plain": [
       "<Figure size 640x480 with 1 Axes>"
      ]
     },
     "metadata": {},
     "output_type": "display_data"
    }
   ],
   "source": [
    "# o nome da faculdade de direito pode aparecer de diversas formas\n",
    "usp = ['Faculdade de Direito da Universidade de São Paulo', 'Faculdade de Direto da Universidade de São Paulo', 'Universidade de São Paulo']\n",
    "\n",
    "relatores_usp = (\n",
    "  relatores\n",
    "  .assign(usp = lambda x: np.where(x.rel_faculdade_direito.isin(usp), 'USP', 'Outras'))\n",
    ")\n",
    "\n",
    "sns.pointplot(data = relatores_usp, x = 'usp', y = 'rel_idade')\n",
    "plt.axhline(66.55, color='gray', linestyle='--')"
   ]
  },
  {
   "cell_type": "markdown",
   "metadata": {},
   "source": [
    "É por muito pouco, mas parece que as médias são diferentes. Vamos fazer o teste de hipóteses:"
   ]
  },
  {
   "cell_type": "code",
   "execution_count": 41,
   "metadata": {},
   "outputs": [
    {
     "data": {
      "text/plain": [
       "TtestResult(statistic=-2.663336219551609, pvalue=0.00894402839660715, df=106.0)"
      ]
     },
     "execution_count": 41,
     "metadata": {},
     "output_type": "execute_result"
    }
   ],
   "source": [
    "ttest = stats.ttest_ind(\n",
    "  relatores_usp.rel_idade[relatores_usp.usp == 'USP'],\n",
    "  relatores_usp.rel_idade[~(relatores_usp.usp == 'USP')],\n",
    "  nan_policy='omit'\n",
    ")\n",
    "\n",
    "ttest\n"
   ]
  },
  {
   "cell_type": "markdown",
   "metadata": {},
   "source": [
    "De fato, o valor-p ficou em 0.009, então rejeitamos a hipótese nula e podemos afirmar que a média de idade dos relatores que vieram da USP é diferente da média de idade dos relatores que vieram de outras universidades."
   ]
  },
  {
   "cell_type": "markdown",
   "metadata": {},
   "source": [
    "----------------------------------\n",
    "\n",
    "### (extra) Simulação\n",
    "\n",
    "O que significa, na prática, a tal da \"ocorrência ao acaso\"? Vamos mostrar isso através de uma simulação. Vamos simular 1000 vezes a proporção de negados em duas câmaras. Para isso, no entanto, precisamos supor que a hipótese nula é verdadeira, ou seja, que as proporções são iguais. Vamos supor que a proporção das duas câmaras é 60%."
   ]
  },
  {
   "cell_type": "code",
   "execution_count": 206,
   "metadata": {},
   "outputs": [],
   "source": [
    "def amostra_diferenca(prop1, prop2, n=1000):\n",
    "  # faz uma amostra com os\n",
    "  camara1 = np.random.choice([0,1], n, p=[1-prop1,prop1])\n",
    "  camara2 = np.random.choice([0,1], n, p=[1-prop2,prop2])\n",
    "  # calcula a proporção\n",
    "  prop_camara1 = camara1.mean()\n",
    "  prop_camara2 = camara2.mean()\n",
    "  # diferença entre câmaras\n",
    "  diferenca = prop_camara1 - prop_camara2\n",
    "  contagens = np.array([[camara1.sum(), camara2.sum()], [n-camara1.sum(), n-camara2.sum()]])\n",
    "  valor_p = stats.chi2_contingency(contagens).pvalue\n",
    "  df = pd.DataFrame({\n",
    "    'prop1': prop_camara1,\n",
    "    'prop2': prop_camara2,\n",
    "    'diferenca': diferenca,\n",
    "    'valor_p': valor_p\n",
    "  }, index=[0])\n",
    "  return df"
   ]
  },
  {
   "cell_type": "code",
   "execution_count": 208,
   "metadata": {},
   "outputs": [
    {
     "data": {
      "text/html": [
       "<div>\n",
       "<style scoped>\n",
       "    .dataframe tbody tr th:only-of-type {\n",
       "        vertical-align: middle;\n",
       "    }\n",
       "\n",
       "    .dataframe tbody tr th {\n",
       "        vertical-align: top;\n",
       "    }\n",
       "\n",
       "    .dataframe thead th {\n",
       "        text-align: right;\n",
       "    }\n",
       "</style>\n",
       "<table border=\"1\" class=\"dataframe\">\n",
       "  <thead>\n",
       "    <tr style=\"text-align: right;\">\n",
       "      <th></th>\n",
       "      <th>prop1</th>\n",
       "      <th>prop2</th>\n",
       "      <th>diferenca</th>\n",
       "      <th>valor_p</th>\n",
       "    </tr>\n",
       "  </thead>\n",
       "  <tbody>\n",
       "    <tr>\n",
       "      <th>0</th>\n",
       "      <td>0.602</td>\n",
       "      <td>0.628</td>\n",
       "      <td>-0.026</td>\n",
       "      <td>0.250625</td>\n",
       "    </tr>\n",
       "  </tbody>\n",
       "</table>\n",
       "</div>"
      ],
      "text/plain": [
       "   prop1  prop2  diferenca   valor_p\n",
       "0  0.602  0.628     -0.026  0.250625"
      ]
     },
     "execution_count": 208,
     "metadata": {},
     "output_type": "execute_result"
    }
   ],
   "source": [
    "amostra_diferenca(0.6, 0.6)"
   ]
  },
  {
   "cell_type": "markdown",
   "metadata": {},
   "source": [
    "vamos fazer essa conta mil vezes:"
   ]
  },
  {
   "cell_type": "code",
   "execution_count": 209,
   "metadata": {},
   "outputs": [
    {
     "data": {
      "text/html": [
       "<div>\n",
       "<style scoped>\n",
       "    .dataframe tbody tr th:only-of-type {\n",
       "        vertical-align: middle;\n",
       "    }\n",
       "\n",
       "    .dataframe tbody tr th {\n",
       "        vertical-align: top;\n",
       "    }\n",
       "\n",
       "    .dataframe thead th {\n",
       "        text-align: right;\n",
       "    }\n",
       "</style>\n",
       "<table border=\"1\" class=\"dataframe\">\n",
       "  <thead>\n",
       "    <tr style=\"text-align: right;\">\n",
       "      <th></th>\n",
       "      <th>prop1</th>\n",
       "      <th>prop2</th>\n",
       "      <th>diferenca</th>\n",
       "      <th>valor_p</th>\n",
       "    </tr>\n",
       "  </thead>\n",
       "  <tbody>\n",
       "    <tr>\n",
       "      <th>0</th>\n",
       "      <td>0.589</td>\n",
       "      <td>0.609</td>\n",
       "      <td>-0.020</td>\n",
       "      <td>0.386014</td>\n",
       "    </tr>\n",
       "    <tr>\n",
       "      <th>0</th>\n",
       "      <td>0.579</td>\n",
       "      <td>0.610</td>\n",
       "      <td>-0.031</td>\n",
       "      <td>0.171856</td>\n",
       "    </tr>\n",
       "    <tr>\n",
       "      <th>0</th>\n",
       "      <td>0.582</td>\n",
       "      <td>0.603</td>\n",
       "      <td>-0.021</td>\n",
       "      <td>0.362750</td>\n",
       "    </tr>\n",
       "    <tr>\n",
       "      <th>0</th>\n",
       "      <td>0.590</td>\n",
       "      <td>0.592</td>\n",
       "      <td>-0.002</td>\n",
       "      <td>0.963724</td>\n",
       "    </tr>\n",
       "    <tr>\n",
       "      <th>0</th>\n",
       "      <td>0.605</td>\n",
       "      <td>0.601</td>\n",
       "      <td>0.004</td>\n",
       "      <td>0.890948</td>\n",
       "    </tr>\n",
       "    <tr>\n",
       "      <th>...</th>\n",
       "      <td>...</td>\n",
       "      <td>...</td>\n",
       "      <td>...</td>\n",
       "      <td>...</td>\n",
       "    </tr>\n",
       "    <tr>\n",
       "      <th>0</th>\n",
       "      <td>0.613</td>\n",
       "      <td>0.616</td>\n",
       "      <td>-0.003</td>\n",
       "      <td>0.926790</td>\n",
       "    </tr>\n",
       "    <tr>\n",
       "      <th>0</th>\n",
       "      <td>0.595</td>\n",
       "      <td>0.584</td>\n",
       "      <td>0.011</td>\n",
       "      <td>0.649429</td>\n",
       "    </tr>\n",
       "    <tr>\n",
       "      <th>0</th>\n",
       "      <td>0.587</td>\n",
       "      <td>0.600</td>\n",
       "      <td>-0.013</td>\n",
       "      <td>0.584865</td>\n",
       "    </tr>\n",
       "    <tr>\n",
       "      <th>0</th>\n",
       "      <td>0.583</td>\n",
       "      <td>0.595</td>\n",
       "      <td>-0.012</td>\n",
       "      <td>0.617133</td>\n",
       "    </tr>\n",
       "    <tr>\n",
       "      <th>0</th>\n",
       "      <td>0.599</td>\n",
       "      <td>0.606</td>\n",
       "      <td>-0.007</td>\n",
       "      <td>0.783969</td>\n",
       "    </tr>\n",
       "  </tbody>\n",
       "</table>\n",
       "<p>1000 rows × 4 columns</p>\n",
       "</div>"
      ],
      "text/plain": [
       "    prop1  prop2  diferenca   valor_p\n",
       "0   0.589  0.609     -0.020  0.386014\n",
       "0   0.579  0.610     -0.031  0.171856\n",
       "0   0.582  0.603     -0.021  0.362750\n",
       "0   0.590  0.592     -0.002  0.963724\n",
       "0   0.605  0.601      0.004  0.890948\n",
       "..    ...    ...        ...       ...\n",
       "0   0.613  0.616     -0.003  0.926790\n",
       "0   0.595  0.584      0.011  0.649429\n",
       "0   0.587  0.600     -0.013  0.584865\n",
       "0   0.583  0.595     -0.012  0.617133\n",
       "0   0.599  0.606     -0.007  0.783969\n",
       "\n",
       "[1000 rows x 4 columns]"
      ]
     },
     "execution_count": 209,
     "metadata": {},
     "output_type": "execute_result"
    }
   ],
   "source": [
    "amostras = []\n",
    "for _ in range(1000):\n",
    "  amostras.append(amostra_diferenca(0.6, 0.6))\n",
    "\n",
    "df = pd.concat(amostras)\n",
    "\n",
    "df"
   ]
  },
  {
   "cell_type": "markdown",
   "metadata": {},
   "source": [
    "Agora, fazemos um histograma das diferenças:"
   ]
  },
  {
   "cell_type": "code",
   "execution_count": 210,
   "metadata": {},
   "outputs": [
    {
     "data": {
      "text/plain": [
       "<matplotlib.lines.Line2D at 0x7f864bd46610>"
      ]
     },
     "execution_count": 210,
     "metadata": {},
     "output_type": "execute_result"
    },
    {
     "data": {
      "image/png": "[encoded data removed]",
      "text/plain": [
       "<Figure size 640x480 with 1 Axes>"
      ]
     },
     "metadata": {},
     "output_type": "display_data"
    }
   ],
   "source": [
    "sns.histplot(data=df, x='diferenca', kde=True)\n",
    "plt.axvline(0, color='gray', linestyle='--')"
   ]
  },
  {
   "cell_type": "markdown",
   "metadata": {},
   "source": [
    "Veja como, nesse caso, a diferença fica centrada no zero. Nessa simulação, se extrairmos os quantis de 2,5% e 97,5%, temos o intervalo de confiança simulado para essa diferença. Veja que ela contém o zero:"
   ]
  },
  {
   "cell_type": "code",
   "execution_count": 186,
   "metadata": {},
   "outputs": [
    {
     "data": {
      "text/plain": [
       "array([-0.041025,  0.041   ])"
      ]
     },
     "execution_count": 186,
     "metadata": {},
     "output_type": "execute_result"
    }
   ],
   "source": [
    "np.quantile(df.diferenca, [0.025, 0.975])"
   ]
  },
  {
   "cell_type": "markdown",
   "metadata": {},
   "source": [
    "E veja que interessante, a proporção de vezes em que, ao fazer o teste de hipóteses, rejeitaríamos a hipótese nula:"
   ]
  },
  {
   "cell_type": "code",
   "execution_count": 212,
   "metadata": {},
   "outputs": [
    {
     "data": {
      "text/plain": [
       "0.053"
      ]
     },
     "execution_count": 212,
     "metadata": {},
     "output_type": "execute_result"
    }
   ],
   "source": [
    "(df.valor_p < 0.05).mean()"
   ]
  },
  {
   "cell_type": "markdown",
   "metadata": {},
   "source": [
    "Ou seja, em aproximadamente 5% das amostras, nós rejeitaríamos a hipótese nula, mesmo ela sendo verdadeira. Isso é o erro do tipo I, que é o nível de significância que escolhemos."
   ]
  },
  {
   "cell_type": "markdown",
   "metadata": {},
   "source": [
    "Agora, vamos para um exemplo onde as proporções são diferentes, 60% e 70%:"
   ]
  },
  {
   "cell_type": "code",
   "execution_count": 213,
   "metadata": {},
   "outputs": [
    {
     "data": {
      "text/html": [
       "<div>\n",
       "<style scoped>\n",
       "    .dataframe tbody tr th:only-of-type {\n",
       "        vertical-align: middle;\n",
       "    }\n",
       "\n",
       "    .dataframe tbody tr th {\n",
       "        vertical-align: top;\n",
       "    }\n",
       "\n",
       "    .dataframe thead th {\n",
       "        text-align: right;\n",
       "    }\n",
       "</style>\n",
       "<table border=\"1\" class=\"dataframe\">\n",
       "  <thead>\n",
       "    <tr style=\"text-align: right;\">\n",
       "      <th></th>\n",
       "      <th>prop1</th>\n",
       "      <th>prop2</th>\n",
       "      <th>diferenca</th>\n",
       "      <th>valor_p</th>\n",
       "    </tr>\n",
       "  </thead>\n",
       "  <tbody>\n",
       "    <tr>\n",
       "      <th>0</th>\n",
       "      <td>0.702</td>\n",
       "      <td>0.605</td>\n",
       "      <td>0.097</td>\n",
       "      <td>6.449431e-06</td>\n",
       "    </tr>\n",
       "    <tr>\n",
       "      <th>0</th>\n",
       "      <td>0.698</td>\n",
       "      <td>0.586</td>\n",
       "      <td>0.112</td>\n",
       "      <td>2.251830e-07</td>\n",
       "    </tr>\n",
       "    <tr>\n",
       "      <th>0</th>\n",
       "      <td>0.671</td>\n",
       "      <td>0.611</td>\n",
       "      <td>0.060</td>\n",
       "      <td>5.956293e-03</td>\n",
       "    </tr>\n",
       "    <tr>\n",
       "      <th>0</th>\n",
       "      <td>0.732</td>\n",
       "      <td>0.582</td>\n",
       "      <td>0.150</td>\n",
       "      <td>2.243348e-12</td>\n",
       "    </tr>\n",
       "    <tr>\n",
       "      <th>0</th>\n",
       "      <td>0.695</td>\n",
       "      <td>0.614</td>\n",
       "      <td>0.081</td>\n",
       "      <td>1.686924e-04</td>\n",
       "    </tr>\n",
       "    <tr>\n",
       "      <th>...</th>\n",
       "      <td>...</td>\n",
       "      <td>...</td>\n",
       "      <td>...</td>\n",
       "      <td>...</td>\n",
       "    </tr>\n",
       "    <tr>\n",
       "      <th>0</th>\n",
       "      <td>0.689</td>\n",
       "      <td>0.597</td>\n",
       "      <td>0.092</td>\n",
       "      <td>2.166091e-05</td>\n",
       "    </tr>\n",
       "    <tr>\n",
       "      <th>0</th>\n",
       "      <td>0.700</td>\n",
       "      <td>0.606</td>\n",
       "      <td>0.094</td>\n",
       "      <td>1.250206e-05</td>\n",
       "    </tr>\n",
       "    <tr>\n",
       "      <th>0</th>\n",
       "      <td>0.696</td>\n",
       "      <td>0.596</td>\n",
       "      <td>0.100</td>\n",
       "      <td>3.671498e-06</td>\n",
       "    </tr>\n",
       "    <tr>\n",
       "      <th>0</th>\n",
       "      <td>0.691</td>\n",
       "      <td>0.592</td>\n",
       "      <td>0.099</td>\n",
       "      <td>4.889018e-06</td>\n",
       "    </tr>\n",
       "    <tr>\n",
       "      <th>0</th>\n",
       "      <td>0.681</td>\n",
       "      <td>0.614</td>\n",
       "      <td>0.067</td>\n",
       "      <td>2.007758e-03</td>\n",
       "    </tr>\n",
       "  </tbody>\n",
       "</table>\n",
       "<p>1000 rows × 4 columns</p>\n",
       "</div>"
      ],
      "text/plain": [
       "    prop1  prop2  diferenca       valor_p\n",
       "0   0.702  0.605      0.097  6.449431e-06\n",
       "0   0.698  0.586      0.112  2.251830e-07\n",
       "0   0.671  0.611      0.060  5.956293e-03\n",
       "0   0.732  0.582      0.150  2.243348e-12\n",
       "0   0.695  0.614      0.081  1.686924e-04\n",
       "..    ...    ...        ...           ...\n",
       "0   0.689  0.597      0.092  2.166091e-05\n",
       "0   0.700  0.606      0.094  1.250206e-05\n",
       "0   0.696  0.596      0.100  3.671498e-06\n",
       "0   0.691  0.592      0.099  4.889018e-06\n",
       "0   0.681  0.614      0.067  2.007758e-03\n",
       "\n",
       "[1000 rows x 4 columns]"
      ]
     },
     "execution_count": 213,
     "metadata": {},
     "output_type": "execute_result"
    }
   ],
   "source": [
    "amostras = []\n",
    "for _ in range(1000):\n",
    "  amostras.append(amostra_diferenca(0.7, 0.6))\n",
    "\n",
    "df = pd.concat(amostras)\n",
    "\n",
    "df"
   ]
  },
  {
   "cell_type": "markdown",
   "metadata": {},
   "source": [
    "O histograma fica assim:"
   ]
  },
  {
   "cell_type": "code",
   "execution_count": 214,
   "metadata": {},
   "outputs": [
    {
     "data": {
      "text/plain": [
       "<matplotlib.lines.Line2D at 0x7f864c6cfd50>"
      ]
     },
     "execution_count": 214,
     "metadata": {},
     "output_type": "execute_result"
    },
    {
     "data": {
      "image/png": "[encoded data removed]",
      "text/plain": [
       "<Figure size 640x480 with 1 Axes>"
      ]
     },
     "metadata": {},
     "output_type": "display_data"
    }
   ],
   "source": [
    "sns.histplot(data=df, x='diferenca', kde=True)\n",
    "plt.axvline(0, color='gray', linestyle='--')"
   ]
  },
  {
   "cell_type": "markdown",
   "metadata": {},
   "source": [
    "E o intervalo de confiança simulado fica assim:"
   ]
  },
  {
   "cell_type": "code",
   "execution_count": 215,
   "metadata": {},
   "outputs": [
    {
     "data": {
      "text/plain": [
       "array([0.059975, 0.141   ])"
      ]
     },
     "execution_count": 215,
     "metadata": {},
     "output_type": "execute_result"
    }
   ],
   "source": [
    "np.quantile(df.diferenca, [0.025, 0.975])"
   ]
  },
  {
   "cell_type": "markdown",
   "metadata": {},
   "source": [
    "Veja que dessa vez o intervalo não contém o zero. Ou seja, a diferença é estatisticamente diferente de zero."
   ]
  },
  {
   "cell_type": "markdown",
   "metadata": {},
   "source": [
    "Agora, veja a proporção de vezes que o valor-p é menor de 5%:"
   ]
  },
  {
   "cell_type": "code",
   "execution_count": 216,
   "metadata": {},
   "outputs": [
    {
     "data": {
      "text/plain": [
       "1.0"
      ]
     },
     "execution_count": 216,
     "metadata": {},
     "output_type": "execute_result"
    }
   ],
   "source": [
    "(df.valor_p < 0.05).mean()"
   ]
  },
  {
   "cell_type": "markdown",
   "metadata": {},
   "source": [
    "Todas as vezes! Ou seja, em 100% das amostras, rejeitaríamos a hipótese nula, o que é esperado, já que ela é falsa."
   ]
  },
  {
   "cell_type": "markdown",
   "metadata": {},
   "source": [
    "Agora vamos para um exemplo onde as proporções são diferentes, mas não muito, 60% e 62%:"
   ]
  },
  {
   "cell_type": "code",
   "execution_count": 217,
   "metadata": {},
   "outputs": [
    {
     "data": {
      "text/html": [
       "<div>\n",
       "<style scoped>\n",
       "    .dataframe tbody tr th:only-of-type {\n",
       "        vertical-align: middle;\n",
       "    }\n",
       "\n",
       "    .dataframe tbody tr th {\n",
       "        vertical-align: top;\n",
       "    }\n",
       "\n",
       "    .dataframe thead th {\n",
       "        text-align: right;\n",
       "    }\n",
       "</style>\n",
       "<table border=\"1\" class=\"dataframe\">\n",
       "  <thead>\n",
       "    <tr style=\"text-align: right;\">\n",
       "      <th></th>\n",
       "      <th>prop1</th>\n",
       "      <th>prop2</th>\n",
       "      <th>diferenca</th>\n",
       "      <th>valor_p</th>\n",
       "    </tr>\n",
       "  </thead>\n",
       "  <tbody>\n",
       "    <tr>\n",
       "      <th>0</th>\n",
       "      <td>0.623</td>\n",
       "      <td>0.615</td>\n",
       "      <td>0.008</td>\n",
       "      <td>0.747217</td>\n",
       "    </tr>\n",
       "    <tr>\n",
       "      <th>0</th>\n",
       "      <td>0.611</td>\n",
       "      <td>0.584</td>\n",
       "      <td>0.027</td>\n",
       "      <td>0.235815</td>\n",
       "    </tr>\n",
       "    <tr>\n",
       "      <th>0</th>\n",
       "      <td>0.625</td>\n",
       "      <td>0.614</td>\n",
       "      <td>0.011</td>\n",
       "      <td>0.645114</td>\n",
       "    </tr>\n",
       "    <tr>\n",
       "      <th>0</th>\n",
       "      <td>0.599</td>\n",
       "      <td>0.594</td>\n",
       "      <td>0.005</td>\n",
       "      <td>0.855337</td>\n",
       "    </tr>\n",
       "    <tr>\n",
       "      <th>0</th>\n",
       "      <td>0.650</td>\n",
       "      <td>0.625</td>\n",
       "      <td>0.025</td>\n",
       "      <td>0.264270</td>\n",
       "    </tr>\n",
       "    <tr>\n",
       "      <th>...</th>\n",
       "      <td>...</td>\n",
       "      <td>...</td>\n",
       "      <td>...</td>\n",
       "      <td>...</td>\n",
       "    </tr>\n",
       "    <tr>\n",
       "      <th>0</th>\n",
       "      <td>0.644</td>\n",
       "      <td>0.609</td>\n",
       "      <td>0.035</td>\n",
       "      <td>0.116030</td>\n",
       "    </tr>\n",
       "    <tr>\n",
       "      <th>0</th>\n",
       "      <td>0.625</td>\n",
       "      <td>0.604</td>\n",
       "      <td>0.021</td>\n",
       "      <td>0.358177</td>\n",
       "    </tr>\n",
       "    <tr>\n",
       "      <th>0</th>\n",
       "      <td>0.618</td>\n",
       "      <td>0.599</td>\n",
       "      <td>0.019</td>\n",
       "      <td>0.409579</td>\n",
       "    </tr>\n",
       "    <tr>\n",
       "      <th>0</th>\n",
       "      <td>0.625</td>\n",
       "      <td>0.601</td>\n",
       "      <td>0.024</td>\n",
       "      <td>0.291009</td>\n",
       "    </tr>\n",
       "    <tr>\n",
       "      <th>0</th>\n",
       "      <td>0.592</td>\n",
       "      <td>0.591</td>\n",
       "      <td>0.001</td>\n",
       "      <td>1.000000</td>\n",
       "    </tr>\n",
       "  </tbody>\n",
       "</table>\n",
       "<p>1000 rows × 4 columns</p>\n",
       "</div>"
      ],
      "text/plain": [
       "    prop1  prop2  diferenca   valor_p\n",
       "0   0.623  0.615      0.008  0.747217\n",
       "0   0.611  0.584      0.027  0.235815\n",
       "0   0.625  0.614      0.011  0.645114\n",
       "0   0.599  0.594      0.005  0.855337\n",
       "0   0.650  0.625      0.025  0.264270\n",
       "..    ...    ...        ...       ...\n",
       "0   0.644  0.609      0.035  0.116030\n",
       "0   0.625  0.604      0.021  0.358177\n",
       "0   0.618  0.599      0.019  0.409579\n",
       "0   0.625  0.601      0.024  0.291009\n",
       "0   0.592  0.591      0.001  1.000000\n",
       "\n",
       "[1000 rows x 4 columns]"
      ]
     },
     "execution_count": 217,
     "metadata": {},
     "output_type": "execute_result"
    }
   ],
   "source": [
    "amostras = []\n",
    "for _ in range(1000):\n",
    "  amostras.append(amostra_diferenca(0.62, 0.60))\n",
    "\n",
    "df = pd.concat(amostras)\n",
    "\n",
    "df"
   ]
  },
  {
   "cell_type": "markdown",
   "metadata": {},
   "source": [
    "O histograma fica assim:"
   ]
  },
  {
   "cell_type": "code",
   "execution_count": 218,
   "metadata": {},
   "outputs": [
    {
     "data": {
      "text/plain": [
       "<matplotlib.lines.Line2D at 0x7f864c70d5d0>"
      ]
     },
     "execution_count": 218,
     "metadata": {},
     "output_type": "execute_result"
    },
    {
     "data": {
      "image/png": "[encoded data removed]",
      "text/plain": [
       "<Figure size 640x480 with 1 Axes>"
      ]
     },
     "metadata": {},
     "output_type": "display_data"
    }
   ],
   "source": [
    "sns.histplot(data=df, x='diferenca', kde=True)\n",
    "plt.axvline(0, color='gray', linestyle='--')"
   ]
  },
  {
   "cell_type": "markdown",
   "metadata": {},
   "source": [
    "E o intervalo de confiança simulado fica assim:"
   ]
  },
  {
   "cell_type": "code",
   "execution_count": 219,
   "metadata": {},
   "outputs": [
    {
     "data": {
      "text/plain": [
       "array([-0.022,  0.065])"
      ]
     },
     "execution_count": 219,
     "metadata": {},
     "output_type": "execute_result"
    }
   ],
   "source": [
    "np.quantile(df.diferenca, [0.025, 0.975])"
   ]
  },
  {
   "cell_type": "markdown",
   "metadata": {},
   "source": [
    "Veja que dessa vez o intervalo não contém o zero. Ou seja, a diferença é estatisticamente diferente de zero."
   ]
  },
  {
   "cell_type": "markdown",
   "metadata": {},
   "source": [
    "Agora, veja a proporção de vezes que o valor-p é menor de 5%:"
   ]
  },
  {
   "cell_type": "code",
   "execution_count": 220,
   "metadata": {},
   "outputs": [
    {
     "data": {
      "text/plain": [
       "0.15"
      ]
     },
     "execution_count": 220,
     "metadata": {},
     "output_type": "execute_result"
    }
   ],
   "source": [
    "(df.valor_p < 0.05).mean()"
   ]
  },
  {
   "cell_type": "markdown",
   "metadata": {},
   "source": [
    "Nesse caso, não há evidências suficientes para rejeitar a hipótese nula. Isso é o que ocorre quando temos uma diferença na população que é muito pequena. Mas tem um jeito de detectar essa diferença, que é aumentando o tamanho da amostra. Vamos ver isso. Considere que, ao invés de 1000 observações, temos 5000:"
   ]
  },
  {
   "cell_type": "code",
   "execution_count": 239,
   "metadata": {},
   "outputs": [
    {
     "data": {
      "text/html": [
       "<div>\n",
       "<style scoped>\n",
       "    .dataframe tbody tr th:only-of-type {\n",
       "        vertical-align: middle;\n",
       "    }\n",
       "\n",
       "    .dataframe tbody tr th {\n",
       "        vertical-align: top;\n",
       "    }\n",
       "\n",
       "    .dataframe thead th {\n",
       "        text-align: right;\n",
       "    }\n",
       "</style>\n",
       "<table border=\"1\" class=\"dataframe\">\n",
       "  <thead>\n",
       "    <tr style=\"text-align: right;\">\n",
       "      <th></th>\n",
       "      <th>prop1</th>\n",
       "      <th>prop2</th>\n",
       "      <th>diferenca</th>\n",
       "      <th>valor_p</th>\n",
       "    </tr>\n",
       "  </thead>\n",
       "  <tbody>\n",
       "    <tr>\n",
       "      <th>0</th>\n",
       "      <td>0.6302</td>\n",
       "      <td>0.5914</td>\n",
       "      <td>0.0388</td>\n",
       "      <td>0.000075</td>\n",
       "    </tr>\n",
       "    <tr>\n",
       "      <th>0</th>\n",
       "      <td>0.6274</td>\n",
       "      <td>0.6010</td>\n",
       "      <td>0.0264</td>\n",
       "      <td>0.007121</td>\n",
       "    </tr>\n",
       "    <tr>\n",
       "      <th>0</th>\n",
       "      <td>0.6206</td>\n",
       "      <td>0.5982</td>\n",
       "      <td>0.0224</td>\n",
       "      <td>0.022898</td>\n",
       "    </tr>\n",
       "    <tr>\n",
       "      <th>0</th>\n",
       "      <td>0.6198</td>\n",
       "      <td>0.6014</td>\n",
       "      <td>0.0184</td>\n",
       "      <td>0.062009</td>\n",
       "    </tr>\n",
       "    <tr>\n",
       "      <th>0</th>\n",
       "      <td>0.6196</td>\n",
       "      <td>0.5982</td>\n",
       "      <td>0.0214</td>\n",
       "      <td>0.029845</td>\n",
       "    </tr>\n",
       "    <tr>\n",
       "      <th>...</th>\n",
       "      <td>...</td>\n",
       "      <td>...</td>\n",
       "      <td>...</td>\n",
       "      <td>...</td>\n",
       "    </tr>\n",
       "    <tr>\n",
       "      <th>0</th>\n",
       "      <td>0.6194</td>\n",
       "      <td>0.6086</td>\n",
       "      <td>0.0108</td>\n",
       "      <td>0.276297</td>\n",
       "    </tr>\n",
       "    <tr>\n",
       "      <th>0</th>\n",
       "      <td>0.6134</td>\n",
       "      <td>0.6060</td>\n",
       "      <td>0.0074</td>\n",
       "      <td>0.460526</td>\n",
       "    </tr>\n",
       "    <tr>\n",
       "      <th>0</th>\n",
       "      <td>0.6222</td>\n",
       "      <td>0.5976</td>\n",
       "      <td>0.0246</td>\n",
       "      <td>0.012379</td>\n",
       "    </tr>\n",
       "    <tr>\n",
       "      <th>0</th>\n",
       "      <td>0.6134</td>\n",
       "      <td>0.6092</td>\n",
       "      <td>0.0042</td>\n",
       "      <td>0.681590</td>\n",
       "    </tr>\n",
       "    <tr>\n",
       "      <th>0</th>\n",
       "      <td>0.6146</td>\n",
       "      <td>0.6072</td>\n",
       "      <td>0.0074</td>\n",
       "      <td>0.460276</td>\n",
       "    </tr>\n",
       "  </tbody>\n",
       "</table>\n",
       "<p>1000 rows × 4 columns</p>\n",
       "</div>"
      ],
      "text/plain": [
       "     prop1   prop2  diferenca   valor_p\n",
       "0   0.6302  0.5914     0.0388  0.000075\n",
       "0   0.6274  0.6010     0.0264  0.007121\n",
       "0   0.6206  0.5982     0.0224  0.022898\n",
       "0   0.6198  0.6014     0.0184  0.062009\n",
       "0   0.6196  0.5982     0.0214  0.029845\n",
       "..     ...     ...        ...       ...\n",
       "0   0.6194  0.6086     0.0108  0.276297\n",
       "0   0.6134  0.6060     0.0074  0.460526\n",
       "0   0.6222  0.5976     0.0246  0.012379\n",
       "0   0.6134  0.6092     0.0042  0.681590\n",
       "0   0.6146  0.6072     0.0074  0.460276\n",
       "\n",
       "[1000 rows x 4 columns]"
      ]
     },
     "execution_count": 239,
     "metadata": {},
     "output_type": "execute_result"
    }
   ],
   "source": [
    "amostras = []\n",
    "for _ in range(1000):\n",
    "  amostras.append(amostra_diferenca(0.62, 0.60, 5000))\n",
    "\n",
    "df = pd.concat(amostras)\n",
    "\n",
    "df"
   ]
  },
  {
   "cell_type": "markdown",
   "metadata": {},
   "source": [
    "O histograma fica assim:"
   ]
  },
  {
   "cell_type": "code",
   "execution_count": 240,
   "metadata": {},
   "outputs": [
    {
     "data": {
      "text/plain": [
       "<matplotlib.lines.Line2D at 0x7f864c0e6490>"
      ]
     },
     "execution_count": 240,
     "metadata": {},
     "output_type": "execute_result"
    },
    {
     "data": {
      "image/png": "[encoded data removed]",
      "text/plain": [
       "<Figure size 640x480 with 1 Axes>"
      ]
     },
     "metadata": {},
     "output_type": "display_data"
    }
   ],
   "source": [
    "sns.histplot(data=df, x='diferenca', kde=True)\n",
    "plt.axvline(0, color='gray', linestyle='--')"
   ]
  },
  {
   "cell_type": "markdown",
   "metadata": {},
   "source": [
    "E o intervalo de confiança simulado fica assim:"
   ]
  },
  {
   "cell_type": "code",
   "execution_count": 241,
   "metadata": {},
   "outputs": [
    {
     "data": {
      "text/plain": [
       "array([0.0018, 0.0388])"
      ]
     },
     "execution_count": 241,
     "metadata": {},
     "output_type": "execute_result"
    }
   ],
   "source": [
    "np.quantile(df.diferenca, [0.025, 0.975])"
   ]
  },
  {
   "cell_type": "markdown",
   "metadata": {},
   "source": [
    "Veja que dessa vez o intervalo não contém o zero. Ou seja, a diferença é estatisticamente diferente de zero."
   ]
  },
  {
   "cell_type": "markdown",
   "metadata": {},
   "source": [
    "Agora, veja a proporção de vezes que o valor-p é menor de 5%:"
   ]
  },
  {
   "cell_type": "code",
   "execution_count": 243,
   "metadata": {},
   "outputs": [
    {
     "data": {
      "text/plain": [
       "0.536"
      ]
     },
     "execution_count": 243,
     "metadata": {},
     "output_type": "execute_result"
    }
   ],
   "source": [
    "(df.valor_p < 0.05).mean()"
   ]
  },
  {
   "cell_type": "markdown",
   "metadata": {},
   "source": [
    "Veja que em mais da metade das amostras que fizemos, o valor-p foi menor de 5%.\n",
    "\n",
    "Essas simulações mostram como o valor-p é uma medida de quão extremo é o resultado observado. Se a diferença entre as proporções for muito pequena, o valor-p será alto, indicando que a diferença pode ter ocorrido por acaso. Se a diferença for grande, o valor-p será baixo, indicando que a diferença é estatisticamente significante."
   ]
  },
  {
   "cell_type": "markdown",
   "metadata": {},
   "source": [
    "--------------------------\n",
    "\n",
    "### (extra) por que usamos t-student?\n",
    "\n",
    "Na apostila anterior e no início dessa apostila, vimos intevalos de confiança baseados no valor de $z_{1-\\alpha/2}$.\n",
    "\n",
    "Nos livros didáticos, o que temos é que esse valor $z$ é usado quando a **variância populacional ($\\sigma^2$) é conhecida**, enquanto, quando a variância populacional é desconhecida, usamos o valor $t$, da distribuição t-Student. É daí que vem o termo \"teste t\", que são os testes que usam a distribuição t-Student no lugar da distribuição normal.\n",
    "\n",
    "A origem disso está na suposição sobre a **distribuição de probabilidades da variável** de interesse. Quando supomos que a variável de interesse é normal, existe um resultado mostrando que a média amostral ($\\bar X$) dividida pelo desvio padrão amostral ($S$) e multiplicada por uma constante **segue uma distribuição t de Student**. Essa constante é chamada de **graus de liberdade** e no caso que estamos estudando é dada por $n-1$, onde $n$ é o tamanho da amostra.\n",
    "\n",
    "Vamos desenhar a t-student para alguns valores de $n$, comparando-a com a distribuição normal."
   ]
  },
  {
   "cell_type": "code",
   "execution_count": 62,
   "metadata": {},
   "outputs": [
    {
     "data": {
      "text/plain": [
       "<Axes: xlabel='x', ylabel='densidade'>"
      ]
     },
     "execution_count": 62,
     "metadata": {},
     "output_type": "execute_result"
    },
    {
     "data": {
      "image/png": "[encoded data removed]",
      "text/plain": [
       "<Figure size 1000x1000 with 4 Axes>"
      ]
     },
     "metadata": {},
     "output_type": "display_data"
    }
   ],
   "source": [
    "valores_n = [5, 10, 20, 30]\n",
    "\n",
    "x = np.linspace(-5, 5, 1000)\n",
    "\n",
    "df = pd.DataFrame({'x': x, 'densidade': stats.norm.pdf(x)})\n",
    "\n",
    "fig, axes = plt.subplots(2, 2, figsize = (10, 10))\n",
    "\n",
    "# mostrando a distribuição t-student para os diferentes valores de n\n",
    "\n",
    "df = df.assign(t_pdf = stats.t.pdf(x, df = valores_n[0] - 1))\n",
    "# mostrando o gráfico da normal\n",
    "sns.lineplot(ax = axes[0,0], data = df, x = 'x', y = \"densidade\", label=\"Normal\")\n",
    "# mostrando o gráfico da t-student\n",
    "sns.lineplot(ax = axes[0,0], data = df, x = 'x', y = 't_pdf', label=\"t-student\")\n",
    "\n",
    "df = df.assign(t_pdf = stats.t.pdf(x, df = valores_n[1] - 1))\n",
    "sns.lineplot(ax = axes[0,1], data = df, x = 'x', y = \"densidade\", label=\"Normal\")\n",
    "sns.lineplot(ax = axes[0,1], data = df, x = 'x', y = 't_pdf', label=\"t-student\")\n",
    "\n",
    "df = df.assign(t_pdf = stats.t.pdf(x, df = valores_n[2] - 1))\n",
    "sns.lineplot(ax = axes[1,0], data = df, x = 'x', y = \"densidade\", label=\"Normal\")\n",
    "sns.lineplot(ax = axes[1,0], data = df, x = 'x', y = 't_pdf', label=\"t-student\")\n",
    "\n",
    "df = df.assign(t_pdf = stats.t.pdf(x, df = valores_n[3] - 1))\n",
    "sns.lineplot(ax = axes[1,1], data = df, x = 'x', y = \"densidade\", label=\"Normal\")\n",
    "sns.lineplot(ax = axes[1,1], data = df, x = 'x', y = 't_pdf', label=\"t-student\")\n",
    "\n"
   ]
  },
  {
   "cell_type": "markdown",
   "metadata": {},
   "source": [
    "Veja que para valores pequenos de $n$, a t-student é mais larga que a distribuição normal. Isso ocorre porque a variância amostral é uma estimativa da variância populacional e, portanto, é mais incerta. Conforme o tamanho da amostra aumenta, a t-student se aproxima da distribuição normal.\n",
    "\n",
    "Portanto, o t-score é usado quando temos a suposição de normalidade e é mais útil quando temos poucos dados, já que, quando temos muitos dados, os números são quase equivalentes ao z-score. \n",
    "\n",
    "Já o z-score pode ser usado em **duas situações**: \n",
    "\n",
    "1) quando assumimos que a variável de interesse tem distribuição normal e variância conhecida (portanto, não temos a razão entre a média e o desvio padrão amostrais), ou \n",
    "\n",
    "2) quando a variavel de interesse não é normal e usamos o TCL para aproximar a distribuição amostral da média. Neste segundo caso, existe um teorema adicional, chamado [teorema de Slutsky](https://en.wikipedia.org/wiki/Slutsky%27s_theorem), que, a partir do resultado de que o desvio padrão amostral converge em probabilidade para o desvio padrão da população, mostra que o z-score é assintoticamente normal. \n",
    "\n",
    "Por isso que dizemos que o z-score é usado quando a variância populacional é conhecida ou quando o tamanho da amostra é grande. Se não, supomos que a variável de interesse é normal e usamos o t-score.\n",
    "\n",
    "#### Aplicação no python\n",
    "\n",
    "No python, podemos fazer o intervalo de confiança com t-score fazendo as seguintes operações:\n"
   ]
  },
  {
   "cell_type": "code",
   "execution_count": null,
   "metadata": {},
   "outputs": [
    {
     "data": {
      "text/plain": [
       "(3.1360526281801846, 3.2216300942330562)"
      ]
     },
     "metadata": {},
     "output_type": "display_data"
    }
   ],
   "source": [
    "tempos = camaras.tempo\n",
    "media = tempos.mean()\n",
    "sd = tempos.std()\n",
    "z = stats.norm.ppf(0.975)\n",
    "tscore = stats.t.ppf(0.975, df = len(tempos) - 1)\n",
    "n = len(tempos)\n",
    "\n",
    "vl_intervalo_t = tscore * sd / np.sqrt(n)\n",
    "\n",
    "media - vl_intervalo_t, media + vl_intervalo_t"
   ]
  },
  {
   "cell_type": "markdown",
   "metadata": {},
   "source": [
    "Como nossa amostra é grande, o resultado é praticamente o mesmo. Vamos ver com uma amostra pequena, comparando com o z-score:"
   ]
  },
  {
   "cell_type": "code",
   "execution_count": null,
   "metadata": {},
   "outputs": [
    {
     "name": "stdout",
     "output_type": "stream",
     "text": [
      "2.037385709232428 4.425311073792897\n",
      "1.9563287310545743 4.5063680519707505\n"
     ]
    }
   ],
   "source": [
    "tempos = camaras.sample(20, random_state=42).tempo\n",
    "\n",
    "media = tempos.mean()\n",
    "sd = tempos.std()\n",
    "\n",
    "z = stats.norm.ppf(0.975)\n",
    "tscore = stats.t.ppf(0.975, df = len(tempos) - 1)\n",
    "\n",
    "n = len(tempos)\n",
    "\n",
    "vl_intervalo_z = z * sd / np.sqrt(n)\n",
    "vl_intervalo_t = tscore * sd / np.sqrt(n)\n",
    "\n",
    "print(media - vl_intervalo_z, media + vl_intervalo_z)\n",
    "print(media - vl_intervalo_t, media + vl_intervalo_t)"
   ]
  },
  {
   "cell_type": "markdown",
   "metadata": {},
   "source": [
    "Veja como o intervalo de confiança da normal é mais \"otimista\" do que o intervalo de confiança da t-student. Isso ocorre porque a t-student é mais larga, refletindo a incerteza adicional devido à variância amostral, enquanto a normal é mais estreita e faz uso de teoremas de convergência para aproximar a distribuição amostral da média."
   ]
  }
 ],
 "metadata": {
  "kernelspec": {
   "display_name": "base",
   "language": "python",
   "name": "python3"
  },
  "language_info": {
   "codemirror_mode": {
    "name": "ipython",
    "version": 3
   },
   "file_extension": ".py",
   "mimetype": "text/x-python",
   "name": "python",
   "nbconvert_exporter": "python",
   "pygments_lexer": "ipython3",
   "version": "3.11.5"
  }
 },
 "nbformat": 4,
 "nbformat_minor": 2
}
