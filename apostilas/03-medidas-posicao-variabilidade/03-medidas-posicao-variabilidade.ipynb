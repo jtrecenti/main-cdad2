{
 "cells": [
  {
   "cell_type": "markdown",
   "metadata": {},
   "source": [
    "# Medidas de posição e variabilidade"
   ]
  },
  {
   "cell_type": "code",
   "execution_count": 1,
   "metadata": {},
   "outputs": [],
   "source": [
    "import pandas as pd\n",
    "import numpy as np\n",
    "import seaborn as sns\n",
    "import textwrap"
   ]
  },
  {
   "cell_type": "code",
   "execution_count": 2,
   "metadata": {},
   "outputs": [],
   "source": [
    "camaras = pd.read_csv('https://github.com/jtrecenti/main-cdad2/releases/download/data/camaras.csv')"
   ]
  },
  {
   "cell_type": "markdown",
   "metadata": {},
   "source": [
    "## Introdução\n",
    "\n",
    "Nessa análise, nosso interesse é estudar os tempos das decisões do TJSP em apelações criminais. Para isso, vamos entender o que é distribuição, o que é uma estatística e como podemos retirar estatísticas de interesse dos nossos dados.\n",
    "\n",
    "**Por que isso é importante?** As medidas resumo servem para facilitar nosso entendimento a respeito de uma variável quantitativa de interesse. Elas aparecem em todo lugar, mesmo no ramo do direito. Por exemplo, quando um advogado quer saber quanto tempo demora um processo, ele está interessado em medidas resumo."
   ]
  },
  {
   "cell_type": "markdown",
   "metadata": {},
   "source": [
    "## Medidas de posição: conceitos\n",
    "\n",
    "Para cada conceito, vamos mostrar a definição, a fórmula matemática e o código em python para calcular.\n",
    "\n",
    "### Média\n",
    "\n",
    "#### Definição\n",
    "\n",
    "A **média** é a soma de todos os valores dividido pela quantidade de valores. Ela é considerada uma medida de tendência central. Está muito presente no nosso dia a dia, como por exemplo, quando queremos saber a média de idade de um grupo de pessoas.\n",
    "\n",
    "#### Fórmula\n",
    "\n",
    "A fórmula da média é dada por:\n",
    "\n",
    "$$\\bar{x} = \\frac{x_1 + x_2 + \\dots + x_N}{N} = \\frac{1}{N}\\sum_{i=1}^{N} x_i$$\n",
    "\n",
    "Nessa fórmula, o símbolo $\\bar{x}$ é a notação para a média. \n",
    "\n",
    "O símbolo $x_i$ é o valor da variável quantitativa de interesse para determinado processo $i$, enquanto $N$ é a quantidade de valores. Por exemplo, $x_3$ é o tempo de decisão do processo 3 na nossa base de dados.\n",
    "\n",
    "Já o símbolo $\\sum$ pode assustar. Trata-se da notação para a soma. Lemos ela assim: \"soma de $i$ igual $1$ até $N$ de $x_i$\". Como muita coisa na matemática, é só uma forma de economizar esforço e tinta para expressar algo que queremos.\n",
    "\n",
    "#### Código\n",
    "\n",
    "A média pode ser calculada em python usando a função `mean` do pacote `numpy`, ou então dentro do próprio pandas, com o método `.mean()`.\n"
   ]
  },
  {
   "cell_type": "code",
   "execution_count": 3,
   "metadata": {},
   "outputs": [
    {
     "data": {
      "text/plain": [
       "(3.1788413612066204, 3.1788413612066204)"
      ]
     },
     "execution_count": 3,
     "metadata": {},
     "output_type": "execute_result"
    }
   ],
   "source": [
    "mean_pandas = camaras.tempo.mean()\n",
    "mean_numpy = np.mean(camaras.tempo)\n",
    "\n",
    "mean_pandas, mean_numpy"
   ]
  },
  {
   "cell_type": "markdown",
   "metadata": {},
   "source": [
    "Veja que essa conta é equivalente a calcular a soma de todos os valores e dividir pela quantidade de valores."
   ]
  },
  {
   "cell_type": "code",
   "execution_count": 4,
   "metadata": {},
   "outputs": [
    {
     "data": {
      "text/plain": [
       "3.1785234770704998"
      ]
     },
     "execution_count": 4,
     "metadata": {},
     "output_type": "execute_result"
    }
   ],
   "source": [
    "soma = np.sum(camaras.tempo)\n",
    "quantidade = len(camaras)\n",
    "\n",
    "soma / quantidade"
   ]
  },
  {
   "cell_type": "markdown",
   "metadata": {},
   "source": [
    "A diferença na quarta casa decimal se dá por conta da precisão dos números em ponto flutuante."
   ]
  },
  {
   "cell_type": "markdown",
   "metadata": {},
   "source": [
    "### Mediana\n",
    "\n",
    "#### Definição\n",
    "\n",
    "A **mediana** é o valor que divide a amostra em duas partes iguais. Ou seja, 50 % dos valores são menores que a mediana e 50 % dos valores são maiores que a mediana.\n",
    "\n",
    "A mediana é calculada ordenando os valores e escolhendo o valor do meio. Se a quantidade de valores for par, a mediana é a média dos dois valores centrais.\n",
    "\n",
    "A principal diferença entre média e mediana é que a média é sensível a valores extremos, enquanto a mediana não. Por exemplo, a média dos valores `[1, 2, 3, 4 e 100]` é 22, enquanto a mediana é 3.\n",
    "\n",
    "No direito, a mediana é muito importante porque estamos sempre trabalhando com variáveis que assumem valores extremos. Por exemplo, o tempo de decisão de um processo pode ser muito longo, o que afeta a média. Outro exemplo são os valores: a maioria dos processos têm valores envolvidos na ordem de milhares de reais, mas também é comum se deparar com processos com valores muito altos, na ordem de milhões ou bilhões.\n",
    "\n",
    "#### Fórmula\n",
    "\n",
    "A mediana é o valor que divide a amostra em duas partes iguais. Se a quantidade de valores for ímpar, a mediana é o valor do meio. Se a quantidade de valores for par, a mediana é a média dos dois valores centrais.\n",
    "\n",
    "Para mostrar isso matematicamente, introduzimos o conceito de *postos* (em inglês, *rank*). O posto de um valor é a sua posição na amostra, quando ela está ordenada. Por exemplo, na amostra `[1, 2, 100, 3, 4]`, $x_{(3)}$ é 3 (leia assim: a lista ordenada na 3ª posição é 3), enquanto $x_{(5)}$ é 100 (a lista ordenada na 5ª posição).\n",
    "\n",
    "Assim, a mediana é o posto do meio. Mas o que é o meio? Bem, em uma amostra com $N$ valores, o meio é o valor $\\frac{N+1}{2}$, se $N$ for ímpar. Se $N$ for par, o meio é a média dos valores $\\frac{N}{2}$ e $\\frac{N}{2}+1$. \n",
    "\n",
    "Por exemplo, se $N = 31$, o meio é o valor na posição $\\frac{31+1}{2} = 16$, ou seja, $x_{(16)}$. Se $N = 30$, o meio é a média dos valores nas posições $\\frac{30}{2} = 15$ e $\\frac{30}{2}+1 = 16$, ou seja, $(x_{(15)})+(x_{(16)}))/2$.\n",
    "\n",
    "Assim, temos:\n",
    "\n",
    "$$md = \\begin{cases} x_{((N+1)/2)} & \\text{se } N \\text{ é ímpar} \\\\ \\frac{x_{(N/2)}+x_{(N/2+1)}}{2} & \\text{se } N \\text{ é par} \\end{cases}$$\n",
    "\n",
    "Como você pode ver, a fórmula nesse caso é muito mais difícil do que o cálculo em si. A dificuldade na notação está em expressar o que queremos de forma geral, para qualquer amostra, seja ela par ou ímpar.\n",
    "\n",
    "#### Código\n",
    "\n",
    "A mediana pode ser calculada em python usando a função `median` do pacote `numpy`, ou então dentro do próprio pandas, com o método `.median()`."
   ]
  },
  {
   "cell_type": "code",
   "execution_count": 5,
   "metadata": {},
   "outputs": [
    {
     "data": {
      "text/plain": [
       "(2.529774127310062, nan)"
      ]
     },
     "execution_count": 5,
     "metadata": {},
     "output_type": "execute_result"
    }
   ],
   "source": [
    "median_pandas = camaras.tempo.median()\n",
    "median_numpy = np.median(camaras.tempo)\n",
    "\n",
    "median_pandas, median_numpy"
   ]
  },
  {
   "cell_type": "markdown",
   "metadata": {},
   "source": [
    "Opa, o que significa esse nan? Bem, no numpy, nan é a sigla para \"not a number\". Isso acontece quando tentamos calcular a mediana de uma variável que tem valores faltantes. O pandas, por outro lado, ignora os valores faltantes e calcula a mediana normalmente. Tome cuidado com isso!\n",
    "\n",
    "Para calcular a mediana ignorando os valores faltantes, podemos usar a função `nanmedian()`, como abaixo"
   ]
  },
  {
   "cell_type": "code",
   "execution_count": 6,
   "metadata": {},
   "outputs": [
    {
     "data": {
      "text/plain": [
       "(2.529774127310062, 2.529774127310062)"
      ]
     },
     "execution_count": 6,
     "metadata": {},
     "output_type": "execute_result"
    }
   ],
   "source": [
    "median_numpy = np.nanmedian(camaras.tempo)\n",
    "\n",
    "median_pandas, median_numpy"
   ]
  },
  {
   "cell_type": "markdown",
   "metadata": {},
   "source": [
    "**Obs**: note que a mediana deu um valor menor do que a média. Isso é esperado, pois a mediana é menos sensível a valores extremos."
   ]
  },
  {
   "cell_type": "markdown",
   "metadata": {},
   "source": [
    "### Quantis\n",
    "\n",
    "Você percebeu que a mediana é a posição central da lista de dados depois de ordenada? E se considerarmos outras posições dessa lista? Por exemplo, o que está na posição que separa os 25% menores tempos? Ou os 75% menores tempos? Esses valores são chamados de **quantis**.\n",
    "\n",
    "#### Definição\n",
    "\n",
    "Os **quantis** são os valores que dividem a amostra em partes iguais. O quantil de ordem $p$, com $p$ entre 0 e 1, é o valor que deixa $p$ dos valores menores que ele e $(1-p)$ dos valores maiores que ele.\n",
    "\n",
    "No caso da mediana, temos a questão dos pares e ímpares. Aqui, isso também acontece. A verdade é que existem várias formas de calcular os quantis, de acordo com como escolhemos os valores quando o $p$% de interesse cai entre uma e outra observação. Mas a verdade é que a diferença entre essas técnicas é tão pequena que não vale à pena discutirmos isso.\n",
    "\n",
    "Na prática, existem alguns quantis que geralmente damos mais atenção. O primeiro deles é o quantil de 0%, que nada mais é do que o menor valor da amostra (o mínimo). Outro é o quantil de 100%, também conhecido como máximo. A mediana é o quantil de 50%. Os quantis de 25% e 75% também são muito comuns, e são chamados de quartis.\n",
    "\n",
    "#### Fórmula\n",
    "\n",
    "A fórmula para calcular o quantil de ordem $p$ é dada por:\n",
    "\n",
    "$$q(p) = \\begin{cases} x_{(k)} & \\text{se } k \\text{ é inteiro} \\\\ x_{(k)} + (x_{(k+1)}-x_{(k)})\\cdot (pN - k) & \\text{se } k \\text{ não é inteiro} \\end{cases}$$\n",
    "\n",
    "Ou seja, se ao pegar o $p$ da amostra, caímos exatamente em um valor, o quantil é esse valor. Se não, o quantil é uma interpolação (uma média com pesos) dos valores nas posições $k$ e $k+1$, onde $k$ é a parte inteira do número de observações que queremos pegar.\n",
    "\n",
    "#### Código\n",
    "\n",
    "Os quantis podem ser calculados em python usando a função `quantile` do pacote `numpy`, ou então dentro do próprio pandas, com o método `.quantile()`."
   ]
  },
  {
   "cell_type": "code",
   "execution_count": 7,
   "metadata": {},
   "outputs": [
    {
     "data": {
      "text/plain": [
       "(1.5742642026009583, nan)"
      ]
     },
     "execution_count": 7,
     "metadata": {},
     "output_type": "execute_result"
    }
   ],
   "source": [
    "q20_pandas = camaras.tempo.quantile(0.2)\n",
    "\n",
    "q20_numpy = np.quantile(camaras.tempo, 0.2)\n",
    "\n",
    "q20_pandas, q20_numpy"
   ]
  },
  {
   "cell_type": "markdown",
   "metadata": {},
   "source": [
    "Note que, assim como no caso da mediana, o numpy retorna nan quando tentamos calcular quantis de uma variável que tem valores faltantes. O pandas, por outro lado, ignora os valores faltantes e calcula os quantis normalmente."
   ]
  },
  {
   "cell_type": "code",
   "execution_count": 8,
   "metadata": {},
   "outputs": [
    {
     "data": {
      "text/plain": [
       "(1.5742642026009583, 1.5742642026009583)"
      ]
     },
     "execution_count": 8,
     "metadata": {},
     "output_type": "execute_result"
    }
   ],
   "source": [
    "# quantil de 20%\n",
    "# interpretação: 20% dos tempos são menores que esse valor encontrado\n",
    "q20_numpy = np.nanquantile(camaras.tempo, 0.2)\n",
    "\n",
    "q20_pandas, q20_numpy"
   ]
  },
  {
   "cell_type": "code",
   "execution_count": 9,
   "metadata": {},
   "outputs": [
    {
     "data": {
      "text/plain": [
       "(0.2600958247775496,\n",
       " 0.2600958247775496,\n",
       " 0.2600958247775496,\n",
       " 0.2600958247775496)"
      ]
     },
     "execution_count": 9,
     "metadata": {},
     "output_type": "execute_result"
    }
   ],
   "source": [
    "# mínimo: p=0\n",
    "\n",
    "min_pandas = camaras.tempo.min()\n",
    "min_numpy = np.min(camaras.tempo)\n",
    "\n",
    "# usando quantis\n",
    "\n",
    "qmin_pandas = camaras.tempo.quantile(0)\n",
    "qmin_numpy = np.nanquantile(camaras.tempo, 0)\n",
    "\n",
    "min_pandas, min_numpy, qmin_pandas, qmin_numpy"
   ]
  },
  {
   "cell_type": "code",
   "execution_count": 10,
   "metadata": {},
   "outputs": [
    {
     "data": {
      "text/plain": [
       "(27.49075975359343, 27.49075975359343, 27.49075975359343, 27.49075975359343)"
      ]
     },
     "execution_count": 10,
     "metadata": {},
     "output_type": "execute_result"
    }
   ],
   "source": [
    "# máximo: p=1\n",
    "\n",
    "max_pandas = camaras.tempo.max()\n",
    "max_numpy = np.max(camaras.tempo)\n",
    "\n",
    "# usando quantis\n",
    "\n",
    "qmax_pandas = camaras.tempo.quantile(1)\n",
    "qmax_numpy = np.nanquantile(camaras.tempo, 1)\n",
    "\n",
    "max_pandas, max_numpy, qmax_pandas, qmax_numpy"
   ]
  },
  {
   "cell_type": "markdown",
   "metadata": {},
   "source": [
    "## Medidas de posição: aplicação\n",
    "\n",
    "Agora vamos aplicar os conceitos aprendidos para entender melhor os tempos de decisão do TJSP.\n",
    "\n",
    "Primeiro, os tempos apresentados estão em anos, e são os tempos entre o ajuizamento e a decisão do recurso de apelação."
   ]
  },
  {
   "cell_type": "code",
   "execution_count": 11,
   "metadata": {},
   "outputs": [
    {
     "data": {
      "text/plain": [
       "count    9999.000000\n",
       "mean        3.178841\n",
       "std         2.182874\n",
       "min         0.260096\n",
       "25%         1.705681\n",
       "50%         2.529774\n",
       "75%         3.931554\n",
       "max        27.490760\n",
       "Name: tempo, dtype: float64"
      ]
     },
     "execution_count": 11,
     "metadata": {},
     "output_type": "execute_result"
    }
   ],
   "source": [
    "camaras.tempo.describe()"
   ]
  },
  {
   "cell_type": "markdown",
   "metadata": {},
   "source": [
    "O método `.describe()` já calcula várias coisas pra gente! Primeiro, ele nos dá a quantidade de observações não nulas, que é 9999 das 10000. A média é 3.17, que dá aproximadamente 3 anos e 2 meses (para verificar a quantidade de meses, multiplique 0.17 * 12 e aproxime para o número mais próximo). Veremos o `std` (*standard deviation*) depois.\n",
    "\n",
    "A mediana é de 2.53, ou seja, 2 anos e 6 meses. Olhando para os quartis, temos que 50% dos processos têm entre 1.71 ano (1 ano e 8 meses) e 3.93 anos (3 anos e 11 meses). Ou seja, dependendo do ponto de vista, até que são rápidos, considerando a conhecida morosidade do judiciário e que esse tempo leva em consideração a primeira e segunda instâncias combinadas.\n",
    "\n",
    "**Obs**: Essa é uma medida de variabilidade chamada intervalo interquartil, uma forma de entender a dispersão dos dados. Veremos essa medida com mais detalhes em seguida.\n",
    "\n",
    "O tempo máximo encontrado foi de 27.49 anos (27 anos e 6 meses). Isso é muito tempo! Vamos dar uma olhada nesse caso:"
   ]
  },
  {
   "cell_type": "code",
   "execution_count": 12,
   "metadata": {},
   "outputs": [
    {
     "data": {
      "text/html": [
       "<div>\n",
       "<style scoped>\n",
       "    .dataframe tbody tr th:only-of-type {\n",
       "        vertical-align: middle;\n",
       "    }\n",
       "\n",
       "    .dataframe tbody tr th {\n",
       "        vertical-align: top;\n",
       "    }\n",
       "\n",
       "    .dataframe thead th {\n",
       "        text-align: right;\n",
       "    }\n",
       "</style>\n",
       "<table border=\"1\" class=\"dataframe\">\n",
       "  <thead>\n",
       "    <tr style=\"text-align: right;\">\n",
       "      <th></th>\n",
       "      <th>processo</th>\n",
       "      <th>assunto</th>\n",
       "      <th>camara</th>\n",
       "      <th>relator</th>\n",
       "      <th>origem</th>\n",
       "      <th>comarca</th>\n",
       "      <th>polo_mp</th>\n",
       "      <th>decisao</th>\n",
       "      <th>unanimidade</th>\n",
       "      <th>dt_publicacao</th>\n",
       "      <th>ementa</th>\n",
       "      <th>tempo</th>\n",
       "      <th>rel_idade</th>\n",
       "      <th>rel_id_municipio_nasc</th>\n",
       "      <th>rel_faculdade_direito</th>\n",
       "      <th>rel_tempo_magistratura</th>\n",
       "      <th>rel_tipo_magistrado</th>\n",
       "      <th>rel_quinto</th>\n",
       "    </tr>\n",
       "  </thead>\n",
       "  <tbody>\n",
       "    <tr>\n",
       "      <th>8991</th>\n",
       "      <td>04526037019918260011</td>\n",
       "      <td>DIREITO PENAL-Crimes contra a vida-Homicídio Q...</td>\n",
       "      <td>01ª Câmara de Direito Criminal</td>\n",
       "      <td>DINIZ FERNANDO</td>\n",
       "      <td>Comarca de São Paulo / Foro Regional de Pinhei...</td>\n",
       "      <td>SAO PAULO</td>\n",
       "      <td>Passivo</td>\n",
       "      <td>Negaram</td>\n",
       "      <td>Unânime</td>\n",
       "      <td>2018-06-29</td>\n",
       "      <td>HOMICÍDIO QUALIFICADO. Apelo fundamentado no a...</td>\n",
       "      <td>27.49076</td>\n",
       "      <td>NaN</td>\n",
       "      <td>NaN</td>\n",
       "      <td>NaN</td>\n",
       "      <td>NaN</td>\n",
       "      <td>juiz substituto 2º grau</td>\n",
       "      <td>NaN</td>\n",
       "    </tr>\n",
       "  </tbody>\n",
       "</table>\n",
       "</div>"
      ],
      "text/plain": [
       "                  processo                                            assunto  \\\n",
       "8991  04526037019918260011  DIREITO PENAL-Crimes contra a vida-Homicídio Q...   \n",
       "\n",
       "                              camara         relator  \\\n",
       "8991  01ª Câmara de Direito Criminal  DINIZ FERNANDO   \n",
       "\n",
       "                                                 origem    comarca  polo_mp  \\\n",
       "8991  Comarca de São Paulo / Foro Regional de Pinhei...  SAO PAULO  Passivo   \n",
       "\n",
       "      decisao unanimidade dt_publicacao  \\\n",
       "8991  Negaram     Unânime    2018-06-29   \n",
       "\n",
       "                                                 ementa     tempo  rel_idade  \\\n",
       "8991  HOMICÍDIO QUALIFICADO. Apelo fundamentado no a...  27.49076        NaN   \n",
       "\n",
       "      rel_id_municipio_nasc rel_faculdade_direito  rel_tempo_magistratura  \\\n",
       "8991                    NaN                   NaN                     NaN   \n",
       "\n",
       "          rel_tipo_magistrado rel_quinto  \n",
       "8991  juiz substituto 2º grau        NaN  "
      ]
     },
     "execution_count": 12,
     "metadata": {},
     "output_type": "execute_result"
    }
   ],
   "source": [
    "camaras[camaras.tempo > 27]"
   ]
  },
  {
   "cell_type": "markdown",
   "metadata": {},
   "source": [
    "Veja, pelo número do processo, que esse caso foi distribuído em 1991. Como esperado, é um caso complexo. Trata-se de um homicídio qualificado.\n",
    "\n",
    "Será, então, que os tempos típicos dos processos variam conforme o assunto? Vamos analisar isso agora."
   ]
  },
  {
   "cell_type": "code",
   "execution_count": 13,
   "metadata": {},
   "outputs": [
    {
     "data": {
      "text/html": [
       "<div>\n",
       "<style scoped>\n",
       "    .dataframe tbody tr th:only-of-type {\n",
       "        vertical-align: middle;\n",
       "    }\n",
       "\n",
       "    .dataframe tbody tr th {\n",
       "        vertical-align: top;\n",
       "    }\n",
       "\n",
       "    .dataframe thead th {\n",
       "        text-align: right;\n",
       "    }\n",
       "</style>\n",
       "<table border=\"1\" class=\"dataframe\">\n",
       "  <thead>\n",
       "    <tr style=\"text-align: right;\">\n",
       "      <th></th>\n",
       "      <th>assunto</th>\n",
       "      <th>count</th>\n",
       "      <th>mean</th>\n",
       "      <th>std</th>\n",
       "      <th>min</th>\n",
       "      <th>25%</th>\n",
       "      <th>50%</th>\n",
       "      <th>75%</th>\n",
       "      <th>max</th>\n",
       "    </tr>\n",
       "  </thead>\n",
       "  <tbody>\n",
       "    <tr>\n",
       "      <th>105</th>\n",
       "      <td>DIREITO PENAL-Crimes contra o Patrimônio-Estelionato</td>\n",
       "      <td>220.0</td>\n",
       "      <td>6.210591</td>\n",
       "      <td>3.287898</td>\n",
       "      <td>0.813142</td>\n",
       "      <td>3.856947</td>\n",
       "      <td>5.778234</td>\n",
       "      <td>8.112936</td>\n",
       "      <td>21.440110</td>\n",
       "    </tr>\n",
       "    <tr>\n",
       "      <th>41</th>\n",
       "      <td>DIREITO PENAL - Crimes Previstos na Legislação Extravagante - Crimes de Trânsito</td>\n",
       "      <td>458.0</td>\n",
       "      <td>4.367793</td>\n",
       "      <td>2.104371</td>\n",
       "      <td>0.626968</td>\n",
       "      <td>2.763176</td>\n",
       "      <td>3.908282</td>\n",
       "      <td>5.548255</td>\n",
       "      <td>14.579055</td>\n",
       "    </tr>\n",
       "    <tr>\n",
       "      <th>69</th>\n",
       "      <td>DIREITO PENAL - Lesão Corporal - Decorrente de Violência Doméstica</td>\n",
       "      <td>222.0</td>\n",
       "      <td>3.790949</td>\n",
       "      <td>1.329072</td>\n",
       "      <td>1.122519</td>\n",
       "      <td>2.779603</td>\n",
       "      <td>3.579740</td>\n",
       "      <td>4.754962</td>\n",
       "      <td>8.323066</td>\n",
       "    </tr>\n",
       "    <tr>\n",
       "      <th>109</th>\n",
       "      <td>DIREITO PENAL-Crimes contra o Patrimônio-Receptação</td>\n",
       "      <td>439.0</td>\n",
       "      <td>3.745380</td>\n",
       "      <td>2.091780</td>\n",
       "      <td>0.418891</td>\n",
       "      <td>2.123203</td>\n",
       "      <td>3.329227</td>\n",
       "      <td>4.899384</td>\n",
       "      <td>10.603696</td>\n",
       "    </tr>\n",
       "    <tr>\n",
       "      <th>108</th>\n",
       "      <td>DIREITO PENAL-Crimes contra o Patrimônio-Furto</td>\n",
       "      <td>577.0</td>\n",
       "      <td>3.487429</td>\n",
       "      <td>2.050025</td>\n",
       "      <td>0.260096</td>\n",
       "      <td>2.088980</td>\n",
       "      <td>3.123888</td>\n",
       "      <td>4.490075</td>\n",
       "      <td>17.210130</td>\n",
       "    </tr>\n",
       "    <tr>\n",
       "      <th>94</th>\n",
       "      <td>DIREITO PENAL-Crimes contra a liberdade pessoal-Ameaça</td>\n",
       "      <td>248.0</td>\n",
       "      <td>3.194067</td>\n",
       "      <td>1.459880</td>\n",
       "      <td>0.678987</td>\n",
       "      <td>2.084873</td>\n",
       "      <td>2.926762</td>\n",
       "      <td>4.145791</td>\n",
       "      <td>8.134155</td>\n",
       "    </tr>\n",
       "    <tr>\n",
       "      <th>62</th>\n",
       "      <td>DIREITO PENAL - Crimes contra o Patrimônio - Furto Qualificado</td>\n",
       "      <td>1122.0</td>\n",
       "      <td>3.455517</td>\n",
       "      <td>2.168286</td>\n",
       "      <td>0.375086</td>\n",
       "      <td>1.898700</td>\n",
       "      <td>2.926762</td>\n",
       "      <td>4.511978</td>\n",
       "      <td>16.459959</td>\n",
       "    </tr>\n",
       "    <tr>\n",
       "      <th>42</th>\n",
       "      <td>DIREITO PENAL - Crimes Previstos na Legislação Extravagante - Crimes do Sistema Nacional de Armas</td>\n",
       "      <td>355.0</td>\n",
       "      <td>3.291969</td>\n",
       "      <td>1.735908</td>\n",
       "      <td>0.547570</td>\n",
       "      <td>2.110883</td>\n",
       "      <td>2.910335</td>\n",
       "      <td>4.179329</td>\n",
       "      <td>12.610541</td>\n",
       "    </tr>\n",
       "    <tr>\n",
       "      <th>70</th>\n",
       "      <td>DIREITO PENAL - Lesão Corporal - Decorrente de Violência Doméstica-Contra a Mulher</td>\n",
       "      <td>204.0</td>\n",
       "      <td>3.277932</td>\n",
       "      <td>1.686380</td>\n",
       "      <td>0.862423</td>\n",
       "      <td>2.107461</td>\n",
       "      <td>2.818617</td>\n",
       "      <td>4.150582</td>\n",
       "      <td>10.398357</td>\n",
       "    </tr>\n",
       "    <tr>\n",
       "      <th>67</th>\n",
       "      <td>DIREITO PENAL - Crimes contra o Patrimônio - Roubo Majorado</td>\n",
       "      <td>1397.0</td>\n",
       "      <td>2.824282</td>\n",
       "      <td>1.956017</td>\n",
       "      <td>0.323066</td>\n",
       "      <td>1.620808</td>\n",
       "      <td>2.310746</td>\n",
       "      <td>3.258042</td>\n",
       "      <td>19.529090</td>\n",
       "    </tr>\n",
       "    <tr>\n",
       "      <th>110</th>\n",
       "      <td>DIREITO PENAL-Crimes contra o Patrimônio-Roubo</td>\n",
       "      <td>422.0</td>\n",
       "      <td>2.431815</td>\n",
       "      <td>1.785516</td>\n",
       "      <td>0.465435</td>\n",
       "      <td>1.425051</td>\n",
       "      <td>1.924709</td>\n",
       "      <td>2.823409</td>\n",
       "      <td>17.289528</td>\n",
       "    </tr>\n",
       "    <tr>\n",
       "      <th>40</th>\n",
       "      <td>DIREITO PENAL - Crimes Previstos na Legislação Extravagante - Crimes de Tráfico Ilícito e Uso Indevido de Drogas - Tráfico de Drogas e Condutas Afins</td>\n",
       "      <td>3081.0</td>\n",
       "      <td>2.221805</td>\n",
       "      <td>1.215906</td>\n",
       "      <td>0.366872</td>\n",
       "      <td>1.459274</td>\n",
       "      <td>1.919233</td>\n",
       "      <td>2.636550</td>\n",
       "      <td>13.757700</td>\n",
       "    </tr>\n",
       "  </tbody>\n",
       "</table>\n",
       "</div>"
      ],
      "text/plain": [
       "                                                                                                                                                   assunto  \\\n",
       "105                                                                                                   DIREITO PENAL-Crimes contra o Patrimônio-Estelionato   \n",
       "41                                                                        DIREITO PENAL - Crimes Previstos na Legislação Extravagante - Crimes de Trânsito   \n",
       "69                                                                                      DIREITO PENAL - Lesão Corporal - Decorrente de Violência Doméstica   \n",
       "109                                                                                                    DIREITO PENAL-Crimes contra o Patrimônio-Receptação   \n",
       "108                                                                                                         DIREITO PENAL-Crimes contra o Patrimônio-Furto   \n",
       "94                                                                                                  DIREITO PENAL-Crimes contra a liberdade pessoal-Ameaça   \n",
       "62                                                                                          DIREITO PENAL - Crimes contra o Patrimônio - Furto Qualificado   \n",
       "42                                                       DIREITO PENAL - Crimes Previstos na Legislação Extravagante - Crimes do Sistema Nacional de Armas   \n",
       "70                                                                      DIREITO PENAL - Lesão Corporal - Decorrente de Violência Doméstica-Contra a Mulher   \n",
       "67                                                                                             DIREITO PENAL - Crimes contra o Patrimônio - Roubo Majorado   \n",
       "110                                                                                                         DIREITO PENAL-Crimes contra o Patrimônio-Roubo   \n",
       "40   DIREITO PENAL - Crimes Previstos na Legislação Extravagante - Crimes de Tráfico Ilícito e Uso Indevido de Drogas - Tráfico de Drogas e Condutas Afins   \n",
       "\n",
       "      count      mean       std       min       25%       50%       75%  \\\n",
       "105   220.0  6.210591  3.287898  0.813142  3.856947  5.778234  8.112936   \n",
       "41    458.0  4.367793  2.104371  0.626968  2.763176  3.908282  5.548255   \n",
       "69    222.0  3.790949  1.329072  1.122519  2.779603  3.579740  4.754962   \n",
       "109   439.0  3.745380  2.091780  0.418891  2.123203  3.329227  4.899384   \n",
       "108   577.0  3.487429  2.050025  0.260096  2.088980  3.123888  4.490075   \n",
       "94    248.0  3.194067  1.459880  0.678987  2.084873  2.926762  4.145791   \n",
       "62   1122.0  3.455517  2.168286  0.375086  1.898700  2.926762  4.511978   \n",
       "42    355.0  3.291969  1.735908  0.547570  2.110883  2.910335  4.179329   \n",
       "70    204.0  3.277932  1.686380  0.862423  2.107461  2.818617  4.150582   \n",
       "67   1397.0  2.824282  1.956017  0.323066  1.620808  2.310746  3.258042   \n",
       "110   422.0  2.431815  1.785516  0.465435  1.425051  1.924709  2.823409   \n",
       "40   3081.0  2.221805  1.215906  0.366872  1.459274  1.919233  2.636550   \n",
       "\n",
       "           max  \n",
       "105  21.440110  \n",
       "41   14.579055  \n",
       "69    8.323066  \n",
       "109  10.603696  \n",
       "108  17.210130  \n",
       "94    8.134155  \n",
       "62   16.459959  \n",
       "42   12.610541  \n",
       "70   10.398357  \n",
       "67   19.529090  \n",
       "110  17.289528  \n",
       "40   13.757700  "
      ]
     },
     "execution_count": 13,
     "metadata": {},
     "output_type": "execute_result"
    }
   ],
   "source": [
    "pd.set_option('display.max_colwidth', None) # Mostrar todas as colunas\n",
    "\n",
    "(\n",
    "  camaras\n",
    "  .groupby('assunto')['tempo']\n",
    "  .describe()\n",
    "  .reset_index()\n",
    "  .query('count >= 100')\n",
    "  .sort_values('50%', ascending=False)\n",
    ")"
   ]
  },
  {
   "cell_type": "markdown",
   "metadata": {},
   "source": [
    "A operação acima agrupa por assunto e calcula as estatísticas da variável tempo. Depois, ela exclui os assuntos com menos de 100 casos e ordena a base pela mediana em ordem decrescente.\n",
    "\n",
    "Pela tabela, o assunto com menor tempo mediano é o tráfico de drogas, com mediana de 1.92 anos (1 ano e 11 meses). Já o assunto com maior tempo mediano é o estelionato, com mediana de 5.77 anos (5 anos e 9 meses). Você saberia teorizar o motivo?\n",
    "\n",
    "Os casos de homicídio provavelmente têm tempos altos também, mas o filtro de 100 casos excluiu esse assunto da análise. Note também que os tempos médios costumam ser maiores do que as medianas, como esperado. \n",
    "\n",
    "Chamamos variáveis que com médias diferentes das medianas de *assimétricas*. A assimetria é uma medida de desvio da simetria. Se a média é maior que a mediana, dizemos que há *assimetria à direita*. Se a média é menor que a mediana, dizemos que há *assimetria à esquerda*.\n",
    "\n",
    "Isso tem relação com a distribuição dos dados. Por distribuição, queremos dizer a forma como os dados estão distribuídos quando colocamos ele em um histograma. Vamos ver então o histograma dos tempos:\n"
   ]
  },
  {
   "cell_type": "code",
   "execution_count": 14,
   "metadata": {},
   "outputs": [
    {
     "data": {
      "text/plain": [
       "<Axes: xlabel='tempo', ylabel='Count'>"
      ]
     },
     "execution_count": 14,
     "metadata": {},
     "output_type": "execute_result"
    },
    {
     "data": {
      "image/png": "[encoded data removed]",
      "text/plain": [
       "<Figure size 640x480 with 1 Axes>"
      ]
     },
     "metadata": {},
     "output_type": "display_data"
    }
   ],
   "source": [
    "sns.histplot(camaras.tempo, kde=True)"
   ]
  },
  {
   "cell_type": "markdown",
   "metadata": {},
   "source": [
    "Está vendo como os dados estão concentrados à esquerda? Isso é um sinal de assimetria à direita. A assimetria é justamente essa massa de dados que temos a mais de um lado da distribuição. No nosso caso, isso é esperado, pois temos muitos processos que são resolvidos rapidamente, mas alguns poucos que demoram muito tempo.\n",
    "\n",
    "Por último, será que os tempos variam por câmara? Em tese, não deveriam, já que os casos são distribuídos aleatoriamente entre elas.\n"
   ]
  },
  {
   "cell_type": "code",
   "execution_count": 15,
   "metadata": {},
   "outputs": [
    {
     "data": {
      "text/html": [
       "<div>\n",
       "<style scoped>\n",
       "    .dataframe tbody tr th:only-of-type {\n",
       "        vertical-align: middle;\n",
       "    }\n",
       "\n",
       "    .dataframe tbody tr th {\n",
       "        vertical-align: top;\n",
       "    }\n",
       "\n",
       "    .dataframe thead th {\n",
       "        text-align: right;\n",
       "    }\n",
       "</style>\n",
       "<table border=\"1\" class=\"dataframe\">\n",
       "  <thead>\n",
       "    <tr style=\"text-align: right;\">\n",
       "      <th></th>\n",
       "      <th>camara</th>\n",
       "      <th>count</th>\n",
       "      <th>mean</th>\n",
       "      <th>std</th>\n",
       "      <th>min</th>\n",
       "      <th>25%</th>\n",
       "      <th>50%</th>\n",
       "      <th>75%</th>\n",
       "      <th>max</th>\n",
       "    </tr>\n",
       "  </thead>\n",
       "  <tbody>\n",
       "    <tr>\n",
       "      <th>23</th>\n",
       "      <td>12ª Câmara de Direito Criminal</td>\n",
       "      <td>567.0</td>\n",
       "      <td>3.460561</td>\n",
       "      <td>2.096506</td>\n",
       "      <td>0.383299</td>\n",
       "      <td>1.941136</td>\n",
       "      <td>2.910335</td>\n",
       "      <td>4.399726</td>\n",
       "      <td>17.210130</td>\n",
       "    </tr>\n",
       "    <tr>\n",
       "      <th>24</th>\n",
       "      <td>13ª Câmara de Direito Criminal</td>\n",
       "      <td>624.0</td>\n",
       "      <td>3.361304</td>\n",
       "      <td>2.321851</td>\n",
       "      <td>0.418891</td>\n",
       "      <td>1.837098</td>\n",
       "      <td>2.751540</td>\n",
       "      <td>4.141684</td>\n",
       "      <td>21.108830</td>\n",
       "    </tr>\n",
       "    <tr>\n",
       "      <th>5</th>\n",
       "      <td>03ª Câmara de Direito Criminal</td>\n",
       "      <td>581.0</td>\n",
       "      <td>3.199803</td>\n",
       "      <td>2.263286</td>\n",
       "      <td>0.487337</td>\n",
       "      <td>1.681040</td>\n",
       "      <td>2.650240</td>\n",
       "      <td>4.128679</td>\n",
       "      <td>18.893908</td>\n",
       "    </tr>\n",
       "    <tr>\n",
       "      <th>15</th>\n",
       "      <td>08ª Câmara de Direito Criminal</td>\n",
       "      <td>683.0</td>\n",
       "      <td>3.255774</td>\n",
       "      <td>2.174564</td>\n",
       "      <td>0.470910</td>\n",
       "      <td>1.774127</td>\n",
       "      <td>2.639288</td>\n",
       "      <td>4.088980</td>\n",
       "      <td>18.266940</td>\n",
       "    </tr>\n",
       "    <tr>\n",
       "      <th>27</th>\n",
       "      <td>16ª Câmara de Direito Criminal</td>\n",
       "      <td>660.0</td>\n",
       "      <td>3.272711</td>\n",
       "      <td>2.330123</td>\n",
       "      <td>0.501027</td>\n",
       "      <td>1.704997</td>\n",
       "      <td>2.621492</td>\n",
       "      <td>4.143053</td>\n",
       "      <td>18.976044</td>\n",
       "    </tr>\n",
       "    <tr>\n",
       "      <th>9</th>\n",
       "      <td>05ª Câmara de Direito Criminal</td>\n",
       "      <td>464.0</td>\n",
       "      <td>3.291133</td>\n",
       "      <td>2.282669</td>\n",
       "      <td>0.323066</td>\n",
       "      <td>1.766598</td>\n",
       "      <td>2.596851</td>\n",
       "      <td>4.118412</td>\n",
       "      <td>17.078713</td>\n",
       "    </tr>\n",
       "    <tr>\n",
       "      <th>26</th>\n",
       "      <td>15ª Câmara de Direito Criminal</td>\n",
       "      <td>620.0</td>\n",
       "      <td>3.135109</td>\n",
       "      <td>2.063688</td>\n",
       "      <td>0.410678</td>\n",
       "      <td>1.746749</td>\n",
       "      <td>2.568104</td>\n",
       "      <td>3.739220</td>\n",
       "      <td>13.930185</td>\n",
       "    </tr>\n",
       "    <tr>\n",
       "      <th>3</th>\n",
       "      <td>02ª Câmara de Direito Criminal</td>\n",
       "      <td>523.0</td>\n",
       "      <td>3.167589</td>\n",
       "      <td>2.288019</td>\n",
       "      <td>0.525667</td>\n",
       "      <td>1.672827</td>\n",
       "      <td>2.472279</td>\n",
       "      <td>3.801506</td>\n",
       "      <td>21.508556</td>\n",
       "    </tr>\n",
       "    <tr>\n",
       "      <th>11</th>\n",
       "      <td>06ª Câmara de Direito Criminal</td>\n",
       "      <td>723.0</td>\n",
       "      <td>3.176956</td>\n",
       "      <td>2.443826</td>\n",
       "      <td>0.511978</td>\n",
       "      <td>1.618070</td>\n",
       "      <td>2.444901</td>\n",
       "      <td>3.822040</td>\n",
       "      <td>21.440110</td>\n",
       "    </tr>\n",
       "    <tr>\n",
       "      <th>17</th>\n",
       "      <td>09ª Câmara de Direito Criminal</td>\n",
       "      <td>610.0</td>\n",
       "      <td>3.045163</td>\n",
       "      <td>1.907837</td>\n",
       "      <td>0.495551</td>\n",
       "      <td>1.788501</td>\n",
       "      <td>2.440794</td>\n",
       "      <td>3.670089</td>\n",
       "      <td>13.478439</td>\n",
       "    </tr>\n",
       "    <tr>\n",
       "      <th>21</th>\n",
       "      <td>11ª Câmara de Direito Criminal</td>\n",
       "      <td>601.0</td>\n",
       "      <td>3.086797</td>\n",
       "      <td>2.154204</td>\n",
       "      <td>0.375086</td>\n",
       "      <td>1.650924</td>\n",
       "      <td>2.395619</td>\n",
       "      <td>3.759069</td>\n",
       "      <td>15.203285</td>\n",
       "    </tr>\n",
       "    <tr>\n",
       "      <th>13</th>\n",
       "      <td>07ª Câmara de Direito Criminal</td>\n",
       "      <td>655.0</td>\n",
       "      <td>2.992580</td>\n",
       "      <td>1.932092</td>\n",
       "      <td>0.476386</td>\n",
       "      <td>1.639973</td>\n",
       "      <td>2.387406</td>\n",
       "      <td>3.744011</td>\n",
       "      <td>16.479124</td>\n",
       "    </tr>\n",
       "    <tr>\n",
       "      <th>1</th>\n",
       "      <td>01ª Câmara de Direito Criminal</td>\n",
       "      <td>566.0</td>\n",
       "      <td>2.971269</td>\n",
       "      <td>2.218564</td>\n",
       "      <td>0.260096</td>\n",
       "      <td>1.594798</td>\n",
       "      <td>2.350445</td>\n",
       "      <td>3.632444</td>\n",
       "      <td>27.490760</td>\n",
       "    </tr>\n",
       "    <tr>\n",
       "      <th>25</th>\n",
       "      <td>14ª Câmara de Direito Criminal</td>\n",
       "      <td>636.0</td>\n",
       "      <td>3.003530</td>\n",
       "      <td>2.177534</td>\n",
       "      <td>0.377823</td>\n",
       "      <td>1.562628</td>\n",
       "      <td>2.344969</td>\n",
       "      <td>3.782341</td>\n",
       "      <td>16.783025</td>\n",
       "    </tr>\n",
       "    <tr>\n",
       "      <th>19</th>\n",
       "      <td>10ª Câmara de Direito Criminal</td>\n",
       "      <td>487.0</td>\n",
       "      <td>2.882080</td>\n",
       "      <td>1.994354</td>\n",
       "      <td>0.366872</td>\n",
       "      <td>1.567420</td>\n",
       "      <td>2.321697</td>\n",
       "      <td>3.581109</td>\n",
       "      <td>13.738535</td>\n",
       "    </tr>\n",
       "    <tr>\n",
       "      <th>7</th>\n",
       "      <td>04ª Câmara de Direito Criminal</td>\n",
       "      <td>568.0</td>\n",
       "      <td>2.804750</td>\n",
       "      <td>1.868122</td>\n",
       "      <td>0.536619</td>\n",
       "      <td>1.552361</td>\n",
       "      <td>2.277892</td>\n",
       "      <td>3.463381</td>\n",
       "      <td>17.407255</td>\n",
       "    </tr>\n",
       "  </tbody>\n",
       "</table>\n",
       "</div>"
      ],
      "text/plain": [
       "                            camara  count      mean       std       min  \\\n",
       "23  12ª Câmara de Direito Criminal  567.0  3.460561  2.096506  0.383299   \n",
       "24  13ª Câmara de Direito Criminal  624.0  3.361304  2.321851  0.418891   \n",
       "5   03ª Câmara de Direito Criminal  581.0  3.199803  2.263286  0.487337   \n",
       "15  08ª Câmara de Direito Criminal  683.0  3.255774  2.174564  0.470910   \n",
       "27  16ª Câmara de Direito Criminal  660.0  3.272711  2.330123  0.501027   \n",
       "9   05ª Câmara de Direito Criminal  464.0  3.291133  2.282669  0.323066   \n",
       "26  15ª Câmara de Direito Criminal  620.0  3.135109  2.063688  0.410678   \n",
       "3   02ª Câmara de Direito Criminal  523.0  3.167589  2.288019  0.525667   \n",
       "11  06ª Câmara de Direito Criminal  723.0  3.176956  2.443826  0.511978   \n",
       "17  09ª Câmara de Direito Criminal  610.0  3.045163  1.907837  0.495551   \n",
       "21  11ª Câmara de Direito Criminal  601.0  3.086797  2.154204  0.375086   \n",
       "13  07ª Câmara de Direito Criminal  655.0  2.992580  1.932092  0.476386   \n",
       "1   01ª Câmara de Direito Criminal  566.0  2.971269  2.218564  0.260096   \n",
       "25  14ª Câmara de Direito Criminal  636.0  3.003530  2.177534  0.377823   \n",
       "19  10ª Câmara de Direito Criminal  487.0  2.882080  1.994354  0.366872   \n",
       "7   04ª Câmara de Direito Criminal  568.0  2.804750  1.868122  0.536619   \n",
       "\n",
       "         25%       50%       75%        max  \n",
       "23  1.941136  2.910335  4.399726  17.210130  \n",
       "24  1.837098  2.751540  4.141684  21.108830  \n",
       "5   1.681040  2.650240  4.128679  18.893908  \n",
       "15  1.774127  2.639288  4.088980  18.266940  \n",
       "27  1.704997  2.621492  4.143053  18.976044  \n",
       "9   1.766598  2.596851  4.118412  17.078713  \n",
       "26  1.746749  2.568104  3.739220  13.930185  \n",
       "3   1.672827  2.472279  3.801506  21.508556  \n",
       "11  1.618070  2.444901  3.822040  21.440110  \n",
       "17  1.788501  2.440794  3.670089  13.478439  \n",
       "21  1.650924  2.395619  3.759069  15.203285  \n",
       "13  1.639973  2.387406  3.744011  16.479124  \n",
       "1   1.594798  2.350445  3.632444  27.490760  \n",
       "25  1.562628  2.344969  3.782341  16.783025  \n",
       "19  1.567420  2.321697  3.581109  13.738535  \n",
       "7   1.552361  2.277892  3.463381  17.407255  "
      ]
     },
     "execution_count": 15,
     "metadata": {},
     "output_type": "execute_result"
    }
   ],
   "source": [
    "(\n",
    "  camaras\n",
    "  .groupby('camara')['tempo']\n",
    "  .describe()\n",
    "  .reset_index()\n",
    "  .query('count >= 100')\n",
    "  .sort_values('50%', ascending=False)\n",
    ")"
   ]
  },
  {
   "cell_type": "markdown",
   "metadata": {},
   "source": [
    "Os tempos medianos variam entre 2.91 (2 anos e 11 meses) e 2.28 (2 anos e 3 meses). A diferença é pequena, mas existe. Veremos, mais adiante na disciplina, se podemos considerar que essa diferença é estatisticamente significante."
   ]
  },
  {
   "cell_type": "markdown",
   "metadata": {},
   "source": [
    "## Medidas de variabilidade: conceitos\n",
    "\n",
    "Medidas de **dispersão** ou **variabilidade** nos dão uma ideia de quão espalhados os dados estão em torno de algum ponto de referência. Essas medidas são essenciais para compreender o fenômeno estudado. Na verdade, elas são o segredo por trás do funcionamento da estatística. \n",
    "\n",
    "As afirmações que fazemos na estatística têm sempre um grau de incerteza atrelado, porque não temos controle sobre tudo o que pode acontecer. No entanto, nós sabemos estimar esse grau de incerteza, justamente com essas medidas de variabilidade. Elas nos dão uma noção de quanto podemos confiar em uma média ou mediana, por exemplo, para tomar decisões estratégicas em um caso.\n",
    "\n",
    "Um exemplo simples sobre isso. Imagine que, na câmara 3, **todos** os processos durem 1 ano e 3 meses. Por conta disso, sabemos que a mediana é de 1 ano e 3 meses. Na câmara 6, no entanto, a mediana é de 1 ano e 3 meses também, mas temos muitos casos que duram 5 meses e casos que duram 10 anos. Se seu recurso caísse na 3ª câmara e seu cliente perguntasse quanto tempo o processo vai demorar, você falaria o mesmo que se caísse na 6ª câmara? \n",
    "\n",
    "Provavelmente **não**. Isso porque a incerteza é maior na 6ª câmara do que na 3ª. Para a 3ª câmara, provavelmente você falaria para o cliente \"tudo pode acontecer no direito, mas metade dos casos duram até 1 ano e 3 meses\". Já para a 6ª, talvez seria algo do tipo \"é difícil precisar, mas geralmente demora entre X meses e Y anos\". A variabilidade nos ajuda a entender X e Y.\n",
    "\n",
    "Na seção anterior, já vimos um possível intervalo desse tipo quando analisamos os quartis, relacionado à amplitude a partir de quantis empírios. Vamos começar por eles.\n",
    "\n",
    "Como antes, para cada conceito, vamos mostrar a definição, a fórmula matemática e o código em python para calcular."
   ]
  },
  {
   "cell_type": "markdown",
   "metadata": {},
   "source": [
    "### Amplitude\n",
    "\n",
    "Como veremos, a amplitude é mais útil para reportar dados básicos sobre o fenômeno estudado do que para tomar decisões sobre o comportamento dos dados.\n",
    "\n",
    "#### Definição\n",
    "\n",
    "A **amplitude** é a diferença entre o maior e o menor valor da amostra. Ela é uma medida de variabilidade que nos dá uma ideia de quão espalhados em geral. \n",
    "\n",
    "#### Fórmula\n",
    "\n",
    "A fórmula da amplitude é dada por:\n",
    "\n",
    "$$A = \\text{máximo} - \\text{mínimo} = q(1) - q(0)$$\n",
    "\n",
    "#### Código\n",
    "\n",
    "A amplitude pode ser calculada em python fazendo a diferença entre o máximo, com `.max()` e o mínimo, com `.min()`, como já vimos anteriormente.\n",
    "\n",
    "### Amplitude do Intervalo Interquartil (IQR)\n",
    "\n",
    "#### Definição\n",
    "\n",
    "A amplitude do **intervalo interquartil** (inter quantile range, IQR) é a diferença entre o terceiro quartil (75%) e o primeiro quartil (25%). Ele é uma medida de variabilidade que nos dá uma ideia de quão espalhados os dados estão em torno da mediana.\n",
    "\n",
    "#### Fórmula\n",
    "\n",
    "O IQR é dado por:\n",
    "\n",
    "$$IQR = q(75\\%) - q(25\\%)$$\n",
    "\n",
    "Como o $q(25\\%)$ é o valor que separa os 25% menores valores da amostra e como o $q(75\\%)$ é o valor que separa os 25% maiores valores da amostra, o IQR é a amplitude de um intervalo que contém 50% dos dados. \n",
    "\n",
    "Por exemplo, para um conjunto de dados [1, 2, 2, 3, 3, 4, 4, 5, 5, 7, 9, 9, 10] /com 13 observações, temos que $q(25\\%) = 3$ e $q(75\\%) = 7$, então o IQR é $7-3=4$.\n",
    "\n",
    "#### Código\n",
    "\n",
    "O IQR pode ser calculado em python usando a função `quantile` do pacote `numpy`, ou então dentro do próprio pandas, com o método `.quantile()`. Também vimos a o método `.describe()`, que acaba soltando o IQR."
   ]
  },
  {
   "cell_type": "code",
   "execution_count": 16,
   "metadata": {},
   "outputs": [
    {
     "data": {
      "text/plain": [
       "(27.23066392881588, 2.2258726899383983)"
      ]
     },
     "execution_count": 16,
     "metadata": {},
     "output_type": "execute_result"
    }
   ],
   "source": [
    "minimo = camaras.tempo.min()\n",
    "maximo = camaras.tempo.max()\n",
    "\n",
    "amplitude = maximo - minimo\n",
    "\n",
    "q3 = camaras.tempo.quantile(0.75)\n",
    "q1 = camaras.tempo.quantile(0.25)\n",
    "iqr = q3 - q1\n",
    "\n",
    "amplitude, iqr"
   ]
  },
  {
   "cell_type": "markdown",
   "metadata": {},
   "source": [
    "A amplitude dos tempos é de 27.23 anos (27 anos e 3 meses). Já o IQR dos tempos é de 2.23 anos (2 anos e 3 meses).\n",
    "\n",
    "Note como temos, aqui, um balanço entre a incerteza a informação a ser passada. Nos nossos dados, 100% do que vimos varia em torno de 27 anos, mas isso não é muito informativo. No entanto, sabemos que 50% dos dados que vimos variam em 2 anos e 3 meses em torno da mediana. Assumimos um erro, mas é uma informação mais útil para tomada de decisão. A estatística é exatamente sobre isso: assumimos a possibilidade de errar para fazer afirmações mais úteis.\n",
    "\n",
    "Um exemplo caricato desse pensamento é o das pesquisas eleitorais. Em pesquisas eleitorais, geralmente os institutos de pesquisa apresentam margens de erro (de 2 ou 3 pontos percentuais, para cima e para baixo). Depois, quando os resultados ficam fora dessa margem de erro, os institutos são criticados. Não seria melhor, então, para os institutos, que falassem que a intenção de votos de um candidato está entre 0% e 100%? Dessa forma, o instituto não erraria. Mas essa não é a informação que a população quer saber. O que é acertar ou errar nesse sentido?\n",
    "\n",
    "Para finalizar o assunto do IQR e amplitude, nada nos impede de considerar outros intervalos que não os quartis. A medida também não precisa ficar em torno da mediana, se isso for de interesse. O IQR é apenas um valor clássico e bastante usado.\n",
    "\n",
    "### Desvio padrão\n",
    "\n",
    "#### Definição\n",
    "\n",
    "O **desvio padrão** é uma medida de variabilidade que nos dá uma ideia de quão espalhados os dados estão em torno da média. Ele é a medida de variabilidade mais comum na estatística.\n",
    "\n",
    "#### Fórmula\n",
    "\n",
    "O desvio padrão é dado por:\n",
    "\n",
    "$$s = \\sqrt{\\frac{1}{N}\\sum_{i=1}^{N} (x_i - \\bar{x})^2}$$\n",
    "\n",
    "Onde $\\bar{x}$ é a média e $x_i$ é o valor da variável quantitativa de interesse para determinado processo $i$.\n",
    "\n",
    "A fórmula pode assustar um pouco. Por que temos uma raiz quadrada, e qual o objetivo desse valor ao quadrado? Em linhas gerais, o que queremos é medir o quanto cada valor está distante da média. Para isso, fazemos a diferença entre o valor observado e a média ($x_i - \\bar{x}$). Como esses valores podem ser positivos ou negativos, elevamos essas diferenças ao quadrado, o que torna os valores sempre positivos. Aí calculamos a média desses desvios (que chamamos de **variância**). Finalmente, para retornar à escala original, aplicamos a raiz quadrada, que é a operação inversa de elevar ao quadrado.\n",
    "\n",
    "Sugestão de leitura: [este texto aqui](https://livro.abj.org.br/03-estatisticas.html#medidas-de-dispers%C3%A3o-ao-redor-da-m%C3%A9dia-desvio-padr%C3%A3o-e-desvio-m%C3%A9dio) para maior aprofundamento.\n",
    "\n",
    "#### Código\n",
    "\n",
    "Para calcular o desvio padrão em python, usamos a função `std` do pacote `numpy`, ou então dentro do próprio pandas, com o método `.std()`."
   ]
  },
  {
   "cell_type": "code",
   "execution_count": 17,
   "metadata": {},
   "outputs": [
    {
     "data": {
      "text/plain": [
       "(2.182874474194876, 2.1827653168264267)"
      ]
     },
     "execution_count": 17,
     "metadata": {},
     "output_type": "execute_result"
    }
   ],
   "source": [
    "std_pandas = camaras.tempo.std()\n",
    "std_numpy = np.std(camaras.tempo)\n",
    "\n",
    "std_pandas, std_numpy"
   ]
  },
  {
   "cell_type": "markdown",
   "metadata": {},
   "source": [
    "Os números do numpy são ligeiramente diferentes do que os do pandas. Vamos testar um exemplo com menos números."
   ]
  },
  {
   "cell_type": "code",
   "execution_count": 18,
   "metadata": {},
   "outputs": [
    {
     "data": {
      "text/plain": [
       "(3.03315017762062, 2.7129319932501073)"
      ]
     },
     "execution_count": 18,
     "metadata": {},
     "output_type": "execute_result"
    }
   ],
   "source": [
    "df = pd.DataFrame({\n",
    "  'numeros': [1,3,5,6,9]\n",
    "})\n",
    "\n",
    "std_pd = df['numeros'].std()\n",
    "std_np = np.std(df['numeros'])\n",
    "\n",
    "std_pd, std_np"
   ]
  },
  {
   "cell_type": "markdown",
   "metadata": {},
   "source": [
    "Com um exemplo pequeno a diferença ficou ainda maior!\n",
    "\n",
    "Isso ocorre porque as fórmulas que o numpy e o pandas usam para calcular o desvio padrão são diferentes.\n",
    "\n",
    "Fórmula no caso do pandas:\n",
    "\n",
    "$$s_{\\text{pandas}} = \\sqrt{\\frac{1}{N}\\sum_{i=1}^{N} (x_i - \\bar{x})^2}$$\n",
    "\n",
    "Fórmula no caso do numpy:\n",
    "\n",
    "$$s_{\\text{numpy}} = \\sqrt{\\frac{1}{N-1}\\sum_{i=1}^{N} (x_i - \\bar{x})^2}$$\n",
    "\n",
    "Veja que a conta do pandas é igual à nossa conta original. Já a do numpy coloca o valor $N-1$ no denominador, ao invés de $N$. O valor $N-1$ é um ajuste que estatísticos do século XX fizeram para garantir algumas propriedades matemáticas dessa estatística, que não vamos tratar agora. Na prática, no entanto, essa diferença é muito pequena, especialmente com grandes bases de dados. Se tiver interesse em estudar sobre isso, veja Bussab & Morettin (2023)."
   ]
  },
  {
   "cell_type": "markdown",
   "metadata": {},
   "source": [
    "## Medidas de variabilidade: aplicação\n",
    "\n",
    "Vamos voltar ao nosso querido `.describe()`."
   ]
  },
  {
   "cell_type": "code",
   "execution_count": 19,
   "metadata": {},
   "outputs": [
    {
     "data": {
      "text/plain": [
       "count    9999.000000\n",
       "mean        3.178841\n",
       "std         2.182874\n",
       "min         0.260096\n",
       "25%         1.705681\n",
       "50%         2.529774\n",
       "75%         3.931554\n",
       "max        27.490760\n",
       "Name: tempo, dtype: float64"
      ]
     },
     "execution_count": 19,
     "metadata": {},
     "output_type": "execute_result"
    }
   ],
   "source": [
    "camaras.tempo.describe()"
   ]
  },
  {
   "cell_type": "markdown",
   "metadata": {},
   "source": [
    "Agora temos conhecimento suficiente para calcular tudo a partir desses resumos!\n",
    "\n",
    "Os processos costumam demorar 2 anos e 6 meses desde o ajuizamento até o acórdão. Podemos dizer que 50% deles variam entre 1 ano e 8 meses e 3 anos e 11 meses. Já a média é de 3 anos e 2 meses, com desvio padrão 2 anos e 2 meses. Ou seja, tipicamente os tempos variam mais de 2 anos para mais ou para menos da média. É bastante variação.\n",
    "\n",
    "Uma dúvida que pode surgir, já que isso foi citado na introdução, é: como eu associo essa variabilidade à uma medida de incerteza? Por exemplo, como podemos proceder para fazer afirmações do tipo: com 95% de certeza, os processos duram entre X e Y? Veremos isso quando falarmos de **estatística inferencial**.\n",
    "\n",
    "Enquanto não chegamos nessa parte mais mágica da estatística, vamos ver mais algumas visualizações interessantes. Primeiro, não seria interessante analisar esses quantis que vêm do `.describe()` de forma visual?\n",
    "\n",
    "Esse é o papel do boxplot:"
   ]
  },
  {
   "cell_type": "code",
   "execution_count": 20,
   "metadata": {},
   "outputs": [
    {
     "data": {
      "text/plain": [
       "<Axes: xlabel='tempo', ylabel='assunto'>"
      ]
     },
     "execution_count": 20,
     "metadata": {},
     "output_type": "execute_result"
    },
    {
     "data": {
      "image/png": "[encoded data removed]",
      "text/plain": [
       "<Figure size 640x480 with 1 Axes>"
      ]
     },
     "metadata": {},
     "output_type": "display_data"
    }
   ],
   "source": [
    "## Primeiro, vamos retirar da amostra os assuntos que têm menos de 100 observações\n",
    "camaras_assuntos_100 = camaras.groupby('assunto').filter(lambda x: len(x) >= 100)\n",
    "\n",
    "camaras_assuntos_100['assunto'] = [\n",
    "  textwrap.fill(a, 70) for a in camaras_assuntos_100['assunto']\n",
    "]\n",
    "\n",
    "# agora, vamos fazer o boxplot\n",
    "sns.boxplot(data=camaras_assuntos_100, y='assunto', x='tempo')"
   ]
  },
  {
   "cell_type": "markdown",
   "metadata": {},
   "source": [
    "Nesse gráfico, a linha central é a mediana. Os valores limites da 'caixa' são, respectivamente, os quartis 1 e 3. Ou seja, a amplitude da caixa é exatamente o IQR. As linhas contínuas que vêm em seguida são chamadas de *bigodes*, e são calculadas por 1,5 vezes o IQR (o motivo disso não vem ao caso agora). Valores que estão fora dos bigodes, nas bolinhas, são considerados valores atípicos para esse tipo de processo. \n",
    "\n",
    "Muita informação em um gráfico apenas! Geralmente usamos esses gráficos para rapidamente entender um pouco mais sobre nossos dados. Por exemplo, é possível ver que tráfico de drogas não só tem uma mediana menor mas também varia pouco. Já estelionato varia bastante, inclusive com alguns casos durando mais de 15 anos. E muito mais para investigar."
   ]
  },
  {
   "cell_type": "markdown",
   "metadata": {},
   "source": [
    "### Cuidado com algumas análises de tempo (avançado)\n",
    "\n",
    "Um cuidado a ser tomado em estudos relacionados a tempo de processos judiciais é com relação ao escopo da pesquisa.\n",
    "\n",
    "No caso da pesquisa das câmaras, a origem dos dados é a consulta de jurisprudência. Isso significa que temos em nossa amostra apenas casos que tiveram acórdãos proferidos. Existem muitos casos criminais tramitando na segunda instância do TJSP que não estão em nossa base simplesmente porque não foram decididos ainda. Chamamos esse tipo de pesquisa de **retrospectiva**.\n",
    "\n",
    "Isso significa que a nossa análise de tempos pode ter um problema: será que os casos que ainda não foram julgados são mais demorados do que os casos que temos em nossa amostra? Pode ser que sim, mas também pode ser que não. \n",
    "\n",
    "A única forma de verificar se existe um viés é coletando dados de processos a partir da sua data de ajuizamento, utilizando ferramentas como Diários de Justiça ou o DataJud. Esse tipo de pesquisa é chamada de **prospectiva**.\n",
    "\n",
    "A imagem abaixo mostra exemplos de processos que ficam dentro de estudos prospectivos ou retrospectivos.\n",
    "\n",
    "![](https://livro.abj.org.br/assets/img/tempos.png)\n",
    "\n",
    "1. Prospectivo e retrospectivo\n",
    "2. Apenas prospectivo\n",
    "3. Apenas retrospectivo\n",
    "4. Nenhum dos dois, mas poderia ser capturado por atividade no período\n",
    "5. fora do escopo\n",
    "6. fora do escopo\n",
    "7. Nenhum dos dois tipos e não poderia ser capturado (ficou inativo no período)\n",
    "\n",
    "Esse assunto é complexo e poucas pessoas dominam. Até mesmo o CNJ comete alguns erros nesse sentido. O importante que devemos ter em mente são três coisas:\n",
    "\n",
    "1. Quando analisamos tempos em estudos retrospectivos, precisamos ter em mente que estamos estimando o tempo dos processos em toda a história do TJSP e não só dos últimos anos, já que nossa amostra inclui casos muito antigos.\n",
    "2. Quando analisamos tempos em estudos prospectivos, precisamos tomar certos cuidados para realizar estimativas. Não veremos isso aqui, mas se tiver interesse, a técnica a ser aplicada aqui é a **análise de sobrevivência**.\n",
    "3. **NUNCA** faça análises de aceleração dos processos (verificar se os processos estão ficando mais rápidos) em estudos retrospectivos.\n",
    "\n",
    "Sobre (3), é possível verificar visualmente o motivo disso ser um problema grave. A figura abaixo mostra, no eixo x, o ano de ajuizamento dos processos e, no eixo y, o tempo dos processos até o acórdão."
   ]
  },
  {
   "cell_type": "code",
   "execution_count": 21,
   "metadata": {},
   "outputs": [
    {
     "data": {
      "text/plain": [
       "<Axes: xlabel='ano_ajuizamento', ylabel='tempo'>"
      ]
     },
     "execution_count": 21,
     "metadata": {},
     "output_type": "execute_result"
    },
    {
     "data": {
      "image/png": "[encoded data removed]",
      "text/plain": [
       "<Figure size 640x480 with 1 Axes>"
      ]
     },
     "metadata": {},
     "output_type": "display_data"
    }
   ],
   "source": [
    "\n",
    "camaras['ano_ajuizamento'] = [int(p[9:13]) for p in camaras.processo]\n",
    "\n",
    "sns.scatterplot(camaras, x = 'ano_ajuizamento', y = 'tempo')\n"
   ]
  },
  {
   "cell_type": "markdown",
   "metadata": {},
   "source": [
    "O que está acontecendo aqui? Os processos estão ficando mais rápidos?\n",
    "\n",
    "Na verdade não.\n",
    "\n",
    "O que está acontecendo é que não conseguimos ver processos fora da faixa de pontos por conta da forma que os dados foram coletados!\n",
    "\n",
    "Os dados foram coletados a partir de acórdãos publicados entre 2016 e 2023. Ou seja, não existe possibilidade, por exemplo, de encontrar casos ajuizados em 2020 que tenham tempo maior do que 4 anos. Um caso assim seria julgado em 2024 e, portanto, estaria fora do nosso escopo de busca. O mesmo ocorre para os casos muito rápidos: não temos, em nossa amostra, casos que foram ajuizados em 2005 e que duraram menos de 10 anos, já que essas decisões foram publicadas no máximo em 2015 e, portanto, também estão fora do escopo de busca. \n",
    "\n",
    "Ou seja, esse gráfico **não informa absolutamente nada** a respeito da potencial aceleração dos tempos dos processos. Ele simplesmente evidencia o escopo da pesquisa."
   ]
  }
 ],
 "metadata": {
  "kernelspec": {
   "display_name": "base",
   "language": "python",
   "name": "python3"
  },
  "language_info": {
   "codemirror_mode": {
    "name": "ipython",
    "version": 3
   },
   "file_extension": ".py",
   "mimetype": "text/x-python",
   "name": "python",
   "nbconvert_exporter": "python",
   "pygments_lexer": "ipython3",
   "version": "3.11.5"
  }
 },
 "nbformat": 4,
 "nbformat_minor": 2
}
